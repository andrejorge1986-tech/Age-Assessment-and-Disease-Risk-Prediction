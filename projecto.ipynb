<!DOCTYPE html>

<html lang="en">
<head><meta charset="utf-8"/>
<meta content="width=device-width, initial-scale=1.0" name="viewport"/>
<title>projeto</title><script src="https://cdnjs.cloudflare.com/ajax/libs/require.js/2.1.10/require.min.js"></script>
<style type="text/css">
    pre { line-height: 125%; }
td.linenos .normal { color: inherit; background-color: transparent; padding-left: 5px; padding-right: 5px; }
span.linenos { color: inherit; background-color: transparent; padding-left: 5px; padding-right: 5px; }
td.linenos .special { color: #000000; background-color: #ffffc0; padding-left: 5px; padding-right: 5px; }
span.linenos.special { color: #000000; background-color: #ffffc0; padding-left: 5px; padding-right: 5px; }
.highlight .hll { background-color: var(--jp-cell-editor-active-background) }
.highlight { background: var(--jp-cell-editor-background); color: var(--jp-mirror-editor-variable-color) }
.highlight .c { color: var(--jp-mirror-editor-comment-color); font-style: italic } /* Comment */
.highlight .err { color: var(--jp-mirror-editor-error-color) } /* Error */
.highlight .k { color: var(--jp-mirror-editor-keyword-color); font-weight: bold } /* Keyword */
.highlight .o { color: var(--jp-mirror-editor-operator-color); font-weight: bold } /* Operator */
.highlight .p { color: var(--jp-mirror-editor-punctuation-color) } /* Punctuation */
.highlight .ch { color: var(--jp-mirror-editor-comment-color); font-style: italic } /* Comment.Hashbang */
.highlight .cm { color: var(--jp-mirror-editor-comment-color); font-style: italic } /* Comment.Multiline */
.highlight .cp { color: var(--jp-mirror-editor-comment-color); font-style: italic } /* Comment.Preproc */
.highlight .cpf { color: var(--jp-mirror-editor-comment-color); font-style: italic } /* Comment.PreprocFile */
.highlight .c1 { color: var(--jp-mirror-editor-comment-color); font-style: italic } /* Comment.Single */
.highlight .cs { color: var(--jp-mirror-editor-comment-color); font-style: italic } /* Comment.Special */
.highlight .kc { color: var(--jp-mirror-editor-keyword-color); font-weight: bold } /* Keyword.Constant */
.highlight .kd { color: var(--jp-mirror-editor-keyword-color); font-weight: bold } /* Keyword.Declaration */
.highlight .kn { color: var(--jp-mirror-editor-keyword-color); font-weight: bold } /* Keyword.Namespace */
.highlight .kp { color: var(--jp-mirror-editor-keyword-color); font-weight: bold } /* Keyword.Pseudo */
.highlight .kr { color: var(--jp-mirror-editor-keyword-color); font-weight: bold } /* Keyword.Reserved */
.highlight .kt { color: var(--jp-mirror-editor-keyword-color); font-weight: bold } /* Keyword.Type */
.highlight .m { color: var(--jp-mirror-editor-number-color) } /* Literal.Number */
.highlight .s { color: var(--jp-mirror-editor-string-color) } /* Literal.String */
.highlight .ow { color: var(--jp-mirror-editor-operator-color); font-weight: bold } /* Operator.Word */
.highlight .pm { color: var(--jp-mirror-editor-punctuation-color) } /* Punctuation.Marker */
.highlight .w { color: var(--jp-mirror-editor-variable-color) } /* Text.Whitespace */
.highlight .mb { color: var(--jp-mirror-editor-number-color) } /* Literal.Number.Bin */
.highlight .mf { color: var(--jp-mirror-editor-number-color) } /* Literal.Number.Float */
.highlight .mh { color: var(--jp-mirror-editor-number-color) } /* Literal.Number.Hex */
.highlight .mi { color: var(--jp-mirror-editor-number-color) } /* Literal.Number.Integer */
.highlight .mo { color: var(--jp-mirror-editor-number-color) } /* Literal.Number.Oct */
.highlight .sa { color: var(--jp-mirror-editor-string-color) } /* Literal.String.Affix */
.highlight .sb { color: var(--jp-mirror-editor-string-color) } /* Literal.String.Backtick */
.highlight .sc { color: var(--jp-mirror-editor-string-color) } /* Literal.String.Char */
.highlight .dl { color: var(--jp-mirror-editor-string-color) } /* Literal.String.Delimiter */
.highlight .sd { color: var(--jp-mirror-editor-string-color) } /* Literal.String.Doc */
.highlight .s2 { color: var(--jp-mirror-editor-string-color) } /* Literal.String.Double */
.highlight .se { color: var(--jp-mirror-editor-string-color) } /* Literal.String.Escape */
.highlight .sh { color: var(--jp-mirror-editor-string-color) } /* Literal.String.Heredoc */
.highlight .si { color: var(--jp-mirror-editor-string-color) } /* Literal.String.Interpol */
.highlight .sx { color: var(--jp-mirror-editor-string-color) } /* Literal.String.Other */
.highlight .sr { color: var(--jp-mirror-editor-string-color) } /* Literal.String.Regex */
.highlight .s1 { color: var(--jp-mirror-editor-string-color) } /* Literal.String.Single */
.highlight .ss { color: var(--jp-mirror-editor-string-color) } /* Literal.String.Symbol */
.highlight .il { color: var(--jp-mirror-editor-number-color) } /* Literal.Number.Integer.Long */
  </style>
<style type="text/css">
/*-----------------------------------------------------------------------------
| Copyright (c) Jupyter Development Team.
| Distributed under the terms of the Modified BSD License.
|----------------------------------------------------------------------------*/

/*
 * Mozilla scrollbar styling
 */

/* use standard opaque scrollbars for most nodes */
[data-jp-theme-scrollbars='true'] {
  scrollbar-color: rgb(var(--jp-scrollbar-thumb-color))
    var(--jp-scrollbar-background-color);
}

/* for code nodes, use a transparent style of scrollbar. These selectors
 * will match lower in the tree, and so will override the above */
[data-jp-theme-scrollbars='true'] .CodeMirror-hscrollbar,
[data-jp-theme-scrollbars='true'] .CodeMirror-vscrollbar {
  scrollbar-color: rgba(var(--jp-scrollbar-thumb-color), 0.5) transparent;
}

/* tiny scrollbar */

.jp-scrollbar-tiny {
  scrollbar-color: rgba(var(--jp-scrollbar-thumb-color), 0.5) transparent;
  scrollbar-width: thin;
}

/* tiny scrollbar */

.jp-scrollbar-tiny::-webkit-scrollbar,
.jp-scrollbar-tiny::-webkit-scrollbar-corner {
  background-color: transparent;
  height: 4px;
  width: 4px;
}

.jp-scrollbar-tiny::-webkit-scrollbar-thumb {
  background: rgba(var(--jp-scrollbar-thumb-color), 0.5);
}

.jp-scrollbar-tiny::-webkit-scrollbar-track:horizontal {
  border-left: 0 solid transparent;
  border-right: 0 solid transparent;
}

.jp-scrollbar-tiny::-webkit-scrollbar-track:vertical {
  border-top: 0 solid transparent;
  border-bottom: 0 solid transparent;
}

/*
 * Lumino
 */

.lm-ScrollBar[data-orientation='horizontal'] {
  min-height: 16px;
  max-height: 16px;
  min-width: 45px;
  border-top: 1px solid #a0a0a0;
}

.lm-ScrollBar[data-orientation='vertical'] {
  min-width: 16px;
  max-width: 16px;
  min-height: 45px;
  border-left: 1px solid #a0a0a0;
}

.lm-ScrollBar-button {
  background-color: #f0f0f0;
  background-position: center center;
  min-height: 15px;
  max-height: 15px;
  min-width: 15px;
  max-width: 15px;
}

.lm-ScrollBar-button:hover {
  background-color: #dadada;
}

.lm-ScrollBar-button.lm-mod-active {
  background-color: #cdcdcd;
}

.lm-ScrollBar-track {
  background: #f0f0f0;
}

.lm-ScrollBar-thumb {
  background: #cdcdcd;
}

.lm-ScrollBar-thumb:hover {
  background: #bababa;
}

.lm-ScrollBar-thumb.lm-mod-active {
  background: #a0a0a0;
}

.lm-ScrollBar[data-orientation='horizontal'] .lm-ScrollBar-thumb {
  height: 100%;
  min-width: 15px;
  border-left: 1px solid #a0a0a0;
  border-right: 1px solid #a0a0a0;
}

.lm-ScrollBar[data-orientation='vertical'] .lm-ScrollBar-thumb {
  width: 100%;
  min-height: 15px;
  border-top: 1px solid #a0a0a0;
  border-bottom: 1px solid #a0a0a0;
}

.lm-ScrollBar[data-orientation='horizontal']
  .lm-ScrollBar-button[data-action='decrement'] {
  background-image: var(--jp-icon-caret-left);
  background-size: 17px;
}

.lm-ScrollBar[data-orientation='horizontal']
  .lm-ScrollBar-button[data-action='increment'] {
  background-image: var(--jp-icon-caret-right);
  background-size: 17px;
}

.lm-ScrollBar[data-orientation='vertical']
  .lm-ScrollBar-button[data-action='decrement'] {
  background-image: var(--jp-icon-caret-up);
  background-size: 17px;
}

.lm-ScrollBar[data-orientation='vertical']
  .lm-ScrollBar-button[data-action='increment'] {
  background-image: var(--jp-icon-caret-down);
  background-size: 17px;
}

/*
 * Copyright (c) Jupyter Development Team.
 * Distributed under the terms of the Modified BSD License.
 */

/*-----------------------------------------------------------------------------
| Copyright (c) Jupyter Development Team.
| Copyright (c) 2014-2017, PhosphorJS Contributors
|
| Distributed under the terms of the BSD 3-Clause License.
|
| The full license is in the file LICENSE, distributed with this software.
|----------------------------------------------------------------------------*/

.lm-Widget {
  box-sizing: border-box;
  position: relative;
  overflow: hidden;
}

.lm-Widget.lm-mod-hidden {
  display: none !important;
}

/*
 * Copyright (c) Jupyter Development Team.
 * Distributed under the terms of the Modified BSD License.
 */

.lm-AccordionPanel[data-orientation='horizontal'] > .lm-AccordionPanel-title {
  /* Title is rotated for horizontal accordion panel using CSS */
  display: block;
  transform-origin: top left;
  transform: rotate(-90deg) translate(-100%);
}

/*
 * Copyright (c) Jupyter Development Team.
 * Distributed under the terms of the Modified BSD License.
 */

/*-----------------------------------------------------------------------------
| Copyright (c) Jupyter Development Team.
| Copyright (c) 2014-2017, PhosphorJS Contributors
|
| Distributed under the terms of the BSD 3-Clause License.
|
| The full license is in the file LICENSE, distributed with this software.
|----------------------------------------------------------------------------*/

.lm-CommandPalette {
  display: flex;
  flex-direction: column;
  -webkit-user-select: none;
  -moz-user-select: none;
  -ms-user-select: none;
  user-select: none;
}

.lm-CommandPalette-search {
  flex: 0 0 auto;
}

.lm-CommandPalette-content {
  flex: 1 1 auto;
  margin: 0;
  padding: 0;
  min-height: 0;
  overflow: auto;
  list-style-type: none;
}

.lm-CommandPalette-header {
  overflow: hidden;
  white-space: nowrap;
  text-overflow: ellipsis;
}

.lm-CommandPalette-item {
  display: flex;
  flex-direction: row;
}

.lm-CommandPalette-itemIcon {
  flex: 0 0 auto;
}

.lm-CommandPalette-itemContent {
  flex: 1 1 auto;
  overflow: hidden;
}

.lm-CommandPalette-itemShortcut {
  flex: 0 0 auto;
}

.lm-CommandPalette-itemLabel {
  overflow: hidden;
  white-space: nowrap;
  text-overflow: ellipsis;
}

.lm-close-icon {
  border: 1px solid transparent;
  background-color: transparent;
  position: absolute;
  z-index: 1;
  right: 3%;
  top: 0;
  bottom: 0;
  margin: auto;
  padding: 7px 0;
  display: none;
  vertical-align: middle;
  outline: 0;
  cursor: pointer;
}
.lm-close-icon:after {
  content: 'X';
  display: block;
  width: 15px;
  height: 15px;
  text-align: center;
  color: #000;
  font-weight: normal;
  font-size: 12px;
  cursor: pointer;
}

/*
 * Copyright (c) Jupyter Development Team.
 * Distributed under the terms of the Modified BSD License.
 */

/*-----------------------------------------------------------------------------
| Copyright (c) Jupyter Development Team.
| Copyright (c) 2014-2017, PhosphorJS Contributors
|
| Distributed under the terms of the BSD 3-Clause License.
|
| The full license is in the file LICENSE, distributed with this software.
|----------------------------------------------------------------------------*/

.lm-DockPanel {
  z-index: 0;
}

.lm-DockPanel-widget {
  z-index: 0;
}

.lm-DockPanel-tabBar {
  z-index: 1;
}

.lm-DockPanel-handle {
  z-index: 2;
}

.lm-DockPanel-handle.lm-mod-hidden {
  display: none !important;
}

.lm-DockPanel-handle:after {
  position: absolute;
  top: 0;
  left: 0;
  width: 100%;
  height: 100%;
  content: '';
}

.lm-DockPanel-handle[data-orientation='horizontal'] {
  cursor: ew-resize;
}

.lm-DockPanel-handle[data-orientation='vertical'] {
  cursor: ns-resize;
}

.lm-DockPanel-handle[data-orientation='horizontal']:after {
  left: 50%;
  min-width: 8px;
  transform: translateX(-50%);
}

.lm-DockPanel-handle[data-orientation='vertical']:after {
  top: 50%;
  min-height: 8px;
  transform: translateY(-50%);
}

.lm-DockPanel-overlay {
  z-index: 3;
  box-sizing: border-box;
  pointer-events: none;
}

.lm-DockPanel-overlay.lm-mod-hidden {
  display: none !important;
}

/*
 * Copyright (c) Jupyter Development Team.
 * Distributed under the terms of the Modified BSD License.
 */

/*-----------------------------------------------------------------------------
| Copyright (c) Jupyter Development Team.
| Copyright (c) 2014-2017, PhosphorJS Contributors
|
| Distributed under the terms of the BSD 3-Clause License.
|
| The full license is in the file LICENSE, distributed with this software.
|----------------------------------------------------------------------------*/

.lm-Menu {
  z-index: 10000;
  position: absolute;
  white-space: nowrap;
  overflow-x: hidden;
  overflow-y: auto;
  outline: none;
  -webkit-user-select: none;
  -moz-user-select: none;
  -ms-user-select: none;
  user-select: none;
}

.lm-Menu-content {
  margin: 0;
  padding: 0;
  display: table;
  list-style-type: none;
}

.lm-Menu-item {
  display: table-row;
}

.lm-Menu-item.lm-mod-hidden,
.lm-Menu-item.lm-mod-collapsed {
  display: none !important;
}

.lm-Menu-itemIcon,
.lm-Menu-itemSubmenuIcon {
  display: table-cell;
  text-align: center;
}

.lm-Menu-itemLabel {
  display: table-cell;
  text-align: left;
}

.lm-Menu-itemShortcut {
  display: table-cell;
  text-align: right;
}

/*
 * Copyright (c) Jupyter Development Team.
 * Distributed under the terms of the Modified BSD License.
 */

/*-----------------------------------------------------------------------------
| Copyright (c) Jupyter Development Team.
| Copyright (c) 2014-2017, PhosphorJS Contributors
|
| Distributed under the terms of the BSD 3-Clause License.
|
| The full license is in the file LICENSE, distributed with this software.
|----------------------------------------------------------------------------*/

.lm-MenuBar {
  outline: none;
  -webkit-user-select: none;
  -moz-user-select: none;
  -ms-user-select: none;
  user-select: none;
}

.lm-MenuBar-content {
  margin: 0;
  padding: 0;
  display: flex;
  flex-direction: row;
  list-style-type: none;
}

.lm-MenuBar-item {
  box-sizing: border-box;
}

.lm-MenuBar-itemIcon,
.lm-MenuBar-itemLabel {
  display: inline-block;
}

/*
 * Copyright (c) Jupyter Development Team.
 * Distributed under the terms of the Modified BSD License.
 */

/*-----------------------------------------------------------------------------
| Copyright (c) Jupyter Development Team.
| Copyright (c) 2014-2017, PhosphorJS Contributors
|
| Distributed under the terms of the BSD 3-Clause License.
|
| The full license is in the file LICENSE, distributed with this software.
|----------------------------------------------------------------------------*/

.lm-ScrollBar {
  display: flex;
  -webkit-user-select: none;
  -moz-user-select: none;
  -ms-user-select: none;
  user-select: none;
}

.lm-ScrollBar[data-orientation='horizontal'] {
  flex-direction: row;
}

.lm-ScrollBar[data-orientation='vertical'] {
  flex-direction: column;
}

.lm-ScrollBar-button {
  box-sizing: border-box;
  flex: 0 0 auto;
}

.lm-ScrollBar-track {
  box-sizing: border-box;
  position: relative;
  overflow: hidden;
  flex: 1 1 auto;
}

.lm-ScrollBar-thumb {
  box-sizing: border-box;
  position: absolute;
}

/*
 * Copyright (c) Jupyter Development Team.
 * Distributed under the terms of the Modified BSD License.
 */

/*-----------------------------------------------------------------------------
| Copyright (c) Jupyter Development Team.
| Copyright (c) 2014-2017, PhosphorJS Contributors
|
| Distributed under the terms of the BSD 3-Clause License.
|
| The full license is in the file LICENSE, distributed with this software.
|----------------------------------------------------------------------------*/

.lm-SplitPanel-child {
  z-index: 0;
}

.lm-SplitPanel-handle {
  z-index: 1;
}

.lm-SplitPanel-handle.lm-mod-hidden {
  display: none !important;
}

.lm-SplitPanel-handle:after {
  position: absolute;
  top: 0;
  left: 0;
  width: 100%;
  height: 100%;
  content: '';
}

.lm-SplitPanel[data-orientation='horizontal'] > .lm-SplitPanel-handle {
  cursor: ew-resize;
}

.lm-SplitPanel[data-orientation='vertical'] > .lm-SplitPanel-handle {
  cursor: ns-resize;
}

.lm-SplitPanel[data-orientation='horizontal'] > .lm-SplitPanel-handle:after {
  left: 50%;
  min-width: 8px;
  transform: translateX(-50%);
}

.lm-SplitPanel[data-orientation='vertical'] > .lm-SplitPanel-handle:after {
  top: 50%;
  min-height: 8px;
  transform: translateY(-50%);
}

/*
 * Copyright (c) Jupyter Development Team.
 * Distributed under the terms of the Modified BSD License.
 */

/*-----------------------------------------------------------------------------
| Copyright (c) Jupyter Development Team.
| Copyright (c) 2014-2017, PhosphorJS Contributors
|
| Distributed under the terms of the BSD 3-Clause License.
|
| The full license is in the file LICENSE, distributed with this software.
|----------------------------------------------------------------------------*/

.lm-TabBar {
  display: flex;
  -webkit-user-select: none;
  -moz-user-select: none;
  -ms-user-select: none;
  user-select: none;
}

.lm-TabBar[data-orientation='horizontal'] {
  flex-direction: row;
  align-items: flex-end;
}

.lm-TabBar[data-orientation='vertical'] {
  flex-direction: column;
  align-items: flex-end;
}

.lm-TabBar-content {
  margin: 0;
  padding: 0;
  display: flex;
  flex: 1 1 auto;
  list-style-type: none;
}

.lm-TabBar[data-orientation='horizontal'] > .lm-TabBar-content {
  flex-direction: row;
}

.lm-TabBar[data-orientation='vertical'] > .lm-TabBar-content {
  flex-direction: column;
}

.lm-TabBar-tab {
  display: flex;
  flex-direction: row;
  box-sizing: border-box;
  overflow: hidden;
  touch-action: none; /* Disable native Drag/Drop */
}

.lm-TabBar-tabIcon,
.lm-TabBar-tabCloseIcon {
  flex: 0 0 auto;
}

.lm-TabBar-tabLabel {
  flex: 1 1 auto;
  overflow: hidden;
  white-space: nowrap;
}

.lm-TabBar-tabInput {
  user-select: all;
  width: 100%;
  box-sizing: border-box;
}

.lm-TabBar-tab.lm-mod-hidden {
  display: none !important;
}

.lm-TabBar-addButton.lm-mod-hidden {
  display: none !important;
}

.lm-TabBar.lm-mod-dragging .lm-TabBar-tab {
  position: relative;
}

.lm-TabBar.lm-mod-dragging[data-orientation='horizontal'] .lm-TabBar-tab {
  left: 0;
  transition: left 150ms ease;
}

.lm-TabBar.lm-mod-dragging[data-orientation='vertical'] .lm-TabBar-tab {
  top: 0;
  transition: top 150ms ease;
}

.lm-TabBar.lm-mod-dragging .lm-TabBar-tab.lm-mod-dragging {
  transition: none;
}

.lm-TabBar-tabLabel .lm-TabBar-tabInput {
  user-select: all;
  width: 100%;
  box-sizing: border-box;
  background: inherit;
}

/*
 * Copyright (c) Jupyter Development Team.
 * Distributed under the terms of the Modified BSD License.
 */

/*-----------------------------------------------------------------------------
| Copyright (c) Jupyter Development Team.
| Copyright (c) 2014-2017, PhosphorJS Contributors
|
| Distributed under the terms of the BSD 3-Clause License.
|
| The full license is in the file LICENSE, distributed with this software.
|----------------------------------------------------------------------------*/

.lm-TabPanel-tabBar {
  z-index: 1;
}

.lm-TabPanel-stackedPanel {
  z-index: 0;
}

/*
 * Copyright (c) Jupyter Development Team.
 * Distributed under the terms of the Modified BSD License.
 */

/*-----------------------------------------------------------------------------
| Copyright (c) Jupyter Development Team.
| Copyright (c) 2014-2017, PhosphorJS Contributors
|
| Distributed under the terms of the BSD 3-Clause License.
|
| The full license is in the file LICENSE, distributed with this software.
|----------------------------------------------------------------------------*/

/*-----------------------------------------------------------------------------
| Copyright (c) Jupyter Development Team.
| Distributed under the terms of the Modified BSD License.
|----------------------------------------------------------------------------*/

.jp-Collapse {
  display: flex;
  flex-direction: column;
  align-items: stretch;
}

.jp-Collapse-header {
  padding: 1px 12px;
  background-color: var(--jp-layout-color1);
  border-bottom: solid var(--jp-border-width) var(--jp-border-color2);
  color: var(--jp-ui-font-color1);
  cursor: pointer;
  display: flex;
  align-items: center;
  font-size: var(--jp-ui-font-size0);
  font-weight: 600;
  text-transform: uppercase;
  user-select: none;
}

.jp-Collapser-icon {
  height: 16px;
}

.jp-Collapse-header-collapsed .jp-Collapser-icon {
  transform: rotate(-90deg);
  margin: auto 0;
}

.jp-Collapser-title {
  line-height: 25px;
}

.jp-Collapse-contents {
  padding: 0 12px;
  background-color: var(--jp-layout-color1);
  color: var(--jp-ui-font-color1);
  overflow: auto;
}

/*-----------------------------------------------------------------------------
| Copyright (c) Jupyter Development Team.
| Distributed under the terms of the Modified BSD License.
|----------------------------------------------------------------------------*/

/* This file was auto-generated by ensureUiComponents() in @jupyterlab/buildutils */

/**
 * (DEPRECATED) Support for consuming icons as CSS background images
 */

/* Icons urls */

:root {
  --jp-icon-add-above: url(data:image/svg+xml;base64,PHN2ZyB3aWR0aD0iMTQiIGhlaWdodD0iMTQiIHZpZXdCb3g9IjAgMCAxNCAxNCIgZmlsbD0ibm9uZSIgeG1sbnM9Imh0dHA6Ly93d3cudzMub3JnLzIwMDAvc3ZnIj4KPGcgY2xpcC1wYXRoPSJ1cmwoI2NsaXAwXzEzN18xOTQ5MikiPgo8cGF0aCBjbGFzcz0ianAtaWNvbjMiIGQ9Ik00Ljc1IDQuOTMwNjZINi42MjVWNi44MDU2NkM2LjYyNSA3LjAxMTkxIDYuNzkzNzUgNy4xODA2NiA3IDcuMTgwNjZDNy4yMDYyNSA3LjE4MDY2IDcuMzc1IDcuMDExOTEgNy4zNzUgNi44MDU2NlY0LjkzMDY2SDkuMjVDOS40NTYyNSA0LjkzMDY2IDkuNjI1IDQuNzYxOTEgOS42MjUgNC41NTU2NkM5LjYyNSA0LjM0OTQxIDkuNDU2MjUgNC4xODA2NiA5LjI1IDQuMTgwNjZINy4zNzVWMi4zMDU2NkM3LjM3NSAyLjA5OTQxIDcuMjA2MjUgMS45MzA2NiA3IDEuOTMwNjZDNi43OTM3NSAxLjkzMDY2IDYuNjI1IDIuMDk5NDEgNi42MjUgMi4zMDU2NlY0LjE4MDY2SDQuNzVDNC41NDM3NSA0LjE4MDY2IDQuMzc1IDQuMzQ5NDEgNC4zNzUgNC41NTU2NkM0LjM3NSA0Ljc2MTkxIDQuNTQzNzUgNC45MzA2NiA0Ljc1IDQuOTMwNjZaIiBmaWxsPSIjNjE2MTYxIiBzdHJva2U9IiM2MTYxNjEiIHN0cm9rZS13aWR0aD0iMC43Ii8+CjwvZz4KPHBhdGggY2xhc3M9ImpwLWljb24zIiBmaWxsLXJ1bGU9ImV2ZW5vZGQiIGNsaXAtcnVsZT0iZXZlbm9kZCIgZD0iTTExLjUgOS41VjExLjVMMi41IDExLjVWOS41TDExLjUgOS41Wk0xMiA4QzEyLjU1MjMgOCAxMyA4LjQ0NzcyIDEzIDlWMTJDMTMgMTIuNTUyMyAxMi41NTIzIDEzIDEyIDEzTDIgMTNDMS40NDc3MiAxMyAxIDEyLjU1MjMgMSAxMlY5QzEgOC40NDc3MiAxLjQ0NzcxIDggMiA4TDEyIDhaIiBmaWxsPSIjNjE2MTYxIi8+CjxkZWZzPgo8Y2xpcFBhdGggaWQ9ImNsaXAwXzEzN18xOTQ5MiI+CjxyZWN0IGNsYXNzPSJqcC1pY29uMyIgd2lkdGg9IjYiIGhlaWdodD0iNiIgZmlsbD0id2hpdGUiIHRyYW5zZm9ybT0ibWF0cml4KC0xIDAgMCAxIDEwIDEuNTU1NjYpIi8+CjwvY2xpcFBhdGg+CjwvZGVmcz4KPC9zdmc+Cg==);
  --jp-icon-add-below: url(data:image/svg+xml;base64,PHN2ZyB3aWR0aD0iMTQiIGhlaWdodD0iMTQiIHZpZXdCb3g9IjAgMCAxNCAxNCIgZmlsbD0ibm9uZSIgeG1sbnM9Imh0dHA6Ly93d3cudzMub3JnLzIwMDAvc3ZnIj4KPGcgY2xpcC1wYXRoPSJ1cmwoI2NsaXAwXzEzN18xOTQ5OCkiPgo8cGF0aCBjbGFzcz0ianAtaWNvbjMiIGQ9Ik05LjI1IDEwLjA2OTNMNy4zNzUgMTAuMDY5M0w3LjM3NSA4LjE5NDM0QzcuMzc1IDcuOTg4MDkgNy4yMDYyNSA3LjgxOTM0IDcgNy44MTkzNEM2Ljc5Mzc1IDcuODE5MzQgNi42MjUgNy45ODgwOSA2LjYyNSA4LjE5NDM0TDYuNjI1IDEwLjA2OTNMNC43NSAxMC4wNjkzQzQuNTQzNzUgMTAuMDY5MyA0LjM3NSAxMC4yMzgxIDQuMzc1IDEwLjQ0NDNDNC4zNzUgMTAuNjUwNiA0LjU0Mzc1IDEwLjgxOTMgNC43NSAxMC44MTkzTDYuNjI1IDEwLjgxOTNMNi42MjUgMTIuNjk0M0M2LjYyNSAxMi45MDA2IDYuNzkzNzUgMTMuMDY5MyA3IDEzLjA2OTNDNy4yMDYyNSAxMy4wNjkzIDcuMzc1IDEyLjkwMDYgNy4zNzUgMTIuNjk0M0w3LjM3NSAxMC44MTkzTDkuMjUgMTAuODE5M0M5LjQ1NjI1IDEwLjgxOTMgOS42MjUgMTAuNjUwNiA5LjYyNSAxMC40NDQzQzkuNjI1IDEwLjIzODEgOS40NTYyNSAxMC4wNjkzIDkuMjUgMTAuMDY5M1oiIGZpbGw9IiM2MTYxNjEiIHN0cm9rZT0iIzYxNjE2MSIgc3Ryb2tlLXdpZHRoPSIwLjciLz4KPC9nPgo8cGF0aCBjbGFzcz0ianAtaWNvbjMiIGZpbGwtcnVsZT0iZXZlbm9kZCIgY2xpcC1ydWxlPSJldmVub2RkIiBkPSJNMi41IDUuNUwyLjUgMy41TDExLjUgMy41TDExLjUgNS41TDIuNSA1LjVaTTIgN0MxLjQ0NzcyIDcgMSA2LjU1MjI4IDEgNkwxIDNDMSAyLjQ0NzcyIDEuNDQ3NzIgMiAyIDJMMTIgMkMxMi41NTIzIDIgMTMgMi40NDc3MiAxMyAzTDEzIDZDMTMgNi41NTIyOSAxMi41NTIzIDcgMTIgN0wyIDdaIiBmaWxsPSIjNjE2MTYxIi8+CjxkZWZzPgo8Y2xpcFBhdGggaWQ9ImNsaXAwXzEzN18xOTQ5OCI+CjxyZWN0IGNsYXNzPSJqcC1pY29uMyIgd2lkdGg9IjYiIGhlaWdodD0iNiIgZmlsbD0id2hpdGUiIHRyYW5zZm9ybT0ibWF0cml4KDEgMS43NDg0NmUtMDcgMS43NDg0NmUtMDcgLTEgNCAxMy40NDQzKSIvPgo8L2NsaXBQYXRoPgo8L2RlZnM+Cjwvc3ZnPgo=);
  --jp-icon-add: url(data:image/svg+xml;base64,PHN2ZyB4bWxucz0iaHR0cDovL3d3dy53My5vcmcvMjAwMC9zdmciIHdpZHRoPSIxNiIgdmlld0JveD0iMCAwIDI0IDI0Ij4KICA8ZyBjbGFzcz0ianAtaWNvbjMiIGZpbGw9IiM2MTYxNjEiPgogICAgPHBhdGggZD0iTTE5IDEzaC02djZoLTJ2LTZINXYtMmg2VjVoMnY2aDZ2MnoiLz4KICA8L2c+Cjwvc3ZnPgo=);
  --jp-icon-bell: url(data:image/svg+xml;base64,PHN2ZyB4bWxucz0iaHR0cDovL3d3dy53My5vcmcvMjAwMC9zdmciIHdpZHRoPSIxNiIgdmlld0JveD0iMCAwIDE2IDE2IiB2ZXJzaW9uPSIxLjEiPgogICA8cGF0aCBjbGFzcz0ianAtaWNvbjIganAtaWNvbi1zZWxlY3RhYmxlIiBmaWxsPSIjMzMzMzMzIgogICAgICBkPSJtOCAwLjI5Yy0xLjQgMC0yLjcgMC43My0zLjYgMS44LTEuMiAxLjUtMS40IDMuNC0xLjUgNS4yLTAuMTggMi4yLTAuNDQgNC0yLjMgNS4zbDAuMjggMS4zaDVjMC4wMjYgMC42NiAwLjMyIDEuMSAwLjcxIDEuNSAwLjg0IDAuNjEgMiAwLjYxIDIuOCAwIDAuNTItMC40IDAuNi0xIDAuNzEtMS41aDVsMC4yOC0xLjNjLTEuOS0wLjk3LTIuMi0zLjMtMi4zLTUuMy0wLjEzLTEuOC0wLjI2LTMuNy0xLjUtNS4yLTAuODUtMS0yLjItMS44LTMuNi0xLjh6bTAgMS40YzAuODggMCAxLjkgMC41NSAyLjUgMS4zIDAuODggMS4xIDEuMSAyLjcgMS4yIDQuNCAwLjEzIDEuNyAwLjIzIDMuNiAxLjMgNS4yaC0xMGMxLjEtMS42IDEuMi0zLjQgMS4zLTUuMiAwLjEzLTEuNyAwLjMtMy4zIDEuMi00LjQgMC41OS0wLjcyIDEuNi0xLjMgMi41LTEuM3ptLTAuNzQgMTJoMS41Yy0wLjAwMTUgMC4yOCAwLjAxNSAwLjc5LTAuNzQgMC43OS0wLjczIDAuMDAxNi0wLjcyLTAuNTMtMC43NC0wLjc5eiIgLz4KPC9zdmc+Cg==);
  --jp-icon-bug-dot: url(data:image/svg+xml;base64,PHN2ZyB3aWR0aD0iMjQiIGhlaWdodD0iMjQiIHZpZXdCb3g9IjAgMCAyNCAyNCIgZmlsbD0ibm9uZSIgeG1sbnM9Imh0dHA6Ly93d3cudzMub3JnLzIwMDAvc3ZnIj4KICAgIDxnIGNsYXNzPSJqcC1pY29uMyBqcC1pY29uLXNlbGVjdGFibGUiIGZpbGw9IiM2MTYxNjEiPgogICAgICAgIDxwYXRoIGZpbGwtcnVsZT0iZXZlbm9kZCIgY2xpcC1ydWxlPSJldmVub2RkIiBkPSJNMTcuMTkgOEgyMFYxMEgxNy45MUMxNy45NiAxMC4zMyAxOCAxMC42NiAxOCAxMVYxMkgyMFYxNEgxOC41SDE4VjE0LjAyNzVDMTUuNzUgMTQuMjc2MiAxNCAxNi4xODM3IDE0IDE4LjVDMTQgMTkuMjA4IDE0LjE2MzUgMTkuODc3OSAxNC40NTQ5IDIwLjQ3MzlDMTMuNzA2MyAyMC44MTE3IDEyLjg3NTcgMjEgMTIgMjFDOS43OCAyMSA3Ljg1IDE5Ljc5IDYuODEgMThINFYxNkg2LjA5QzYuMDQgMTUuNjcgNiAxNS4zNCA2IDE1VjE0SDRWMTJINlYxMUM2IDEwLjY2IDYuMDQgMTAuMzMgNi4wOSAxMEg0VjhINi44MUM3LjI2IDcuMjIgNy44OCA2LjU1IDguNjIgNi4wNEw3IDQuNDFMOC40MSAzTDEwLjU5IDUuMTdDMTEuMDQgNS4wNiAxMS41MSA1IDEyIDVDMTIuNDkgNSAxMi45NiA1LjA2IDEzLjQyIDUuMTdMMTUuNTkgM0wxNyA0LjQxTDE1LjM3IDYuMDRDMTYuMTIgNi41NSAxNi43NCA3LjIyIDE3LjE5IDhaTTEwIDE2SDE0VjE0SDEwVjE2Wk0xMCAxMkgxNFYxMEgxMFYxMloiIGZpbGw9IiM2MTYxNjEiLz4KICAgICAgICA8cGF0aCBkPSJNMjIgMTguNUMyMiAyMC40MzMgMjAuNDMzIDIyIDE4LjUgMjJDMTYuNTY3IDIyIDE1IDIwLjQzMyAxNSAxOC41QzE1IDE2LjU2NyAxNi41NjcgMTUgMTguNSAxNUMyMC40MzMgMTUgMjIgMTYuNTY3IDIyIDE4LjVaIiBmaWxsPSIjNjE2MTYxIi8+CiAgICA8L2c+Cjwvc3ZnPgo=);
  --jp-icon-bug: url(data:image/svg+xml;base64,PHN2ZyB2aWV3Qm94PSIwIDAgMjQgMjQiIHdpZHRoPSIxNiIgeG1sbnM9Imh0dHA6Ly93d3cudzMub3JnLzIwMDAvc3ZnIj4KICA8ZyBjbGFzcz0ianAtaWNvbjMganAtaWNvbi1zZWxlY3RhYmxlIiBmaWxsPSIjNjE2MTYxIj4KICAgIDxwYXRoIGQ9Ik0yMCA4aC0yLjgxYy0uNDUtLjc4LTEuMDctMS40NS0xLjgyLTEuOTZMMTcgNC40MSAxNS41OSAzbC0yLjE3IDIuMTdDMTIuOTYgNS4wNiAxMi40OSA1IDEyIDVjLS40OSAwLS45Ni4wNi0xLjQxLjE3TDguNDEgMyA3IDQuNDFsMS42MiAxLjYzQzcuODggNi41NSA3LjI2IDcuMjIgNi44MSA4SDR2MmgyLjA5Yy0uMDUuMzMtLjA5LjY2LS4wOSAxdjFINHYyaDJ2MWMwIC4zNC4wNC42Ny4wOSAxSDR2MmgyLjgxYzEuMDQgMS43OSAyLjk3IDMgNS4xOSAzczQuMTUtMS4yMSA1LjE5LTNIMjB2LTJoLTIuMDljLjA1LS4zMy4wOS0uNjYuMDktMXYtMWgydi0yaC0ydi0xYzAtLjM0LS4wNC0uNjctLjA5LTFIMjBWOHptLTYgOGgtNHYtMmg0djJ6bTAtNGgtNHYtMmg0djJ6Ii8+CiAgPC9nPgo8L3N2Zz4K);
  --jp-icon-build: url(data:image/svg+xml;base64,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);
  --jp-icon-caret-down-empty-thin: url(data:image/svg+xml;base64,PHN2ZyB4bWxucz0iaHR0cDovL3d3dy53My5vcmcvMjAwMC9zdmciIHdpZHRoPSIxNiIgdmlld0JveD0iMCAwIDIwIDIwIj4KCTxnIGNsYXNzPSJqcC1pY29uMyIgZmlsbD0iIzYxNjE2MSIgc2hhcGUtcmVuZGVyaW5nPSJnZW9tZXRyaWNQcmVjaXNpb24iPgoJCTxwb2x5Z29uIGNsYXNzPSJzdDEiIHBvaW50cz0iOS45LDEzLjYgMy42LDcuNCA0LjQsNi42IDkuOSwxMi4yIDE1LjQsNi43IDE2LjEsNy40ICIvPgoJPC9nPgo8L3N2Zz4K);
  --jp-icon-caret-down-empty: url(data:image/svg+xml;base64,PHN2ZyB4bWxucz0iaHR0cDovL3d3dy53My5vcmcvMjAwMC9zdmciIHdpZHRoPSIxNiIgdmlld0JveD0iMCAwIDE4IDE4Ij4KICA8ZyBjbGFzcz0ianAtaWNvbjMiIGZpbGw9IiM2MTYxNjEiIHNoYXBlLXJlbmRlcmluZz0iZ2VvbWV0cmljUHJlY2lzaW9uIj4KICAgIDxwYXRoIGQ9Ik01LjIsNS45TDksOS43bDMuOC0zLjhsMS4yLDEuMmwtNC45LDVsLTQuOS01TDUuMiw1Ljl6Ii8+CiAgPC9nPgo8L3N2Zz4K);
  --jp-icon-caret-down: url(data:image/svg+xml;base64,PHN2ZyB4bWxucz0iaHR0cDovL3d3dy53My5vcmcvMjAwMC9zdmciIHdpZHRoPSIxNiIgdmlld0JveD0iMCAwIDE4IDE4Ij4KICA8ZyBjbGFzcz0ianAtaWNvbjMiIGZpbGw9IiM2MTYxNjEiIHNoYXBlLXJlbmRlcmluZz0iZ2VvbWV0cmljUHJlY2lzaW9uIj4KICAgIDxwYXRoIGQ9Ik01LjIsNy41TDksMTEuMmwzLjgtMy44SDUuMnoiLz4KICA8L2c+Cjwvc3ZnPgo=);
  --jp-icon-caret-left: url(data:image/svg+xml;base64,PHN2ZyB4bWxucz0iaHR0cDovL3d3dy53My5vcmcvMjAwMC9zdmciIHdpZHRoPSIxNiIgdmlld0JveD0iMCAwIDE4IDE4Ij4KCTxnIGNsYXNzPSJqcC1pY29uMyIgZmlsbD0iIzYxNjE2MSIgc2hhcGUtcmVuZGVyaW5nPSJnZW9tZXRyaWNQcmVjaXNpb24iPgoJCTxwYXRoIGQ9Ik0xMC44LDEyLjhMNy4xLDlsMy44LTMuOGwwLDcuNkgxMC44eiIvPgogIDwvZz4KPC9zdmc+Cg==);
  --jp-icon-caret-right: url(data:image/svg+xml;base64,PHN2ZyB4bWxucz0iaHR0cDovL3d3dy53My5vcmcvMjAwMC9zdmciIHdpZHRoPSIxNiIgdmlld0JveD0iMCAwIDE4IDE4Ij4KICA8ZyBjbGFzcz0ianAtaWNvbjMiIGZpbGw9IiM2MTYxNjEiIHNoYXBlLXJlbmRlcmluZz0iZ2VvbWV0cmljUHJlY2lzaW9uIj4KICAgIDxwYXRoIGQ9Ik03LjIsNS4yTDEwLjksOWwtMy44LDMuOFY1LjJINy4yeiIvPgogIDwvZz4KPC9zdmc+Cg==);
  --jp-icon-caret-up-empty-thin: url(data:image/svg+xml;base64,PHN2ZyB4bWxucz0iaHR0cDovL3d3dy53My5vcmcvMjAwMC9zdmciIHdpZHRoPSIxNiIgdmlld0JveD0iMCAwIDIwIDIwIj4KCTxnIGNsYXNzPSJqcC1pY29uMyIgZmlsbD0iIzYxNjE2MSIgc2hhcGUtcmVuZGVyaW5nPSJnZW9tZXRyaWNQcmVjaXNpb24iPgoJCTxwb2x5Z29uIGNsYXNzPSJzdDEiIHBvaW50cz0iMTUuNCwxMy4zIDkuOSw3LjcgNC40LDEzLjIgMy42LDEyLjUgOS45LDYuMyAxNi4xLDEyLjYgIi8+Cgk8L2c+Cjwvc3ZnPgo=);
  --jp-icon-caret-up: url(data:image/svg+xml;base64,PHN2ZyB4bWxucz0iaHR0cDovL3d3dy53My5vcmcvMjAwMC9zdmciIHdpZHRoPSIxNiIgdmlld0JveD0iMCAwIDE4IDE4Ij4KCTxnIGNsYXNzPSJqcC1pY29uMyIgZmlsbD0iIzYxNjE2MSIgc2hhcGUtcmVuZGVyaW5nPSJnZW9tZXRyaWNQcmVjaXNpb24iPgoJCTxwYXRoIGQ9Ik01LjIsMTAuNUw5LDYuOGwzLjgsMy44SDUuMnoiLz4KICA8L2c+Cjwvc3ZnPgo=);
  --jp-icon-case-sensitive: url(data:image/svg+xml;base64,PHN2ZyB4bWxucz0iaHR0cDovL3d3dy53My5vcmcvMjAwMC9zdmciIHdpZHRoPSIxNiIgdmlld0JveD0iMCAwIDIwIDIwIj4KICA8ZyBjbGFzcz0ianAtaWNvbjIiIGZpbGw9IiM0MTQxNDEiPgogICAgPHJlY3QgeD0iMiIgeT0iMiIgd2lkdGg9IjE2IiBoZWlnaHQ9IjE2Ii8+CiAgPC9nPgogIDxnIGNsYXNzPSJqcC1pY29uLWFjY2VudDIiIGZpbGw9IiNGRkYiPgogICAgPHBhdGggZD0iTTcuNiw4aDAuOWwzLjUsOGgtMS4xTDEwLDE0SDZsLTAuOSwySDRMNy42LDh6IE04LDkuMUw2LjQsMTNoMy4yTDgsOS4xeiIvPgogICAgPHBhdGggZD0iTTE2LjYsOS44Yy0wLjIsMC4xLTAuNCwwLjEtMC43LDAuMWMtMC4yLDAtMC40LTAuMS0wLjYtMC4yYy0wLjEtMC4xLTAuMi0wLjQtMC4yLTAuNyBjLTAuMywwLjMtMC42LDAuNS0wLjksMC43Yy0wLjMsMC4xLTAuNywwLjItMS4xLDAuMmMtMC4zLDAtMC41LDAtMC43LTAuMWMtMC4yLTAuMS0wLjQtMC4yLTAuNi0wLjNjLTAuMi0wLjEtMC4zLTAuMy0wLjQtMC41IGMtMC4xLTAuMi0wLjEtMC40LTAuMS0wLjdjMC0wLjMsMC4xLTAuNiwwLjItMC44YzAuMS0wLjIsMC4zLTAuNCwwLjQtMC41QzEyLDcsMTIuMiw2LjksMTIuNSw2LjhjMC4yLTAuMSwwLjUtMC4xLDAuNy0wLjIgYzAuMy0wLjEsMC41LTAuMSwwLjctMC4xYzAuMiwwLDAuNC0wLjEsMC42LTAuMWMwLjIsMCwwLjMtMC4xLDAuNC0wLjJjMC4xLTAuMSwwLjItMC4yLDAuMi0wLjRjMC0xLTEuMS0xLTEuMy0xIGMtMC40LDAtMS40LDAtMS40LDEuMmgtMC45YzAtMC40LDAuMS0wLjcsMC4yLTFjMC4xLTAuMiwwLjMtMC40LDAuNS0wLjZjMC4yLTAuMiwwLjUtMC4zLDAuOC0wLjNDMTMuMyw0LDEzLjYsNCwxMy45LDQgYzAuMywwLDAuNSwwLDAuOCwwLjFjMC4zLDAsMC41LDAuMSwwLjcsMC4yYzAuMiwwLjEsMC40LDAuMywwLjUsMC41QzE2LDUsMTYsNS4yLDE2LDUuNnYyLjljMCwwLjIsMCwwLjQsMCwwLjUgYzAsMC4xLDAuMSwwLjIsMC4zLDAuMmMwLjEsMCwwLjIsMCwwLjMsMFY5Ljh6IE0xNS4yLDYuOWMtMS4yLDAuNi0zLjEsMC4yLTMuMSwxLjRjMCwxLjQsMy4xLDEsMy4xLTAuNVY2Ljl6Ii8+CiAgPC9nPgo8L3N2Zz4K);
  --jp-icon-check: url(data:image/svg+xml;base64,PHN2ZyB4bWxucz0iaHR0cDovL3d3dy53My5vcmcvMjAwMC9zdmciIHdpZHRoPSIxNiIgdmlld0JveD0iMCAwIDI0IDI0Ij4KICA8ZyBjbGFzcz0ianAtaWNvbjMganAtaWNvbi1zZWxlY3RhYmxlIiBmaWxsPSIjNjE2MTYxIj4KICAgIDxwYXRoIGQ9Ik05IDE2LjE3TDQuODMgMTJsLTEuNDIgMS40MUw5IDE5IDIxIDdsLTEuNDEtMS40MXoiLz4KICA8L2c+Cjwvc3ZnPgo=);
  --jp-icon-circle-empty: url(data:image/svg+xml;base64,PHN2ZyB4bWxucz0iaHR0cDovL3d3dy53My5vcmcvMjAwMC9zdmciIHdpZHRoPSIxNiIgdmlld0JveD0iMCAwIDI0IDI0Ij4KICA8ZyBjbGFzcz0ianAtaWNvbjMiIGZpbGw9IiM2MTYxNjEiPgogICAgPHBhdGggZD0iTTEyIDJDNi40NyAyIDIgNi40NyAyIDEyczQuNDcgMTAgMTAgMTAgMTAtNC40NyAxMC0xMFMxNy41MyAyIDEyIDJ6bTAgMThjLTQuNDEgMC04LTMuNTktOC04czMuNTktOCA4LTggOCAzLjU5IDggOC0zLjU5IDgtOCA4eiIvPgogIDwvZz4KPC9zdmc+Cg==);
  --jp-icon-circle: url(data:image/svg+xml;base64,PHN2ZyB2aWV3Qm94PSIwIDAgMTggMTgiIHdpZHRoPSIxNiIgeG1sbnM9Imh0dHA6Ly93d3cudzMub3JnLzIwMDAvc3ZnIj4KICA8ZyBjbGFzcz0ianAtaWNvbjMiIGZpbGw9IiM2MTYxNjEiPgogICAgPGNpcmNsZSBjeD0iOSIgY3k9IjkiIHI9IjgiLz4KICA8L2c+Cjwvc3ZnPgo=);
  --jp-icon-clear: url(data:image/svg+xml;base64,PHN2ZyB4bWxucz0iaHR0cDovL3d3dy53My5vcmcvMjAwMC9zdmciIHdpZHRoPSIxNiIgdmlld0JveD0iMCAwIDI0IDI0Ij4KICA8bWFzayBpZD0iZG9udXRIb2xlIj4KICAgIDxyZWN0IHdpZHRoPSIyNCIgaGVpZ2h0PSIyNCIgZmlsbD0id2hpdGUiIC8+CiAgICA8Y2lyY2xlIGN4PSIxMiIgY3k9IjEyIiByPSI4IiBmaWxsPSJibGFjayIvPgogIDwvbWFzaz4KCiAgPGcgY2xhc3M9ImpwLWljb24zIiBmaWxsPSIjNjE2MTYxIj4KICAgIDxyZWN0IGhlaWdodD0iMTgiIHdpZHRoPSIyIiB4PSIxMSIgeT0iMyIgdHJhbnNmb3JtPSJyb3RhdGUoMzE1LCAxMiwgMTIpIi8+CiAgICA8Y2lyY2xlIGN4PSIxMiIgY3k9IjEyIiByPSIxMCIgbWFzaz0idXJsKCNkb251dEhvbGUpIi8+CiAgPC9nPgo8L3N2Zz4K);
  --jp-icon-close: url(data:image/svg+xml;base64,PHN2ZyB2aWV3Qm94PSIwIDAgMjQgMjQiIHdpZHRoPSIxNiIgeG1sbnM9Imh0dHA6Ly93d3cudzMub3JnLzIwMDAvc3ZnIj4KICA8ZyBjbGFzcz0ianAtaWNvbi1ub25lIGpwLWljb24tc2VsZWN0YWJsZS1pbnZlcnNlIGpwLWljb24zLWhvdmVyIiBmaWxsPSJub25lIj4KICAgIDxjaXJjbGUgY3g9IjEyIiBjeT0iMTIiIHI9IjExIi8+CiAgPC9nPgoKICA8ZyBjbGFzcz0ianAtaWNvbjMganAtaWNvbi1zZWxlY3RhYmxlIGpwLWljb24tYWNjZW50Mi1ob3ZlciIgZmlsbD0iIzYxNjE2MSI+CiAgICA8cGF0aCBkPSJNMTkgNi40MUwxNy41OSA1IDEyIDEwLjU5IDYuNDEgNSA1IDYuNDEgMTAuNTkgMTIgNSAxNy41OSA2LjQxIDE5IDEyIDEzLjQxIDE3LjU5IDE5IDE5IDE3LjU5IDEzLjQxIDEyeiIvPgogIDwvZz4KCiAgPGcgY2xhc3M9ImpwLWljb24tbm9uZSBqcC1pY29uLWJ1c3kiIGZpbGw9Im5vbmUiPgogICAgPGNpcmNsZSBjeD0iMTIiIGN5PSIxMiIgcj0iNyIvPgogIDwvZz4KPC9zdmc+Cg==);
  --jp-icon-code-check: url(data:image/svg+xml;base64,PHN2ZyB4bWxucz0iaHR0cDovL3d3dy53My5vcmcvMjAwMC9zdmciIHdpZHRoPSIyNCIgdmlld0JveD0iMCAwIDI0IDI0Ij4KICA8ZyBjbGFzcz0ianAtaWNvbjMganAtaWNvbi1zZWxlY3RhYmxlIiBmaWxsPSIjNjE2MTYxIiBzaGFwZS1yZW5kZXJpbmc9Imdlb21ldHJpY1ByZWNpc2lvbiI+CiAgICA8cGF0aCBkPSJNNi41OSwzLjQxTDIsOEw2LjU5LDEyLjZMOCwxMS4xOEw0LjgyLDhMOCw0LjgyTDYuNTksMy40MU0xMi40MSwzLjQxTDExLDQuODJMMTQuMTgsOEwxMSwxMS4xOEwxMi40MSwxMi42TDE3LDhMMTIuNDEsMy40MU0yMS41OSwxMS41OUwxMy41LDE5LjY4TDkuODMsMTZMOC40MiwxNy40MUwxMy41LDIyLjVMMjMsMTNMMjEuNTksMTEuNTlaIiAvPgogIDwvZz4KPC9zdmc+Cg==);
  --jp-icon-code: url(data:image/svg+xml;base64,PHN2ZyB3aWR0aD0iMjIiIGhlaWdodD0iMjIiIHZpZXdCb3g9IjAgMCAyOCAyOCIgeG1sbnM9Imh0dHA6Ly93d3cudzMub3JnLzIwMDAvc3ZnIj4KCTxnIGNsYXNzPSJqcC1pY29uMyIgZmlsbD0iIzYxNjE2MSI+CgkJPHBhdGggZD0iTTExLjQgMTguNkw2LjggMTRMMTEuNCA5LjRMMTAgOEw0IDE0TDEwIDIwTDExLjQgMTguNlpNMTYuNiAxOC42TDIxLjIgMTRMMTYuNiA5LjRMMTggOEwyNCAxNEwxOCAyMEwxNi42IDE4LjZWMTguNloiLz4KCTwvZz4KPC9zdmc+Cg==);
  --jp-icon-collapse-all: url(data:image/svg+xml;base64,PHN2ZyB4bWxucz0iaHR0cDovL3d3dy53My5vcmcvMjAwMC9zdmciIHdpZHRoPSIxNiIgdmlld0JveD0iMCAwIDI0IDI0Ij4KICAgIDxnIGNsYXNzPSJqcC1pY29uMyIgZmlsbD0iIzYxNjE2MSI+CiAgICAgICAgPHBhdGgKICAgICAgICAgICAgZD0iTTggMmMxIDAgMTEgMCAxMiAwczIgMSAyIDJjMCAxIDAgMTEgMCAxMnMwIDItMiAyQzIwIDE0IDIwIDQgMjAgNFMxMCA0IDYgNGMwLTIgMS0yIDItMnoiIC8+CiAgICAgICAgPHBhdGgKICAgICAgICAgICAgZD0iTTE4IDhjMC0xLTEtMi0yLTJTNSA2IDQgNnMtMiAxLTIgMmMwIDEgMCAxMSAwIDEyczEgMiAyIDJjMSAwIDExIDAgMTIgMHMyLTEgMi0yYzAtMSAwLTExIDAtMTJ6bS0yIDB2MTJINFY4eiIgLz4KICAgICAgICA8cGF0aCBkPSJNNiAxM3YyaDh2LTJ6IiAvPgogICAgPC9nPgo8L3N2Zz4K);
  --jp-icon-console: url(data:image/svg+xml;base64,PHN2ZyB4bWxucz0iaHR0cDovL3d3dy53My5vcmcvMjAwMC9zdmciIHdpZHRoPSIxNiIgdmlld0JveD0iMCAwIDIwMCAyMDAiPgogIDxnIGNsYXNzPSJqcC1jb25zb2xlLWljb24tYmFja2dyb3VuZC1jb2xvciBqcC1pY29uLXNlbGVjdGFibGUiIGZpbGw9IiMwMjg4RDEiPgogICAgPHBhdGggZD0iTTIwIDE5LjhoMTYwdjE1OS45SDIweiIvPgogIDwvZz4KICA8ZyBjbGFzcz0ianAtY29uc29sZS1pY29uLWNvbG9yIGpwLWljb24tc2VsZWN0YWJsZS1pbnZlcnNlIiBmaWxsPSIjZmZmIj4KICAgIDxwYXRoIGQ9Ik0xMDUgMTI3LjNoNDB2MTIuOGgtNDB6TTUxLjEgNzdMNzQgOTkuOWwtMjMuMyAyMy4zIDEwLjUgMTAuNSAyMy4zLTIzLjNMOTUgOTkuOSA4NC41IDg5LjQgNjEuNiA2Ni41eiIvPgogIDwvZz4KPC9zdmc+Cg==);
  --jp-icon-copy: url(data:image/svg+xml;base64,PHN2ZyB2aWV3Qm94PSIwIDAgMTggMTgiIHdpZHRoPSIxNiIgeG1sbnM9Imh0dHA6Ly93d3cudzMub3JnLzIwMDAvc3ZnIj4KICA8ZyBjbGFzcz0ianAtaWNvbjMiIGZpbGw9IiM2MTYxNjEiPgogICAgPHBhdGggZD0iTTExLjksMUgzLjJDMi40LDEsMS43LDEuNywxLjcsMi41djEwLjJoMS41VjIuNWg4LjdWMXogTTE0LjEsMy45aC04Yy0wLjgsMC0xLjUsMC43LTEuNSwxLjV2MTAuMmMwLDAuOCwwLjcsMS41LDEuNSwxLjVoOCBjMC44LDAsMS41LTAuNywxLjUtMS41VjUuNEMxNS41LDQuNiwxNC45LDMuOSwxNC4xLDMuOXogTTE0LjEsMTUuNWgtOFY1LjRoOFYxNS41eiIvPgogIDwvZz4KPC9zdmc+Cg==);
  --jp-icon-copyright: url(data:image/svg+xml;base64,PHN2ZyB4bWxucz0iaHR0cDovL3d3dy53My5vcmcvMjAwMC9zdmciIGVuYWJsZS1iYWNrZ3JvdW5kPSJuZXcgMCAwIDI0IDI0IiBoZWlnaHQ9IjI0IiB2aWV3Qm94PSIwIDAgMjQgMjQiIHdpZHRoPSIyNCI+CiAgPGcgY2xhc3M9ImpwLWljb24zIiBmaWxsPSIjNjE2MTYxIj4KICAgIDxwYXRoIGQ9Ik0xMS44OCw5LjE0YzEuMjgsMC4wNiwxLjYxLDEuMTUsMS42MywxLjY2aDEuNzljLTAuMDgtMS45OC0xLjQ5LTMuMTktMy40NS0zLjE5QzkuNjQsNy42MSw4LDksOCwxMi4xNCBjMCwxLjk0LDAuOTMsNC4yNCwzLjg0LDQuMjRjMi4yMiwwLDMuNDEtMS42NSwzLjQ0LTIuOTVoLTEuNzljLTAuMDMsMC41OS0wLjQ1LDEuMzgtMS42MywxLjQ0QzEwLjU1LDE0LjgzLDEwLDEzLjgxLDEwLDEyLjE0IEMxMCw5LjI1LDExLjI4LDkuMTYsMTEuODgsOS4xNHogTTEyLDJDNi40OCwyLDIsNi40OCwyLDEyczQuNDgsMTAsMTAsMTBzMTAtNC40OCwxMC0xMFMxNy41MiwyLDEyLDJ6IE0xMiwyMGMtNC40MSwwLTgtMy41OS04LTggczMuNTktOCw4LThzOCwzLjU5LDgsOFMxNi40MSwyMCwxMiwyMHoiLz4KICA8L2c+Cjwvc3ZnPgo=);
  --jp-icon-cut: url(data:image/svg+xml;base64,PHN2ZyB2aWV3Qm94PSIwIDAgMjQgMjQiIHdpZHRoPSIxNiIgeG1sbnM9Imh0dHA6Ly93d3cudzMub3JnLzIwMDAvc3ZnIj4KICA8ZyBjbGFzcz0ianAtaWNvbjMiIGZpbGw9IiM2MTYxNjEiPgogICAgPHBhdGggZD0iTTkuNjQgNy42NGMuMjMtLjUuMzYtMS4wNS4zNi0xLjY0IDAtMi4yMS0xLjc5LTQtNC00UzIgMy43OSAyIDZzMS43OSA0IDQgNGMuNTkgMCAxLjE0LS4xMyAxLjY0LS4zNkwxMCAxMmwtMi4zNiAyLjM2QzcuMTQgMTQuMTMgNi41OSAxNCA2IDE0Yy0yLjIxIDAtNCAxLjc5LTQgNHMxLjc5IDQgNCA0IDQtMS43OSA0LTRjMC0uNTktLjEzLTEuMTQtLjM2LTEuNjRMMTIgMTRsNyA3aDN2LTFMOS42NCA3LjY0ek02IDhjLTEuMSAwLTItLjg5LTItMnMuOS0yIDItMiAyIC44OSAyIDItLjkgMi0yIDJ6bTAgMTJjLTEuMSAwLTItLjg5LTItMnMuOS0yIDItMiAyIC44OSAyIDItLjkgMi0yIDJ6bTYtNy41Yy0uMjggMC0uNS0uMjItLjUtLjVzLjIyLS41LjUtLjUuNS4yMi41LjUtLjIyLjUtLjUuNXpNMTkgM2wtNiA2IDIgMiA3LTdWM3oiLz4KICA8L2c+Cjwvc3ZnPgo=);
  --jp-icon-delete: url(data:image/svg+xml;base64,PHN2ZyB4bWxucz0iaHR0cDovL3d3dy53My5vcmcvMjAwMC9zdmciIHZpZXdCb3g9IjAgMCAyNCAyNCIgd2lkdGg9IjE2cHgiIGhlaWdodD0iMTZweCI+CiAgICA8cGF0aCBkPSJNMCAwaDI0djI0SDB6IiBmaWxsPSJub25lIiAvPgogICAgPHBhdGggY2xhc3M9ImpwLWljb24zIiBmaWxsPSIjNjI2MjYyIiBkPSJNNiAxOWMwIDEuMS45IDIgMiAyaDhjMS4xIDAgMi0uOSAyLTJWN0g2djEyek0xOSA0aC0zLjVsLTEtMWgtNWwtMSAxSDV2MmgxNFY0eiIgLz4KPC9zdmc+Cg==);
  --jp-icon-download: url(data:image/svg+xml;base64,PHN2ZyB2aWV3Qm94PSIwIDAgMjQgMjQiIHdpZHRoPSIxNiIgeG1sbnM9Imh0dHA6Ly93d3cudzMub3JnLzIwMDAvc3ZnIj4KICA8ZyBjbGFzcz0ianAtaWNvbjMiIGZpbGw9IiM2MTYxNjEiPgogICAgPHBhdGggZD0iTTE5IDloLTRWM0g5djZINWw3IDcgNy03ek01IDE4djJoMTR2LTJINXoiLz4KICA8L2c+Cjwvc3ZnPgo=);
  --jp-icon-duplicate: url(data:image/svg+xml;base64,PHN2ZyB3aWR0aD0iMTQiIGhlaWdodD0iMTQiIHZpZXdCb3g9IjAgMCAxNCAxNCIgZmlsbD0ibm9uZSIgeG1sbnM9Imh0dHA6Ly93d3cudzMub3JnLzIwMDAvc3ZnIj4KPHBhdGggY2xhc3M9ImpwLWljb24zIiBmaWxsLXJ1bGU9ImV2ZW5vZGQiIGNsaXAtcnVsZT0iZXZlbm9kZCIgZD0iTTIuNzk5OTggMC44NzVIOC44OTU4MkM5LjIwMDYxIDAuODc1IDkuNDQ5OTggMS4xMzkxNCA5LjQ0OTk4IDEuNDYxOThDOS40NDk5OCAxLjc4NDgyIDkuMjAwNjEgMi4wNDg5NiA4Ljg5NTgyIDIuMDQ4OTZIMy4zNTQxNUMzLjA0OTM2IDIuMDQ4OTYgMi43OTk5OCAyLjMxMzEgMi43OTk5OCAyLjYzNTk0VjkuNjc5NjlDMi43OTk5OCAxMC4wMDI1IDIuNTUwNjEgMTAuMjY2NyAyLjI0NTgyIDEwLjI2NjdDMS45NDEwMyAxMC4yNjY3IDEuNjkxNjUgMTAuMDAyNSAxLjY5MTY1IDkuNjc5NjlWMi4wNDg5NkMxLjY5MTY1IDEuNDAzMjggMi4xOTA0IDAuODc1IDIuNzk5OTggMC44NzVaTTUuMzY2NjUgMTEuOVY0LjU1SDExLjA4MzNWMTEuOUg1LjM2NjY1Wk00LjE0MTY1IDQuMTQxNjdDNC4xNDE2NSAzLjY5MDYzIDQuNTA3MjggMy4zMjUgNC45NTgzMiAzLjMyNUgxMS40OTE3QzExLjk0MjcgMy4zMjUgMTIuMzA4MyAzLjY5MDYzIDEyLjMwODMgNC4xNDE2N1YxMi4zMDgzQzEyLjMwODMgMTIuNzU5NCAxMS45NDI3IDEzLjEyNSAxMS40OTE3IDEzLjEyNUg0Ljk1ODMyQzQuNTA3MjggMTMuMTI1IDQuMTQxNjUgMTIuNzU5NCA0LjE0MTY1IDEyLjMwODNWNC4xNDE2N1oiIGZpbGw9IiM2MTYxNjEiLz4KPHBhdGggY2xhc3M9ImpwLWljb24zIiBkPSJNOS40MzU3NCA4LjI2NTA3SDguMzY0MzFWOS4zMzY1QzguMzY0MzEgOS40NTQzNSA4LjI2Nzg4IDkuNTUwNzggOC4xNTAwMiA5LjU1MDc4QzguMDMyMTcgOS41NTA3OCA3LjkzNTc0IDkuNDU0MzUgNy45MzU3NCA5LjMzNjVWOC4yNjUwN0g2Ljg2NDMxQzYuNzQ2NDUgOC4yNjUwNyA2LjY1MDAyIDguMTY4NjQgNi42NTAwMiA4LjA1MDc4QzYuNjUwMDIgNy45MzI5MiA2Ljc0NjQ1IDcuODM2NSA2Ljg2NDMxIDcuODM2NUg3LjkzNTc0VjYuNzY1MDdDNy45MzU3NCA2LjY0NzIxIDguMDMyMTcgNi41NTA3OCA4LjE1MDAyIDYuNTUwNzhDOC4yNjc4OCA2LjU1MDc4IDguMzY0MzEgNi42NDcyMSA4LjM2NDMxIDYuNzY1MDdWNy44MzY1SDkuNDM1NzRDOS41NTM2IDcuODM2NSA5LjY1MDAyIDcuOTMyOTIgOS42NTAwMiA4LjA1MDc4QzkuNjUwMDIgOC4xNjg2NCA5LjU1MzYgOC4yNjUwNyA5LjQzNTc0IDguMjY1MDdaIiBmaWxsPSIjNjE2MTYxIiBzdHJva2U9IiM2MTYxNjEiIHN0cm9rZS13aWR0aD0iMC41Ii8+Cjwvc3ZnPgo=);
  --jp-icon-edit: url(data:image/svg+xml;base64,PHN2ZyB2aWV3Qm94PSIwIDAgMjQgMjQiIHdpZHRoPSIxNiIgeG1sbnM9Imh0dHA6Ly93d3cudzMub3JnLzIwMDAvc3ZnIj4KICA8ZyBjbGFzcz0ianAtaWNvbjMiIGZpbGw9IiM2MTYxNjEiPgogICAgPHBhdGggZD0iTTMgMTcuMjVWMjFoMy43NUwxNy44MSA5Ljk0bC0zLjc1LTMuNzVMMyAxNy4yNXpNMjAuNzEgNy4wNGMuMzktLjM5LjM5LTEuMDIgMC0xLjQxbC0yLjM0LTIuMzRjLS4zOS0uMzktMS4wMi0uMzktMS40MSAwbC0xLjgzIDEuODMgMy43NSAzLjc1IDEuODMtMS44M3oiLz4KICA8L2c+Cjwvc3ZnPgo=);
  --jp-icon-ellipses: url(data:image/svg+xml;base64,PHN2ZyB2aWV3Qm94PSIwIDAgMjQgMjQiIHdpZHRoPSIxNiIgeG1sbnM9Imh0dHA6Ly93d3cudzMub3JnLzIwMDAvc3ZnIj4KICA8ZyBjbGFzcz0ianAtaWNvbjMiIGZpbGw9IiM2MTYxNjEiPgogICAgPGNpcmNsZSBjeD0iNSIgY3k9IjEyIiByPSIyIi8+CiAgICA8Y2lyY2xlIGN4PSIxMiIgY3k9IjEyIiByPSIyIi8+CiAgICA8Y2lyY2xlIGN4PSIxOSIgY3k9IjEyIiByPSIyIi8+CiAgPC9nPgo8L3N2Zz4K);
  --jp-icon-error: url(data:image/svg+xml;base64,PHN2ZyB4bWxucz0iaHR0cDovL3d3dy53My5vcmcvMjAwMC9zdmciIHdpZHRoPSIxNiIgdmlld0JveD0iMCAwIDI0IDI0Ij4KPGcgY2xhc3M9ImpwLWljb24zIiBmaWxsPSIjNjE2MTYxIj48Y2lyY2xlIGN4PSIxMiIgY3k9IjE5IiByPSIyIi8+PHBhdGggZD0iTTEwIDNoNHYxMmgtNHoiLz48L2c+CjxwYXRoIGZpbGw9Im5vbmUiIGQ9Ik0wIDBoMjR2MjRIMHoiLz4KPC9zdmc+Cg==);
  --jp-icon-expand-all: url(data:image/svg+xml;base64,PHN2ZyB4bWxucz0iaHR0cDovL3d3dy53My5vcmcvMjAwMC9zdmciIHdpZHRoPSIxNiIgdmlld0JveD0iMCAwIDI0IDI0Ij4KICAgIDxnIGNsYXNzPSJqcC1pY29uMyIgZmlsbD0iIzYxNjE2MSI+CiAgICAgICAgPHBhdGgKICAgICAgICAgICAgZD0iTTggMmMxIDAgMTEgMCAxMiAwczIgMSAyIDJjMCAxIDAgMTEgMCAxMnMwIDItMiAyQzIwIDE0IDIwIDQgMjAgNFMxMCA0IDYgNGMwLTIgMS0yIDItMnoiIC8+CiAgICAgICAgPHBhdGgKICAgICAgICAgICAgZD0iTTE4IDhjMC0xLTEtMi0yLTJTNSA2IDQgNnMtMiAxLTIgMmMwIDEgMCAxMSAwIDEyczEgMiAyIDJjMSAwIDExIDAgMTIgMHMyLTEgMi0yYzAtMSAwLTExIDAtMTJ6bS0yIDB2MTJINFY4eiIgLz4KICAgICAgICA8cGF0aCBkPSJNMTEgMTBIOXYzSDZ2MmgzdjNoMnYtM2gzdi0yaC0zeiIgLz4KICAgIDwvZz4KPC9zdmc+Cg==);
  --jp-icon-extension: url(data:image/svg+xml;base64,PHN2ZyB4bWxucz0iaHR0cDovL3d3dy53My5vcmcvMjAwMC9zdmciIHdpZHRoPSIxNiIgdmlld0JveD0iMCAwIDI0IDI0Ij4KICA8ZyBjbGFzcz0ianAtaWNvbjMiIGZpbGw9IiM2MTYxNjEiPgogICAgPHBhdGggZD0iTTIwLjUgMTFIMTlWN2MwLTEuMS0uOS0yLTItMmgtNFYzLjVDMTMgMi4xMiAxMS44OCAxIDEwLjUgMVM4IDIuMTIgOCAzLjVWNUg0Yy0xLjEgMC0xLjk5LjktMS45OSAydjMuOEgzLjVjMS40OSAwIDIuNyAxLjIxIDIuNyAyLjdzLTEuMjEgMi43LTIuNyAyLjdIMlYyMGMwIDEuMS45IDIgMiAyaDMuOHYtMS41YzAtMS40OSAxLjIxLTIuNyAyLjctMi43IDEuNDkgMCAyLjcgMS4yMSAyLjcgMi43VjIySDE3YzEuMSAwIDItLjkgMi0ydi00aDEuNWMxLjM4IDAgMi41LTEuMTIgMi41LTIuNVMyMS44OCAxMSAyMC41IDExeiIvPgogIDwvZz4KPC9zdmc+Cg==);
  --jp-icon-fast-forward: url(data:image/svg+xml;base64,PHN2ZyB4bWxucz0iaHR0cDovL3d3dy53My5vcmcvMjAwMC9zdmciIHdpZHRoPSIyNCIgaGVpZ2h0PSIyNCIgdmlld0JveD0iMCAwIDI0IDI0Ij4KICAgIDxnIGNsYXNzPSJqcC1pY29uMyIgZmlsbD0iIzYxNjE2MSI+CiAgICAgICAgPHBhdGggZD0iTTQgMThsOC41LTZMNCA2djEyem05LTEydjEybDguNS02TDEzIDZ6Ii8+CiAgICA8L2c+Cjwvc3ZnPgo=);
  --jp-icon-file-upload: url(data:image/svg+xml;base64,PHN2ZyB4bWxucz0iaHR0cDovL3d3dy53My5vcmcvMjAwMC9zdmciIHdpZHRoPSIxNiIgdmlld0JveD0iMCAwIDI0IDI0Ij4KICA8ZyBjbGFzcz0ianAtaWNvbjMiIGZpbGw9IiM2MTYxNjEiPgogICAgPHBhdGggZD0iTTkgMTZoNnYtNmg0bC03LTctNyA3aDR6bS00IDJoMTR2Mkg1eiIvPgogIDwvZz4KPC9zdmc+Cg==);
  --jp-icon-file: url(data:image/svg+xml;base64,PHN2ZyB4bWxucz0iaHR0cDovL3d3dy53My5vcmcvMjAwMC9zdmciIHdpZHRoPSIxNiIgdmlld0JveD0iMCAwIDIyIDIyIj4KICA8cGF0aCBjbGFzcz0ianAtaWNvbjMganAtaWNvbi1zZWxlY3RhYmxlIiBmaWxsPSIjNjE2MTYxIiBkPSJNMTkuMyA4LjJsLTUuNS01LjVjLS4zLS4zLS43LS41LTEuMi0uNUgzLjljLS44LjEtMS42LjktMS42IDEuOHYxNC4xYzAgLjkuNyAxLjYgMS42IDEuNmgxNC4yYy45IDAgMS42LS43IDEuNi0xLjZWOS40Yy4xLS41LS4xLS45LS40LTEuMnptLTUuOC0zLjNsMy40IDMuNmgtMy40VjQuOXptMy45IDEyLjdINC43Yy0uMSAwLS4yIDAtLjItLjJWNC43YzAtLjIuMS0uMy4yLS4zaDcuMnY0LjRzMCAuOC4zIDEuMWMuMy4zIDEuMS4zIDEuMS4zaDQuM3Y3LjJzLS4xLjItLjIuMnoiLz4KPC9zdmc+Cg==);
  --jp-icon-filter-dot: url(data:image/svg+xml;base64,PHN2ZyB4bWxucz0iaHR0cDovL3d3dy53My5vcmcvMjAwMC9zdmciIHdpZHRoPSIxNiIgdmlld0JveD0iMCAwIDI0IDI0Ij4KICA8ZyBjbGFzcz0ianAtaWNvbjMiIGZpbGw9IiNGRkYiPgogICAgPHBhdGggZD0iTTE0LDEyVjE5Ljg4QzE0LjA0LDIwLjE4IDEzLjk0LDIwLjUgMTMuNzEsMjAuNzFDMTMuMzIsMjEuMSAxMi42OSwyMS4xIDEyLjMsMjAuNzFMMTAuMjksMTguN0MxMC4wNiwxOC40NyA5Ljk2LDE4LjE2IDEwLDE3Ljg3VjEySDkuOTdMNC4yMSw0LjYyQzMuODcsNC4xOSAzLjk1LDMuNTYgNC4zOCwzLjIyQzQuNTcsMy4wOCA0Ljc4LDMgNSwzVjNIMTlWM0MxOS4yMiwzIDE5LjQzLDMuMDggMTkuNjIsMy4yMkMyMC4wNSwzLjU2IDIwLjEzLDQuMTkgMTkuNzksNC42MkwxNC4wMywxMkgxNFoiIC8+CiAgPC9nPgogIDxnIGNsYXNzPSJqcC1pY29uLWRvdCIgZmlsbD0iI0ZGRiI+CiAgICA8Y2lyY2xlIGN4PSIxOCIgY3k9IjE3IiByPSIzIj48L2NpcmNsZT4KICA8L2c+Cjwvc3ZnPgo=);
  --jp-icon-filter-list: url(data:image/svg+xml;base64,PHN2ZyB4bWxucz0iaHR0cDovL3d3dy53My5vcmcvMjAwMC9zdmciIHdpZHRoPSIxNiIgdmlld0JveD0iMCAwIDI0IDI0Ij4KICA8ZyBjbGFzcz0ianAtaWNvbjMiIGZpbGw9IiM2MTYxNjEiPgogICAgPHBhdGggZD0iTTEwIDE4aDR2LTJoLTR2MnpNMyA2djJoMThWNkgzem0zIDdoMTJ2LTJINnYyeiIvPgogIDwvZz4KPC9zdmc+Cg==);
  --jp-icon-filter: url(data:image/svg+xml;base64,PHN2ZyB4bWxucz0iaHR0cDovL3d3dy53My5vcmcvMjAwMC9zdmciIHdpZHRoPSIxNiIgdmlld0JveD0iMCAwIDI0IDI0Ij4KICA8ZyBjbGFzcz0ianAtaWNvbjMiIGZpbGw9IiNGRkYiPgogICAgPHBhdGggZD0iTTE0LDEyVjE5Ljg4QzE0LjA0LDIwLjE4IDEzLjk0LDIwLjUgMTMuNzEsMjAuNzFDMTMuMzIsMjEuMSAxMi42OSwyMS4xIDEyLjMsMjAuNzFMMTAuMjksMTguN0MxMC4wNiwxOC40NyA5Ljk2LDE4LjE2IDEwLDE3Ljg3VjEySDkuOTdMNC4yMSw0LjYyQzMuODcsNC4xOSAzLjk1LDMuNTYgNC4zOCwzLjIyQzQuNTcsMy4wOCA0Ljc4LDMgNSwzVjNIMTlWM0MxOS4yMiwzIDE5LjQzLDMuMDggMTkuNjIsMy4yMkMyMC4wNSwzLjU2IDIwLjEzLDQuMTkgMTkuNzksNC42MkwxNC4wMywxMkgxNFoiIC8+CiAgPC9nPgo8L3N2Zz4K);
  --jp-icon-folder-favorite: url(data:image/svg+xml;base64,PHN2ZyB4bWxucz0iaHR0cDovL3d3dy53My5vcmcvMjAwMC9zdmciIGhlaWdodD0iMjRweCIgdmlld0JveD0iMCAwIDI0IDI0IiB3aWR0aD0iMjRweCIgZmlsbD0iIzAwMDAwMCI+CiAgPHBhdGggZD0iTTAgMGgyNHYyNEgwVjB6IiBmaWxsPSJub25lIi8+PHBhdGggY2xhc3M9ImpwLWljb24zIGpwLWljb24tc2VsZWN0YWJsZSIgZmlsbD0iIzYxNjE2MSIgZD0iTTIwIDZoLThsLTItMkg0Yy0xLjEgMC0yIC45LTIgMnYxMmMwIDEuMS45IDIgMiAyaDE2YzEuMSAwIDItLjkgMi0yVjhjMC0xLjEtLjktMi0yLTJ6bS0yLjA2IDExTDE1IDE1LjI4IDEyLjA2IDE3bC43OC0zLjMzLTIuNTktMi4yNCAzLjQxLS4yOUwxNSA4bDEuMzQgMy4xNCAzLjQxLjI5LTIuNTkgMi4yNC43OCAzLjMzeiIvPgo8L3N2Zz4K);
  --jp-icon-folder: url(data:image/svg+xml;base64,PHN2ZyB4bWxucz0iaHR0cDovL3d3dy53My5vcmcvMjAwMC9zdmciIHdpZHRoPSIxNiIgdmlld0JveD0iMCAwIDI0IDI0Ij4KICA8cGF0aCBjbGFzcz0ianAtaWNvbjMganAtaWNvbi1zZWxlY3RhYmxlIiBmaWxsPSIjNjE2MTYxIiBkPSJNMTAgNEg0Yy0xLjEgMC0xLjk5LjktMS45OSAyTDIgMThjMCAxLjEuOSAyIDIgMmgxNmMxLjEgMCAyLS45IDItMlY4YzAtMS4xLS45LTItMi0yaC04bC0yLTJ6Ii8+Cjwvc3ZnPgo=);
  --jp-icon-home: url(data:image/svg+xml;base64,PHN2ZyB4bWxucz0iaHR0cDovL3d3dy53My5vcmcvMjAwMC9zdmciIGhlaWdodD0iMjRweCIgdmlld0JveD0iMCAwIDI0IDI0IiB3aWR0aD0iMjRweCIgZmlsbD0iIzAwMDAwMCI+CiAgPHBhdGggZD0iTTAgMGgyNHYyNEgweiIgZmlsbD0ibm9uZSIvPjxwYXRoIGNsYXNzPSJqcC1pY29uMyBqcC1pY29uLXNlbGVjdGFibGUiIGZpbGw9IiM2MTYxNjEiIGQ9Ik0xMCAyMHYtNmg0djZoNXYtOGgzTDEyIDMgMiAxMmgzdjh6Ii8+Cjwvc3ZnPgo=);
  --jp-icon-html5: url(data:image/svg+xml;base64,PHN2ZyB4bWxucz0iaHR0cDovL3d3dy53My5vcmcvMjAwMC9zdmciIHdpZHRoPSIxNiIgdmlld0JveD0iMCAwIDUxMiA1MTIiPgogIDxwYXRoIGNsYXNzPSJqcC1pY29uMCBqcC1pY29uLXNlbGVjdGFibGUiIGZpbGw9IiMwMDAiIGQ9Ik0xMDguNCAwaDIzdjIyLjhoMjEuMlYwaDIzdjY5aC0yM1Y0NmgtMjF2MjNoLTIzLjJNMjA2IDIzaC0yMC4zVjBoNjMuN3YyM0gyMjl2NDZoLTIzbTUzLjUtNjloMjQuMWwxNC44IDI0LjNMMzEzLjIgMGgyNC4xdjY5aC0yM1YzNC44bC0xNi4xIDI0LjgtMTYuMS0yNC44VjY5aC0yMi42bTg5LjItNjloMjN2NDYuMmgzMi42VjY5aC01NS42Ii8+CiAgPHBhdGggY2xhc3M9ImpwLWljb24tc2VsZWN0YWJsZSIgZmlsbD0iI2U0NGQyNiIgZD0iTTEwNy42IDQ3MWwtMzMtMzcwLjRoMzYyLjhsLTMzIDM3MC4yTDI1NS43IDUxMiIvPgogIDxwYXRoIGNsYXNzPSJqcC1pY29uLXNlbGVjdGFibGUiIGZpbGw9IiNmMTY1MjkiIGQ9Ik0yNTYgNDgwLjVWMTMxaDE0OC4zTDM3NiA0NDciLz4KICA8cGF0aCBjbGFzcz0ianAtaWNvbi1zZWxlY3RhYmxlLWludmVyc2UiIGZpbGw9IiNlYmViZWIiIGQ9Ik0xNDIgMTc2LjNoMTE0djQ1LjRoLTY0LjJsNC4yIDQ2LjVoNjB2NDUuM0gxNTQuNG0yIDIyLjhIMjAybDMuMiAzNi4zIDUwLjggMTMuNnY0Ny40bC05My4yLTI2Ii8+CiAgPHBhdGggY2xhc3M9ImpwLWljb24tc2VsZWN0YWJsZS1pbnZlcnNlIiBmaWxsPSIjZmZmIiBkPSJNMzY5LjYgMTc2LjNIMjU1Ljh2NDUuNGgxMDkuNm0tNC4xIDQ2LjVIMjU1Ljh2NDUuNGg1NmwtNS4zIDU5LTUwLjcgMTMuNnY0Ny4ybDkzLTI1LjgiLz4KPC9zdmc+Cg==);
  --jp-icon-image: url(data:image/svg+xml;base64,PHN2ZyB4bWxucz0iaHR0cDovL3d3dy53My5vcmcvMjAwMC9zdmciIHdpZHRoPSIxNiIgdmlld0JveD0iMCAwIDIyIDIyIj4KICA8cGF0aCBjbGFzcz0ianAtaWNvbi1icmFuZDQganAtaWNvbi1zZWxlY3RhYmxlLWludmVyc2UiIGZpbGw9IiNGRkYiIGQ9Ik0yLjIgMi4yaDE3LjV2MTcuNUgyLjJ6Ii8+CiAgPHBhdGggY2xhc3M9ImpwLWljb24tYnJhbmQwIGpwLWljb24tc2VsZWN0YWJsZSIgZmlsbD0iIzNGNTFCNSIgZD0iTTIuMiAyLjJ2MTcuNWgxNy41bC4xLTE3LjVIMi4yem0xMi4xIDIuMmMxLjIgMCAyLjIgMSAyLjIgMi4ycy0xIDIuMi0yLjIgMi4yLTIuMi0xLTIuMi0yLjIgMS0yLjIgMi4yLTIuMnpNNC40IDE3LjZsMy4zLTguOCAzLjMgNi42IDIuMi0zLjIgNC40IDUuNEg0LjR6Ii8+Cjwvc3ZnPgo=);
  --jp-icon-info: url(data:image/svg+xml;base64,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);
  --jp-icon-inspector: url(data:image/svg+xml;base64,PHN2ZyB4bWxucz0iaHR0cDovL3d3dy53My5vcmcvMjAwMC9zdmciIHdpZHRoPSIxNiIgdmlld0JveD0iMCAwIDI0IDI0Ij4KICA8cGF0aCBjbGFzcz0ianAtaW5zcGVjdG9yLWljb24tY29sb3IganAtaWNvbi1zZWxlY3RhYmxlIiBmaWxsPSIjNjE2MTYxIiBkPSJNMjAgNEg0Yy0xLjEgMC0xLjk5LjktMS45OSAyTDIgMThjMCAxLjEuOSAyIDIgMmgxNmMxLjEgMCAyLS45IDItMlY2YzAtMS4xLS45LTItMi0yem0tNSAxNEg0di00aDExdjR6bTAtNUg0VjloMTF2NHptNSA1aC00VjloNHY5eiIvPgo8L3N2Zz4K);
  --jp-icon-json: url(data:image/svg+xml;base64,PHN2ZyB4bWxucz0iaHR0cDovL3d3dy53My5vcmcvMjAwMC9zdmciIHdpZHRoPSIxNiIgdmlld0JveD0iMCAwIDIyIDIyIj4KICA8ZyBjbGFzcz0ianAtanNvbi1pY29uLWNvbG9yIGpwLWljb24tc2VsZWN0YWJsZSIgZmlsbD0iI0Y5QTgyNSI+CiAgICA8cGF0aCBkPSJNMjAuMiAxMS44Yy0xLjYgMC0xLjcuNS0xLjcgMSAwIC40LjEuOS4xIDEuMy4xLjUuMS45LjEgMS4zIDAgMS43LTEuNCAyLjMtMy41IDIuM2gtLjl2LTEuOWguNWMxLjEgMCAxLjQgMCAxLjQtLjggMC0uMyAwLS42LS4xLTEgMC0uNC0uMS0uOC0uMS0xLjIgMC0xLjMgMC0xLjggMS4zLTItMS4zLS4yLTEuMy0uNy0xLjMtMiAwLS40LjEtLjguMS0xLjIuMS0uNC4xLS43LjEtMSAwLS44LS40LS43LTEuNC0uOGgtLjVWNC4xaC45YzIuMiAwIDMuNS43IDMuNSAyLjMgMCAuNC0uMS45LS4xIDEuMy0uMS41LS4xLjktLjEgMS4zIDAgLjUuMiAxIDEuNyAxdjEuOHpNMS44IDEwLjFjMS42IDAgMS43LS41IDEuNy0xIDAtLjQtLjEtLjktLjEtMS4zLS4xLS41LS4xLS45LS4xLTEuMyAwLTEuNiAxLjQtMi4zIDMuNS0yLjNoLjl2MS45aC0uNWMtMSAwLTEuNCAwLTEuNC44IDAgLjMgMCAuNi4xIDEgMCAuMi4xLjYuMSAxIDAgMS4zIDAgMS44LTEuMyAyQzYgMTEuMiA2IDExLjcgNiAxM2MwIC40LS4xLjgtLjEgMS4yLS4xLjMtLjEuNy0uMSAxIDAgLjguMy44IDEuNC44aC41djEuOWgtLjljLTIuMSAwLTMuNS0uNi0zLjUtMi4zIDAtLjQuMS0uOS4xLTEuMy4xLS41LjEtLjkuMS0xLjMgMC0uNS0uMi0xLTEuNy0xdi0xLjl6Ii8+CiAgICA8Y2lyY2xlIGN4PSIxMSIgY3k9IjEzLjgiIHI9IjIuMSIvPgogICAgPGNpcmNsZSBjeD0iMTEiIGN5PSI4LjIiIHI9IjIuMSIvPgogIDwvZz4KPC9zdmc+Cg==);
  --jp-icon-julia: url(data:image/svg+xml;base64,PHN2ZyB4bWxucz0iaHR0cDovL3d3dy53My5vcmcvMjAwMC9zdmciIHdpZHRoPSIxNiIgdmlld0JveD0iMCAwIDMyNSAzMDAiPgogIDxnIGNsYXNzPSJqcC1icmFuZDAganAtaWNvbi1zZWxlY3RhYmxlIiBmaWxsPSIjY2IzYzMzIj4KICAgIDxwYXRoIGQ9Ik0gMTUwLjg5ODQzOCAyMjUgQyAxNTAuODk4NDM4IDI2Ni40MjE4NzUgMTE3LjMyMDMxMiAzMDAgNzUuODk4NDM4IDMwMCBDIDM0LjQ3NjU2MiAzMDAgMC44OTg0MzggMjY2LjQyMTg3NSAwLjg5ODQzOCAyMjUgQyAwLjg5ODQzOCAxODMuNTc4MTI1IDM0LjQ3NjU2MiAxNTAgNzUuODk4NDM4IDE1MCBDIDExNy4zMjAzMTIgMTUwIDE1MC44OTg0MzggMTgzLjU3ODEyNSAxNTAuODk4NDM4IDIyNSIvPgogIDwvZz4KICA8ZyBjbGFzcz0ianAtYnJhbmQwIGpwLWljb24tc2VsZWN0YWJsZSIgZmlsbD0iIzM4OTgyNiI+CiAgICA8cGF0aCBkPSJNIDIzNy41IDc1IEMgMjM3LjUgMTE2LjQyMTg3NSAyMDMuOTIxODc1IDE1MCAxNjIuNSAxNTAgQyAxMjEuMDc4MTI1IDE1MCA4Ny41IDExNi40MjE4NzUgODcuNSA3NSBDIDg3LjUgMzMuNTc4MTI1IDEyMS4wNzgxMjUgMCAxNjIuNSAwIEMgMjAzLjkyMTg3NSAwIDIzNy41IDMzLjU3ODEyNSAyMzcuNSA3NSIvPgogIDwvZz4KICA8ZyBjbGFzcz0ianAtYnJhbmQwIGpwLWljb24tc2VsZWN0YWJsZSIgZmlsbD0iIzk1NThiMiI+CiAgICA8cGF0aCBkPSJNIDMyNC4xMDE1NjIgMjI1IEMgMzI0LjEwMTU2MiAyNjYuNDIxODc1IDI5MC41MjM0MzggMzAwIDI0OS4xMDE1NjIgMzAwIEMgMjA3LjY3OTY4OCAzMDAgMTc0LjEwMTU2MiAyNjYuNDIxODc1IDE3NC4xMDE1NjIgMjI1IEMgMTc0LjEwMTU2MiAxODMuNTc4MTI1IDIwNy42Nzk2ODggMTUwIDI0OS4xMDE1NjIgMTUwIEMgMjkwLjUyMzQzOCAxNTAgMzI0LjEwMTU2MiAxODMuNTc4MTI1IDMyNC4xMDE1NjIgMjI1Ii8+CiAgPC9nPgo8L3N2Zz4K);
  --jp-icon-jupyter-favicon: url(data:image/svg+xml;base64,PHN2ZyB3aWR0aD0iMTUyIiBoZWlnaHQ9IjE2NSIgdmlld0JveD0iMCAwIDE1MiAxNjUiIHZlcnNpb249IjEuMSIgeG1sbnM9Imh0dHA6Ly93d3cudzMub3JnLzIwMDAvc3ZnIj4KICAgPGcgY2xhc3M9ImpwLWp1cHl0ZXItaWNvbi1jb2xvciIgZmlsbD0iI0YzNzcyNiI+CiAgICA8cGF0aCB0cmFuc2Zvcm09InRyYW5zbGF0ZSgwLjA3ODk0NywgMTEwLjU4MjkyNykiIGQ9Ik03NS45NDIyODQyLDI5LjU4MDQ1NjEgQzQzLjMwMjM5NDcsMjkuNTgwNDU2MSAxNC43OTY3ODMyLDE3LjY1MzQ2MzQgMCwwIEM1LjUxMDgzMjExLDE1Ljg0MDY4MjkgMTUuNzgxNTM4OSwyOS41NjY3NzMyIDI5LjM5MDQ5NDcsMzkuMjc4NDE3MSBDNDIuOTk5Nyw0OC45ODk4NTM3IDU5LjI3MzcsNTQuMjA2NzgwNSA3NS45NjA1Nzg5LDU0LjIwNjc4MDUgQzkyLjY0NzQ1NzksNTQuMjA2NzgwNSAxMDguOTIxNDU4LDQ4Ljk4OTg1MzcgMTIyLjUzMDY2MywzOS4yNzg0MTcxIEMxMzYuMTM5NDUzLDI5LjU2Njc3MzIgMTQ2LjQxMDI4NCwxNS44NDA2ODI5IDE1MS45MjExNTgsMCBDMTM3LjA4Nzg2OCwxNy42NTM0NjM0IDEwOC41ODI1ODksMjkuNTgwNDU2MSA3NS45NDIyODQyLDI5LjU4MDQ1NjEgTDc1Ljk0MjI4NDIsMjkuNTgwNDU2MSBaIiAvPgogICAgPHBhdGggdHJhbnNmb3JtPSJ0cmFuc2xhdGUoMC4wMzczNjgsIDAuNzA0ODc4KSIgZD0iTTc1Ljk3ODQ1NzksMjQuNjI2NDA3MyBDMTA4LjYxODc2MywyNC42MjY0MDczIDEzNy4xMjQ0NTgsMzYuNTUzNDQxNSAxNTEuOTIxMTU4LDU0LjIwNjc4MDUgQzE0Ni40MTAyODQsMzguMzY2MjIyIDEzNi4xMzk0NTMsMjQuNjQwMTMxNyAxMjIuNTMwNjYzLDE0LjkyODQ4NzggQzEwOC45MjE0NTgsNS4yMTY4NDM5IDkyLjY0NzQ1NzksMCA3NS45NjA1Nzg5LDAgQzU5LjI3MzcsMCA0Mi45OTk3LDUuMjE2ODQzOSAyOS4zOTA0OTQ3LDE0LjkyODQ4NzggQzE1Ljc4MTUzODksMjQuNjQwMTMxNyA1LjUxMDgzMjExLDM4LjM2NjIyMiAwLDU0LjIwNjc4MDUgQzE0LjgzMzA4MTYsMzYuNTg5OTI5MyA0My4zMzg1Njg0LDI0LjYyNjQwNzMgNzUuOTc4NDU3OSwyNC42MjY0MDczIEw3NS45Nzg0NTc5LDI0LjYyNjQwNzMgWiIgLz4KICA8L2c+Cjwvc3ZnPgo=);
  --jp-icon-jupyter: url(data:image/svg+xml;base64,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);
  --jp-icon-jupyterlab-wordmark: url(data:image/svg+xml;base64,PHN2ZyB4bWxucz0iaHR0cDovL3d3dy53My5vcmcvMjAwMC9zdmciIHdpZHRoPSIyMDAiIHZpZXdCb3g9IjAgMCAxODYwLjggNDc1Ij4KICA8ZyBjbGFzcz0ianAtaWNvbjIiIGZpbGw9IiM0RTRFNEUiIHRyYW5zZm9ybT0idHJhbnNsYXRlKDQ4MC4xMzY0MDEsIDY0LjI3MTQ5MykiPgogICAgPGcgdHJhbnNmb3JtPSJ0cmFuc2xhdGUoMC4wMDAwMDAsIDU4Ljg3NTU2NikiPgogICAgICA8ZyB0cmFuc2Zvcm09InRyYW5zbGF0ZSgwLjA4NzYwMywgMC4xNDAyOTQpIj4KICAgICAgICA8cGF0aCBkPSJNLTQyNi45LDE2OS44YzAsNDguNy0zLjcsNjQuNy0xMy42LDc2LjRjLTEwLjgsMTAtMjUsMTUuNS0zOS43LDE1LjVsMy43LDI5IGMyMi44LDAuMyw0NC44LTcuOSw2MS45LTIzLjFjMTcuOC0xOC41LDI0LTQ0LjEsMjQtODMuM1YwSC00Mjd2MTcwLjFMLTQyNi45LDE2OS44TC00MjYuOSwxNjkuOHoiLz4KICAgICAgPC9nPgogICAgPC9nPgogICAgPGcgdHJhbnNmb3JtPSJ0cmFuc2xhdGUoMTU1LjA0NTI5NiwgNTYuODM3MTA0KSI+CiAgICAgIDxnIHRyYW5zZm9ybT0idHJhbnNsYXRlKDEuNTYyNDUzLCAxLjc5OTg0MikiPgogICAgICAgIDxwYXRoIGQ9Ik0tMzEyLDE0OGMwLDIxLDAsMzkuNSwxLjcsNTUuNGgtMzEuOGwtMi4xLTMzLjNoLTAuOGMtNi43LDExLjYtMTYuNCwyMS4zLTI4LDI3LjkgYy0xMS42LDYuNi0yNC44LDEwLTM4LjIsOS44Yy0zMS40LDAtNjktMTcuNy02OS04OVYwaDM2LjR2MTEyLjdjMCwzOC43LDExLjYsNjQuNyw0NC42LDY0LjdjMTAuMy0wLjIsMjAuNC0zLjUsMjguOS05LjQgYzguNS01LjksMTUuMS0xNC4zLDE4LjktMjMuOWMyLjItNi4xLDMuMy0xMi41LDMuMy0xOC45VjAuMmgzNi40VjE0OEgtMzEyTC0zMTIsMTQ4eiIvPgogICAgICA8L2c+CiAgICA8L2c+CiAgICA8ZyB0cmFuc2Zvcm09InRyYW5zbGF0ZSgzOTAuMDEzMzIyLCA1My40Nzk2MzgpIj4KICAgICAgPGcgdHJhbnNmb3JtPSJ0cmFuc2xhdGUoMS43MDY0NTgsIDAuMjMxNDI1KSI+CiAgICAgICAgPHBhdGggZD0iTS00NzguNiw3MS40YzAtMjYtMC44LTQ3LTEuNy02Ni43aDMyLjdsMS43LDM0LjhoMC44YzcuMS0xMi41LDE3LjUtMjIuOCwzMC4xLTI5LjcgYzEyLjUtNywyNi43LTEwLjMsNDEtOS44YzQ4LjMsMCw4NC43LDQxLjcsODQuNywxMDMuM2MwLDczLjEtNDMuNywxMDkuMi05MSwxMDkuMmMtMTIuMSwwLjUtMjQuMi0yLjItMzUtNy44IGMtMTAuOC01LjYtMTkuOS0xMy45LTI2LjYtMjQuMmgtMC44VjI5MWgtMzZ2LTIyMEwtNDc4LjYsNzEuNEwtNDc4LjYsNzEuNHogTS00NDIuNiwxMjUuNmMwLjEsNS4xLDAuNiwxMC4xLDEuNywxNS4xIGMzLDEyLjMsOS45LDIzLjMsMTkuOCwzMS4xYzkuOSw3LjgsMjIuMSwxMi4xLDM0LjcsMTIuMWMzOC41LDAsNjAuNy0zMS45LDYwLjctNzguNWMwLTQwLjctMjEuMS03NS42LTU5LjUtNzUuNiBjLTEyLjksMC40LTI1LjMsNS4xLTM1LjMsMTMuNGMtOS45LDguMy0xNi45LDE5LjctMTkuNiwzMi40Yy0xLjUsNC45LTIuMywxMC0yLjUsMTUuMVYxMjUuNkwtNDQyLjYsMTI1LjZMLTQ0Mi42LDEyNS42eiIvPgogICAgICA8L2c+CiAgICA8L2c+CiAgICA8ZyB0cmFuc2Zvcm09InRyYW5zbGF0ZSg2MDYuNzQwNzI2LCA1Ni44MzcxMDQpIj4KICAgICAgPGcgdHJhbnNmb3JtPSJ0cmFuc2xhdGUoMC43NTEyMjYsIDEuOTg5Mjk5KSI+CiAgICAgICAgPHBhdGggZD0iTS00NDAuOCwwbDQzLjcsMTIwLjFjNC41LDEzLjQsOS41LDI5LjQsMTIuOCw0MS43aDAuOGMzLjctMTIuMiw3LjktMjcuNywxMi44LTQyLjQgbDM5LjctMTE5LjJoMzguNUwtMzQ2LjksMTQ1Yy0yNiw2OS43LTQzLjcsMTA1LjQtNjguNiwxMjcuMmMtMTIuNSwxMS43LTI3LjksMjAtNDQuNiwyMy45bC05LjEtMzEuMSBjMTEuNy0zLjksMjIuNS0xMC4xLDMxLjgtMTguMWMxMy4yLTExLjEsMjMuNy0yNS4yLDMwLjYtNDEuMmMxLjUtMi44LDIuNS01LjcsMi45LTguOGMtMC4zLTMuMy0xLjItNi42LTIuNS05LjdMLTQ4MC4yLDAuMSBoMzkuN0wtNDQwLjgsMEwtNDQwLjgsMHoiLz4KICAgICAgPC9nPgogICAgPC9nPgogICAgPGcgdHJhbnNmb3JtPSJ0cmFuc2xhdGUoODIyLjc0ODEwNCwgMC4wMDAwMDApIj4KICAgICAgPGcgdHJhbnNmb3JtPSJ0cmFuc2xhdGUoMS40NjQwNTAsIDAuMzc4OTE0KSI+CiAgICAgICAgPHBhdGggZD0iTS00MTMuNywwdjU4LjNoNTJ2MjguMmgtNTJWMTk2YzAsMjUsNywzOS41LDI3LjMsMzkuNWM3LjEsMC4xLDE0LjItMC43LDIxLjEtMi41IGwxLjcsMjcuN2MtMTAuMywzLjctMjEuMyw1LjQtMzIuMiw1Yy03LjMsMC40LTE0LjYtMC43LTIxLjMtMy40Yy02LjgtMi43LTEyLjktNi44LTE3LjktMTIuMWMtMTAuMy0xMC45LTE0LjEtMjktMTQuMS01Mi45IFY4Ni41aC0zMVY1OC4zaDMxVjkuNkwtNDEzLjcsMEwtNDEzLjcsMHoiLz4KICAgICAgPC9nPgogICAgPC9nPgogICAgPGcgdHJhbnNmb3JtPSJ0cmFuc2xhdGUoOTc0LjQzMzI4NiwgNTMuNDc5NjM4KSI+CiAgICAgIDxnIHRyYW5zZm9ybT0idHJhbnNsYXRlKDAuOTkwMDM0LCAwLjYxMDMzOSkiPgogICAgICAgIDxwYXRoIGQ9Ik0tNDQ1LjgsMTEzYzAuOCw1MCwzMi4yLDcwLjYsNjguNiw3MC42YzE5LDAuNiwzNy45LTMsNTUuMy0xMC41bDYuMiwyNi40IGMtMjAuOSw4LjktNDMuNSwxMy4xLTY2LjIsMTIuNmMtNjEuNSwwLTk4LjMtNDEuMi05OC4zLTEwMi41Qy00ODAuMiw0OC4yLTQ0NC43LDAtMzg2LjUsMGM2NS4yLDAsODIuNyw1OC4zLDgyLjcsOTUuNyBjLTAuMSw1LjgtMC41LDExLjUtMS4yLDE3LjJoLTE0MC42SC00NDUuOEwtNDQ1LjgsMTEzeiBNLTMzOS4yLDg2LjZjMC40LTIzLjUtOS41LTYwLjEtNTAuNC02MC4xIGMtMzYuOCwwLTUyLjgsMzQuNC01NS43LDYwLjFILTMzOS4yTC0zMzkuMiw4Ni42TC0zMzkuMiw4Ni42eiIvPgogICAgICA8L2c+CiAgICA8L2c+CiAgICA8ZyB0cmFuc2Zvcm09InRyYW5zbGF0ZSgxMjAxLjk2MTA1OCwgNTMuNDc5NjM4KSI+CiAgICAgIDxnIHRyYW5zZm9ybT0idHJhbnNsYXRlKDEuMTc5NjQwLCAwLjcwNTA2OCkiPgogICAgICAgIDxwYXRoIGQ9Ik0tNDc4LjYsNjhjMC0yMy45LTAuNC00NC41LTEuNy02My40aDMxLjhsMS4yLDM5LjloMS43YzkuMS0yNy4zLDMxLTQ0LjUsNTUuMy00NC41IGMzLjUtMC4xLDcsMC40LDEwLjMsMS4ydjM0LjhjLTQuMS0wLjktOC4yLTEuMy0xMi40LTEuMmMtMjUuNiwwLTQzLjcsMTkuNy00OC43LDQ3LjRjLTEsNS43LTEuNiwxMS41LTEuNywxNy4ydjEwOC4zaC0zNlY2OCBMLTQ3OC42LDY4eiIvPgogICAgICA8L2c+CiAgICA8L2c+CiAgPC9nPgoKICA8ZyBjbGFzcz0ianAtaWNvbi13YXJuMCIgZmlsbD0iI0YzNzcyNiI+CiAgICA8cGF0aCBkPSJNMTM1Mi4zLDMyNi4yaDM3VjI4aC0zN1YzMjYuMnogTTE2MDQuOCwzMjYuMmMtMi41LTEzLjktMy40LTMxLjEtMy40LTQ4Ljd2LTc2IGMwLTQwLjctMTUuMS04My4xLTc3LjMtODMuMWMtMjUuNiwwLTUwLDcuMS02Ni44LDE4LjFsOC40LDI0LjRjMTQuMy05LjIsMzQtMTUuMSw1My0xNS4xYzQxLjYsMCw0Ni4yLDMwLjIsNDYuMiw0N3Y0LjIgYy03OC42LTAuNC0xMjIuMywyNi41LTEyMi4zLDc1LjZjMCwyOS40LDIxLDU4LjQsNjIuMiw1OC40YzI5LDAsNTAuOS0xNC4zLDYyLjItMzAuMmgxLjNsMi45LDI1LjZIMTYwNC44eiBNMTU2NS43LDI1Ny43IGMwLDMuOC0wLjgsOC0yLjEsMTEuOGMtNS45LDE3LjItMjIuNywzNC00OS4yLDM0Yy0xOC45LDAtMzQuOS0xMS4zLTM0LjktMzUuM2MwLTM5LjUsNDUuOC00Ni42LDg2LjItNDUuOFYyNTcuN3ogTTE2OTguNSwzMjYuMiBsMS43LTMzLjZoMS4zYzE1LjEsMjYuOSwzOC43LDM4LjIsNjguMSwzOC4yYzQ1LjQsMCw5MS4yLTM2LjEsOTEuMi0xMDguOGMwLjQtNjEuNy0zNS4zLTEwMy43LTg1LjctMTAzLjcgYy0zMi44LDAtNTYuMywxNC43LTY5LjMsMzcuNGgtMC44VjI4aC0zNi42djI0NS43YzAsMTguMS0wLjgsMzguNi0xLjcsNTIuNUgxNjk4LjV6IE0xNzA0LjgsMjA4LjJjMC01LjksMS4zLTEwLjksMi4xLTE1LjEgYzcuNi0yOC4xLDMxLjEtNDUuNCw1Ni4zLTQ1LjRjMzkuNSwwLDYwLjUsMzQuOSw2MC41LDc1LjZjMCw0Ni42LTIzLjEsNzguMS02MS44LDc4LjFjLTI2LjksMC00OC4zLTE3LjYtNTUuNS00My4zIGMtMC44LTQuMi0xLjctOC44LTEuNy0xMy40VjIwOC4yeiIvPgogIDwvZz4KPC9zdmc+Cg==);
  --jp-icon-kernel: url(data:image/svg+xml;base64,PHN2ZyB4bWxucz0iaHR0cDovL3d3dy53My5vcmcvMjAwMC9zdmciIHdpZHRoPSIxNiIgdmlld0JveD0iMCAwIDI0IDI0Ij4KICAgIDxwYXRoIGNsYXNzPSJqcC1pY29uMiIgZmlsbD0iIzYxNjE2MSIgZD0iTTE1IDlIOXY2aDZWOXptLTIgNGgtMnYtMmgydjJ6bTgtMlY5aC0yVjdjMC0xLjEtLjktMi0yLTJoLTJWM2gtMnYyaC0yVjNIOXYySDdjLTEuMSAwLTIgLjktMiAydjJIM3YyaDJ2MkgzdjJoMnYyYzAgMS4xLjkgMiAyIDJoMnYyaDJ2LTJoMnYyaDJ2LTJoMmMxLjEgMCAyLS45IDItMnYtMmgydi0yaC0ydi0yaDJ6bS00IDZIN1Y3aDEwdjEweiIvPgo8L3N2Zz4K);
  --jp-icon-keyboard: url(data:image/svg+xml;base64,PHN2ZyB4bWxucz0iaHR0cDovL3d3dy53My5vcmcvMjAwMC9zdmciIHdpZHRoPSIxNiIgdmlld0JveD0iMCAwIDI0IDI0Ij4KICA8cGF0aCBjbGFzcz0ianAtaWNvbjMganAtaWNvbi1zZWxlY3RhYmxlIiBmaWxsPSIjNjE2MTYxIiBkPSJNMjAgNUg0Yy0xLjEgMC0xLjk5LjktMS45OSAyTDIgMTdjMCAxLjEuOSAyIDIgMmgxNmMxLjEgMCAyLS45IDItMlY3YzAtMS4xLS45LTItMi0yem0tOSAzaDJ2MmgtMlY4em0wIDNoMnYyaC0ydi0yek04IDhoMnYySDhWOHptMCAzaDJ2Mkg4di0yem0tMSAySDV2LTJoMnYyem0wLTNINVY4aDJ2MnptOSA3SDh2LTJoOHYyem0wLTRoLTJ2LTJoMnYyem0wLTNoLTJWOGgydjJ6bTMgM2gtMnYtMmgydjJ6bTAtM2gtMlY4aDJ2MnoiLz4KPC9zdmc+Cg==);
  --jp-icon-launch: url(data:image/svg+xml;base64,PHN2ZyB2aWV3Qm94PSIwIDAgMzIgMzIiIHdpZHRoPSIzMiIgeG1sbnM9Imh0dHA6Ly93d3cudzMub3JnLzIwMDAvc3ZnIj4KICA8ZyBjbGFzcz0ianAtaWNvbjMganAtaWNvbi1zZWxlY3RhYmxlIiBmaWxsPSIjNjE2MTYxIj4KICAgIDxwYXRoIGQ9Ik0yNiwyOEg2YTIuMDAyNywyLjAwMjcsMCwwLDEtMi0yVjZBMi4wMDI3LDIuMDAyNywwLDAsMSw2LDRIMTZWNkg2VjI2SDI2VjE2aDJWMjZBMi4wMDI3LDIuMDAyNywwLDAsMSwyNiwyOFoiLz4KICAgIDxwb2x5Z29uIHBvaW50cz0iMjAgMiAyMCA0IDI2LjU4NiA0IDE4IDEyLjU4NiAxOS40MTQgMTQgMjggNS40MTQgMjggMTIgMzAgMTIgMzAgMiAyMCAyIi8+CiAgPC9nPgo8L3N2Zz4K);
  --jp-icon-launcher: url(data:image/svg+xml;base64,PHN2ZyB4bWxucz0iaHR0cDovL3d3dy53My5vcmcvMjAwMC9zdmciIHdpZHRoPSIxNiIgdmlld0JveD0iMCAwIDI0IDI0Ij4KICA8cGF0aCBjbGFzcz0ianAtaWNvbjMganAtaWNvbi1zZWxlY3RhYmxlIiBmaWxsPSIjNjE2MTYxIiBkPSJNMTkgMTlINVY1aDdWM0g1YTIgMiAwIDAwLTIgMnYxNGEyIDIgMCAwMDIgMmgxNGMxLjEgMCAyLS45IDItMnYtN2gtMnY3ek0xNCAzdjJoMy41OWwtOS44MyA5LjgzIDEuNDEgMS40MUwxOSA2LjQxVjEwaDJWM2gtN3oiLz4KPC9zdmc+Cg==);
  --jp-icon-line-form: url(data:image/svg+xml;base64,PHN2ZyB4bWxucz0iaHR0cDovL3d3dy53My5vcmcvMjAwMC9zdmciIHdpZHRoPSIxNiIgdmlld0JveD0iMCAwIDI0IDI0Ij4KICAgIDxwYXRoIGZpbGw9IndoaXRlIiBkPSJNNS44OCA0LjEyTDEzLjc2IDEybC03Ljg4IDcuODhMOCAyMmwxMC0xMEw4IDJ6Ii8+Cjwvc3ZnPgo=);
  --jp-icon-link: url(data:image/svg+xml;base64,PHN2ZyB2aWV3Qm94PSIwIDAgMjQgMjQiIHdpZHRoPSIxNiIgeG1sbnM9Imh0dHA6Ly93d3cudzMub3JnLzIwMDAvc3ZnIj4KICA8ZyBjbGFzcz0ianAtaWNvbjMiIGZpbGw9IiM2MTYxNjEiPgogICAgPHBhdGggZD0iTTMuOSAxMmMwLTEuNzEgMS4zOS0zLjEgMy4xLTMuMWg0VjdIN2MtMi43NiAwLTUgMi4yNC01IDVzMi4yNCA1IDUgNWg0di0xLjlIN2MtMS43MSAwLTMuMS0xLjM5LTMuMS0zLjF6TTggMTNoOHYtMkg4djJ6bTktNmgtNHYxLjloNGMxLjcxIDAgMy4xIDEuMzkgMy4xIDMuMXMtMS4zOSAzLjEtMy4xIDMuMWgtNFYxN2g0YzIuNzYgMCA1LTIuMjQgNS01cy0yLjI0LTUtNS01eiIvPgogIDwvZz4KPC9zdmc+Cg==);
  --jp-icon-list: url(data:image/svg+xml;base64,PHN2ZyB4bWxucz0iaHR0cDovL3d3dy53My5vcmcvMjAwMC9zdmciIHdpZHRoPSIxNiIgdmlld0JveD0iMCAwIDI0IDI0Ij4KICAgIDxwYXRoIGNsYXNzPSJqcC1pY29uMiBqcC1pY29uLXNlbGVjdGFibGUiIGZpbGw9IiM2MTYxNjEiIGQ9Ik0xOSA1djE0SDVWNWgxNG0xLjEtMkgzLjljLS41IDAtLjkuNC0uOS45djE2LjJjMCAuNC40LjkuOS45aDE2LjJjLjQgMCAuOS0uNS45LS45VjMuOWMwLS41LS41LS45LS45LS45ek0xMSA3aDZ2MmgtNlY3em0wIDRoNnYyaC02di0yem0wIDRoNnYyaC02ek03IDdoMnYySDd6bTAgNGgydjJIN3ptMCA0aDJ2Mkg3eiIvPgo8L3N2Zz4K);
  --jp-icon-markdown: url(data:image/svg+xml;base64,PHN2ZyB4bWxucz0iaHR0cDovL3d3dy53My5vcmcvMjAwMC9zdmciIHdpZHRoPSIxNiIgdmlld0JveD0iMCAwIDIyIDIyIj4KICA8cGF0aCBjbGFzcz0ianAtaWNvbi1jb250cmFzdDAganAtaWNvbi1zZWxlY3RhYmxlIiBmaWxsPSIjN0IxRkEyIiBkPSJNNSAxNC45aDEybC02LjEgNnptOS40LTYuOGMwLTEuMy0uMS0yLjktLjEtNC41LS40IDEuNC0uOSAyLjktMS4zIDQuM2wtMS4zIDQuM2gtMkw4LjUgNy45Yy0uNC0xLjMtLjctMi45LTEtNC4zLS4xIDEuNi0uMSAzLjItLjIgNC42TDcgMTIuNEg0LjhsLjctMTFoMy4zTDEwIDVjLjQgMS4yLjcgMi43IDEgMy45LjMtMS4yLjctMi42IDEtMy45bDEuMi0zLjdoMy4zbC42IDExaC0yLjRsLS4zLTQuMnoiLz4KPC9zdmc+Cg==);
  --jp-icon-move-down: url(data:image/svg+xml;base64,PHN2ZyB3aWR0aD0iMTQiIGhlaWdodD0iMTQiIHZpZXdCb3g9IjAgMCAxNCAxNCIgZmlsbD0ibm9uZSIgeG1sbnM9Imh0dHA6Ly93d3cudzMub3JnLzIwMDAvc3ZnIj4KPHBhdGggY2xhc3M9ImpwLWljb24zIiBkPSJNMTIuNDcxIDcuNTI4OTlDMTIuNzYzMiA3LjIzNjg0IDEyLjc2MzIgNi43NjMxNiAxMi40NzEgNi40NzEwMVY2LjQ3MTAxQzEyLjE3OSA2LjE3OTA1IDExLjcwNTcgNi4xNzg4NCAxMS40MTM1IDYuNDcwNTRMNy43NSAxMC4xMjc1VjEuNzVDNy43NSAxLjMzNTc5IDcuNDE0MjEgMSA3IDFWMUM2LjU4NTc5IDEgNi4yNSAxLjMzNTc5IDYuMjUgMS43NVYxMC4xMjc1TDIuNTk3MjYgNi40NjgyMkMyLjMwMzM4IDYuMTczODEgMS44MjY0MSA2LjE3MzU5IDEuNTMyMjYgNi40Njc3NFY2LjQ2Nzc0QzEuMjM4MyA2Ljc2MTcgMS4yMzgzIDcuMjM4MyAxLjUzMjI2IDcuNTMyMjZMNi4yOTI4OSAxMi4yOTI5QzYuNjgzNDIgMTIuNjgzNCA3LjMxNjU4IDEyLjY4MzQgNy43MDcxMSAxMi4yOTI5TDEyLjQ3MSA3LjUyODk5WiIgZmlsbD0iIzYxNjE2MSIvPgo8L3N2Zz4K);
  --jp-icon-move-up: url(data:image/svg+xml;base64,PHN2ZyB3aWR0aD0iMTQiIGhlaWdodD0iMTQiIHZpZXdCb3g9IjAgMCAxNCAxNCIgZmlsbD0ibm9uZSIgeG1sbnM9Imh0dHA6Ly93d3cudzMub3JnLzIwMDAvc3ZnIj4KPHBhdGggY2xhc3M9ImpwLWljb24zIiBkPSJNMS41Mjg5OSA2LjQ3MTAxQzEuMjM2ODQgNi43NjMxNiAxLjIzNjg0IDcuMjM2ODQgMS41Mjg5OSA3LjUyODk5VjcuNTI4OTlDMS44MjA5NSA3LjgyMDk1IDIuMjk0MjYgNy44MjExNiAyLjU4NjQ5IDcuNTI5NDZMNi4yNSAzLjg3MjVWMTIuMjVDNi4yNSAxMi42NjQyIDYuNTg1NzkgMTMgNyAxM1YxM0M3LjQxNDIxIDEzIDcuNzUgMTIuNjY0MiA3Ljc1IDEyLjI1VjMuODcyNUwxMS40MDI3IDcuNTMxNzhDMTEuNjk2NiA3LjgyNjE5IDEyLjE3MzYgNy44MjY0MSAxMi40Njc3IDcuNTMyMjZWNy41MzIyNkMxMi43NjE3IDcuMjM4MyAxMi43NjE3IDYuNzYxNyAxMi40Njc3IDYuNDY3NzRMNy43MDcxMSAxLjcwNzExQzcuMzE2NTggMS4zMTY1OCA2LjY4MzQyIDEuMzE2NTggNi4yOTI4OSAxLjcwNzExTDEuNTI4OTkgNi40NzEwMVoiIGZpbGw9IiM2MTYxNjEiLz4KPC9zdmc+Cg==);
  --jp-icon-new-folder: url(data:image/svg+xml;base64,PHN2ZyB4bWxucz0iaHR0cDovL3d3dy53My5vcmcvMjAwMC9zdmciIHdpZHRoPSIxNiIgdmlld0JveD0iMCAwIDI0IDI0Ij4KICA8ZyBjbGFzcz0ianAtaWNvbjMiIGZpbGw9IiM2MTYxNjEiPgogICAgPHBhdGggZD0iTTIwIDZoLThsLTItMkg0Yy0xLjExIDAtMS45OS44OS0xLjk5IDJMMiAxOGMwIDEuMTEuODkgMiAyIDJoMTZjMS4xMSAwIDItLjg5IDItMlY4YzAtMS4xMS0uODktMi0yLTJ6bS0xIDhoLTN2M2gtMnYtM2gtM3YtMmgzVjloMnYzaDN2MnoiLz4KICA8L2c+Cjwvc3ZnPgo=);
  --jp-icon-not-trusted: url(data:image/svg+xml;base64,PHN2ZyBmaWxsPSJub25lIiB4bWxucz0iaHR0cDovL3d3dy53My5vcmcvMjAwMC9zdmciIHdpZHRoPSIxNiIgdmlld0JveD0iMCAwIDI1IDI1Ij4KICAgIDxwYXRoIGNsYXNzPSJqcC1pY29uMiIgc3Ryb2tlPSIjMzMzMzMzIiBzdHJva2Utd2lkdGg9IjIiIHRyYW5zZm9ybT0idHJhbnNsYXRlKDMgMykiIGQ9Ik0xLjg2MDk0IDExLjQ0MDlDMC44MjY0NDggOC43NzAyNyAwLjg2Mzc3OSA2LjA1NzY0IDEuMjQ5MDcgNC4xOTkzMkMyLjQ4MjA2IDMuOTMzNDcgNC4wODA2OCAzLjQwMzQ3IDUuNjAxMDIgMi44NDQ5QzcuMjM1NDkgMi4yNDQ0IDguODU2NjYgMS41ODE1IDkuOTg3NiAxLjA5NTM5QzExLjA1OTcgMS41ODM0MSAxMi42MDk0IDIuMjQ0NCAxNC4yMTggMi44NDMzOUMxNS43NTAzIDMuNDEzOTQgMTcuMzk5NSAzLjk1MjU4IDE4Ljc1MzkgNC4yMTM4NUMxOS4xMzY0IDYuMDcxNzcgMTkuMTcwOSA4Ljc3NzIyIDE4LjEzOSAxMS40NDA5QzE3LjAzMDMgMTQuMzAzMiAxNC42NjY4IDE3LjE4NDQgOS45OTk5OSAxOC45MzU0QzUuMzMzMTkgMTcuMTg0NCAyLjk2OTY4IDE0LjMwMzIgMS44NjA5NCAxMS40NDA5WiIvPgogICAgPHBhdGggY2xhc3M9ImpwLWljb24yIiBzdHJva2U9IiMzMzMzMzMiIHN0cm9rZS13aWR0aD0iMiIgdHJhbnNmb3JtPSJ0cmFuc2xhdGUoOS4zMTU5MiA5LjMyMDMxKSIgZD0iTTcuMzY4NDIgMEwwIDcuMzY0NzkiLz4KICAgIDxwYXRoIGNsYXNzPSJqcC1pY29uMiIgc3Ryb2tlPSIjMzMzMzMzIiBzdHJva2Utd2lkdGg9IjIiIHRyYW5zZm9ybT0idHJhbnNsYXRlKDkuMzE1OTIgMTYuNjgzNikgc2NhbGUoMSAtMSkiIGQ9Ik03LjM2ODQyIDBMMCA3LjM2NDc5Ii8+Cjwvc3ZnPgo=);
  --jp-icon-notebook: url(data:image/svg+xml;base64,PHN2ZyB4bWxucz0iaHR0cDovL3d3dy53My5vcmcvMjAwMC9zdmciIHdpZHRoPSIxNiIgdmlld0JveD0iMCAwIDIyIDIyIj4KICA8ZyBjbGFzcz0ianAtbm90ZWJvb2staWNvbi1jb2xvciBqcC1pY29uLXNlbGVjdGFibGUiIGZpbGw9IiNFRjZDMDAiPgogICAgPHBhdGggZD0iTTE4LjcgMy4zdjE1LjRIMy4zVjMuM2gxNS40bTEuNS0xLjVIMS44djE4LjNoMTguM2wuMS0xOC4zeiIvPgogICAgPHBhdGggZD0iTTE2LjUgMTYuNWwtNS40LTQuMy01LjYgNC4zdi0xMWgxMXoiLz4KICA8L2c+Cjwvc3ZnPgo=);
  --jp-icon-numbering: url(data:image/svg+xml;base64,PHN2ZyB3aWR0aD0iMjIiIGhlaWdodD0iMjIiIHZpZXdCb3g9IjAgMCAyOCAyOCIgeG1sbnM9Imh0dHA6Ly93d3cudzMub3JnLzIwMDAvc3ZnIj4KCTxnIGNsYXNzPSJqcC1pY29uMyIgZmlsbD0iIzYxNjE2MSI+CgkJPHBhdGggZD0iTTQgMTlINlYxOS41SDVWMjAuNUg2VjIxSDRWMjJIN1YxOEg0VjE5Wk01IDEwSDZWNkg0VjdINVYxMFpNNCAxM0g1LjhMNCAxNS4xVjE2SDdWMTVINS4yTDcgMTIuOVYxMkg0VjEzWk05IDdWOUgyM1Y3SDlaTTkgMjFIMjNWMTlIOVYyMVpNOSAxNUgyM1YxM0g5VjE1WiIvPgoJPC9nPgo8L3N2Zz4K);
  --jp-icon-offline-bolt: url(data:image/svg+xml;base64,PHN2ZyB4bWxucz0iaHR0cDovL3d3dy53My5vcmcvMjAwMC9zdmciIHZpZXdCb3g9IjAgMCAyNCAyNCIgd2lkdGg9IjE2Ij4KICA8ZyBjbGFzcz0ianAtaWNvbjMiIGZpbGw9IiM2MTYxNjEiPgogICAgPHBhdGggZD0iTTEyIDIuMDJjLTUuNTEgMC05Ljk4IDQuNDctOS45OCA5Ljk4czQuNDcgOS45OCA5Ljk4IDkuOTggOS45OC00LjQ3IDkuOTgtOS45OFMxNy41MSAyLjAyIDEyIDIuMDJ6TTExLjQ4IDIwdi02LjI2SDhMMTMgNHY2LjI2aDMuMzVMMTEuNDggMjB6Ii8+CiAgPC9nPgo8L3N2Zz4K);
  --jp-icon-palette: url(data:image/svg+xml;base64,PHN2ZyB4bWxucz0iaHR0cDovL3d3dy53My5vcmcvMjAwMC9zdmciIHdpZHRoPSIxNiIgdmlld0JveD0iMCAwIDI0IDI0Ij4KICA8ZyBjbGFzcz0ianAtaWNvbjMiIGZpbGw9IiM2MTYxNjEiPgogICAgPHBhdGggZD0iTTE4IDEzVjIwSDRWNkg5LjAyQzkuMDcgNS4yOSA5LjI0IDQuNjIgOS41IDRINEMyLjkgNCAyIDQuOSAyIDZWMjBDMiAyMS4xIDIuOSAyMiA0IDIySDE4QzE5LjEgMjIgMjAgMjEuMSAyMCAyMFYxNUwxOCAxM1pNMTkuMyA4Ljg5QzE5Ljc0IDguMTkgMjAgNy4zOCAyMCA2LjVDMjAgNC4wMSAxNy45OSAyIDE1LjUgMkMxMy4wMSAyIDExIDQuMDEgMTEgNi41QzExIDguOTkgMTMuMDEgMTEgMTUuNDkgMTFDMTYuMzcgMTEgMTcuMTkgMTAuNzQgMTcuODggMTAuM0wyMSAxMy40MkwyMi40MiAxMkwxOS4zIDguODlaTTE1LjUgOUMxNC4xMiA5IDEzIDcuODggMTMgNi41QzEzIDUuMTIgMTQuMTIgNCAxNS41IDRDMTYuODggNCAxOCA1LjEyIDE4IDYuNUMxOCA3Ljg4IDE2Ljg4IDkgMTUuNSA5WiIvPgogICAgPHBhdGggZmlsbC1ydWxlPSJldmVub2RkIiBjbGlwLXJ1bGU9ImV2ZW5vZGQiIGQ9Ik00IDZIOS4wMTg5NEM5LjAwNjM5IDYuMTY1MDIgOSA2LjMzMTc2IDkgNi41QzkgOC44MTU3NyAxMC4yMTEgMTAuODQ4NyAxMi4wMzQzIDEySDlWMTRIMTZWMTIuOTgxMUMxNi41NzAzIDEyLjkzNzcgMTcuMTIgMTIuODIwNyAxNy42Mzk2IDEyLjYzOTZMMTggMTNWMjBINFY2Wk04IDhINlYxMEg4VjhaTTYgMTJIOFYxNEg2VjEyWk04IDE2SDZWMThIOFYxNlpNOSAxNkgxNlYxOEg5VjE2WiIvPgogIDwvZz4KPC9zdmc+Cg==);
  --jp-icon-paste: url(data:image/svg+xml;base64,PHN2ZyBoZWlnaHQ9IjI0IiB2aWV3Qm94PSIwIDAgMjQgMjQiIHdpZHRoPSIyNCIgeG1sbnM9Imh0dHA6Ly93d3cudzMub3JnLzIwMDAvc3ZnIj4KICAgIDxnIGNsYXNzPSJqcC1pY29uMyIgZmlsbD0iIzYxNjE2MSI+CiAgICAgICAgPHBhdGggZD0iTTE5IDJoLTQuMThDMTQuNC44NCAxMy4zIDAgMTIgMGMtMS4zIDAtMi40Ljg0LTIuODIgMkg1Yy0xLjEgMC0yIC45LTIgMnYxNmMwIDEuMS45IDIgMiAyaDE0YzEuMSAwIDItLjkgMi0yVjRjMC0xLjEtLjktMi0yLTJ6bS03IDBjLjU1IDAgMSAuNDUgMSAxcy0uNDUgMS0xIDEtMS0uNDUtMS0xIC40NS0xIDEtMXptNyAxOEg1VjRoMnYzaDEwVjRoMnYxNnoiLz4KICAgIDwvZz4KPC9zdmc+Cg==);
  --jp-icon-pdf: url(data:image/svg+xml;base64,PHN2ZwogICB4bWxucz0iaHR0cDovL3d3dy53My5vcmcvMjAwMC9zdmciIHZpZXdCb3g9IjAgMCAyMiAyMiIgd2lkdGg9IjE2Ij4KICAgIDxwYXRoIHRyYW5zZm9ybT0icm90YXRlKDQ1KSIgY2xhc3M9ImpwLWljb24tc2VsZWN0YWJsZSIgZmlsbD0iI0ZGMkEyQSIKICAgICAgIGQ9Im0gMjIuMzQ0MzY5LC0zLjAxNjM2NDIgaCA1LjYzODYwNCB2IDEuNTc5MjQzMyBoIC0zLjU0OTIyNyB2IDEuNTA4NjkyOTkgaCAzLjMzNzU3NiBWIDEuNjUwODE1NCBoIC0zLjMzNzU3NiB2IDMuNDM1MjYxMyBoIC0yLjA4OTM3NyB6IG0gLTcuMTM2NDQ0LDEuNTc5MjQzMyB2IDQuOTQzOTU0MyBoIDAuNzQ4OTIgcSAxLjI4MDc2MSwwIDEuOTUzNzAzLC0wLjYzNDk1MzUgMC42NzgzNjksLTAuNjM0OTUzNSAwLjY3ODM2OSwtMS44NDUxNjQxIDAsLTEuMjA0NzgzNTUgLTAuNjcyOTQyLC0xLjgzNDMxMDExIC0wLjY3Mjk0MiwtMC42Mjk1MjY1OSAtMS45NTkxMywtMC42Mjk1MjY1OSB6IG0gLTIuMDg5Mzc3LC0xLjU3OTI0MzMgaCAyLjIwMzM0MyBxIDEuODQ1MTY0LDAgMi43NDYwMzksMC4yNjU5MjA3IDAuOTA2MzAxLDAuMjYwNDkzNyAxLjU1MjEwOCwwLjg5MDAyMDMgMC41Njk4MywwLjU0ODEyMjMgMC44NDY2MDUsMS4yNjQ0ODAwNiAwLjI3Njc3NCwwLjcxNjM1NzgxIDAuMjc2Nzc0LDEuNjIyNjU4OTQgMCwwLjkxNzE1NTEgLTAuMjc2Nzc0LDEuNjM4OTM5OSAtMC4yNzY3NzUsMC43MTYzNTc4IC0wLjg0NjYwNSwxLjI2NDQ4IC0wLjY1MTIzNCwwLjYyOTUyNjYgLTEuNTYyOTYyLDAuODk1NDQ3MyAtMC45MTE3MjgsMC4yNjA0OTM3IC0yLjczNTE4NSwwLjI2MDQ5MzcgaCAtMi4yMDMzNDMgeiBtIC04LjE0NTg1NjUsMCBoIDMuNDY3ODIzIHEgMS41NDY2ODE2LDAgMi4zNzE1Nzg1LDAuNjg5MjIzIDAuODMwMzI0LDAuNjgzNzk2MSAwLjgzMDMyNCwxLjk1MzcwMzE0IDAsMS4yNzUzMzM5NyAtMC44MzAzMjQsMS45NjQ1NTcwNiBRIDkuOTg3MTk2MSwyLjI3NDkxNSA4LjQ0MDUxNDUsMi4yNzQ5MTUgSCA3LjA2MjA2ODQgViA1LjA4NjA3NjcgSCA0Ljk3MjY5MTUgWiBtIDIuMDg5Mzc2OSwxLjUxNDExOTkgdiAyLjI2MzAzOTQzIGggMS4xNTU5NDEgcSAwLjYwNzgxODgsMCAwLjkzODg2MjksLTAuMjkzMDU1NDcgMC4zMzEwNDQxLC0wLjI5ODQ4MjQxIDAuMzMxMDQ0MSwtMC44NDExNzc3MiAwLC0wLjU0MjY5NTMxIC0wLjMzMTA0NDEsLTAuODM1NzUwNzQgLTAuMzMxMDQ0MSwtMC4yOTMwNTU1IC0wLjkzODg2MjksLTAuMjkzMDU1NSB6IgovPgo8L3N2Zz4K);
  --jp-icon-python: url(data:image/svg+xml;base64,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);
  --jp-icon-r-kernel: url(data:image/svg+xml;base64,PHN2ZyB4bWxucz0iaHR0cDovL3d3dy53My5vcmcvMjAwMC9zdmciIHdpZHRoPSIxNiIgdmlld0JveD0iMCAwIDIyIDIyIj4KICA8cGF0aCBjbGFzcz0ianAtaWNvbi1jb250cmFzdDMganAtaWNvbi1zZWxlY3RhYmxlIiBmaWxsPSIjMjE5NkYzIiBkPSJNNC40IDIuNWMxLjItLjEgMi45LS4zIDQuOS0uMyAyLjUgMCA0LjEuNCA1LjIgMS4zIDEgLjcgMS41IDEuOSAxLjUgMy41IDAgMi0xLjQgMy41LTIuOSA0LjEgMS4yLjQgMS43IDEuNiAyLjIgMyAuNiAxLjkgMSAzLjkgMS4zIDQuNmgtMy44Yy0uMy0uNC0uOC0xLjctMS4yLTMuN3MtMS4yLTIuNi0yLjYtMi42aC0uOXY2LjRINC40VjIuNXptMy43IDYuOWgxLjRjMS45IDAgMi45LS45IDIuOS0yLjNzLTEtMi4zLTIuOC0yLjNjLS43IDAtMS4zIDAtMS42LjJ2NC41aC4xdi0uMXoiLz4KPC9zdmc+Cg==);
  --jp-icon-react: url(data:image/svg+xml;base64,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);
  --jp-icon-redo: url(data:image/svg+xml;base64,PHN2ZyB4bWxucz0iaHR0cDovL3d3dy53My5vcmcvMjAwMC9zdmciIGhlaWdodD0iMjQiIHZpZXdCb3g9IjAgMCAyNCAyNCIgd2lkdGg9IjE2Ij4KICA8ZyBjbGFzcz0ianAtaWNvbjMiIGZpbGw9IiM2MTYxNjEiPgogICAgICA8cGF0aCBkPSJNMCAwaDI0djI0SDB6IiBmaWxsPSJub25lIi8+PHBhdGggZD0iTTE4LjQgMTAuNkMxNi41NSA4Ljk5IDE0LjE1IDggMTEuNSA4Yy00LjY1IDAtOC41OCAzLjAzLTkuOTYgNy4yMkwzLjkgMTZjMS4wNS0zLjE5IDQuMDUtNS41IDcuNi01LjUgMS45NSAwIDMuNzMuNzIgNS4xMiAxLjg4TDEzIDE2aDlWN2wtMy42IDMuNnoiLz4KICA8L2c+Cjwvc3ZnPgo=);
  --jp-icon-refresh: url(data:image/svg+xml;base64,PHN2ZyB4bWxucz0iaHR0cDovL3d3dy53My5vcmcvMjAwMC9zdmciIHdpZHRoPSIxNiIgdmlld0JveD0iMCAwIDE4IDE4Ij4KICAgIDxnIGNsYXNzPSJqcC1pY29uMyIgZmlsbD0iIzYxNjE2MSI+CiAgICAgICAgPHBhdGggZD0iTTkgMTMuNWMtMi40OSAwLTQuNS0yLjAxLTQuNS00LjVTNi41MSA0LjUgOSA0LjVjMS4yNCAwIDIuMzYuNTIgMy4xNyAxLjMzTDEwIDhoNVYzbC0xLjc2IDEuNzZDMTIuMTUgMy42OCAxMC42NiAzIDkgMyA1LjY5IDMgMy4wMSA1LjY5IDMuMDEgOVM1LjY5IDE1IDkgMTVjMi45NyAwIDUuNDMtMi4xNiA1LjktNWgtMS41MmMtLjQ2IDItMi4yNCAzLjUtNC4zOCAzLjV6Ii8+CiAgICA8L2c+Cjwvc3ZnPgo=);
  --jp-icon-regex: url(data:image/svg+xml;base64,PHN2ZyB4bWxucz0iaHR0cDovL3d3dy53My5vcmcvMjAwMC9zdmciIHdpZHRoPSIxNiIgdmlld0JveD0iMCAwIDIwIDIwIj4KICA8ZyBjbGFzcz0ianAtaWNvbjIiIGZpbGw9IiM0MTQxNDEiPgogICAgPHJlY3QgeD0iMiIgeT0iMiIgd2lkdGg9IjE2IiBoZWlnaHQ9IjE2Ii8+CiAgPC9nPgoKICA8ZyBjbGFzcz0ianAtaWNvbi1hY2NlbnQyIiBmaWxsPSIjRkZGIj4KICAgIDxjaXJjbGUgY2xhc3M9InN0MiIgY3g9IjUuNSIgY3k9IjE0LjUiIHI9IjEuNSIvPgogICAgPHJlY3QgeD0iMTIiIHk9IjQiIGNsYXNzPSJzdDIiIHdpZHRoPSIxIiBoZWlnaHQ9IjgiLz4KICAgIDxyZWN0IHg9IjguNSIgeT0iNy41IiB0cmFuc2Zvcm09Im1hdHJpeCgwLjg2NiAtMC41IDAuNSAwLjg2NiAtMi4zMjU1IDcuMzIxOSkiIGNsYXNzPSJzdDIiIHdpZHRoPSI4IiBoZWlnaHQ9IjEiLz4KICAgIDxyZWN0IHg9IjEyIiB5PSI0IiB0cmFuc2Zvcm09Im1hdHJpeCgwLjUgLTAuODY2IDAuODY2IDAuNSAtMC42Nzc5IDE0LjgyNTIpIiBjbGFzcz0ic3QyIiB3aWR0aD0iMSIgaGVpZ2h0PSI4Ii8+CiAgPC9nPgo8L3N2Zz4K);
  --jp-icon-run: url(data:image/svg+xml;base64,PHN2ZyBoZWlnaHQ9IjI0IiB2aWV3Qm94PSIwIDAgMjQgMjQiIHdpZHRoPSIyNCIgeG1sbnM9Imh0dHA6Ly93d3cudzMub3JnLzIwMDAvc3ZnIj4KICAgIDxnIGNsYXNzPSJqcC1pY29uMyIgZmlsbD0iIzYxNjE2MSI+CiAgICAgICAgPHBhdGggZD0iTTggNXYxNGwxMS03eiIvPgogICAgPC9nPgo8L3N2Zz4K);
  --jp-icon-running: url(data:image/svg+xml;base64,PHN2ZyB4bWxucz0iaHR0cDovL3d3dy53My5vcmcvMjAwMC9zdmciIHdpZHRoPSIxNiIgdmlld0JveD0iMCAwIDUxMiA1MTIiPgogIDxnIGNsYXNzPSJqcC1pY29uMyIgZmlsbD0iIzYxNjE2MSI+CiAgICA8cGF0aCBkPSJNMjU2IDhDMTE5IDggOCAxMTkgOCAyNTZzMTExIDI0OCAyNDggMjQ4IDI0OC0xMTEgMjQ4LTI0OFMzOTMgOCAyNTYgOHptOTYgMzI4YzAgOC44LTcuMiAxNi0xNiAxNkgxNzZjLTguOCAwLTE2LTcuMi0xNi0xNlYxNzZjMC04LjggNy4yLTE2IDE2LTE2aDE2MGM4LjggMCAxNiA3LjIgMTYgMTZ2MTYweiIvPgogIDwvZz4KPC9zdmc+Cg==);
  --jp-icon-save: url(data:image/svg+xml;base64,PHN2ZyBoZWlnaHQ9IjI0IiB2aWV3Qm94PSIwIDAgMjQgMjQiIHdpZHRoPSIyNCIgeG1sbnM9Imh0dHA6Ly93d3cudzMub3JnLzIwMDAvc3ZnIj4KICAgIDxnIGNsYXNzPSJqcC1pY29uMyIgZmlsbD0iIzYxNjE2MSI+CiAgICAgICAgPHBhdGggZD0iTTE3IDNINWMtMS4xMSAwLTIgLjktMiAydjE0YzAgMS4xLjg5IDIgMiAyaDE0YzEuMSAwIDItLjkgMi0yVjdsLTQtNHptLTUgMTZjLTEuNjYgMC0zLTEuMzQtMy0zczEuMzQtMyAzLTMgMyAxLjM0IDMgMy0xLjM0IDMtMyAzem0zLTEwSDVWNWgxMHY0eiIvPgogICAgPC9nPgo8L3N2Zz4K);
  --jp-icon-search: url(data:image/svg+xml;base64,PHN2ZyB2aWV3Qm94PSIwIDAgMTggMTgiIHdpZHRoPSIxNiIgeG1sbnM9Imh0dHA6Ly93d3cudzMub3JnLzIwMDAvc3ZnIj4KICA8ZyBjbGFzcz0ianAtaWNvbjMiIGZpbGw9IiM2MTYxNjEiPgogICAgPHBhdGggZD0iTTEyLjEsMTAuOWgtMC43bC0wLjItMC4yYzAuOC0wLjksMS4zLTIuMiwxLjMtMy41YzAtMy0yLjQtNS40LTUuNC01LjRTMS44LDQuMiwxLjgsNy4xczIuNCw1LjQsNS40LDUuNCBjMS4zLDAsMi41LTAuNSwzLjUtMS4zbDAuMiwwLjJ2MC43bDQuMSw0LjFsMS4yLTEuMkwxMi4xLDEwLjl6IE03LjEsMTAuOWMtMi4xLDAtMy43LTEuNy0zLjctMy43czEuNy0zLjcsMy43LTMuN3MzLjcsMS43LDMuNywzLjcgUzkuMiwxMC45LDcuMSwxMC45eiIvPgogIDwvZz4KPC9zdmc+Cg==);
  --jp-icon-settings: url(data:image/svg+xml;base64,PHN2ZyB4bWxucz0iaHR0cDovL3d3dy53My5vcmcvMjAwMC9zdmciIHdpZHRoPSIxNiIgdmlld0JveD0iMCAwIDI0IDI0Ij4KICA8cGF0aCBjbGFzcz0ianAtaWNvbjMganAtaWNvbi1zZWxlY3RhYmxlIiBmaWxsPSIjNjE2MTYxIiBkPSJNMTkuNDMgMTIuOThjLjA0LS4zMi4wNy0uNjQuMDctLjk4cy0uMDMtLjY2LS4wNy0uOThsMi4xMS0xLjY1Yy4xOS0uMTUuMjQtLjQyLjEyLS42NGwtMi0zLjQ2Yy0uMTItLjIyLS4zOS0uMy0uNjEtLjIybC0yLjQ5IDFjLS41Mi0uNC0xLjA4LS43My0xLjY5LS45OGwtLjM4LTIuNjVBLjQ4OC40ODggMCAwMDE0IDJoLTRjLS4yNSAwLS40Ni4xOC0uNDkuNDJsLS4zOCAyLjY1Yy0uNjEuMjUtMS4xNy41OS0xLjY5Ljk4bC0yLjQ5LTFjLS4yMy0uMDktLjQ5IDAtLjYxLjIybC0yIDMuNDZjLS4xMy4yMi0uMDcuNDkuMTIuNjRsMi4xMSAxLjY1Yy0uMDQuMzItLjA3LjY1LS4wNy45OHMuMDMuNjYuMDcuOThsLTIuMTEgMS42NWMtLjE5LjE1LS4yNC40Mi0uMTIuNjRsMiAzLjQ2Yy4xMi4yMi4zOS4zLjYxLjIybDIuNDktMWMuNTIuNCAxLjA4LjczIDEuNjkuOThsLjM4IDIuNjVjLjAzLjI0LjI0LjQyLjQ5LjQyaDRjLjI1IDAgLjQ2LS4xOC40OS0uNDJsLjM4LTIuNjVjLjYxLS4yNSAxLjE3LS41OSAxLjY5LS45OGwyLjQ5IDFjLjIzLjA5LjQ5IDAgLjYxLS4yMmwyLTMuNDZjLjEyLS4yMi4wNy0uNDktLjEyLS42NGwtMi4xMS0xLjY1ek0xMiAxNS41Yy0xLjkzIDAtMy41LTEuNTctMy41LTMuNXMxLjU3LTMuNSAzLjUtMy41IDMuNSAxLjU3IDMuNSAzLjUtMS41NyAzLjUtMy41IDMuNXoiLz4KPC9zdmc+Cg==);
  --jp-icon-share: url(data:image/svg+xml;base64,PHN2ZyB3aWR0aD0iMTYiIHZpZXdCb3g9IjAgMCAyNCAyNCIgeG1sbnM9Imh0dHA6Ly93d3cudzMub3JnLzIwMDAvc3ZnIj4KICA8ZyBjbGFzcz0ianAtaWNvbjMiIGZpbGw9IiM2MTYxNjEiPgogICAgPHBhdGggZD0iTSAxOCAyIEMgMTYuMzU0OTkgMiAxNSAzLjM1NDk5MDQgMTUgNSBDIDE1IDUuMTkwOTUyOSAxNS4wMjE3OTEgNS4zNzcxMjI0IDE1LjA1NjY0MSA1LjU1ODU5MzggTCA3LjkyMTg3NSA5LjcyMDcwMzEgQyA3LjM5ODUzOTkgOS4yNzc4NTM5IDYuNzMyMDc3MSA5IDYgOSBDIDQuMzU0OTkwNCA5IDMgMTAuMzU0OTkgMyAxMiBDIDMgMTMuNjQ1MDEgNC4zNTQ5OTA0IDE1IDYgMTUgQyA2LjczMjA3NzEgMTUgNy4zOTg1Mzk5IDE0LjcyMjE0NiA3LjkyMTg3NSAxNC4yNzkyOTcgTCAxNS4wNTY2NDEgMTguNDM5NDUzIEMgMTUuMDIxNTU1IDE4LjYyMTUxNCAxNSAxOC44MDgzODYgMTUgMTkgQyAxNSAyMC42NDUwMSAxNi4zNTQ5OSAyMiAxOCAyMiBDIDE5LjY0NTAxIDIyIDIxIDIwLjY0NTAxIDIxIDE5IEMgMjEgMTcuMzU0OTkgMTkuNjQ1MDEgMTYgMTggMTYgQyAxNy4yNjc0OCAxNiAxNi42MDE1OTMgMTYuMjc5MzI4IDE2LjA3ODEyNSAxNi43MjI2NTYgTCA4Ljk0MzM1OTQgMTIuNTU4NTk0IEMgOC45NzgyMDk1IDEyLjM3NzEyMiA5IDEyLjE5MDk1MyA5IDEyIEMgOSAxMS44MDkwNDcgOC45NzgyMDk1IDExLjYyMjg3OCA4Ljk0MzM1OTQgMTEuNDQxNDA2IEwgMTYuMDc4MTI1IDcuMjc5Mjk2OSBDIDE2LjYwMTQ2IDcuNzIyMTQ2MSAxNy4yNjc5MjMgOCAxOCA4IEMgMTkuNjQ1MDEgOCAyMSA2LjY0NTAwOTYgMjEgNSBDIDIxIDMuMzU0OTkwNCAxOS42NDUwMSAyIDE4IDIgeiBNIDE4IDQgQyAxOC41NjQxMjkgNCAxOSA0LjQzNTg3MDYgMTkgNSBDIDE5IDUuNTY0MTI5NCAxOC41NjQxMjkgNiAxOCA2IEMgMTcuNDM1ODcxIDYgMTcgNS41NjQxMjk0IDE3IDUgQyAxNyA0LjQzNTg3MDYgMTcuNDM1ODcxIDQgMTggNCB6IE0gNiAxMSBDIDYuNTY0MTI5NCAxMSA3IDExLjQzNTg3MSA3IDEyIEMgNyAxMi41NjQxMjkgNi41NjQxMjk0IDEzIDYgMTMgQyA1LjQzNTg3MDYgMTMgNSAxMi41NjQxMjkgNSAxMiBDIDUgMTEuNDM1ODcxIDUuNDM1ODcwNiAxMSA2IDExIHogTSAxOCAxOCBDIDE4LjU2NDEyOSAxOCAxOSAxOC40MzU4NzEgMTkgMTkgQyAxOSAxOS41NjQxMjkgMTguNTY0MTI5IDIwIDE4IDIwIEMgMTcuNDM1ODcxIDIwIDE3IDE5LjU2NDEyOSAxNyAxOSBDIDE3IDE4LjQzNTg3MSAxNy40MzU4NzEgMTggMTggMTggeiIvPgogIDwvZz4KPC9zdmc+Cg==);
  --jp-icon-spreadsheet: url(data:image/svg+xml;base64,PHN2ZyB4bWxucz0iaHR0cDovL3d3dy53My5vcmcvMjAwMC9zdmciIHdpZHRoPSIxNiIgdmlld0JveD0iMCAwIDIyIDIyIj4KICA8cGF0aCBjbGFzcz0ianAtaWNvbi1jb250cmFzdDEganAtaWNvbi1zZWxlY3RhYmxlIiBmaWxsPSIjNENBRjUwIiBkPSJNMi4yIDIuMnYxNy42aDE3LjZWMi4ySDIuMnptMTUuNCA3LjdoLTUuNVY0LjRoNS41djUuNXpNOS45IDQuNHY1LjVINC40VjQuNGg1LjV6bS01LjUgNy43aDUuNXY1LjVINC40di01LjV6bTcuNyA1LjV2LTUuNWg1LjV2NS41aC01LjV6Ii8+Cjwvc3ZnPgo=);
  --jp-icon-stop: url(data:image/svg+xml;base64,PHN2ZyBoZWlnaHQ9IjI0IiB2aWV3Qm94PSIwIDAgMjQgMjQiIHdpZHRoPSIyNCIgeG1sbnM9Imh0dHA6Ly93d3cudzMub3JnLzIwMDAvc3ZnIj4KICAgIDxnIGNsYXNzPSJqcC1pY29uMyIgZmlsbD0iIzYxNjE2MSI+CiAgICAgICAgPHBhdGggZD0iTTAgMGgyNHYyNEgweiIgZmlsbD0ibm9uZSIvPgogICAgICAgIDxwYXRoIGQ9Ik02IDZoMTJ2MTJINnoiLz4KICAgIDwvZz4KPC9zdmc+Cg==);
  --jp-icon-tab: url(data:image/svg+xml;base64,PHN2ZyB4bWxucz0iaHR0cDovL3d3dy53My5vcmcvMjAwMC9zdmciIHdpZHRoPSIxNiIgdmlld0JveD0iMCAwIDI0IDI0Ij4KICA8ZyBjbGFzcz0ianAtaWNvbjMiIGZpbGw9IiM2MTYxNjEiPgogICAgPHBhdGggZD0iTTIxIDNIM2MtMS4xIDAtMiAuOS0yIDJ2MTRjMCAxLjEuOSAyIDIgMmgxOGMxLjEgMCAyLS45IDItMlY1YzAtMS4xLS45LTItMi0yem0wIDE2SDNWNWgxMHY0aDh2MTB6Ii8+CiAgPC9nPgo8L3N2Zz4K);
  --jp-icon-table-rows: url(data:image/svg+xml;base64,PHN2ZyBoZWlnaHQ9IjI0IiB2aWV3Qm94PSIwIDAgMjQgMjQiIHdpZHRoPSIyNCIgeG1sbnM9Imh0dHA6Ly93d3cudzMub3JnLzIwMDAvc3ZnIj4KICAgIDxnIGNsYXNzPSJqcC1pY29uMyIgZmlsbD0iIzYxNjE2MSI+CiAgICAgICAgPHBhdGggZD0iTTAgMGgyNHYyNEgweiIgZmlsbD0ibm9uZSIvPgogICAgICAgIDxwYXRoIGQ9Ik0yMSw4SDNWNGgxOFY4eiBNMjEsMTBIM3Y0aDE4VjEweiBNMjEsMTZIM3Y0aDE4VjE2eiIvPgogICAgPC9nPgo8L3N2Zz4K);
  --jp-icon-tag: url(data:image/svg+xml;base64,PHN2ZyB3aWR0aD0iMjgiIGhlaWdodD0iMjgiIHZpZXdCb3g9IjAgMCA0MyAyOCIgeG1sbnM9Imh0dHA6Ly93d3cudzMub3JnLzIwMDAvc3ZnIj4KCTxnIGNsYXNzPSJqcC1pY29uMyIgZmlsbD0iIzYxNjE2MSI+CgkJPHBhdGggZD0iTTI4LjgzMzIgMTIuMzM0TDMyLjk5OTggMTYuNTAwN0wzNy4xNjY1IDEyLjMzNEgyOC44MzMyWiIvPgoJCTxwYXRoIGQ9Ik0xNi4yMDk1IDIxLjYxMDRDMTUuNjg3MyAyMi4xMjk5IDE0Ljg0NDMgMjIuMTI5OSAxNC4zMjQ4IDIxLjYxMDRMNi45ODI5IDE0LjcyNDVDNi41NzI0IDE0LjMzOTQgNi4wODMxMyAxMy42MDk4IDYuMDQ3ODYgMTMuMDQ4MkM1Ljk1MzQ3IDExLjUyODggNi4wMjAwMiA4LjYxOTQ0IDYuMDY2MjEgNy4wNzY5NUM2LjA4MjgxIDYuNTE0NzcgNi41NTU0OCA2LjA0MzQ3IDcuMTE4MDQgNi4wMzA1NUM5LjA4ODYzIDUuOTg0NzMgMTMuMjYzOCA1LjkzNTc5IDEzLjY1MTggNi4zMjQyNUwyMS43MzY5IDEzLjYzOUMyMi4yNTYgMTQuMTU4NSAyMS43ODUxIDE1LjQ3MjQgMjEuMjYyIDE1Ljk5NDZMMTYuMjA5NSAyMS42MTA0Wk05Ljc3NTg1IDguMjY1QzkuMzM1NTEgNy44MjU2NiA4LjYyMzUxIDcuODI1NjYgOC4xODI4IDguMjY1QzcuNzQzNDYgOC43MDU3MSA3Ljc0MzQ2IDkuNDE3MzMgOC4xODI4IDkuODU2NjdDOC42MjM4MiAxMC4yOTY0IDkuMzM1ODIgMTAuMjk2NCA5Ljc3NTg1IDkuODU2NjdDMTAuMjE1NiA5LjQxNzMzIDEwLjIxNTYgOC43MDUzMyA5Ljc3NTg1IDguMjY1WiIvPgoJPC9nPgo8L3N2Zz4K);
  --jp-icon-terminal: url(data:image/svg+xml;base64,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);
  --jp-icon-text-editor: url(data:image/svg+xml;base64,PHN2ZyB4bWxucz0iaHR0cDovL3d3dy53My5vcmcvMjAwMC9zdmciIHdpZHRoPSIxNiIgdmlld0JveD0iMCAwIDI0IDI0Ij4KICA8cGF0aCBjbGFzcz0ianAtdGV4dC1lZGl0b3ItaWNvbi1jb2xvciBqcC1pY29uLXNlbGVjdGFibGUiIGZpbGw9IiM2MTYxNjEiIGQ9Ik0xNSAxNUgzdjJoMTJ2LTJ6bTAtOEgzdjJoMTJWN3pNMyAxM2gxOHYtMkgzdjJ6bTAgOGgxOHYtMkgzdjJ6TTMgM3YyaDE4VjNIM3oiLz4KPC9zdmc+Cg==);
  --jp-icon-toc: url(data:image/svg+xml;base64,PHN2ZyB4bWxucz0iaHR0cDovL3d3dy53My5vcmcvMjAwMC9zdmciIHdpZHRoPSIyNCIgaGVpZ2h0PSIyNCIgdmlld0JveD0iMCAwIDI0IDI0Ij4KICA8ZyBjbGFzcz0ianAtaWNvbjMganAtaWNvbi1zZWxlY3RhYmxlIiBmaWxsPSIjNjE2MTYxIj4KICAgIDxwYXRoIGQ9Ik03LDVIMjFWN0g3VjVNNywxM1YxMUgyMVYxM0g3TTQsNC41QTEuNSwxLjUgMCAwLDEgNS41LDZBMS41LDEuNSAwIDAsMSA0LDcuNUExLjUsMS41IDAgMCwxIDIuNSw2QTEuNSwxLjUgMCAwLDEgNCw0LjVNNCwxMC41QTEuNSwxLjUgMCAwLDEgNS41LDEyQTEuNSwxLjUgMCAwLDEgNCwxMy41QTEuNSwxLjUgMCAwLDEgMi41LDEyQTEuNSwxLjUgMCAwLDEgNCwxMC41TTcsMTlWMTdIMjFWMTlIN000LDE2LjVBMS41LDEuNSAwIDAsMSA1LjUsMThBMS41LDEuNSAwIDAsMSA0LDE5LjVBMS41LDEuNSAwIDAsMSAyLjUsMThBMS41LDEuNSAwIDAsMSA0LDE2LjVaIiAvPgogIDwvZz4KPC9zdmc+Cg==);
  --jp-icon-tree-view: url(data:image/svg+xml;base64,PHN2ZyBoZWlnaHQ9IjI0IiB2aWV3Qm94PSIwIDAgMjQgMjQiIHdpZHRoPSIyNCIgeG1sbnM9Imh0dHA6Ly93d3cudzMub3JnLzIwMDAvc3ZnIj4KICAgIDxnIGNsYXNzPSJqcC1pY29uMyIgZmlsbD0iIzYxNjE2MSI+CiAgICAgICAgPHBhdGggZD0iTTAgMGgyNHYyNEgweiIgZmlsbD0ibm9uZSIvPgogICAgICAgIDxwYXRoIGQ9Ik0yMiAxMVYzaC03djNIOVYzSDJ2OGg3VjhoMnYxMGg0djNoN3YtOGgtN3YzaC0yVjhoMnYzeiIvPgogICAgPC9nPgo8L3N2Zz4K);
  --jp-icon-trusted: url(data:image/svg+xml;base64,PHN2ZyBmaWxsPSJub25lIiB4bWxucz0iaHR0cDovL3d3dy53My5vcmcvMjAwMC9zdmciIHdpZHRoPSIxNiIgdmlld0JveD0iMCAwIDI0IDI1Ij4KICAgIDxwYXRoIGNsYXNzPSJqcC1pY29uMiIgc3Ryb2tlPSIjMzMzMzMzIiBzdHJva2Utd2lkdGg9IjIiIHRyYW5zZm9ybT0idHJhbnNsYXRlKDIgMykiIGQ9Ik0xLjg2MDk0IDExLjQ0MDlDMC44MjY0NDggOC43NzAyNyAwLjg2Mzc3OSA2LjA1NzY0IDEuMjQ5MDcgNC4xOTkzMkMyLjQ4MjA2IDMuOTMzNDcgNC4wODA2OCAzLjQwMzQ3IDUuNjAxMDIgMi44NDQ5QzcuMjM1NDkgMi4yNDQ0IDguODU2NjYgMS41ODE1IDkuOTg3NiAxLjA5NTM5QzExLjA1OTcgMS41ODM0MSAxMi42MDk0IDIuMjQ0NCAxNC4yMTggMi44NDMzOUMxNS43NTAzIDMuNDEzOTQgMTcuMzk5NSAzLjk1MjU4IDE4Ljc1MzkgNC4yMTM4NUMxOS4xMzY0IDYuMDcxNzcgMTkuMTcwOSA4Ljc3NzIyIDE4LjEzOSAxMS40NDA5QzE3LjAzMDMgMTQuMzAzMiAxNC42NjY4IDE3LjE4NDQgOS45OTk5OSAxOC45MzU0QzUuMzMzMiAxNy4xODQ0IDIuOTY5NjggMTQuMzAzMiAxLjg2MDk0IDExLjQ0MDlaIi8+CiAgICA8cGF0aCBjbGFzcz0ianAtaWNvbjIiIGZpbGw9IiMzMzMzMzMiIHN0cm9rZT0iIzMzMzMzMyIgdHJhbnNmb3JtPSJ0cmFuc2xhdGUoOCA5Ljg2NzE5KSIgZD0iTTIuODYwMTUgNC44NjUzNUwwLjcyNjU0OSAyLjk5OTU5TDAgMy42MzA0NUwyLjg2MDE1IDYuMTMxNTdMOCAwLjYzMDg3Mkw3LjI3ODU3IDBMMi44NjAxNSA0Ljg2NTM1WiIvPgo8L3N2Zz4K);
  --jp-icon-undo: url(data:image/svg+xml;base64,PHN2ZyB2aWV3Qm94PSIwIDAgMjQgMjQiIHdpZHRoPSIxNiIgeG1sbnM9Imh0dHA6Ly93d3cudzMub3JnLzIwMDAvc3ZnIj4KICA8ZyBjbGFzcz0ianAtaWNvbjMiIGZpbGw9IiM2MTYxNjEiPgogICAgPHBhdGggZD0iTTEyLjUgOGMtMi42NSAwLTUuMDUuOTktNi45IDIuNkwyIDd2OWg5bC0zLjYyLTMuNjJjMS4zOS0xLjE2IDMuMTYtMS44OCA1LjEyLTEuODggMy41NCAwIDYuNTUgMi4zMSA3LjYgNS41bDIuMzctLjc4QzIxLjA4IDExLjAzIDE3LjE1IDggMTIuNSA4eiIvPgogIDwvZz4KPC9zdmc+Cg==);
  --jp-icon-user: url(data:image/svg+xml;base64,PHN2ZyB3aWR0aD0iMTYiIHZpZXdCb3g9IjAgMCAyNCAyNCIgeG1sbnM9Imh0dHA6Ly93d3cudzMub3JnLzIwMDAvc3ZnIj4KICA8ZyBjbGFzcz0ianAtaWNvbjMiIGZpbGw9IiM2MTYxNjEiPgogICAgPHBhdGggZD0iTTE2IDdhNCA0IDAgMTEtOCAwIDQgNCAwIDAxOCAwek0xMiAxNGE3IDcgMCAwMC03IDdoMTRhNyA3IDAgMDAtNy03eiIvPgogIDwvZz4KPC9zdmc+Cg==);
  --jp-icon-users: url(data:image/svg+xml;base64,PHN2ZyB3aWR0aD0iMjQiIGhlaWdodD0iMjQiIHZlcnNpb249IjEuMSIgdmlld0JveD0iMCAwIDM2IDI0IiB4bWxucz0iaHR0cDovL3d3dy53My5vcmcvMjAwMC9zdmciPgogPGcgY2xhc3M9ImpwLWljb24zIiB0cmFuc2Zvcm09Im1hdHJpeCgxLjczMjcgMCAwIDEuNzMyNyAtMy42MjgyIC4wOTk1NzcpIiBmaWxsPSIjNjE2MTYxIj4KICA8cGF0aCB0cmFuc2Zvcm09Im1hdHJpeCgxLjUsMCwwLDEuNSwwLC02KSIgZD0ibTEyLjE4NiA3LjUwOThjLTEuMDUzNSAwLTEuOTc1NyAwLjU2NjUtMi40Nzg1IDEuNDEwMiAwLjc1MDYxIDAuMzEyNzcgMS4zOTc0IDAuODI2NDggMS44NzMgMS40NzI3aDMuNDg2M2MwLTEuNTkyLTEuMjg4OS0yLjg4MjgtMi44ODA5LTIuODgyOHoiLz4KICA8cGF0aCBkPSJtMjAuNDY1IDIuMzg5NWEyLjE4ODUgMi4xODg1IDAgMCAxLTIuMTg4NCAyLjE4ODUgMi4xODg1IDIuMTg4NSAwIDAgMS0yLjE4ODUtMi4xODg1IDIuMTg4NSAyLjE4ODUgMCAwIDEgMi4xODg1LTIuMTg4NSAyLjE4ODUgMi4xODg1IDAgMCAxIDIuMTg4NCAyLjE4ODV6Ii8+CiAgPHBhdGggdHJhbnNmb3JtPSJtYXRyaXgoMS41LDAsMCwxLjUsMCwtNikiIGQ9Im0zLjU4OTggOC40MjE5Yy0xLjExMjYgMC0yLjAxMzcgMC45MDExMS0yLjAxMzcgMi4wMTM3aDIuODE0NWMwLjI2Nzk3LTAuMzczMDkgMC41OTA3LTAuNzA0MzUgMC45NTg5OC0wLjk3ODUyLTAuMzQ0MzMtMC42MTY4OC0xLjAwMzEtMS4wMzUyLTEuNzU5OC0xLjAzNTJ6Ii8+CiAgPHBhdGggZD0ibTYuOTE1NCA0LjYyM2ExLjUyOTQgMS41Mjk0IDAgMCAxLTEuNTI5NCAxLjUyOTQgMS41Mjk0IDEuNTI5NCAwIDAgMS0xLjUyOTQtMS41Mjk0IDEuNTI5NCAxLjUyOTQgMCAwIDEgMS41Mjk0LTEuNTI5NCAxLjUyOTQgMS41Mjk0IDAgMCAxIDEuNTI5NCAxLjUyOTR6Ii8+CiAgPHBhdGggZD0ibTYuMTM1IDEzLjUzNWMwLTMuMjM5MiAyLjYyNTktNS44NjUgNS44NjUtNS44NjUgMy4yMzkyIDAgNS44NjUgMi42MjU5IDUuODY1IDUuODY1eiIvPgogIDxjaXJjbGUgY3g9IjEyIiBjeT0iMy43Njg1IiByPSIyLjk2ODUiLz4KIDwvZz4KPC9zdmc+Cg==);
  --jp-icon-vega: url(data:image/svg+xml;base64,PHN2ZyB4bWxucz0iaHR0cDovL3d3dy53My5vcmcvMjAwMC9zdmciIHdpZHRoPSIxNiIgdmlld0JveD0iMCAwIDIyIDIyIj4KICA8ZyBjbGFzcz0ianAtaWNvbjEganAtaWNvbi1zZWxlY3RhYmxlIiBmaWxsPSIjMjEyMTIxIj4KICAgIDxwYXRoIGQ9Ik0xMC42IDUuNGwyLjItMy4ySDIuMnY3LjNsNC02LjZ6Ii8+CiAgICA8cGF0aCBkPSJNMTUuOCAyLjJsLTQuNCA2LjZMNyA2LjNsLTQuOCA4djUuNWgxNy42VjIuMmgtNHptLTcgMTUuNEg1LjV2LTQuNGgzLjN2NC40em00LjQgMEg5LjhWOS44aDMuNHY3Ljh6bTQuNCAwaC0zLjRWNi41aDMuNHYxMS4xeiIvPgogIDwvZz4KPC9zdmc+Cg==);
  --jp-icon-word: url(data:image/svg+xml;base64,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);
  --jp-icon-yaml: url(data:image/svg+xml;base64,PHN2ZyB4bWxucz0iaHR0cDovL3d3dy53My5vcmcvMjAwMC9zdmciIHdpZHRoPSIxNiIgdmlld0JveD0iMCAwIDIyIDIyIj4KICA8ZyBjbGFzcz0ianAtaWNvbi1jb250cmFzdDIganAtaWNvbi1zZWxlY3RhYmxlIiBmaWxsPSIjRDgxQjYwIj4KICAgIDxwYXRoIGQ9Ik03LjIgMTguNnYtNS40TDMgNS42aDMuM2wxLjQgMy4xYy4zLjkuNiAxLjYgMSAyLjUuMy0uOC42LTEuNiAxLTIuNWwxLjQtMy4xaDMuNGwtNC40IDcuNnY1LjVsLTIuOS0uMXoiLz4KICAgIDxjaXJjbGUgY2xhc3M9InN0MCIgY3g9IjE3LjYiIGN5PSIxNi41IiByPSIyLjEiLz4KICAgIDxjaXJjbGUgY2xhc3M9InN0MCIgY3g9IjE3LjYiIGN5PSIxMSIgcj0iMi4xIi8+CiAgPC9nPgo8L3N2Zz4K);
}

/* Icon CSS class declarations */

.jp-AddAboveIcon {
  background-image: var(--jp-icon-add-above);
}

.jp-AddBelowIcon {
  background-image: var(--jp-icon-add-below);
}

.jp-AddIcon {
  background-image: var(--jp-icon-add);
}

.jp-BellIcon {
  background-image: var(--jp-icon-bell);
}

.jp-BugDotIcon {
  background-image: var(--jp-icon-bug-dot);
}

.jp-BugIcon {
  background-image: var(--jp-icon-bug);
}

.jp-BuildIcon {
  background-image: var(--jp-icon-build);
}

.jp-CaretDownEmptyIcon {
  background-image: var(--jp-icon-caret-down-empty);
}

.jp-CaretDownEmptyThinIcon {
  background-image: var(--jp-icon-caret-down-empty-thin);
}

.jp-CaretDownIcon {
  background-image: var(--jp-icon-caret-down);
}

.jp-CaretLeftIcon {
  background-image: var(--jp-icon-caret-left);
}

.jp-CaretRightIcon {
  background-image: var(--jp-icon-caret-right);
}

.jp-CaretUpEmptyThinIcon {
  background-image: var(--jp-icon-caret-up-empty-thin);
}

.jp-CaretUpIcon {
  background-image: var(--jp-icon-caret-up);
}

.jp-CaseSensitiveIcon {
  background-image: var(--jp-icon-case-sensitive);
}

.jp-CheckIcon {
  background-image: var(--jp-icon-check);
}

.jp-CircleEmptyIcon {
  background-image: var(--jp-icon-circle-empty);
}

.jp-CircleIcon {
  background-image: var(--jp-icon-circle);
}

.jp-ClearIcon {
  background-image: var(--jp-icon-clear);
}

.jp-CloseIcon {
  background-image: var(--jp-icon-close);
}

.jp-CodeCheckIcon {
  background-image: var(--jp-icon-code-check);
}

.jp-CodeIcon {
  background-image: var(--jp-icon-code);
}

.jp-CollapseAllIcon {
  background-image: var(--jp-icon-collapse-all);
}

.jp-ConsoleIcon {
  background-image: var(--jp-icon-console);
}

.jp-CopyIcon {
  background-image: var(--jp-icon-copy);
}

.jp-CopyrightIcon {
  background-image: var(--jp-icon-copyright);
}

.jp-CutIcon {
  background-image: var(--jp-icon-cut);
}

.jp-DeleteIcon {
  background-image: var(--jp-icon-delete);
}

.jp-DownloadIcon {
  background-image: var(--jp-icon-download);
}

.jp-DuplicateIcon {
  background-image: var(--jp-icon-duplicate);
}

.jp-EditIcon {
  background-image: var(--jp-icon-edit);
}

.jp-EllipsesIcon {
  background-image: var(--jp-icon-ellipses);
}

.jp-ErrorIcon {
  background-image: var(--jp-icon-error);
}

.jp-ExpandAllIcon {
  background-image: var(--jp-icon-expand-all);
}

.jp-ExtensionIcon {
  background-image: var(--jp-icon-extension);
}

.jp-FastForwardIcon {
  background-image: var(--jp-icon-fast-forward);
}

.jp-FileIcon {
  background-image: var(--jp-icon-file);
}

.jp-FileUploadIcon {
  background-image: var(--jp-icon-file-upload);
}

.jp-FilterDotIcon {
  background-image: var(--jp-icon-filter-dot);
}

.jp-FilterIcon {
  background-image: var(--jp-icon-filter);
}

.jp-FilterListIcon {
  background-image: var(--jp-icon-filter-list);
}

.jp-FolderFavoriteIcon {
  background-image: var(--jp-icon-folder-favorite);
}

.jp-FolderIcon {
  background-image: var(--jp-icon-folder);
}

.jp-HomeIcon {
  background-image: var(--jp-icon-home);
}

.jp-Html5Icon {
  background-image: var(--jp-icon-html5);
}

.jp-ImageIcon {
  background-image: var(--jp-icon-image);
}

.jp-InfoIcon {
  background-image: var(--jp-icon-info);
}

.jp-InspectorIcon {
  background-image: var(--jp-icon-inspector);
}

.jp-JsonIcon {
  background-image: var(--jp-icon-json);
}

.jp-JuliaIcon {
  background-image: var(--jp-icon-julia);
}

.jp-JupyterFaviconIcon {
  background-image: var(--jp-icon-jupyter-favicon);
}

.jp-JupyterIcon {
  background-image: var(--jp-icon-jupyter);
}

.jp-JupyterlabWordmarkIcon {
  background-image: var(--jp-icon-jupyterlab-wordmark);
}

.jp-KernelIcon {
  background-image: var(--jp-icon-kernel);
}

.jp-KeyboardIcon {
  background-image: var(--jp-icon-keyboard);
}

.jp-LaunchIcon {
  background-image: var(--jp-icon-launch);
}

.jp-LauncherIcon {
  background-image: var(--jp-icon-launcher);
}

.jp-LineFormIcon {
  background-image: var(--jp-icon-line-form);
}

.jp-LinkIcon {
  background-image: var(--jp-icon-link);
}

.jp-ListIcon {
  background-image: var(--jp-icon-list);
}

.jp-MarkdownIcon {
  background-image: var(--jp-icon-markdown);
}

.jp-MoveDownIcon {
  background-image: var(--jp-icon-move-down);
}

.jp-MoveUpIcon {
  background-image: var(--jp-icon-move-up);
}

.jp-NewFolderIcon {
  background-image: var(--jp-icon-new-folder);
}

.jp-NotTrustedIcon {
  background-image: var(--jp-icon-not-trusted);
}

.jp-NotebookIcon {
  background-image: var(--jp-icon-notebook);
}

.jp-NumberingIcon {
  background-image: var(--jp-icon-numbering);
}

.jp-OfflineBoltIcon {
  background-image: var(--jp-icon-offline-bolt);
}

.jp-PaletteIcon {
  background-image: var(--jp-icon-palette);
}

.jp-PasteIcon {
  background-image: var(--jp-icon-paste);
}

.jp-PdfIcon {
  background-image: var(--jp-icon-pdf);
}

.jp-PythonIcon {
  background-image: var(--jp-icon-python);
}

.jp-RKernelIcon {
  background-image: var(--jp-icon-r-kernel);
}

.jp-ReactIcon {
  background-image: var(--jp-icon-react);
}

.jp-RedoIcon {
  background-image: var(--jp-icon-redo);
}

.jp-RefreshIcon {
  background-image: var(--jp-icon-refresh);
}

.jp-RegexIcon {
  background-image: var(--jp-icon-regex);
}

.jp-RunIcon {
  background-image: var(--jp-icon-run);
}

.jp-RunningIcon {
  background-image: var(--jp-icon-running);
}

.jp-SaveIcon {
  background-image: var(--jp-icon-save);
}

.jp-SearchIcon {
  background-image: var(--jp-icon-search);
}

.jp-SettingsIcon {
  background-image: var(--jp-icon-settings);
}

.jp-ShareIcon {
  background-image: var(--jp-icon-share);
}

.jp-SpreadsheetIcon {
  background-image: var(--jp-icon-spreadsheet);
}

.jp-StopIcon {
  background-image: var(--jp-icon-stop);
}

.jp-TabIcon {
  background-image: var(--jp-icon-tab);
}

.jp-TableRowsIcon {
  background-image: var(--jp-icon-table-rows);
}

.jp-TagIcon {
  background-image: var(--jp-icon-tag);
}

.jp-TerminalIcon {
  background-image: var(--jp-icon-terminal);
}

.jp-TextEditorIcon {
  background-image: var(--jp-icon-text-editor);
}

.jp-TocIcon {
  background-image: var(--jp-icon-toc);
}

.jp-TreeViewIcon {
  background-image: var(--jp-icon-tree-view);
}

.jp-TrustedIcon {
  background-image: var(--jp-icon-trusted);
}

.jp-UndoIcon {
  background-image: var(--jp-icon-undo);
}

.jp-UserIcon {
  background-image: var(--jp-icon-user);
}

.jp-UsersIcon {
  background-image: var(--jp-icon-users);
}

.jp-VegaIcon {
  background-image: var(--jp-icon-vega);
}

.jp-WordIcon {
  background-image: var(--jp-icon-word);
}

.jp-YamlIcon {
  background-image: var(--jp-icon-yaml);
}

/*-----------------------------------------------------------------------------
| Copyright (c) Jupyter Development Team.
| Distributed under the terms of the Modified BSD License.
|----------------------------------------------------------------------------*/

/**
 * (DEPRECATED) Support for consuming icons as CSS background images
 */

.jp-Icon,
.jp-MaterialIcon {
  background-position: center;
  background-repeat: no-repeat;
  background-size: 16px;
  min-width: 16px;
  min-height: 16px;
}

.jp-Icon-cover {
  background-position: center;
  background-repeat: no-repeat;
  background-size: cover;
}

/**
 * (DEPRECATED) Support for specific CSS icon sizes
 */

.jp-Icon-16 {
  background-size: 16px;
  min-width: 16px;
  min-height: 16px;
}

.jp-Icon-18 {
  background-size: 18px;
  min-width: 18px;
  min-height: 18px;
}

.jp-Icon-20 {
  background-size: 20px;
  min-width: 20px;
  min-height: 20px;
}

/*-----------------------------------------------------------------------------
| Copyright (c) Jupyter Development Team.
| Distributed under the terms of the Modified BSD License.
|----------------------------------------------------------------------------*/

.lm-TabBar .lm-TabBar-addButton {
  align-items: center;
  display: flex;
  padding: 4px;
  padding-bottom: 5px;
  margin-right: 1px;
  background-color: var(--jp-layout-color2);
}

.lm-TabBar .lm-TabBar-addButton:hover {
  background-color: var(--jp-layout-color1);
}

.lm-DockPanel-tabBar .lm-TabBar-tab {
  width: var(--jp-private-horizontal-tab-width);
}

.lm-DockPanel-tabBar .lm-TabBar-content {
  flex: unset;
}

.lm-DockPanel-tabBar[data-orientation='horizontal'] {
  flex: 1 1 auto;
}

/*-----------------------------------------------------------------------------
| Copyright (c) Jupyter Development Team.
| Distributed under the terms of the Modified BSD License.
|----------------------------------------------------------------------------*/

/**
 * Support for icons as inline SVG HTMLElements
 */

/* recolor the primary elements of an icon */
.jp-icon0[fill] {
  fill: var(--jp-inverse-layout-color0);
}

.jp-icon1[fill] {
  fill: var(--jp-inverse-layout-color1);
}

.jp-icon2[fill] {
  fill: var(--jp-inverse-layout-color2);
}

.jp-icon3[fill] {
  fill: var(--jp-inverse-layout-color3);
}

.jp-icon4[fill] {
  fill: var(--jp-inverse-layout-color4);
}

.jp-icon0[stroke] {
  stroke: var(--jp-inverse-layout-color0);
}

.jp-icon1[stroke] {
  stroke: var(--jp-inverse-layout-color1);
}

.jp-icon2[stroke] {
  stroke: var(--jp-inverse-layout-color2);
}

.jp-icon3[stroke] {
  stroke: var(--jp-inverse-layout-color3);
}

.jp-icon4[stroke] {
  stroke: var(--jp-inverse-layout-color4);
}

/* recolor the accent elements of an icon */
.jp-icon-accent0[fill] {
  fill: var(--jp-layout-color0);
}

.jp-icon-accent1[fill] {
  fill: var(--jp-layout-color1);
}

.jp-icon-accent2[fill] {
  fill: var(--jp-layout-color2);
}

.jp-icon-accent3[fill] {
  fill: var(--jp-layout-color3);
}

.jp-icon-accent4[fill] {
  fill: var(--jp-layout-color4);
}

.jp-icon-accent0[stroke] {
  stroke: var(--jp-layout-color0);
}

.jp-icon-accent1[stroke] {
  stroke: var(--jp-layout-color1);
}

.jp-icon-accent2[stroke] {
  stroke: var(--jp-layout-color2);
}

.jp-icon-accent3[stroke] {
  stroke: var(--jp-layout-color3);
}

.jp-icon-accent4[stroke] {
  stroke: var(--jp-layout-color4);
}

/* set the color of an icon to transparent */
.jp-icon-none[fill] {
  fill: none;
}

.jp-icon-none[stroke] {
  stroke: none;
}

/* brand icon colors. Same for light and dark */
.jp-icon-brand0[fill] {
  fill: var(--jp-brand-color0);
}

.jp-icon-brand1[fill] {
  fill: var(--jp-brand-color1);
}

.jp-icon-brand2[fill] {
  fill: var(--jp-brand-color2);
}

.jp-icon-brand3[fill] {
  fill: var(--jp-brand-color3);
}

.jp-icon-brand4[fill] {
  fill: var(--jp-brand-color4);
}

.jp-icon-brand0[stroke] {
  stroke: var(--jp-brand-color0);
}

.jp-icon-brand1[stroke] {
  stroke: var(--jp-brand-color1);
}

.jp-icon-brand2[stroke] {
  stroke: var(--jp-brand-color2);
}

.jp-icon-brand3[stroke] {
  stroke: var(--jp-brand-color3);
}

.jp-icon-brand4[stroke] {
  stroke: var(--jp-brand-color4);
}

/* warn icon colors. Same for light and dark */
.jp-icon-warn0[fill] {
  fill: var(--jp-warn-color0);
}

.jp-icon-warn1[fill] {
  fill: var(--jp-warn-color1);
}

.jp-icon-warn2[fill] {
  fill: var(--jp-warn-color2);
}

.jp-icon-warn3[fill] {
  fill: var(--jp-warn-color3);
}

.jp-icon-warn0[stroke] {
  stroke: var(--jp-warn-color0);
}

.jp-icon-warn1[stroke] {
  stroke: var(--jp-warn-color1);
}

.jp-icon-warn2[stroke] {
  stroke: var(--jp-warn-color2);
}

.jp-icon-warn3[stroke] {
  stroke: var(--jp-warn-color3);
}

/* icon colors that contrast well with each other and most backgrounds */
.jp-icon-contrast0[fill] {
  fill: var(--jp-icon-contrast-color0);
}

.jp-icon-contrast1[fill] {
  fill: var(--jp-icon-contrast-color1);
}

.jp-icon-contrast2[fill] {
  fill: var(--jp-icon-contrast-color2);
}

.jp-icon-contrast3[fill] {
  fill: var(--jp-icon-contrast-color3);
}

.jp-icon-contrast0[stroke] {
  stroke: var(--jp-icon-contrast-color0);
}

.jp-icon-contrast1[stroke] {
  stroke: var(--jp-icon-contrast-color1);
}

.jp-icon-contrast2[stroke] {
  stroke: var(--jp-icon-contrast-color2);
}

.jp-icon-contrast3[stroke] {
  stroke: var(--jp-icon-contrast-color3);
}

.jp-icon-dot[fill] {
  fill: var(--jp-warn-color0);
}

.jp-jupyter-icon-color[fill] {
  fill: var(--jp-jupyter-icon-color, var(--jp-warn-color0));
}

.jp-notebook-icon-color[fill] {
  fill: var(--jp-notebook-icon-color, var(--jp-warn-color0));
}

.jp-json-icon-color[fill] {
  fill: var(--jp-json-icon-color, var(--jp-warn-color1));
}

.jp-console-icon-color[fill] {
  fill: var(--jp-console-icon-color, white);
}

.jp-console-icon-background-color[fill] {
  fill: var(--jp-console-icon-background-color, var(--jp-brand-color1));
}

.jp-terminal-icon-color[fill] {
  fill: var(--jp-terminal-icon-color, var(--jp-layout-color2));
}

.jp-terminal-icon-background-color[fill] {
  fill: var(
    --jp-terminal-icon-background-color,
    var(--jp-inverse-layout-color2)
  );
}

.jp-text-editor-icon-color[fill] {
  fill: var(--jp-text-editor-icon-color, var(--jp-inverse-layout-color3));
}

.jp-inspector-icon-color[fill] {
  fill: var(--jp-inspector-icon-color, var(--jp-inverse-layout-color3));
}

/* CSS for icons in selected filebrowser listing items */
.jp-DirListing-item.jp-mod-selected .jp-icon-selectable[fill] {
  fill: #fff;
}

.jp-DirListing-item.jp-mod-selected .jp-icon-selectable-inverse[fill] {
  fill: var(--jp-brand-color1);
}

/* stylelint-disable selector-max-class, selector-max-compound-selectors */

/**
* TODO: come up with non css-hack solution for showing the busy icon on top
*  of the close icon
* CSS for complex behavior of close icon of tabs in the main area tabbar
*/
.lm-DockPanel-tabBar
  .lm-TabBar-tab.lm-mod-closable.jp-mod-dirty
  > .lm-TabBar-tabCloseIcon
  > :not(:hover)
  > .jp-icon3[fill] {
  fill: none;
}

.lm-DockPanel-tabBar
  .lm-TabBar-tab.lm-mod-closable.jp-mod-dirty
  > .lm-TabBar-tabCloseIcon
  > :not(:hover)
  > .jp-icon-busy[fill] {
  fill: var(--jp-inverse-layout-color3);
}

/* stylelint-enable selector-max-class, selector-max-compound-selectors */

/* CSS for icons in status bar */
#jp-main-statusbar .jp-mod-selected .jp-icon-selectable[fill] {
  fill: #fff;
}

#jp-main-statusbar .jp-mod-selected .jp-icon-selectable-inverse[fill] {
  fill: var(--jp-brand-color1);
}

/* special handling for splash icon CSS. While the theme CSS reloads during
   splash, the splash icon can loose theming. To prevent that, we set a
   default for its color variable */
:root {
  --jp-warn-color0: var(--md-orange-700);
}

/* not sure what to do with this one, used in filebrowser listing */
.jp-DragIcon {
  margin-right: 4px;
}

/*-----------------------------------------------------------------------------
| Copyright (c) Jupyter Development Team.
| Distributed under the terms of the Modified BSD License.
|----------------------------------------------------------------------------*/

/**
 * Support for alt colors for icons as inline SVG HTMLElements
 */

/* alt recolor the primary elements of an icon */
.jp-icon-alt .jp-icon0[fill] {
  fill: var(--jp-layout-color0);
}

.jp-icon-alt .jp-icon1[fill] {
  fill: var(--jp-layout-color1);
}

.jp-icon-alt .jp-icon2[fill] {
  fill: var(--jp-layout-color2);
}

.jp-icon-alt .jp-icon3[fill] {
  fill: var(--jp-layout-color3);
}

.jp-icon-alt .jp-icon4[fill] {
  fill: var(--jp-layout-color4);
}

.jp-icon-alt .jp-icon0[stroke] {
  stroke: var(--jp-layout-color0);
}

.jp-icon-alt .jp-icon1[stroke] {
  stroke: var(--jp-layout-color1);
}

.jp-icon-alt .jp-icon2[stroke] {
  stroke: var(--jp-layout-color2);
}

.jp-icon-alt .jp-icon3[stroke] {
  stroke: var(--jp-layout-color3);
}

.jp-icon-alt .jp-icon4[stroke] {
  stroke: var(--jp-layout-color4);
}

/* alt recolor the accent elements of an icon */
.jp-icon-alt .jp-icon-accent0[fill] {
  fill: var(--jp-inverse-layout-color0);
}

.jp-icon-alt .jp-icon-accent1[fill] {
  fill: var(--jp-inverse-layout-color1);
}

.jp-icon-alt .jp-icon-accent2[fill] {
  fill: var(--jp-inverse-layout-color2);
}

.jp-icon-alt .jp-icon-accent3[fill] {
  fill: var(--jp-inverse-layout-color3);
}

.jp-icon-alt .jp-icon-accent4[fill] {
  fill: var(--jp-inverse-layout-color4);
}

.jp-icon-alt .jp-icon-accent0[stroke] {
  stroke: var(--jp-inverse-layout-color0);
}

.jp-icon-alt .jp-icon-accent1[stroke] {
  stroke: var(--jp-inverse-layout-color1);
}

.jp-icon-alt .jp-icon-accent2[stroke] {
  stroke: var(--jp-inverse-layout-color2);
}

.jp-icon-alt .jp-icon-accent3[stroke] {
  stroke: var(--jp-inverse-layout-color3);
}

.jp-icon-alt .jp-icon-accent4[stroke] {
  stroke: var(--jp-inverse-layout-color4);
}

/*-----------------------------------------------------------------------------
| Copyright (c) Jupyter Development Team.
| Distributed under the terms of the Modified BSD License.
|----------------------------------------------------------------------------*/

.jp-icon-hoverShow:not(:hover) .jp-icon-hoverShow-content {
  display: none !important;
}

/**
 * Support for hover colors for icons as inline SVG HTMLElements
 */

/**
 * regular colors
 */

/* recolor the primary elements of an icon */
.jp-icon-hover :hover .jp-icon0-hover[fill] {
  fill: var(--jp-inverse-layout-color0);
}

.jp-icon-hover :hover .jp-icon1-hover[fill] {
  fill: var(--jp-inverse-layout-color1);
}

.jp-icon-hover :hover .jp-icon2-hover[fill] {
  fill: var(--jp-inverse-layout-color2);
}

.jp-icon-hover :hover .jp-icon3-hover[fill] {
  fill: var(--jp-inverse-layout-color3);
}

.jp-icon-hover :hover .jp-icon4-hover[fill] {
  fill: var(--jp-inverse-layout-color4);
}

.jp-icon-hover :hover .jp-icon0-hover[stroke] {
  stroke: var(--jp-inverse-layout-color0);
}

.jp-icon-hover :hover .jp-icon1-hover[stroke] {
  stroke: var(--jp-inverse-layout-color1);
}

.jp-icon-hover :hover .jp-icon2-hover[stroke] {
  stroke: var(--jp-inverse-layout-color2);
}

.jp-icon-hover :hover .jp-icon3-hover[stroke] {
  stroke: var(--jp-inverse-layout-color3);
}

.jp-icon-hover :hover .jp-icon4-hover[stroke] {
  stroke: var(--jp-inverse-layout-color4);
}

/* recolor the accent elements of an icon */
.jp-icon-hover :hover .jp-icon-accent0-hover[fill] {
  fill: var(--jp-layout-color0);
}

.jp-icon-hover :hover .jp-icon-accent1-hover[fill] {
  fill: var(--jp-layout-color1);
}

.jp-icon-hover :hover .jp-icon-accent2-hover[fill] {
  fill: var(--jp-layout-color2);
}

.jp-icon-hover :hover .jp-icon-accent3-hover[fill] {
  fill: var(--jp-layout-color3);
}

.jp-icon-hover :hover .jp-icon-accent4-hover[fill] {
  fill: var(--jp-layout-color4);
}

.jp-icon-hover :hover .jp-icon-accent0-hover[stroke] {
  stroke: var(--jp-layout-color0);
}

.jp-icon-hover :hover .jp-icon-accent1-hover[stroke] {
  stroke: var(--jp-layout-color1);
}

.jp-icon-hover :hover .jp-icon-accent2-hover[stroke] {
  stroke: var(--jp-layout-color2);
}

.jp-icon-hover :hover .jp-icon-accent3-hover[stroke] {
  stroke: var(--jp-layout-color3);
}

.jp-icon-hover :hover .jp-icon-accent4-hover[stroke] {
  stroke: var(--jp-layout-color4);
}

/* set the color of an icon to transparent */
.jp-icon-hover :hover .jp-icon-none-hover[fill] {
  fill: none;
}

.jp-icon-hover :hover .jp-icon-none-hover[stroke] {
  stroke: none;
}

/**
 * inverse colors
 */

/* inverse recolor the primary elements of an icon */
.jp-icon-hover.jp-icon-alt :hover .jp-icon0-hover[fill] {
  fill: var(--jp-layout-color0);
}

.jp-icon-hover.jp-icon-alt :hover .jp-icon1-hover[fill] {
  fill: var(--jp-layout-color1);
}

.jp-icon-hover.jp-icon-alt :hover .jp-icon2-hover[fill] {
  fill: var(--jp-layout-color2);
}

.jp-icon-hover.jp-icon-alt :hover .jp-icon3-hover[fill] {
  fill: var(--jp-layout-color3);
}

.jp-icon-hover.jp-icon-alt :hover .jp-icon4-hover[fill] {
  fill: var(--jp-layout-color4);
}

.jp-icon-hover.jp-icon-alt :hover .jp-icon0-hover[stroke] {
  stroke: var(--jp-layout-color0);
}

.jp-icon-hover.jp-icon-alt :hover .jp-icon1-hover[stroke] {
  stroke: var(--jp-layout-color1);
}

.jp-icon-hover.jp-icon-alt :hover .jp-icon2-hover[stroke] {
  stroke: var(--jp-layout-color2);
}

.jp-icon-hover.jp-icon-alt :hover .jp-icon3-hover[stroke] {
  stroke: var(--jp-layout-color3);
}

.jp-icon-hover.jp-icon-alt :hover .jp-icon4-hover[stroke] {
  stroke: var(--jp-layout-color4);
}

/* inverse recolor the accent elements of an icon */
.jp-icon-hover.jp-icon-alt :hover .jp-icon-accent0-hover[fill] {
  fill: var(--jp-inverse-layout-color0);
}

.jp-icon-hover.jp-icon-alt :hover .jp-icon-accent1-hover[fill] {
  fill: var(--jp-inverse-layout-color1);
}

.jp-icon-hover.jp-icon-alt :hover .jp-icon-accent2-hover[fill] {
  fill: var(--jp-inverse-layout-color2);
}

.jp-icon-hover.jp-icon-alt :hover .jp-icon-accent3-hover[fill] {
  fill: var(--jp-inverse-layout-color3);
}

.jp-icon-hover.jp-icon-alt :hover .jp-icon-accent4-hover[fill] {
  fill: var(--jp-inverse-layout-color4);
}

.jp-icon-hover.jp-icon-alt :hover .jp-icon-accent0-hover[stroke] {
  stroke: var(--jp-inverse-layout-color0);
}

.jp-icon-hover.jp-icon-alt :hover .jp-icon-accent1-hover[stroke] {
  stroke: var(--jp-inverse-layout-color1);
}

.jp-icon-hover.jp-icon-alt :hover .jp-icon-accent2-hover[stroke] {
  stroke: var(--jp-inverse-layout-color2);
}

.jp-icon-hover.jp-icon-alt :hover .jp-icon-accent3-hover[stroke] {
  stroke: var(--jp-inverse-layout-color3);
}

.jp-icon-hover.jp-icon-alt :hover .jp-icon-accent4-hover[stroke] {
  stroke: var(--jp-inverse-layout-color4);
}

/*-----------------------------------------------------------------------------
| Copyright (c) Jupyter Development Team.
| Distributed under the terms of the Modified BSD License.
|----------------------------------------------------------------------------*/

.jp-IFrame {
  width: 100%;
  height: 100%;
}

.jp-IFrame > iframe {
  border: none;
}

/*
When drag events occur, `lm-mod-override-cursor` is added to the body.
Because iframes steal all cursor events, the following two rules are necessary
to suppress pointer events while resize drags are occurring. There may be a
better solution to this problem.
*/
body.lm-mod-override-cursor .jp-IFrame {
  position: relative;
}

body.lm-mod-override-cursor .jp-IFrame::before {
  content: '';
  position: absolute;
  top: 0;
  left: 0;
  right: 0;
  bottom: 0;
  background: transparent;
}

/*-----------------------------------------------------------------------------
| Copyright (c) 2014-2016, Jupyter Development Team.
|
| Distributed under the terms of the Modified BSD License.
|----------------------------------------------------------------------------*/

.jp-HoverBox {
  position: fixed;
}

/*-----------------------------------------------------------------------------
| Copyright (c) Jupyter Development Team.
| Distributed under the terms of the Modified BSD License.
|----------------------------------------------------------------------------*/

.jp-FormGroup-content fieldset {
  border: none;
  padding: 0;
  min-width: 0;
  width: 100%;
}

/* stylelint-disable selector-max-type */

.jp-FormGroup-content fieldset .jp-inputFieldWrapper input,
.jp-FormGroup-content fieldset .jp-inputFieldWrapper select,
.jp-FormGroup-content fieldset .jp-inputFieldWrapper textarea {
  font-size: var(--jp-content-font-size2);
  border-color: var(--jp-input-border-color);
  border-style: solid;
  border-radius: var(--jp-border-radius);
  border-width: 1px;
  padding: 6px 8px;
  background: none;
  color: var(--jp-ui-font-color0);
  height: inherit;
}

.jp-FormGroup-content fieldset input[type='checkbox'] {
  position: relative;
  top: 2px;
  margin-left: 0;
}

.jp-FormGroup-content button.jp-mod-styled {
  cursor: pointer;
}

.jp-FormGroup-content .checkbox label {
  cursor: pointer;
  font-size: var(--jp-content-font-size1);
}

.jp-FormGroup-content .jp-root > fieldset > legend {
  display: none;
}

.jp-FormGroup-content .jp-root > fieldset > p {
  display: none;
}

/** copy of `input.jp-mod-styled:focus` style */
.jp-FormGroup-content fieldset input:focus,
.jp-FormGroup-content fieldset select:focus {
  -moz-outline-radius: unset;
  outline: var(--jp-border-width) solid var(--md-blue-500);
  outline-offset: -1px;
  box-shadow: inset 0 0 4px var(--md-blue-300);
}

.jp-FormGroup-content fieldset input:hover:not(:focus),
.jp-FormGroup-content fieldset select:hover:not(:focus) {
  background-color: var(--jp-border-color2);
}

/* stylelint-enable selector-max-type */

.jp-FormGroup-content .checkbox .field-description {
  /* Disable default description field for checkbox:
   because other widgets do not have description fields,
   we add descriptions to each widget on the field level.
  */
  display: none;
}

.jp-FormGroup-content #root__description {
  display: none;
}

.jp-FormGroup-content .jp-modifiedIndicator {
  width: 5px;
  background-color: var(--jp-brand-color2);
  margin-top: 0;
  margin-left: calc(var(--jp-private-settingeditor-modifier-indent) * -1);
  flex-shrink: 0;
}

.jp-FormGroup-content .jp-modifiedIndicator.jp-errorIndicator {
  background-color: var(--jp-error-color0);
  margin-right: 0.5em;
}

/* RJSF ARRAY style */

.jp-arrayFieldWrapper legend {
  font-size: var(--jp-content-font-size2);
  color: var(--jp-ui-font-color0);
  flex-basis: 100%;
  padding: 4px 0;
  font-weight: var(--jp-content-heading-font-weight);
  border-bottom: 1px solid var(--jp-border-color2);
}

.jp-arrayFieldWrapper .field-description {
  padding: 4px 0;
  white-space: pre-wrap;
}

.jp-arrayFieldWrapper .array-item {
  width: 100%;
  border: 1px solid var(--jp-border-color2);
  border-radius: 4px;
  margin: 4px;
}

.jp-ArrayOperations {
  display: flex;
  margin-left: 8px;
}

.jp-ArrayOperationsButton {
  margin: 2px;
}

.jp-ArrayOperationsButton .jp-icon3[fill] {
  fill: var(--jp-ui-font-color0);
}

button.jp-ArrayOperationsButton.jp-mod-styled:disabled {
  cursor: not-allowed;
  opacity: 0.5;
}

/* RJSF form validation error */

.jp-FormGroup-content .validationErrors {
  color: var(--jp-error-color0);
}

/* Hide panel level error as duplicated the field level error */
.jp-FormGroup-content .panel.errors {
  display: none;
}

/* RJSF normal content (settings-editor) */

.jp-FormGroup-contentNormal {
  display: flex;
  align-items: center;
  flex-wrap: wrap;
}

.jp-FormGroup-contentNormal .jp-FormGroup-contentItem {
  margin-left: 7px;
  color: var(--jp-ui-font-color0);
}

.jp-FormGroup-contentNormal .jp-FormGroup-description {
  flex-basis: 100%;
  padding: 4px 7px;
}

.jp-FormGroup-contentNormal .jp-FormGroup-default {
  flex-basis: 100%;
  padding: 4px 7px;
}

.jp-FormGroup-contentNormal .jp-FormGroup-fieldLabel {
  font-size: var(--jp-content-font-size1);
  font-weight: normal;
  min-width: 120px;
}

.jp-FormGroup-contentNormal fieldset:not(:first-child) {
  margin-left: 7px;
}

.jp-FormGroup-contentNormal .field-array-of-string .array-item {
  /* Display `jp-ArrayOperations` buttons side-by-side with content except
    for small screens where flex-wrap will place them one below the other.
  */
  display: flex;
  align-items: center;
  flex-wrap: wrap;
}

.jp-FormGroup-contentNormal .jp-objectFieldWrapper .form-group {
  padding: 2px 8px 2px var(--jp-private-settingeditor-modifier-indent);
  margin-top: 2px;
}

/* RJSF compact content (metadata-form) */

.jp-FormGroup-content.jp-FormGroup-contentCompact {
  width: 100%;
}

.jp-FormGroup-contentCompact .form-group {
  display: flex;
  padding: 0.5em 0.2em 0.5em 0;
}

.jp-FormGroup-contentCompact
  .jp-FormGroup-compactTitle
  .jp-FormGroup-description {
  font-size: var(--jp-ui-font-size1);
  color: var(--jp-ui-font-color2);
}

.jp-FormGroup-contentCompact .jp-FormGroup-fieldLabel {
  padding-bottom: 0.3em;
}

.jp-FormGroup-contentCompact .jp-inputFieldWrapper .form-control {
  width: 100%;
  box-sizing: border-box;
}

.jp-FormGroup-contentCompact .jp-arrayFieldWrapper .jp-FormGroup-compactTitle {
  padding-bottom: 7px;
}

.jp-FormGroup-contentCompact
  .jp-objectFieldWrapper
  .jp-objectFieldWrapper
  .form-group {
  padding: 2px 8px 2px var(--jp-private-settingeditor-modifier-indent);
  margin-top: 2px;
}

.jp-FormGroup-contentCompact ul.error-detail {
  margin-block-start: 0.5em;
  margin-block-end: 0.5em;
  padding-inline-start: 1em;
}

/*
 * Copyright (c) Jupyter Development Team.
 * Distributed under the terms of the Modified BSD License.
 */

.jp-SidePanel {
  display: flex;
  flex-direction: column;
  min-width: var(--jp-sidebar-min-width);
  overflow-y: auto;
  color: var(--jp-ui-font-color1);
  background: var(--jp-layout-color1);
  font-size: var(--jp-ui-font-size1);
}

.jp-SidePanel-header {
  flex: 0 0 auto;
  display: flex;
  border-bottom: var(--jp-border-width) solid var(--jp-border-color2);
  font-size: var(--jp-ui-font-size0);
  font-weight: 600;
  letter-spacing: 1px;
  margin: 0;
  padding: 2px;
  text-transform: uppercase;
}

.jp-SidePanel-toolbar {
  flex: 0 0 auto;
}

.jp-SidePanel-content {
  flex: 1 1 auto;
}

.jp-SidePanel-toolbar,
.jp-AccordionPanel-toolbar {
  height: var(--jp-private-toolbar-height);
}

.jp-SidePanel-toolbar.jp-Toolbar-micro {
  display: none;
}

.lm-AccordionPanel .jp-AccordionPanel-title {
  box-sizing: border-box;
  line-height: 25px;
  margin: 0;
  display: flex;
  align-items: center;
  background: var(--jp-layout-color1);
  color: var(--jp-ui-font-color1);
  border-bottom: var(--jp-border-width) solid var(--jp-toolbar-border-color);
  box-shadow: var(--jp-toolbar-box-shadow);
  font-size: var(--jp-ui-font-size0);
}

.jp-AccordionPanel-title {
  cursor: pointer;
  user-select: none;
  -moz-user-select: none;
  -webkit-user-select: none;
  text-transform: uppercase;
}

.lm-AccordionPanel[data-orientation='horizontal'] > .jp-AccordionPanel-title {
  /* Title is rotated for horizontal accordion panel using CSS */
  display: block;
  transform-origin: top left;
  transform: rotate(-90deg) translate(-100%);
}

.jp-AccordionPanel-title .lm-AccordionPanel-titleLabel {
  user-select: none;
  text-overflow: ellipsis;
  white-space: nowrap;
  overflow: hidden;
}

.jp-AccordionPanel-title .lm-AccordionPanel-titleCollapser {
  transform: rotate(-90deg);
  margin: auto 0;
  height: 16px;
}

.jp-AccordionPanel-title.lm-mod-expanded .lm-AccordionPanel-titleCollapser {
  transform: rotate(0deg);
}

.lm-AccordionPanel .jp-AccordionPanel-toolbar {
  background: none;
  box-shadow: none;
  border: none;
  margin-left: auto;
}

.lm-AccordionPanel .lm-SplitPanel-handle:hover {
  background: var(--jp-layout-color3);
}

.jp-text-truncated {
  overflow: hidden;
  text-overflow: ellipsis;
  white-space: nowrap;
}

/*-----------------------------------------------------------------------------
| Copyright (c) 2017, Jupyter Development Team.
|
| Distributed under the terms of the Modified BSD License.
|----------------------------------------------------------------------------*/

.jp-Spinner {
  position: absolute;
  display: flex;
  justify-content: center;
  align-items: center;
  z-index: 10;
  left: 0;
  top: 0;
  width: 100%;
  height: 100%;
  background: var(--jp-layout-color0);
  outline: none;
}

.jp-SpinnerContent {
  font-size: 10px;
  margin: 50px auto;
  text-indent: -9999em;
  width: 3em;
  height: 3em;
  border-radius: 50%;
  background: var(--jp-brand-color3);
  background: linear-gradient(
    to right,
    #f37626 10%,
    rgba(255, 255, 255, 0) 42%
  );
  position: relative;
  animation: load3 1s infinite linear, fadeIn 1s;
}

.jp-SpinnerContent::before {
  width: 50%;
  height: 50%;
  background: #f37626;
  border-radius: 100% 0 0;
  position: absolute;
  top: 0;
  left: 0;
  content: '';
}

.jp-SpinnerContent::after {
  background: var(--jp-layout-color0);
  width: 75%;
  height: 75%;
  border-radius: 50%;
  content: '';
  margin: auto;
  position: absolute;
  top: 0;
  left: 0;
  bottom: 0;
  right: 0;
}

@keyframes fadeIn {
  0% {
    opacity: 0;
  }

  100% {
    opacity: 1;
  }
}

@keyframes load3 {
  0% {
    transform: rotate(0deg);
  }

  100% {
    transform: rotate(360deg);
  }
}

/*-----------------------------------------------------------------------------
| Copyright (c) 2014-2017, Jupyter Development Team.
|
| Distributed under the terms of the Modified BSD License.
|----------------------------------------------------------------------------*/

button.jp-mod-styled {
  font-size: var(--jp-ui-font-size1);
  color: var(--jp-ui-font-color0);
  border: none;
  box-sizing: border-box;
  text-align: center;
  line-height: 32px;
  height: 32px;
  padding: 0 12px;
  letter-spacing: 0.8px;
  outline: none;
  appearance: none;
  -webkit-appearance: none;
  -moz-appearance: none;
}

input.jp-mod-styled {
  background: var(--jp-input-background);
  height: 28px;
  box-sizing: border-box;
  border: var(--jp-border-width) solid var(--jp-border-color1);
  padding-left: 7px;
  padding-right: 7px;
  font-size: var(--jp-ui-font-size2);
  color: var(--jp-ui-font-color0);
  outline: none;
  appearance: none;
  -webkit-appearance: none;
  -moz-appearance: none;
}

input[type='checkbox'].jp-mod-styled {
  appearance: checkbox;
  -webkit-appearance: checkbox;
  -moz-appearance: checkbox;
  height: auto;
}

input.jp-mod-styled:focus {
  border: var(--jp-border-width) solid var(--md-blue-500);
  box-shadow: inset 0 0 4px var(--md-blue-300);
}

.jp-select-wrapper {
  display: flex;
  position: relative;
  flex-direction: column;
  padding: 1px;
  background-color: var(--jp-layout-color1);
  box-sizing: border-box;
  margin-bottom: 12px;
}

.jp-select-wrapper:not(.multiple) {
  height: 28px;
}

.jp-select-wrapper.jp-mod-focused select.jp-mod-styled {
  border: var(--jp-border-width) solid var(--jp-input-active-border-color);
  box-shadow: var(--jp-input-box-shadow);
  background-color: var(--jp-input-active-background);
}

select.jp-mod-styled:hover {
  cursor: pointer;
  color: var(--jp-ui-font-color0);
  background-color: var(--jp-input-hover-background);
  box-shadow: inset 0 0 1px rgba(0, 0, 0, 0.5);
}

select.jp-mod-styled {
  flex: 1 1 auto;
  width: 100%;
  font-size: var(--jp-ui-font-size2);
  background: var(--jp-input-background);
  color: var(--jp-ui-font-color0);
  padding: 0 25px 0 8px;
  border: var(--jp-border-width) solid var(--jp-input-border-color);
  border-radius: 0;
  outline: none;
  appearance: none;
  -webkit-appearance: none;
  -moz-appearance: none;
}

select.jp-mod-styled:not([multiple]) {
  height: 32px;
}

select.jp-mod-styled[multiple] {
  max-height: 200px;
  overflow-y: auto;
}

/*-----------------------------------------------------------------------------
| Copyright (c) Jupyter Development Team.
| Distributed under the terms of the Modified BSD License.
|----------------------------------------------------------------------------*/

.jp-switch {
  display: flex;
  align-items: center;
  padding-left: 4px;
  padding-right: 4px;
  font-size: var(--jp-ui-font-size1);
  background-color: transparent;
  color: var(--jp-ui-font-color1);
  border: none;
  height: 20px;
}

.jp-switch:hover {
  background-color: var(--jp-layout-color2);
}

.jp-switch-label {
  margin-right: 5px;
  font-family: var(--jp-ui-font-family);
}

.jp-switch-track {
  cursor: pointer;
  background-color: var(--jp-switch-color, var(--jp-border-color1));
  -webkit-transition: 0.4s;
  transition: 0.4s;
  border-radius: 34px;
  height: 16px;
  width: 35px;
  position: relative;
}

.jp-switch-track::before {
  content: '';
  position: absolute;
  height: 10px;
  width: 10px;
  margin: 3px;
  left: 0;
  background-color: var(--jp-ui-inverse-font-color1);
  -webkit-transition: 0.4s;
  transition: 0.4s;
  border-radius: 50%;
}

.jp-switch[aria-checked='true'] .jp-switch-track {
  background-color: var(--jp-switch-true-position-color, var(--jp-warn-color0));
}

.jp-switch[aria-checked='true'] .jp-switch-track::before {
  /* track width (35) - margins (3 + 3) - thumb width (10) */
  left: 19px;
}

/*-----------------------------------------------------------------------------
| Copyright (c) 2014-2016, Jupyter Development Team.
|
| Distributed under the terms of the Modified BSD License.
|----------------------------------------------------------------------------*/

:root {
  --jp-private-toolbar-height: calc(
    28px + var(--jp-border-width)
  ); /* leave 28px for content */
}

.jp-Toolbar {
  color: var(--jp-ui-font-color1);
  flex: 0 0 auto;
  display: flex;
  flex-direction: row;
  border-bottom: var(--jp-border-width) solid var(--jp-toolbar-border-color);
  box-shadow: var(--jp-toolbar-box-shadow);
  background: var(--jp-toolbar-background);
  min-height: var(--jp-toolbar-micro-height);
  padding: 2px;
  z-index: 8;
  overflow-x: hidden;
}

/* Toolbar items */

.jp-Toolbar > .jp-Toolbar-item.jp-Toolbar-spacer {
  flex-grow: 1;
  flex-shrink: 1;
}

.jp-Toolbar-item.jp-Toolbar-kernelStatus {
  display: inline-block;
  width: 32px;
  background-repeat: no-repeat;
  background-position: center;
  background-size: 16px;
}

.jp-Toolbar > .jp-Toolbar-item {
  flex: 0 0 auto;
  display: flex;
  padding-left: 1px;
  padding-right: 1px;
  font-size: var(--jp-ui-font-size1);
  line-height: var(--jp-private-toolbar-height);
  height: 100%;
}

/* Toolbar buttons */

/* This is the div we use to wrap the react component into a Widget */
div.jp-ToolbarButton {
  color: transparent;
  border: none;
  box-sizing: border-box;
  outline: none;
  appearance: none;
  -webkit-appearance: none;
  -moz-appearance: none;
  padding: 0;
  margin: 0;
}

button.jp-ToolbarButtonComponent {
  background: var(--jp-layout-color1);
  border: none;
  box-sizing: border-box;
  outline: none;
  appearance: none;
  -webkit-appearance: none;
  -moz-appearance: none;
  padding: 0 6px;
  margin: 0;
  height: 24px;
  border-radius: var(--jp-border-radius);
  display: flex;
  align-items: center;
  text-align: center;
  font-size: 14px;
  min-width: unset;
  min-height: unset;
}

button.jp-ToolbarButtonComponent:disabled {
  opacity: 0.4;
}

button.jp-ToolbarButtonComponent > span {
  padding: 0;
  flex: 0 0 auto;
}

button.jp-ToolbarButtonComponent .jp-ToolbarButtonComponent-label {
  font-size: var(--jp-ui-font-size1);
  line-height: 100%;
  padding-left: 2px;
  color: var(--jp-ui-font-color1);
  font-family: var(--jp-ui-font-family);
}

#jp-main-dock-panel[data-mode='single-document']
  .jp-MainAreaWidget
  > .jp-Toolbar.jp-Toolbar-micro {
  padding: 0;
  min-height: 0;
}

#jp-main-dock-panel[data-mode='single-document']
  .jp-MainAreaWidget
  > .jp-Toolbar {
  border: none;
  box-shadow: none;
}

/*
 * Copyright (c) Jupyter Development Team.
 * Distributed under the terms of the Modified BSD License.
 */

.jp-WindowedPanel-outer {
  position: relative;
  overflow-y: auto;
}

.jp-WindowedPanel-inner {
  position: relative;
}

.jp-WindowedPanel-window {
  position: absolute;
  left: 0;
  right: 0;
  overflow: visible;
}

/*-----------------------------------------------------------------------------
| Copyright (c) Jupyter Development Team.
| Distributed under the terms of the Modified BSD License.
|----------------------------------------------------------------------------*/

/* Sibling imports */

body {
  color: var(--jp-ui-font-color1);
  font-size: var(--jp-ui-font-size1);
}

/* Disable native link decoration styles everywhere outside of dialog boxes */
a {
  text-decoration: unset;
  color: unset;
}

a:hover {
  text-decoration: unset;
  color: unset;
}

/* Accessibility for links inside dialog box text */
.jp-Dialog-content a {
  text-decoration: revert;
  color: var(--jp-content-link-color);
}

.jp-Dialog-content a:hover {
  text-decoration: revert;
}

/* Styles for ui-components */
.jp-Button {
  color: var(--jp-ui-font-color2);
  border-radius: var(--jp-border-radius);
  padding: 0 12px;
  font-size: var(--jp-ui-font-size1);

  /* Copy from blueprint 3 */
  display: inline-flex;
  flex-direction: row;
  border: none;
  cursor: pointer;
  align-items: center;
  justify-content: center;
  text-align: left;
  vertical-align: middle;
  min-height: 30px;
  min-width: 30px;
}

.jp-Button:disabled {
  cursor: not-allowed;
}

.jp-Button:empty {
  padding: 0 !important;
}

.jp-Button.jp-mod-small {
  min-height: 24px;
  min-width: 24px;
  font-size: 12px;
  padding: 0 7px;
}

/* Use our own theme for hover styles */
.jp-Button.jp-mod-minimal:hover {
  background-color: var(--jp-layout-color2);
}

.jp-Button.jp-mod-minimal {
  background: none;
}

.jp-InputGroup {
  display: block;
  position: relative;
}

.jp-InputGroup input {
  box-sizing: border-box;
  border: none;
  border-radius: 0;
  background-color: transparent;
  color: var(--jp-ui-font-color0);
  box-shadow: inset 0 0 0 var(--jp-border-width) var(--jp-input-border-color);
  padding-bottom: 0;
  padding-top: 0;
  padding-left: 10px;
  padding-right: 28px;
  position: relative;
  width: 100%;
  -webkit-appearance: none;
  -moz-appearance: none;
  appearance: none;
  font-size: 14px;
  font-weight: 400;
  height: 30px;
  line-height: 30px;
  outline: none;
  vertical-align: middle;
}

.jp-InputGroup input:focus {
  box-shadow: inset 0 0 0 var(--jp-border-width)
      var(--jp-input-active-box-shadow-color),
    inset 0 0 0 3px var(--jp-input-active-box-shadow-color);
}

.jp-InputGroup input:disabled {
  cursor: not-allowed;
  resize: block;
  background-color: var(--jp-layout-color2);
  color: var(--jp-ui-font-color2);
}

.jp-InputGroup input:disabled ~ span {
  cursor: not-allowed;
  color: var(--jp-ui-font-color2);
}

.jp-InputGroup input::placeholder,
input::placeholder {
  color: var(--jp-ui-font-color2);
}

.jp-InputGroupAction {
  position: absolute;
  bottom: 1px;
  right: 0;
  padding: 6px;
}

.jp-HTMLSelect.jp-DefaultStyle select {
  background-color: initial;
  border: none;
  border-radius: 0;
  box-shadow: none;
  color: var(--jp-ui-font-color0);
  display: block;
  font-size: var(--jp-ui-font-size1);
  font-family: var(--jp-ui-font-family);
  height: 24px;
  line-height: 14px;
  padding: 0 25px 0 10px;
  text-align: left;
  -moz-appearance: none;
  -webkit-appearance: none;
}

.jp-HTMLSelect.jp-DefaultStyle select:disabled {
  background-color: var(--jp-layout-color2);
  color: var(--jp-ui-font-color2);
  cursor: not-allowed;
  resize: block;
}

.jp-HTMLSelect.jp-DefaultStyle select:disabled ~ span {
  cursor: not-allowed;
}

/* Use our own theme for hover and option styles */
/* stylelint-disable-next-line selector-max-type */
.jp-HTMLSelect.jp-DefaultStyle select:hover,
.jp-HTMLSelect.jp-DefaultStyle select > option {
  background-color: var(--jp-layout-color2);
  color: var(--jp-ui-font-color0);
}

select {
  box-sizing: border-box;
}

/*-----------------------------------------------------------------------------
| Copyright (c) Jupyter Development Team.
| Distributed under the terms of the Modified BSD License.
|----------------------------------------------------------------------------*/

/*-----------------------------------------------------------------------------
| Styles
|----------------------------------------------------------------------------*/

.jp-StatusBar-Widget {
  display: flex;
  align-items: center;
  background: var(--jp-layout-color2);
  min-height: var(--jp-statusbar-height);
  justify-content: space-between;
  padding: 0 10px;
}

.jp-StatusBar-Left {
  display: flex;
  align-items: center;
  flex-direction: row;
}

.jp-StatusBar-Middle {
  display: flex;
  align-items: center;
}

.jp-StatusBar-Right {
  display: flex;
  align-items: center;
  flex-direction: row-reverse;
}

.jp-StatusBar-Item {
  max-height: var(--jp-statusbar-height);
  margin: 0 2px;
  height: var(--jp-statusbar-height);
  white-space: nowrap;
  text-overflow: ellipsis;
  color: var(--jp-ui-font-color1);
  padding: 0 6px;
}

.jp-mod-highlighted:hover {
  background-color: var(--jp-layout-color3);
}

.jp-mod-clicked {
  background-color: var(--jp-brand-color1);
}

.jp-mod-clicked:hover {
  background-color: var(--jp-brand-color0);
}

.jp-mod-clicked .jp-StatusBar-TextItem {
  color: var(--jp-ui-inverse-font-color1);
}

.jp-StatusBar-HoverItem {
  box-shadow: '0px 4px 4px rgba(0, 0, 0, 0.25)';
}

.jp-StatusBar-TextItem {
  font-size: var(--jp-ui-font-size1);
  font-family: var(--jp-ui-font-family);
  line-height: 24px;
  color: var(--jp-ui-font-color1);
}

.jp-StatusBar-GroupItem {
  display: flex;
  align-items: center;
  flex-direction: row;
}

.jp-Statusbar-ProgressCircle svg {
  display: block;
  margin: 0 auto;
  width: 16px;
  height: 24px;
  align-self: normal;
}

.jp-Statusbar-ProgressCircle path {
  fill: var(--jp-inverse-layout-color3);
}

.jp-Statusbar-ProgressBar-progress-bar {
  height: 10px;
  width: 100px;
  border: solid 0.25px var(--jp-brand-color2);
  border-radius: 3px;
  overflow: hidden;
  align-self: center;
}

.jp-Statusbar-ProgressBar-progress-bar > div {
  background-color: var(--jp-brand-color2);
  background-image: linear-gradient(
    -45deg,
    rgba(255, 255, 255, 0.2) 25%,
    transparent 25%,
    transparent 50%,
    rgba(255, 255, 255, 0.2) 50%,
    rgba(255, 255, 255, 0.2) 75%,
    transparent 75%,
    transparent
  );
  background-size: 40px 40px;
  float: left;
  width: 0%;
  height: 100%;
  font-size: 12px;
  line-height: 14px;
  color: #fff;
  text-align: center;
  animation: jp-Statusbar-ExecutionTime-progress-bar 2s linear infinite;
}

.jp-Statusbar-ProgressBar-progress-bar p {
  color: var(--jp-ui-font-color1);
  font-family: var(--jp-ui-font-family);
  font-size: var(--jp-ui-font-size1);
  line-height: 10px;
  width: 100px;
}

@keyframes jp-Statusbar-ExecutionTime-progress-bar {
  0% {
    background-position: 0 0;
  }

  100% {
    background-position: 40px 40px;
  }
}

/*-----------------------------------------------------------------------------
| Copyright (c) Jupyter Development Team.
| Distributed under the terms of the Modified BSD License.
|----------------------------------------------------------------------------*/

/*-----------------------------------------------------------------------------
| Variables
|----------------------------------------------------------------------------*/

:root {
  --jp-private-commandpalette-search-height: 28px;
}

/*-----------------------------------------------------------------------------
| Overall styles
|----------------------------------------------------------------------------*/

.lm-CommandPalette {
  padding-bottom: 0;
  color: var(--jp-ui-font-color1);
  background: var(--jp-layout-color1);

  /* This is needed so that all font sizing of children done in ems is
   * relative to this base size */
  font-size: var(--jp-ui-font-size1);
}

/*-----------------------------------------------------------------------------
| Modal variant
|----------------------------------------------------------------------------*/

.jp-ModalCommandPalette {
  position: absolute;
  z-index: 10000;
  top: 38px;
  left: 30%;
  margin: 0;
  padding: 4px;
  width: 40%;
  box-shadow: var(--jp-elevation-z4);
  border-radius: 4px;
  background: var(--jp-layout-color0);
}

.jp-ModalCommandPalette .lm-CommandPalette {
  max-height: 40vh;
}

.jp-ModalCommandPalette .lm-CommandPalette .lm-close-icon::after {
  display: none;
}

.jp-ModalCommandPalette .lm-CommandPalette .lm-CommandPalette-header {
  display: none;
}

.jp-ModalCommandPalette .lm-CommandPalette .lm-CommandPalette-item {
  margin-left: 4px;
  margin-right: 4px;
}

.jp-ModalCommandPalette
  .lm-CommandPalette
  .lm-CommandPalette-item.lm-mod-disabled {
  display: none;
}

/*-----------------------------------------------------------------------------
| Search
|----------------------------------------------------------------------------*/

.lm-CommandPalette-search {
  padding: 4px;
  background-color: var(--jp-layout-color1);
  z-index: 2;
}

.lm-CommandPalette-wrapper {
  overflow: overlay;
  padding: 0 9px;
  background-color: var(--jp-input-active-background);
  height: 30px;
  box-shadow: inset 0 0 0 var(--jp-border-width) var(--jp-input-border-color);
}

.lm-CommandPalette.lm-mod-focused .lm-CommandPalette-wrapper {
  box-shadow: inset 0 0 0 1px var(--jp-input-active-box-shadow-color),
    inset 0 0 0 3px var(--jp-input-active-box-shadow-color);
}

.jp-SearchIconGroup {
  color: white;
  background-color: var(--jp-brand-color1);
  position: absolute;
  top: 4px;
  right: 4px;
  padding: 5px 5px 1px;
}

.jp-SearchIconGroup svg {
  height: 20px;
  width: 20px;
}

.jp-SearchIconGroup .jp-icon3[fill] {
  fill: var(--jp-layout-color0);
}

.lm-CommandPalette-input {
  background: transparent;
  width: calc(100% - 18px);
  float: left;
  border: none;
  outline: none;
  font-size: var(--jp-ui-font-size1);
  color: var(--jp-ui-font-color0);
  line-height: var(--jp-private-commandpalette-search-height);
}

.lm-CommandPalette-input::-webkit-input-placeholder,
.lm-CommandPalette-input::-moz-placeholder,
.lm-CommandPalette-input:-ms-input-placeholder {
  color: var(--jp-ui-font-color2);
  font-size: var(--jp-ui-font-size1);
}

/*-----------------------------------------------------------------------------
| Results
|----------------------------------------------------------------------------*/

.lm-CommandPalette-header:first-child {
  margin-top: 0;
}

.lm-CommandPalette-header {
  border-bottom: solid var(--jp-border-width) var(--jp-border-color2);
  color: var(--jp-ui-font-color1);
  cursor: pointer;
  display: flex;
  font-size: var(--jp-ui-font-size0);
  font-weight: 600;
  letter-spacing: 1px;
  margin-top: 8px;
  padding: 8px 0 8px 12px;
  text-transform: uppercase;
}

.lm-CommandPalette-header.lm-mod-active {
  background: var(--jp-layout-color2);
}

.lm-CommandPalette-header > mark {
  background-color: transparent;
  font-weight: bold;
  color: var(--jp-ui-font-color1);
}

.lm-CommandPalette-item {
  padding: 4px 12px 4px 4px;
  color: var(--jp-ui-font-color1);
  font-size: var(--jp-ui-font-size1);
  font-weight: 400;
  display: flex;
}

.lm-CommandPalette-item.lm-mod-disabled {
  color: var(--jp-ui-font-color2);
}

.lm-CommandPalette-item.lm-mod-active {
  color: var(--jp-ui-inverse-font-color1);
  background: var(--jp-brand-color1);
}

.lm-CommandPalette-item.lm-mod-active .lm-CommandPalette-itemLabel > mark {
  color: var(--jp-ui-inverse-font-color0);
}

.lm-CommandPalette-item.lm-mod-active .jp-icon-selectable[fill] {
  fill: var(--jp-layout-color0);
}

.lm-CommandPalette-item.lm-mod-active:hover:not(.lm-mod-disabled) {
  color: var(--jp-ui-inverse-font-color1);
  background: var(--jp-brand-color1);
}

.lm-CommandPalette-item:hover:not(.lm-mod-active):not(.lm-mod-disabled) {
  background: var(--jp-layout-color2);
}

.lm-CommandPalette-itemContent {
  overflow: hidden;
}

.lm-CommandPalette-itemLabel > mark {
  color: var(--jp-ui-font-color0);
  background-color: transparent;
  font-weight: bold;
}

.lm-CommandPalette-item.lm-mod-disabled mark {
  color: var(--jp-ui-font-color2);
}

.lm-CommandPalette-item .lm-CommandPalette-itemIcon {
  margin: 0 4px 0 0;
  position: relative;
  width: 16px;
  top: 2px;
  flex: 0 0 auto;
}

.lm-CommandPalette-item.lm-mod-disabled .lm-CommandPalette-itemIcon {
  opacity: 0.6;
}

.lm-CommandPalette-item .lm-CommandPalette-itemShortcut {
  flex: 0 0 auto;
}

.lm-CommandPalette-itemCaption {
  display: none;
}

.lm-CommandPalette-content {
  background-color: var(--jp-layout-color1);
}

.lm-CommandPalette-content:empty::after {
  content: 'No results';
  margin: auto;
  margin-top: 20px;
  width: 100px;
  display: block;
  font-size: var(--jp-ui-font-size2);
  font-family: var(--jp-ui-font-family);
  font-weight: lighter;
}

.lm-CommandPalette-emptyMessage {
  text-align: center;
  margin-top: 24px;
  line-height: 1.32;
  padding: 0 8px;
  color: var(--jp-content-font-color3);
}

/*-----------------------------------------------------------------------------
| Copyright (c) 2014-2017, Jupyter Development Team.
|
| Distributed under the terms of the Modified BSD License.
|----------------------------------------------------------------------------*/

.jp-Dialog {
  position: absolute;
  z-index: 10000;
  display: flex;
  flex-direction: column;
  align-items: center;
  justify-content: center;
  top: 0;
  left: 0;
  margin: 0;
  padding: 0;
  width: 100%;
  height: 100%;
  background: var(--jp-dialog-background);
}

.jp-Dialog-content {
  display: flex;
  flex-direction: column;
  margin-left: auto;
  margin-right: auto;
  background: var(--jp-layout-color1);
  padding: 24px 24px 12px;
  min-width: 300px;
  min-height: 150px;
  max-width: 1000px;
  max-height: 500px;
  box-sizing: border-box;
  box-shadow: var(--jp-elevation-z20);
  word-wrap: break-word;
  border-radius: var(--jp-border-radius);

  /* This is needed so that all font sizing of children done in ems is
   * relative to this base size */
  font-size: var(--jp-ui-font-size1);
  color: var(--jp-ui-font-color1);
  resize: both;
}

.jp-Dialog-content.jp-Dialog-content-small {
  max-width: 500px;
}

.jp-Dialog-button {
  overflow: visible;
}

button.jp-Dialog-button:focus {
  outline: 1px solid var(--jp-brand-color1);
  outline-offset: 4px;
  -moz-outline-radius: 0;
}

button.jp-Dialog-button:focus::-moz-focus-inner {
  border: 0;
}

button.jp-Dialog-button.jp-mod-styled.jp-mod-accept:focus,
button.jp-Dialog-button.jp-mod-styled.jp-mod-warn:focus,
button.jp-Dialog-button.jp-mod-styled.jp-mod-reject:focus {
  outline-offset: 4px;
  -moz-outline-radius: 0;
}

button.jp-Dialog-button.jp-mod-styled.jp-mod-accept:focus {
  outline: 1px solid var(--jp-accept-color-normal, var(--jp-brand-color1));
}

button.jp-Dialog-button.jp-mod-styled.jp-mod-warn:focus {
  outline: 1px solid var(--jp-warn-color-normal, var(--jp-error-color1));
}

button.jp-Dialog-button.jp-mod-styled.jp-mod-reject:focus {
  outline: 1px solid var(--jp-reject-color-normal, var(--md-grey-600));
}

button.jp-Dialog-close-button {
  padding: 0;
  height: 100%;
  min-width: unset;
  min-height: unset;
}

.jp-Dialog-header {
  display: flex;
  justify-content: space-between;
  flex: 0 0 auto;
  padding-bottom: 12px;
  font-size: var(--jp-ui-font-size3);
  font-weight: 400;
  color: var(--jp-ui-font-color1);
}

.jp-Dialog-body {
  display: flex;
  flex-direction: column;
  flex: 1 1 auto;
  font-size: var(--jp-ui-font-size1);
  background: var(--jp-layout-color1);
  color: var(--jp-ui-font-color1);
  overflow: auto;
}

.jp-Dialog-footer {
  display: flex;
  flex-direction: row;
  justify-content: flex-end;
  align-items: center;
  flex: 0 0 auto;
  margin-left: -12px;
  margin-right: -12px;
  padding: 12px;
}

.jp-Dialog-checkbox {
  padding-right: 5px;
}

.jp-Dialog-checkbox > input:focus-visible {
  outline: 1px solid var(--jp-input-active-border-color);
  outline-offset: 1px;
}

.jp-Dialog-spacer {
  flex: 1 1 auto;
}

.jp-Dialog-title {
  overflow: hidden;
  white-space: nowrap;
  text-overflow: ellipsis;
}

.jp-Dialog-body > .jp-select-wrapper {
  width: 100%;
}

.jp-Dialog-body > button {
  padding: 0 16px;
}

.jp-Dialog-body > label {
  line-height: 1.4;
  color: var(--jp-ui-font-color0);
}

.jp-Dialog-button.jp-mod-styled:not(:last-child) {
  margin-right: 12px;
}

/*
 * Copyright (c) Jupyter Development Team.
 * Distributed under the terms of the Modified BSD License.
 */

.jp-Input-Boolean-Dialog {
  flex-direction: row-reverse;
  align-items: end;
  width: 100%;
}

.jp-Input-Boolean-Dialog > label {
  flex: 1 1 auto;
}

/*-----------------------------------------------------------------------------
| Copyright (c) 2014-2016, Jupyter Development Team.
|
| Distributed under the terms of the Modified BSD License.
|----------------------------------------------------------------------------*/

.jp-MainAreaWidget > :focus {
  outline: none;
}

.jp-MainAreaWidget .jp-MainAreaWidget-error {
  padding: 6px;
}

.jp-MainAreaWidget .jp-MainAreaWidget-error > pre {
  width: auto;
  padding: 10px;
  background: var(--jp-error-color3);
  border: var(--jp-border-width) solid var(--jp-error-color1);
  border-radius: var(--jp-border-radius);
  color: var(--jp-ui-font-color1);
  font-size: var(--jp-ui-font-size1);
  white-space: pre-wrap;
  word-wrap: break-word;
}

/*
 * Copyright (c) Jupyter Development Team.
 * Distributed under the terms of the Modified BSD License.
 */

/**
 * google-material-color v1.2.6
 * https://github.com/danlevan/google-material-color
 */
:root {
  --md-red-50: #ffebee;
  --md-red-100: #ffcdd2;
  --md-red-200: #ef9a9a;
  --md-red-300: #e57373;
  --md-red-400: #ef5350;
  --md-red-500: #f44336;
  --md-red-600: #e53935;
  --md-red-700: #d32f2f;
  --md-red-800: #c62828;
  --md-red-900: #b71c1c;
  --md-red-A100: #ff8a80;
  --md-red-A200: #ff5252;
  --md-red-A400: #ff1744;
  --md-red-A700: #d50000;
  --md-pink-50: #fce4ec;
  --md-pink-100: #f8bbd0;
  --md-pink-200: #f48fb1;
  --md-pink-300: #f06292;
  --md-pink-400: #ec407a;
  --md-pink-500: #e91e63;
  --md-pink-600: #d81b60;
  --md-pink-700: #c2185b;
  --md-pink-800: #ad1457;
  --md-pink-900: #880e4f;
  --md-pink-A100: #ff80ab;
  --md-pink-A200: #ff4081;
  --md-pink-A400: #f50057;
  --md-pink-A700: #c51162;
  --md-purple-50: #f3e5f5;
  --md-purple-100: #e1bee7;
  --md-purple-200: #ce93d8;
  --md-purple-300: #ba68c8;
  --md-purple-400: #ab47bc;
  --md-purple-500: #9c27b0;
  --md-purple-600: #8e24aa;
  --md-purple-700: #7b1fa2;
  --md-purple-800: #6a1b9a;
  --md-purple-900: #4a148c;
  --md-purple-A100: #ea80fc;
  --md-purple-A200: #e040fb;
  --md-purple-A400: #d500f9;
  --md-purple-A700: #a0f;
  --md-deep-purple-50: #ede7f6;
  --md-deep-purple-100: #d1c4e9;
  --md-deep-purple-200: #b39ddb;
  --md-deep-purple-300: #9575cd;
  --md-deep-purple-400: #7e57c2;
  --md-deep-purple-500: #673ab7;
  --md-deep-purple-600: #5e35b1;
  --md-deep-purple-700: #512da8;
  --md-deep-purple-800: #4527a0;
  --md-deep-purple-900: #311b92;
  --md-deep-purple-A100: #b388ff;
  --md-deep-purple-A200: #7c4dff;
  --md-deep-purple-A400: #651fff;
  --md-deep-purple-A700: #6200ea;
  --md-indigo-50: #e8eaf6;
  --md-indigo-100: #c5cae9;
  --md-indigo-200: #9fa8da;
  --md-indigo-300: #7986cb;
  --md-indigo-400: #5c6bc0;
  --md-indigo-500: #3f51b5;
  --md-indigo-600: #3949ab;
  --md-indigo-700: #303f9f;
  --md-indigo-800: #283593;
  --md-indigo-900: #1a237e;
  --md-indigo-A100: #8c9eff;
  --md-indigo-A200: #536dfe;
  --md-indigo-A400: #3d5afe;
  --md-indigo-A700: #304ffe;
  --md-blue-50: #e3f2fd;
  --md-blue-100: #bbdefb;
  --md-blue-200: #90caf9;
  --md-blue-300: #64b5f6;
  --md-blue-400: #42a5f5;
  --md-blue-500: #2196f3;
  --md-blue-600: #1e88e5;
  --md-blue-700: #1976d2;
  --md-blue-800: #1565c0;
  --md-blue-900: #0d47a1;
  --md-blue-A100: #82b1ff;
  --md-blue-A200: #448aff;
  --md-blue-A400: #2979ff;
  --md-blue-A700: #2962ff;
  --md-light-blue-50: #e1f5fe;
  --md-light-blue-100: #b3e5fc;
  --md-light-blue-200: #81d4fa;
  --md-light-blue-300: #4fc3f7;
  --md-light-blue-400: #29b6f6;
  --md-light-blue-500: #03a9f4;
  --md-light-blue-600: #039be5;
  --md-light-blue-700: #0288d1;
  --md-light-blue-800: #0277bd;
  --md-light-blue-900: #01579b;
  --md-light-blue-A100: #80d8ff;
  --md-light-blue-A200: #40c4ff;
  --md-light-blue-A400: #00b0ff;
  --md-light-blue-A700: #0091ea;
  --md-cyan-50: #e0f7fa;
  --md-cyan-100: #b2ebf2;
  --md-cyan-200: #80deea;
  --md-cyan-300: #4dd0e1;
  --md-cyan-400: #26c6da;
  --md-cyan-500: #00bcd4;
  --md-cyan-600: #00acc1;
  --md-cyan-700: #0097a7;
  --md-cyan-800: #00838f;
  --md-cyan-900: #006064;
  --md-cyan-A100: #84ffff;
  --md-cyan-A200: #18ffff;
  --md-cyan-A400: #00e5ff;
  --md-cyan-A700: #00b8d4;
  --md-teal-50: #e0f2f1;
  --md-teal-100: #b2dfdb;
  --md-teal-200: #80cbc4;
  --md-teal-300: #4db6ac;
  --md-teal-400: #26a69a;
  --md-teal-500: #009688;
  --md-teal-600: #00897b;
  --md-teal-700: #00796b;
  --md-teal-800: #00695c;
  --md-teal-900: #004d40;
  --md-teal-A100: #a7ffeb;
  --md-teal-A200: #64ffda;
  --md-teal-A400: #1de9b6;
  --md-teal-A700: #00bfa5;
  --md-green-50: #e8f5e9;
  --md-green-100: #c8e6c9;
  --md-green-200: #a5d6a7;
  --md-green-300: #81c784;
  --md-green-400: #66bb6a;
  --md-green-500: #4caf50;
  --md-green-600: #43a047;
  --md-green-700: #388e3c;
  --md-green-800: #2e7d32;
  --md-green-900: #1b5e20;
  --md-green-A100: #b9f6ca;
  --md-green-A200: #69f0ae;
  --md-green-A400: #00e676;
  --md-green-A700: #00c853;
  --md-light-green-50: #f1f8e9;
  --md-light-green-100: #dcedc8;
  --md-light-green-200: #c5e1a5;
  --md-light-green-300: #aed581;
  --md-light-green-400: #9ccc65;
  --md-light-green-500: #8bc34a;
  --md-light-green-600: #7cb342;
  --md-light-green-700: #689f38;
  --md-light-green-800: #558b2f;
  --md-light-green-900: #33691e;
  --md-light-green-A100: #ccff90;
  --md-light-green-A200: #b2ff59;
  --md-light-green-A400: #76ff03;
  --md-light-green-A700: #64dd17;
  --md-lime-50: #f9fbe7;
  --md-lime-100: #f0f4c3;
  --md-lime-200: #e6ee9c;
  --md-lime-300: #dce775;
  --md-lime-400: #d4e157;
  --md-lime-500: #cddc39;
  --md-lime-600: #c0ca33;
  --md-lime-700: #afb42b;
  --md-lime-800: #9e9d24;
  --md-lime-900: #827717;
  --md-lime-A100: #f4ff81;
  --md-lime-A200: #eeff41;
  --md-lime-A400: #c6ff00;
  --md-lime-A700: #aeea00;
  --md-yellow-50: #fffde7;
  --md-yellow-100: #fff9c4;
  --md-yellow-200: #fff59d;
  --md-yellow-300: #fff176;
  --md-yellow-400: #ffee58;
  --md-yellow-500: #ffeb3b;
  --md-yellow-600: #fdd835;
  --md-yellow-700: #fbc02d;
  --md-yellow-800: #f9a825;
  --md-yellow-900: #f57f17;
  --md-yellow-A100: #ffff8d;
  --md-yellow-A200: #ff0;
  --md-yellow-A400: #ffea00;
  --md-yellow-A700: #ffd600;
  --md-amber-50: #fff8e1;
  --md-amber-100: #ffecb3;
  --md-amber-200: #ffe082;
  --md-amber-300: #ffd54f;
  --md-amber-400: #ffca28;
  --md-amber-500: #ffc107;
  --md-amber-600: #ffb300;
  --md-amber-700: #ffa000;
  --md-amber-800: #ff8f00;
  --md-amber-900: #ff6f00;
  --md-amber-A100: #ffe57f;
  --md-amber-A200: #ffd740;
  --md-amber-A400: #ffc400;
  --md-amber-A700: #ffab00;
  --md-orange-50: #fff3e0;
  --md-orange-100: #ffe0b2;
  --md-orange-200: #ffcc80;
  --md-orange-300: #ffb74d;
  --md-orange-400: #ffa726;
  --md-orange-500: #ff9800;
  --md-orange-600: #fb8c00;
  --md-orange-700: #f57c00;
  --md-orange-800: #ef6c00;
  --md-orange-900: #e65100;
  --md-orange-A100: #ffd180;
  --md-orange-A200: #ffab40;
  --md-orange-A400: #ff9100;
  --md-orange-A700: #ff6d00;
  --md-deep-orange-50: #fbe9e7;
  --md-deep-orange-100: #ffccbc;
  --md-deep-orange-200: #ffab91;
  --md-deep-orange-300: #ff8a65;
  --md-deep-orange-400: #ff7043;
  --md-deep-orange-500: #ff5722;
  --md-deep-orange-600: #f4511e;
  --md-deep-orange-700: #e64a19;
  --md-deep-orange-800: #d84315;
  --md-deep-orange-900: #bf360c;
  --md-deep-orange-A100: #ff9e80;
  --md-deep-orange-A200: #ff6e40;
  --md-deep-orange-A400: #ff3d00;
  --md-deep-orange-A700: #dd2c00;
  --md-brown-50: #efebe9;
  --md-brown-100: #d7ccc8;
  --md-brown-200: #bcaaa4;
  --md-brown-300: #a1887f;
  --md-brown-400: #8d6e63;
  --md-brown-500: #795548;
  --md-brown-600: #6d4c41;
  --md-brown-700: #5d4037;
  --md-brown-800: #4e342e;
  --md-brown-900: #3e2723;
  --md-grey-50: #fafafa;
  --md-grey-100: #f5f5f5;
  --md-grey-200: #eee;
  --md-grey-300: #e0e0e0;
  --md-grey-400: #bdbdbd;
  --md-grey-500: #9e9e9e;
  --md-grey-600: #757575;
  --md-grey-700: #616161;
  --md-grey-800: #424242;
  --md-grey-900: #212121;
  --md-blue-grey-50: #eceff1;
  --md-blue-grey-100: #cfd8dc;
  --md-blue-grey-200: #b0bec5;
  --md-blue-grey-300: #90a4ae;
  --md-blue-grey-400: #78909c;
  --md-blue-grey-500: #607d8b;
  --md-blue-grey-600: #546e7a;
  --md-blue-grey-700: #455a64;
  --md-blue-grey-800: #37474f;
  --md-blue-grey-900: #263238;
}

/*-----------------------------------------------------------------------------
| Copyright (c) 2014-2017, Jupyter Development Team.
|
| Distributed under the terms of the Modified BSD License.
|----------------------------------------------------------------------------*/

/*-----------------------------------------------------------------------------
| Copyright (c) Jupyter Development Team.
| Distributed under the terms of the Modified BSD License.
|----------------------------------------------------------------------------*/

/*-----------------------------------------------------------------------------
| RenderedText
|----------------------------------------------------------------------------*/

:root {
  /* This is the padding value to fill the gaps between lines containing spans with background color. */
  --jp-private-code-span-padding: calc(
    (var(--jp-code-line-height) - 1) * var(--jp-code-font-size) / 2
  );
}

.jp-RenderedText {
  text-align: left;
  padding-left: var(--jp-code-padding);
  line-height: var(--jp-code-line-height);
  font-family: var(--jp-code-font-family);
}

.jp-RenderedText pre,
.jp-RenderedJavaScript pre,
.jp-RenderedHTMLCommon pre {
  color: var(--jp-content-font-color1);
  font-size: var(--jp-code-font-size);
  border: none;
  margin: 0;
  padding: 0;
}

.jp-RenderedText pre a:link {
  text-decoration: none;
  color: var(--jp-content-link-color);
}

.jp-RenderedText pre a:hover {
  text-decoration: underline;
  color: var(--jp-content-link-color);
}

.jp-RenderedText pre a:visited {
  text-decoration: none;
  color: var(--jp-content-link-color);
}

/* console foregrounds and backgrounds */
.jp-RenderedText pre .ansi-black-fg {
  color: #3e424d;
}

.jp-RenderedText pre .ansi-red-fg {
  color: #e75c58;
}

.jp-RenderedText pre .ansi-green-fg {
  color: #00a250;
}

.jp-RenderedText pre .ansi-yellow-fg {
  color: #ddb62b;
}

.jp-RenderedText pre .ansi-blue-fg {
  color: #208ffb;
}

.jp-RenderedText pre .ansi-magenta-fg {
  color: #d160c4;
}

.jp-RenderedText pre .ansi-cyan-fg {
  color: #60c6c8;
}

.jp-RenderedText pre .ansi-white-fg {
  color: #c5c1b4;
}

.jp-RenderedText pre .ansi-black-bg {
  background-color: #3e424d;
  padding: var(--jp-private-code-span-padding) 0;
}

.jp-RenderedText pre .ansi-red-bg {
  background-color: #e75c58;
  padding: var(--jp-private-code-span-padding) 0;
}

.jp-RenderedText pre .ansi-green-bg {
  background-color: #00a250;
  padding: var(--jp-private-code-span-padding) 0;
}

.jp-RenderedText pre .ansi-yellow-bg {
  background-color: #ddb62b;
  padding: var(--jp-private-code-span-padding) 0;
}

.jp-RenderedText pre .ansi-blue-bg {
  background-color: #208ffb;
  padding: var(--jp-private-code-span-padding) 0;
}

.jp-RenderedText pre .ansi-magenta-bg {
  background-color: #d160c4;
  padding: var(--jp-private-code-span-padding) 0;
}

.jp-RenderedText pre .ansi-cyan-bg {
  background-color: #60c6c8;
  padding: var(--jp-private-code-span-padding) 0;
}

.jp-RenderedText pre .ansi-white-bg {
  background-color: #c5c1b4;
  padding: var(--jp-private-code-span-padding) 0;
}

.jp-RenderedText pre .ansi-black-intense-fg {
  color: #282c36;
}

.jp-RenderedText pre .ansi-red-intense-fg {
  color: #b22b31;
}

.jp-RenderedText pre .ansi-green-intense-fg {
  color: #007427;
}

.jp-RenderedText pre .ansi-yellow-intense-fg {
  color: #b27d12;
}

.jp-RenderedText pre .ansi-blue-intense-fg {
  color: #0065ca;
}

.jp-RenderedText pre .ansi-magenta-intense-fg {
  color: #a03196;
}

.jp-RenderedText pre .ansi-cyan-intense-fg {
  color: #258f8f;
}

.jp-RenderedText pre .ansi-white-intense-fg {
  color: #a1a6b2;
}

.jp-RenderedText pre .ansi-black-intense-bg {
  background-color: #282c36;
  padding: var(--jp-private-code-span-padding) 0;
}

.jp-RenderedText pre .ansi-red-intense-bg {
  background-color: #b22b31;
  padding: var(--jp-private-code-span-padding) 0;
}

.jp-RenderedText pre .ansi-green-intense-bg {
  background-color: #007427;
  padding: var(--jp-private-code-span-padding) 0;
}

.jp-RenderedText pre .ansi-yellow-intense-bg {
  background-color: #b27d12;
  padding: var(--jp-private-code-span-padding) 0;
}

.jp-RenderedText pre .ansi-blue-intense-bg {
  background-color: #0065ca;
  padding: var(--jp-private-code-span-padding) 0;
}

.jp-RenderedText pre .ansi-magenta-intense-bg {
  background-color: #a03196;
  padding: var(--jp-private-code-span-padding) 0;
}

.jp-RenderedText pre .ansi-cyan-intense-bg {
  background-color: #258f8f;
  padding: var(--jp-private-code-span-padding) 0;
}

.jp-RenderedText pre .ansi-white-intense-bg {
  background-color: #a1a6b2;
  padding: var(--jp-private-code-span-padding) 0;
}

.jp-RenderedText pre .ansi-default-inverse-fg {
  color: var(--jp-ui-inverse-font-color0);
}

.jp-RenderedText pre .ansi-default-inverse-bg {
  background-color: var(--jp-inverse-layout-color0);
  padding: var(--jp-private-code-span-padding) 0;
}

.jp-RenderedText pre .ansi-bold {
  font-weight: bold;
}

.jp-RenderedText pre .ansi-underline {
  text-decoration: underline;
}

.jp-RenderedText[data-mime-type='application/vnd.jupyter.stderr'] {
  background: var(--jp-rendermime-error-background);
  padding-top: var(--jp-code-padding);
}

/*-----------------------------------------------------------------------------
| RenderedLatex
|----------------------------------------------------------------------------*/

.jp-RenderedLatex {
  color: var(--jp-content-font-color1);
  font-size: var(--jp-content-font-size1);
  line-height: var(--jp-content-line-height);
}

/* Left-justify outputs.*/
.jp-OutputArea-output.jp-RenderedLatex {
  padding: var(--jp-code-padding);
  text-align: left;
}

/*-----------------------------------------------------------------------------
| RenderedHTML
|----------------------------------------------------------------------------*/

.jp-RenderedHTMLCommon {
  color: var(--jp-content-font-color1);
  font-family: var(--jp-content-font-family);
  font-size: var(--jp-content-font-size1);
  line-height: var(--jp-content-line-height);

  /* Give a bit more R padding on Markdown text to keep line lengths reasonable */
  padding-right: 20px;
}

.jp-RenderedHTMLCommon em {
  font-style: italic;
}

.jp-RenderedHTMLCommon strong {
  font-weight: bold;
}

.jp-RenderedHTMLCommon u {
  text-decoration: underline;
}

.jp-RenderedHTMLCommon a:link {
  text-decoration: none;
  color: var(--jp-content-link-color);
}

.jp-RenderedHTMLCommon a:hover {
  text-decoration: underline;
  color: var(--jp-content-link-color);
}

.jp-RenderedHTMLCommon a:visited {
  text-decoration: none;
  color: var(--jp-content-link-color);
}

/* Headings */

.jp-RenderedHTMLCommon h1,
.jp-RenderedHTMLCommon h2,
.jp-RenderedHTMLCommon h3,
.jp-RenderedHTMLCommon h4,
.jp-RenderedHTMLCommon h5,
.jp-RenderedHTMLCommon h6 {
  line-height: var(--jp-content-heading-line-height);
  font-weight: var(--jp-content-heading-font-weight);
  font-style: normal;
  margin: var(--jp-content-heading-margin-top) 0
    var(--jp-content-heading-margin-bottom) 0;
}

.jp-RenderedHTMLCommon h1:first-child,
.jp-RenderedHTMLCommon h2:first-child,
.jp-RenderedHTMLCommon h3:first-child,
.jp-RenderedHTMLCommon h4:first-child,
.jp-RenderedHTMLCommon h5:first-child,
.jp-RenderedHTMLCommon h6:first-child {
  margin-top: calc(0.5 * var(--jp-content-heading-margin-top));
}

.jp-RenderedHTMLCommon h1:last-child,
.jp-RenderedHTMLCommon h2:last-child,
.jp-RenderedHTMLCommon h3:last-child,
.jp-RenderedHTMLCommon h4:last-child,
.jp-RenderedHTMLCommon h5:last-child,
.jp-RenderedHTMLCommon h6:last-child {
  margin-bottom: calc(0.5 * var(--jp-content-heading-margin-bottom));
}

.jp-RenderedHTMLCommon h1 {
  font-size: var(--jp-content-font-size5);
}

.jp-RenderedHTMLCommon h2 {
  font-size: var(--jp-content-font-size4);
}

.jp-RenderedHTMLCommon h3 {
  font-size: var(--jp-content-font-size3);
}

.jp-RenderedHTMLCommon h4 {
  font-size: var(--jp-content-font-size2);
}

.jp-RenderedHTMLCommon h5 {
  font-size: var(--jp-content-font-size1);
}

.jp-RenderedHTMLCommon h6 {
  font-size: var(--jp-content-font-size0);
}

/* Lists */

/* stylelint-disable selector-max-type, selector-max-compound-selectors */

.jp-RenderedHTMLCommon ul:not(.list-inline),
.jp-RenderedHTMLCommon ol:not(.list-inline) {
  padding-left: 2em;
}

.jp-RenderedHTMLCommon ul {
  list-style: disc;
}

.jp-RenderedHTMLCommon ul ul {
  list-style: square;
}

.jp-RenderedHTMLCommon ul ul ul {
  list-style: circle;
}

.jp-RenderedHTMLCommon ol {
  list-style: decimal;
}

.jp-RenderedHTMLCommon ol ol {
  list-style: upper-alpha;
}

.jp-RenderedHTMLCommon ol ol ol {
  list-style: lower-alpha;
}

.jp-RenderedHTMLCommon ol ol ol ol {
  list-style: lower-roman;
}

.jp-RenderedHTMLCommon ol ol ol ol ol {
  list-style: decimal;
}

.jp-RenderedHTMLCommon ol,
.jp-RenderedHTMLCommon ul {
  margin-bottom: 1em;
}

.jp-RenderedHTMLCommon ul ul,
.jp-RenderedHTMLCommon ul ol,
.jp-RenderedHTMLCommon ol ul,
.jp-RenderedHTMLCommon ol ol {
  margin-bottom: 0;
}

/* stylelint-enable selector-max-type, selector-max-compound-selectors */

.jp-RenderedHTMLCommon hr {
  color: var(--jp-border-color2);
  background-color: var(--jp-border-color1);
  margin-top: 1em;
  margin-bottom: 1em;
}

.jp-RenderedHTMLCommon > pre {
  margin: 1.5em 2em;
}

.jp-RenderedHTMLCommon pre,
.jp-RenderedHTMLCommon code {
  border: 0;
  background-color: var(--jp-layout-color0);
  color: var(--jp-content-font-color1);
  font-family: var(--jp-code-font-family);
  font-size: inherit;
  line-height: var(--jp-code-line-height);
  padding: 0;
  white-space: pre-wrap;
}

.jp-RenderedHTMLCommon :not(pre) > code {
  background-color: var(--jp-layout-color2);
  padding: 1px 5px;
}

/* Tables */

.jp-RenderedHTMLCommon table {
  border-collapse: collapse;
  border-spacing: 0;
  border: none;
  color: var(--jp-ui-font-color1);
  font-size: var(--jp-ui-font-size1);
  table-layout: fixed;
  margin-left: auto;
  margin-bottom: 1em;
  margin-right: auto;
}

.jp-RenderedHTMLCommon thead {
  border-bottom: var(--jp-border-width) solid var(--jp-border-color1);
  vertical-align: bottom;
}

.jp-RenderedHTMLCommon td,
.jp-RenderedHTMLCommon th,
.jp-RenderedHTMLCommon tr {
  vertical-align: middle;
  padding: 0.5em;
  line-height: normal;
  white-space: normal;
  max-width: none;
  border: none;
}

.jp-RenderedMarkdown.jp-RenderedHTMLCommon td,
.jp-RenderedMarkdown.jp-RenderedHTMLCommon th {
  max-width: none;
}

:not(.jp-RenderedMarkdown).jp-RenderedHTMLCommon td,
:not(.jp-RenderedMarkdown).jp-RenderedHTMLCommon th,
:not(.jp-RenderedMarkdown).jp-RenderedHTMLCommon tr {
  text-align: right;
}

.jp-RenderedHTMLCommon th {
  font-weight: bold;
}

.jp-RenderedHTMLCommon tbody tr:nth-child(odd) {
  background: var(--jp-layout-color0);
}

.jp-RenderedHTMLCommon tbody tr:nth-child(even) {
  background: var(--jp-rendermime-table-row-background);
}

.jp-RenderedHTMLCommon tbody tr:hover {
  background: var(--jp-rendermime-table-row-hover-background);
}

.jp-RenderedHTMLCommon p {
  text-align: left;
  margin: 0;
  margin-bottom: 1em;
}

.jp-RenderedHTMLCommon img {
  -moz-force-broken-image-icon: 1;
}

/* Restrict to direct children as other images could be nested in other content. */
.jp-RenderedHTMLCommon > img {
  display: block;
  margin-left: 0;
  margin-right: 0;
  margin-bottom: 1em;
}

/* Change color behind transparent images if they need it... */
[data-jp-theme-light='false'] .jp-RenderedImage img.jp-needs-light-background {
  background-color: var(--jp-inverse-layout-color1);
}

[data-jp-theme-light='true'] .jp-RenderedImage img.jp-needs-dark-background {
  background-color: var(--jp-inverse-layout-color1);
}

.jp-RenderedHTMLCommon img,
.jp-RenderedImage img,
.jp-RenderedHTMLCommon svg,
.jp-RenderedSVG svg {
  max-width: 100%;
  height: auto;
}

.jp-RenderedHTMLCommon img.jp-mod-unconfined,
.jp-RenderedImage img.jp-mod-unconfined,
.jp-RenderedHTMLCommon svg.jp-mod-unconfined,
.jp-RenderedSVG svg.jp-mod-unconfined {
  max-width: none;
}

.jp-RenderedHTMLCommon .alert {
  padding: var(--jp-notebook-padding);
  border: var(--jp-border-width) solid transparent;
  border-radius: var(--jp-border-radius);
  margin-bottom: 1em;
}

.jp-RenderedHTMLCommon .alert-info {
  color: var(--jp-info-color0);
  background-color: var(--jp-info-color3);
  border-color: var(--jp-info-color2);
}

.jp-RenderedHTMLCommon .alert-info hr {
  border-color: var(--jp-info-color3);
}

.jp-RenderedHTMLCommon .alert-info > p:last-child,
.jp-RenderedHTMLCommon .alert-info > ul:last-child {
  margin-bottom: 0;
}

.jp-RenderedHTMLCommon .alert-warning {
  color: var(--jp-warn-color0);
  background-color: var(--jp-warn-color3);
  border-color: var(--jp-warn-color2);
}

.jp-RenderedHTMLCommon .alert-warning hr {
  border-color: var(--jp-warn-color3);
}

.jp-RenderedHTMLCommon .alert-warning > p:last-child,
.jp-RenderedHTMLCommon .alert-warning > ul:last-child {
  margin-bottom: 0;
}

.jp-RenderedHTMLCommon .alert-success {
  color: var(--jp-success-color0);
  background-color: var(--jp-success-color3);
  border-color: var(--jp-success-color2);
}

.jp-RenderedHTMLCommon .alert-success hr {
  border-color: var(--jp-success-color3);
}

.jp-RenderedHTMLCommon .alert-success > p:last-child,
.jp-RenderedHTMLCommon .alert-success > ul:last-child {
  margin-bottom: 0;
}

.jp-RenderedHTMLCommon .alert-danger {
  color: var(--jp-error-color0);
  background-color: var(--jp-error-color3);
  border-color: var(--jp-error-color2);
}

.jp-RenderedHTMLCommon .alert-danger hr {
  border-color: var(--jp-error-color3);
}

.jp-RenderedHTMLCommon .alert-danger > p:last-child,
.jp-RenderedHTMLCommon .alert-danger > ul:last-child {
  margin-bottom: 0;
}

.jp-RenderedHTMLCommon blockquote {
  margin: 1em 2em;
  padding: 0 1em;
  border-left: 5px solid var(--jp-border-color2);
}

a.jp-InternalAnchorLink {
  visibility: hidden;
  margin-left: 8px;
  color: var(--md-blue-800);
}

h1:hover .jp-InternalAnchorLink,
h2:hover .jp-InternalAnchorLink,
h3:hover .jp-InternalAnchorLink,
h4:hover .jp-InternalAnchorLink,
h5:hover .jp-InternalAnchorLink,
h6:hover .jp-InternalAnchorLink {
  visibility: visible;
}

.jp-RenderedHTMLCommon kbd {
  background-color: var(--jp-rendermime-table-row-background);
  border: 1px solid var(--jp-border-color0);
  border-bottom-color: var(--jp-border-color2);
  border-radius: 3px;
  box-shadow: inset 0 -1px 0 rgba(0, 0, 0, 0.25);
  display: inline-block;
  font-size: var(--jp-ui-font-size0);
  line-height: 1em;
  padding: 0.2em 0.5em;
}

/* Most direct children of .jp-RenderedHTMLCommon have a margin-bottom of 1.0.
 * At the bottom of cells this is a bit too much as there is also spacing
 * between cells. Going all the way to 0 gets too tight between markdown and
 * code cells.
 */
.jp-RenderedHTMLCommon > *:last-child {
  margin-bottom: 0.5em;
}

/*
 * Copyright (c) Jupyter Development Team.
 * Distributed under the terms of the Modified BSD License.
 */

/*-----------------------------------------------------------------------------
| Copyright (c) Jupyter Development Team.
| Copyright (c) 2014-2017, PhosphorJS Contributors
|
| Distributed under the terms of the BSD 3-Clause License.
|
| The full license is in the file LICENSE, distributed with this software.
|----------------------------------------------------------------------------*/

.lm-cursor-backdrop {
  position: fixed;
  width: 200px;
  height: 200px;
  margin-top: -100px;
  margin-left: -100px;
  will-change: transform;
  z-index: 100;
}

.lm-mod-drag-image {
  will-change: transform;
}

/*
 * Copyright (c) Jupyter Development Team.
 * Distributed under the terms of the Modified BSD License.
 */

.jp-lineFormSearch {
  padding: 4px 12px;
  background-color: var(--jp-layout-color2);
  box-shadow: var(--jp-toolbar-box-shadow);
  z-index: 2;
  font-size: var(--jp-ui-font-size1);
}

.jp-lineFormCaption {
  font-size: var(--jp-ui-font-size0);
  line-height: var(--jp-ui-font-size1);
  margin-top: 4px;
  color: var(--jp-ui-font-color0);
}

.jp-baseLineForm {
  border: none;
  border-radius: 0;
  position: absolute;
  background-size: 16px;
  background-repeat: no-repeat;
  background-position: center;
  outline: none;
}

.jp-lineFormButtonContainer {
  top: 4px;
  right: 8px;
  height: 24px;
  padding: 0 12px;
  width: 12px;
}

.jp-lineFormButtonIcon {
  top: 0;
  right: 0;
  background-color: var(--jp-brand-color1);
  height: 100%;
  width: 100%;
  box-sizing: border-box;
  padding: 4px 6px;
}

.jp-lineFormButton {
  top: 0;
  right: 0;
  background-color: transparent;
  height: 100%;
  width: 100%;
  box-sizing: border-box;
}

.jp-lineFormWrapper {
  overflow: hidden;
  padding: 0 8px;
  border: 1px solid var(--jp-border-color0);
  background-color: var(--jp-input-active-background);
  height: 22px;
}

.jp-lineFormWrapperFocusWithin {
  border: var(--jp-border-width) solid var(--md-blue-500);
  box-shadow: inset 0 0 4px var(--md-blue-300);
}

.jp-lineFormInput {
  background: transparent;
  width: 200px;
  height: 100%;
  border: none;
  outline: none;
  color: var(--jp-ui-font-color0);
  line-height: 28px;
}

/*-----------------------------------------------------------------------------
| Copyright (c) 2014-2016, Jupyter Development Team.
|
| Distributed under the terms of the Modified BSD License.
|----------------------------------------------------------------------------*/

.jp-JSONEditor {
  display: flex;
  flex-direction: column;
  width: 100%;
}

.jp-JSONEditor-host {
  flex: 1 1 auto;
  border: var(--jp-border-width) solid var(--jp-input-border-color);
  border-radius: 0;
  background: var(--jp-layout-color0);
  min-height: 50px;
  padding: 1px;
}

.jp-JSONEditor.jp-mod-error .jp-JSONEditor-host {
  border-color: red;
  outline-color: red;
}

.jp-JSONEditor-header {
  display: flex;
  flex: 1 0 auto;
  padding: 0 0 0 12px;
}

.jp-JSONEditor-header label {
  flex: 0 0 auto;
}

.jp-JSONEditor-commitButton {
  height: 16px;
  width: 16px;
  background-size: 18px;
  background-repeat: no-repeat;
  background-position: center;
}

.jp-JSONEditor-host.jp-mod-focused {
  background-color: var(--jp-input-active-background);
  border: 1px solid var(--jp-input-active-border-color);
  box-shadow: var(--jp-input-box-shadow);
}

.jp-Editor.jp-mod-dropTarget {
  border: var(--jp-border-width) solid var(--jp-input-active-border-color);
  box-shadow: var(--jp-input-box-shadow);
}

/*-----------------------------------------------------------------------------
| Copyright (c) Jupyter Development Team.
| Distributed under the terms of the Modified BSD License.
|----------------------------------------------------------------------------*/
.jp-DocumentSearch-input {
  border: none;
  outline: none;
  color: var(--jp-ui-font-color0);
  font-size: var(--jp-ui-font-size1);
  background-color: var(--jp-layout-color0);
  font-family: var(--jp-ui-font-family);
  padding: 2px 1px;
  resize: none;
}

.jp-DocumentSearch-overlay {
  position: absolute;
  background-color: var(--jp-toolbar-background);
  border-bottom: var(--jp-border-width) solid var(--jp-toolbar-border-color);
  border-left: var(--jp-border-width) solid var(--jp-toolbar-border-color);
  top: 0;
  right: 0;
  z-index: 7;
  min-width: 405px;
  padding: 2px;
  font-size: var(--jp-ui-font-size1);

  --jp-private-document-search-button-height: 20px;
}

.jp-DocumentSearch-overlay button {
  background-color: var(--jp-toolbar-background);
  outline: 0;
}

.jp-DocumentSearch-overlay button:hover {
  background-color: var(--jp-layout-color2);
}

.jp-DocumentSearch-overlay button:active {
  background-color: var(--jp-layout-color3);
}

.jp-DocumentSearch-overlay-row {
  display: flex;
  align-items: center;
  margin-bottom: 2px;
}

.jp-DocumentSearch-button-content {
  display: inline-block;
  cursor: pointer;
  box-sizing: border-box;
  width: 100%;
  height: 100%;
}

.jp-DocumentSearch-button-content svg {
  width: 100%;
  height: 100%;
}

.jp-DocumentSearch-input-wrapper {
  border: var(--jp-border-width) solid var(--jp-border-color0);
  display: flex;
  background-color: var(--jp-layout-color0);
  margin: 2px;
}

.jp-DocumentSearch-input-wrapper:focus-within {
  border-color: var(--jp-cell-editor-active-border-color);
}

.jp-DocumentSearch-toggle-wrapper,
.jp-DocumentSearch-button-wrapper {
  all: initial;
  overflow: hidden;
  display: inline-block;
  border: none;
  box-sizing: border-box;
}

.jp-DocumentSearch-toggle-wrapper {
  width: 14px;
  height: 14px;
}

.jp-DocumentSearch-button-wrapper {
  width: var(--jp-private-document-search-button-height);
  height: var(--jp-private-document-search-button-height);
}

.jp-DocumentSearch-toggle-wrapper:focus,
.jp-DocumentSearch-button-wrapper:focus {
  outline: var(--jp-border-width) solid
    var(--jp-cell-editor-active-border-color);
  outline-offset: -1px;
}

.jp-DocumentSearch-toggle-wrapper,
.jp-DocumentSearch-button-wrapper,
.jp-DocumentSearch-button-content:focus {
  outline: none;
}

.jp-DocumentSearch-toggle-placeholder {
  width: 5px;
}

.jp-DocumentSearch-input-button::before {
  display: block;
  padding-top: 100%;
}

.jp-DocumentSearch-input-button-off {
  opacity: var(--jp-search-toggle-off-opacity);
}

.jp-DocumentSearch-input-button-off:hover {
  opacity: var(--jp-search-toggle-hover-opacity);
}

.jp-DocumentSearch-input-button-on {
  opacity: var(--jp-search-toggle-on-opacity);
}

.jp-DocumentSearch-index-counter {
  padding-left: 10px;
  padding-right: 10px;
  user-select: none;
  min-width: 35px;
  display: inline-block;
}

.jp-DocumentSearch-up-down-wrapper {
  display: inline-block;
  padding-right: 2px;
  margin-left: auto;
  white-space: nowrap;
}

.jp-DocumentSearch-spacer {
  margin-left: auto;
}

.jp-DocumentSearch-up-down-wrapper button {
  outline: 0;
  border: none;
  width: var(--jp-private-document-search-button-height);
  height: var(--jp-private-document-search-button-height);
  vertical-align: middle;
  margin: 1px 5px 2px;
}

.jp-DocumentSearch-up-down-button:hover {
  background-color: var(--jp-layout-color2);
}

.jp-DocumentSearch-up-down-button:active {
  background-color: var(--jp-layout-color3);
}

.jp-DocumentSearch-filter-button {
  border-radius: var(--jp-border-radius);
}

.jp-DocumentSearch-filter-button:hover {
  background-color: var(--jp-layout-color2);
}

.jp-DocumentSearch-filter-button-enabled {
  background-color: var(--jp-layout-color2);
}

.jp-DocumentSearch-filter-button-enabled:hover {
  background-color: var(--jp-layout-color3);
}

.jp-DocumentSearch-search-options {
  padding: 0 8px;
  margin-left: 3px;
  width: 100%;
  display: grid;
  justify-content: start;
  grid-template-columns: 1fr 1fr;
  align-items: center;
  justify-items: stretch;
}

.jp-DocumentSearch-search-filter-disabled {
  color: var(--jp-ui-font-color2);
}

.jp-DocumentSearch-search-filter {
  display: flex;
  align-items: center;
  user-select: none;
}

.jp-DocumentSearch-regex-error {
  color: var(--jp-error-color0);
}

.jp-DocumentSearch-replace-button-wrapper {
  overflow: hidden;
  display: inline-block;
  box-sizing: border-box;
  border: var(--jp-border-width) solid var(--jp-border-color0);
  margin: auto 2px;
  padding: 1px 4px;
  height: calc(var(--jp-private-document-search-button-height) + 2px);
}

.jp-DocumentSearch-replace-button-wrapper:focus {
  border: var(--jp-border-width) solid var(--jp-cell-editor-active-border-color);
}

.jp-DocumentSearch-replace-button {
  display: inline-block;
  text-align: center;
  cursor: pointer;
  box-sizing: border-box;
  color: var(--jp-ui-font-color1);

  /* height - 2 * (padding of wrapper) */
  line-height: calc(var(--jp-private-document-search-button-height) - 2px);
  width: 100%;
  height: 100%;
}

.jp-DocumentSearch-replace-button:focus {
  outline: none;
}

.jp-DocumentSearch-replace-wrapper-class {
  margin-left: 14px;
  display: flex;
}

.jp-DocumentSearch-replace-toggle {
  border: none;
  background-color: var(--jp-toolbar-background);
  border-radius: var(--jp-border-radius);
}

.jp-DocumentSearch-replace-toggle:hover {
  background-color: var(--jp-layout-color2);
}

/*-----------------------------------------------------------------------------
| Copyright (c) Jupyter Development Team.
| Distributed under the terms of the Modified BSD License.
|----------------------------------------------------------------------------*/

.cm-editor {
  line-height: var(--jp-code-line-height);
  font-size: var(--jp-code-font-size);
  font-family: var(--jp-code-font-family);
  border: 0;
  border-radius: 0;
  height: auto;

  /* Changed to auto to autogrow */
}

.cm-editor pre {
  padding: 0 var(--jp-code-padding);
}

.jp-CodeMirrorEditor[data-type='inline'] .cm-dialog {
  background-color: var(--jp-layout-color0);
  color: var(--jp-content-font-color1);
}

.jp-CodeMirrorEditor {
  cursor: text;
}

/* When zoomed out 67% and 33% on a screen of 1440 width x 900 height */
@media screen and (min-width: 2138px) and (max-width: 4319px) {
  .jp-CodeMirrorEditor[data-type='inline'] .cm-cursor {
    border-left: var(--jp-code-cursor-width1) solid
      var(--jp-editor-cursor-color);
  }
}

/* When zoomed out less than 33% */
@media screen and (min-width: 4320px) {
  .jp-CodeMirrorEditor[data-type='inline'] .cm-cursor {
    border-left: var(--jp-code-cursor-width2) solid
      var(--jp-editor-cursor-color);
  }
}

.cm-editor.jp-mod-readOnly .cm-cursor {
  display: none;
}

.jp-CollaboratorCursor {
  border-left: 5px solid transparent;
  border-right: 5px solid transparent;
  border-top: none;
  border-bottom: 3px solid;
  background-clip: content-box;
  margin-left: -5px;
  margin-right: -5px;
}

.cm-searching,
.cm-searching span {
  /* `.cm-searching span`: we need to override syntax highlighting */
  background-color: var(--jp-search-unselected-match-background-color);
  color: var(--jp-search-unselected-match-color);
}

.cm-searching::selection,
.cm-searching span::selection {
  background-color: var(--jp-search-unselected-match-background-color);
  color: var(--jp-search-unselected-match-color);
}

.jp-current-match > .cm-searching,
.jp-current-match > .cm-searching span,
.cm-searching > .jp-current-match,
.cm-searching > .jp-current-match span {
  background-color: var(--jp-search-selected-match-background-color);
  color: var(--jp-search-selected-match-color);
}

.jp-current-match > .cm-searching::selection,
.cm-searching > .jp-current-match::selection,
.jp-current-match > .cm-searching span::selection {
  background-color: var(--jp-search-selected-match-background-color);
  color: var(--jp-search-selected-match-color);
}

.cm-trailingspace {
  background-image: url(data:image/png;base64,iVBORw0KGgoAAAANSUhEUgAAAAgAAAAFCAYAAAB4ka1VAAAAsElEQVQIHQGlAFr/AAAAAAAAAAAAAAAAAAAAAAAAAAAAAAAAAAAAAAAAAAAAAAAAAAAAAAAA7+r3zKmT0/+pk9P/7+r3zAAAAAAAAAAABAAAAAAAAAAA6OPzM+/q9wAAAAAA6OPzMwAAAAAAAAAAAgAAAAAAAAAAGR8NiRQaCgAZIA0AGR8NiQAAAAAAAAAAAAAAAAAAAAAAAAAAAAAAAAAAAAAAAAAAAAAAAAAAAAAAQyoYJ/SY80UAAAAASUVORK5CYII=);
  background-position: center left;
  background-repeat: repeat-x;
}

.jp-CollaboratorCursor-hover {
  position: absolute;
  z-index: 1;
  transform: translateX(-50%);
  color: white;
  border-radius: 3px;
  padding-left: 4px;
  padding-right: 4px;
  padding-top: 1px;
  padding-bottom: 1px;
  text-align: center;
  font-size: var(--jp-ui-font-size1);
  white-space: nowrap;
}

.jp-CodeMirror-ruler {
  border-left: 1px dashed var(--jp-border-color2);
}

/* Styles for shared cursors (remote cursor locations and selected ranges) */
.jp-CodeMirrorEditor .cm-ySelectionCaret {
  position: relative;
  border-left: 1px solid black;
  margin-left: -1px;
  margin-right: -1px;
  box-sizing: border-box;
}

.jp-CodeMirrorEditor .cm-ySelectionCaret > .cm-ySelectionInfo {
  white-space: nowrap;
  position: absolute;
  top: -1.15em;
  padding-bottom: 0.05em;
  left: -1px;
  font-size: 0.95em;
  font-family: var(--jp-ui-font-family);
  font-weight: bold;
  line-height: normal;
  user-select: none;
  color: white;
  padding-left: 2px;
  padding-right: 2px;
  z-index: 101;
  transition: opacity 0.3s ease-in-out;
}

.jp-CodeMirrorEditor .cm-ySelectionInfo {
  transition-delay: 0.7s;
  opacity: 0;
}

.jp-CodeMirrorEditor .cm-ySelectionCaret:hover > .cm-ySelectionInfo {
  opacity: 1;
  transition-delay: 0s;
}

/*-----------------------------------------------------------------------------
| Copyright (c) Jupyter Development Team.
| Distributed under the terms of the Modified BSD License.
|----------------------------------------------------------------------------*/

.jp-MimeDocument {
  outline: none;
}

/*-----------------------------------------------------------------------------
| Copyright (c) Jupyter Development Team.
| Distributed under the terms of the Modified BSD License.
|----------------------------------------------------------------------------*/

/*-----------------------------------------------------------------------------
| Variables
|----------------------------------------------------------------------------*/

:root {
  --jp-private-filebrowser-button-height: 28px;
  --jp-private-filebrowser-button-width: 48px;
}

/*-----------------------------------------------------------------------------
| Copyright (c) Jupyter Development Team.
| Distributed under the terms of the Modified BSD License.
|----------------------------------------------------------------------------*/

.jp-FileBrowser .jp-SidePanel-content {
  display: flex;
  flex-direction: column;
}

.jp-FileBrowser-toolbar.jp-Toolbar {
  flex-wrap: wrap;
  row-gap: 12px;
  border-bottom: none;
  height: auto;
  margin: 8px 12px 0;
  box-shadow: none;
  padding: 0;
  justify-content: flex-start;
}

.jp-FileBrowser-Panel {
  flex: 1 1 auto;
  display: flex;
  flex-direction: column;
}

.jp-BreadCrumbs {
  flex: 0 0 auto;
  margin: 8px 12px;
}

.jp-BreadCrumbs-item {
  margin: 0 2px;
  padding: 0 2px;
  border-radius: var(--jp-border-radius);
  cursor: pointer;
}

.jp-BreadCrumbs-item:hover {
  background-color: var(--jp-layout-color2);
}

.jp-BreadCrumbs-item:first-child {
  margin-left: 0;
}

.jp-BreadCrumbs-item.jp-mod-dropTarget {
  background-color: var(--jp-brand-color2);
  opacity: 0.7;
}

/*-----------------------------------------------------------------------------
| Buttons
|----------------------------------------------------------------------------*/

.jp-FileBrowser-toolbar > .jp-Toolbar-item {
  flex: 0 0 auto;
  padding-left: 0;
  padding-right: 2px;
  align-items: center;
  height: unset;
}

.jp-FileBrowser-toolbar > .jp-Toolbar-item .jp-ToolbarButtonComponent {
  width: 40px;
}

/*-----------------------------------------------------------------------------
| Other styles
|----------------------------------------------------------------------------*/

.jp-FileDialog.jp-mod-conflict input {
  color: var(--jp-error-color1);
}

.jp-FileDialog .jp-new-name-title {
  margin-top: 12px;
}

.jp-LastModified-hidden {
  display: none;
}

.jp-FileSize-hidden {
  display: none;
}

.jp-FileBrowser .lm-AccordionPanel > h3:first-child {
  display: none;
}

/*-----------------------------------------------------------------------------
| DirListing
|----------------------------------------------------------------------------*/

.jp-DirListing {
  flex: 1 1 auto;
  display: flex;
  flex-direction: column;
  outline: 0;
}

.jp-DirListing-header {
  flex: 0 0 auto;
  display: flex;
  flex-direction: row;
  align-items: center;
  overflow: hidden;
  border-top: var(--jp-border-width) solid var(--jp-border-color2);
  border-bottom: var(--jp-border-width) solid var(--jp-border-color1);
  box-shadow: var(--jp-toolbar-box-shadow);
  z-index: 2;
}

.jp-DirListing-headerItem {
  padding: 4px 12px 2px;
  font-weight: 500;
}

.jp-DirListing-headerItem:hover {
  background: var(--jp-layout-color2);
}

.jp-DirListing-headerItem.jp-id-name {
  flex: 1 0 84px;
}

.jp-DirListing-headerItem.jp-id-modified {
  flex: 0 0 112px;
  border-left: var(--jp-border-width) solid var(--jp-border-color2);
  text-align: right;
}

.jp-DirListing-headerItem.jp-id-filesize {
  flex: 0 0 75px;
  border-left: var(--jp-border-width) solid var(--jp-border-color2);
  text-align: right;
}

.jp-id-narrow {
  display: none;
  flex: 0 0 5px;
  padding: 4px;
  border-left: var(--jp-border-width) solid var(--jp-border-color2);
  text-align: right;
  color: var(--jp-border-color2);
}

.jp-DirListing-narrow .jp-id-narrow {
  display: block;
}

.jp-DirListing-narrow .jp-id-modified,
.jp-DirListing-narrow .jp-DirListing-itemModified {
  display: none;
}

.jp-DirListing-headerItem.jp-mod-selected {
  font-weight: 600;
}

/* increase specificity to override bundled default */
.jp-DirListing-content {
  flex: 1 1 auto;
  margin: 0;
  padding: 0;
  list-style-type: none;
  overflow: auto;
  background-color: var(--jp-layout-color1);
}

.jp-DirListing-content mark {
  color: var(--jp-ui-font-color0);
  background-color: transparent;
  font-weight: bold;
}

.jp-DirListing-content .jp-DirListing-item.jp-mod-selected mark {
  color: var(--jp-ui-inverse-font-color0);
}

/* Style the directory listing content when a user drops a file to upload */
.jp-DirListing.jp-mod-native-drop .jp-DirListing-content {
  outline: 5px dashed rgba(128, 128, 128, 0.5);
  outline-offset: -10px;
  cursor: copy;
}

.jp-DirListing-item {
  display: flex;
  flex-direction: row;
  align-items: center;
  padding: 4px 12px;
  -webkit-user-select: none;
  -moz-user-select: none;
  -ms-user-select: none;
  user-select: none;
}

.jp-DirListing-checkboxWrapper {
  /* Increases hit area of checkbox. */
  padding: 4px;
}

.jp-DirListing-header
  .jp-DirListing-checkboxWrapper
  + .jp-DirListing-headerItem {
  padding-left: 4px;
}

.jp-DirListing-content .jp-DirListing-checkboxWrapper {
  position: relative;
  left: -4px;
  margin: -4px 0 -4px -8px;
}

.jp-DirListing-checkboxWrapper.jp-mod-visible {
  visibility: visible;
}

/* For devices that support hovering, hide checkboxes until hovered, selected...
*/
@media (hover: hover) {
  .jp-DirListing-checkboxWrapper {
    visibility: hidden;
  }

  .jp-DirListing-item:hover .jp-DirListing-checkboxWrapper,
  .jp-DirListing-item.jp-mod-selected .jp-DirListing-checkboxWrapper {
    visibility: visible;
  }
}

.jp-DirListing-item[data-is-dot] {
  opacity: 75%;
}

.jp-DirListing-item.jp-mod-selected {
  color: var(--jp-ui-inverse-font-color1);
  background: var(--jp-brand-color1);
}

.jp-DirListing-item.jp-mod-dropTarget {
  background: var(--jp-brand-color3);
}

.jp-DirListing-item:hover:not(.jp-mod-selected) {
  background: var(--jp-layout-color2);
}

.jp-DirListing-itemIcon {
  flex: 0 0 20px;
  margin-right: 4px;
}

.jp-DirListing-itemText {
  flex: 1 0 64px;
  white-space: nowrap;
  overflow: hidden;
  text-overflow: ellipsis;
  user-select: none;
}

.jp-DirListing-itemText:focus {
  outline-width: 2px;
  outline-color: var(--jp-inverse-layout-color1);
  outline-style: solid;
  outline-offset: 1px;
}

.jp-DirListing-item.jp-mod-selected .jp-DirListing-itemText:focus {
  outline-color: var(--jp-layout-color1);
}

.jp-DirListing-itemModified {
  flex: 0 0 125px;
  text-align: right;
}

.jp-DirListing-itemFileSize {
  flex: 0 0 90px;
  text-align: right;
}

.jp-DirListing-editor {
  flex: 1 0 64px;
  outline: none;
  border: none;
  color: var(--jp-ui-font-color1);
  background-color: var(--jp-layout-color1);
}

.jp-DirListing-item.jp-mod-running .jp-DirListing-itemIcon::before {
  color: var(--jp-success-color1);
  content: '\25CF';
  font-size: 8px;
  position: absolute;
  left: -8px;
}

.jp-DirListing-item.jp-mod-running.jp-mod-selected
  .jp-DirListing-itemIcon::before {
  color: var(--jp-ui-inverse-font-color1);
}

.jp-DirListing-item.lm-mod-drag-image,
.jp-DirListing-item.jp-mod-selected.lm-mod-drag-image {
  font-size: var(--jp-ui-font-size1);
  padding-left: 4px;
  margin-left: 4px;
  width: 160px;
  background-color: var(--jp-ui-inverse-font-color2);
  box-shadow: var(--jp-elevation-z2);
  border-radius: 0;
  color: var(--jp-ui-font-color1);
  transform: translateX(-40%) translateY(-58%);
}

.jp-Document {
  min-width: 120px;
  min-height: 120px;
  outline: none;
}

/*-----------------------------------------------------------------------------
| Copyright (c) Jupyter Development Team.
| Distributed under the terms of the Modified BSD License.
|----------------------------------------------------------------------------*/

/*-----------------------------------------------------------------------------
| Main OutputArea
| OutputArea has a list of Outputs
|----------------------------------------------------------------------------*/

.jp-OutputArea {
  overflow-y: auto;
}

.jp-OutputArea-child {
  display: table;
  table-layout: fixed;
  width: 100%;
  overflow: hidden;
}

.jp-OutputPrompt {
  width: var(--jp-cell-prompt-width);
  color: var(--jp-cell-outprompt-font-color);
  font-family: var(--jp-cell-prompt-font-family);
  padding: var(--jp-code-padding);
  letter-spacing: var(--jp-cell-prompt-letter-spacing);
  line-height: var(--jp-code-line-height);
  font-size: var(--jp-code-font-size);
  border: var(--jp-border-width) solid transparent;
  opacity: var(--jp-cell-prompt-opacity);

  /* Right align prompt text, don't wrap to handle large prompt numbers */
  text-align: right;
  white-space: nowrap;
  overflow: hidden;
  text-overflow: ellipsis;

  /* Disable text selection */
  -webkit-user-select: none;
  -moz-user-select: none;
  -ms-user-select: none;
  user-select: none;
}

.jp-OutputArea-prompt {
  display: table-cell;
  vertical-align: top;
}

.jp-OutputArea-output {
  display: table-cell;
  width: 100%;
  height: auto;
  overflow: auto;
  user-select: text;
  -moz-user-select: text;
  -webkit-user-select: text;
  -ms-user-select: text;
}

.jp-OutputArea .jp-RenderedText {
  padding-left: 1ch;
}

/**
 * Prompt overlay.
 */

.jp-OutputArea-promptOverlay {
  position: absolute;
  top: 0;
  width: var(--jp-cell-prompt-width);
  height: 100%;
  opacity: 0.5;
}

.jp-OutputArea-promptOverlay:hover {
  background: var(--jp-layout-color2);
  box-shadow: inset 0 0 1px var(--jp-inverse-layout-color0);
  cursor: zoom-out;
}

.jp-mod-outputsScrolled .jp-OutputArea-promptOverlay:hover {
  cursor: zoom-in;
}

/**
 * Isolated output.
 */
.jp-OutputArea-output.jp-mod-isolated {
  width: 100%;
  display: block;
}

/*
When drag events occur, `lm-mod-override-cursor` is added to the body.
Because iframes steal all cursor events, the following two rules are necessary
to suppress pointer events while resize drags are occurring. There may be a
better solution to this problem.
*/
body.lm-mod-override-cursor .jp-OutputArea-output.jp-mod-isolated {
  position: relative;
}

body.lm-mod-override-cursor .jp-OutputArea-output.jp-mod-isolated::before {
  content: '';
  position: absolute;
  top: 0;
  left: 0;
  right: 0;
  bottom: 0;
  background: transparent;
}

/* pre */

.jp-OutputArea-output pre {
  border: none;
  margin: 0;
  padding: 0;
  overflow-x: auto;
  overflow-y: auto;
  word-break: break-all;
  word-wrap: break-word;
  white-space: pre-wrap;
}

/* tables */

.jp-OutputArea-output.jp-RenderedHTMLCommon table {
  margin-left: 0;
  margin-right: 0;
}

/* description lists */

.jp-OutputArea-output dl,
.jp-OutputArea-output dt,
.jp-OutputArea-output dd {
  display: block;
}

.jp-OutputArea-output dl {
  width: 100%;
  overflow: hidden;
  padding: 0;
  margin: 0;
}

.jp-OutputArea-output dt {
  font-weight: bold;
  float: left;
  width: 20%;
  padding: 0;
  margin: 0;
}

.jp-OutputArea-output dd {
  float: left;
  width: 80%;
  padding: 0;
  margin: 0;
}

.jp-TrimmedOutputs pre {
  background: var(--jp-layout-color3);
  font-size: calc(var(--jp-code-font-size) * 1.4);
  text-align: center;
  text-transform: uppercase;
}

/* Hide the gutter in case of
 *  - nested output areas (e.g. in the case of output widgets)
 *  - mirrored output areas
 */
.jp-OutputArea .jp-OutputArea .jp-OutputArea-prompt {
  display: none;
}

/* Hide empty lines in the output area, for instance due to cleared widgets */
.jp-OutputArea-prompt:empty {
  padding: 0;
  border: 0;
}

/*-----------------------------------------------------------------------------
| executeResult is added to any Output-result for the display of the object
| returned by a cell
|----------------------------------------------------------------------------*/

.jp-OutputArea-output.jp-OutputArea-executeResult {
  margin-left: 0;
  width: 100%;
}

/* Text output with the Out[] prompt needs a top padding to match the
 * alignment of the Out[] prompt itself.
 */
.jp-OutputArea-executeResult .jp-RenderedText.jp-OutputArea-output {
  padding-top: var(--jp-code-padding);
  border-top: var(--jp-border-width) solid transparent;
}

/*-----------------------------------------------------------------------------
| The Stdin output
|----------------------------------------------------------------------------*/

.jp-Stdin-prompt {
  color: var(--jp-content-font-color0);
  padding-right: var(--jp-code-padding);
  vertical-align: baseline;
  flex: 0 0 auto;
}

.jp-Stdin-input {
  font-family: var(--jp-code-font-family);
  font-size: inherit;
  color: inherit;
  background-color: inherit;
  width: 42%;
  min-width: 200px;

  /* make sure input baseline aligns with prompt */
  vertical-align: baseline;

  /* padding + margin = 0.5em between prompt and cursor */
  padding: 0 0.25em;
  margin: 0 0.25em;
  flex: 0 0 70%;
}

.jp-Stdin-input::placeholder {
  opacity: 0;
}

.jp-Stdin-input:focus {
  box-shadow: none;
}

.jp-Stdin-input:focus::placeholder {
  opacity: 1;
}

/*-----------------------------------------------------------------------------
| Output Area View
|----------------------------------------------------------------------------*/

.jp-LinkedOutputView .jp-OutputArea {
  height: 100%;
  display: block;
}

.jp-LinkedOutputView .jp-OutputArea-output:only-child {
  height: 100%;
}

/*-----------------------------------------------------------------------------
| Printing
|----------------------------------------------------------------------------*/

@media print {
  .jp-OutputArea-child {
    break-inside: avoid-page;
  }
}

/*-----------------------------------------------------------------------------
| Mobile
|----------------------------------------------------------------------------*/
@media only screen and (max-width: 760px) {
  .jp-OutputPrompt {
    display: table-row;
    text-align: left;
  }

  .jp-OutputArea-child .jp-OutputArea-output {
    display: table-row;
    margin-left: var(--jp-notebook-padding);
  }
}

/* Trimmed outputs warning */
.jp-TrimmedOutputs > a {
  margin: 10px;
  text-decoration: none;
  cursor: pointer;
}

.jp-TrimmedOutputs > a:hover {
  text-decoration: none;
}

/*-----------------------------------------------------------------------------
| Copyright (c) Jupyter Development Team.
| Distributed under the terms of the Modified BSD License.
|----------------------------------------------------------------------------*/

/*-----------------------------------------------------------------------------
| Table of Contents
|----------------------------------------------------------------------------*/

:root {
  --jp-private-toc-active-width: 4px;
}

.jp-TableOfContents {
  display: flex;
  flex-direction: column;
  background: var(--jp-layout-color1);
  color: var(--jp-ui-font-color1);
  font-size: var(--jp-ui-font-size1);
  height: 100%;
}

.jp-TableOfContents-placeholder {
  text-align: center;
}

.jp-TableOfContents-placeholderContent {
  color: var(--jp-content-font-color2);
  padding: 8px;
}

.jp-TableOfContents-placeholderContent > h3 {
  margin-bottom: var(--jp-content-heading-margin-bottom);
}

.jp-TableOfContents .jp-SidePanel-content {
  overflow-y: auto;
}

.jp-TableOfContents-tree {
  margin: 4px;
}

.jp-TableOfContents ol {
  list-style-type: none;
}

/* stylelint-disable-next-line selector-max-type */
.jp-TableOfContents li > ol {
  /* Align left border with triangle icon center */
  padding-left: 11px;
}

.jp-TableOfContents-content {
  /* left margin for the active heading indicator */
  margin: 0 0 0 var(--jp-private-toc-active-width);
  padding: 0;
  background-color: var(--jp-layout-color1);
}

.jp-tocItem {
  -webkit-user-select: none;
  -moz-user-select: none;
  -ms-user-select: none;
  user-select: none;
}

.jp-tocItem-heading {
  display: flex;
  cursor: pointer;
}

.jp-tocItem-heading:hover {
  background-color: var(--jp-layout-color2);
}

.jp-tocItem-content {
  display: block;
  padding: 4px 0;
  white-space: nowrap;
  text-overflow: ellipsis;
  overflow-x: hidden;
}

.jp-tocItem-collapser {
  height: 20px;
  margin: 2px 2px 0;
  padding: 0;
  background: none;
  border: none;
  cursor: pointer;
}

.jp-tocItem-collapser:hover {
  background-color: var(--jp-layout-color3);
}

/* Active heading indicator */

.jp-tocItem-heading::before {
  content: ' ';
  background: transparent;
  width: var(--jp-private-toc-active-width);
  height: 24px;
  position: absolute;
  left: 0;
  border-radius: var(--jp-border-radius);
}

.jp-tocItem-heading.jp-tocItem-active::before {
  background-color: var(--jp-brand-color1);
}

.jp-tocItem-heading:hover.jp-tocItem-active::before {
  background: var(--jp-brand-color0);
  opacity: 1;
}

/*-----------------------------------------------------------------------------
| Copyright (c) Jupyter Development Team.
| Distributed under the terms of the Modified BSD License.
|----------------------------------------------------------------------------*/

.jp-Collapser {
  flex: 0 0 var(--jp-cell-collapser-width);
  padding: 0;
  margin: 0;
  border: none;
  outline: none;
  background: transparent;
  border-radius: var(--jp-border-radius);
  opacity: 1;
}

.jp-Collapser-child {
  display: block;
  width: 100%;
  box-sizing: border-box;

  /* height: 100% doesn't work because the height of its parent is computed from content */
  position: absolute;
  top: 0;
  bottom: 0;
}

/*-----------------------------------------------------------------------------
| Printing
|----------------------------------------------------------------------------*/

/*
Hiding collapsers in print mode.

Note: input and output wrappers have "display: block" propery in print mode.
*/

@media print {
  .jp-Collapser {
    display: none;
  }
}

/*-----------------------------------------------------------------------------
| Copyright (c) Jupyter Development Team.
| Distributed under the terms of the Modified BSD License.
|----------------------------------------------------------------------------*/

/*-----------------------------------------------------------------------------
| Header/Footer
|----------------------------------------------------------------------------*/

/* Hidden by zero height by default */
.jp-CellHeader,
.jp-CellFooter {
  height: 0;
  width: 100%;
  padding: 0;
  margin: 0;
  border: none;
  outline: none;
  background: transparent;
}

/*-----------------------------------------------------------------------------
| Copyright (c) Jupyter Development Team.
| Distributed under the terms of the Modified BSD License.
|----------------------------------------------------------------------------*/

/*-----------------------------------------------------------------------------
| Input
|----------------------------------------------------------------------------*/

/* All input areas */
.jp-InputArea {
  display: table;
  table-layout: fixed;
  width: 100%;
  overflow: hidden;
}

.jp-InputArea-editor {
  display: table-cell;
  overflow: hidden;
  vertical-align: top;

  /* This is the non-active, default styling */
  border: var(--jp-border-width) solid var(--jp-cell-editor-border-color);
  border-radius: 0;
  background: var(--jp-cell-editor-background);
}

.jp-InputPrompt {
  display: table-cell;
  vertical-align: top;
  width: var(--jp-cell-prompt-width);
  color: var(--jp-cell-inprompt-font-color);
  font-family: var(--jp-cell-prompt-font-family);
  padding: var(--jp-code-padding);
  letter-spacing: var(--jp-cell-prompt-letter-spacing);
  opacity: var(--jp-cell-prompt-opacity);
  line-height: var(--jp-code-line-height);
  font-size: var(--jp-code-font-size);
  border: var(--jp-border-width) solid transparent;

  /* Right align prompt text, don't wrap to handle large prompt numbers */
  text-align: right;
  white-space: nowrap;
  overflow: hidden;
  text-overflow: ellipsis;

  /* Disable text selection */
  -webkit-user-select: none;
  -moz-user-select: none;
  -ms-user-select: none;
  user-select: none;
}

/*-----------------------------------------------------------------------------
| Mobile
|----------------------------------------------------------------------------*/
@media only screen and (max-width: 760px) {
  .jp-InputArea-editor {
    display: table-row;
    margin-left: var(--jp-notebook-padding);
  }

  .jp-InputPrompt {
    display: table-row;
    text-align: left;
  }
}

/*-----------------------------------------------------------------------------
| Copyright (c) Jupyter Development Team.
| Distributed under the terms of the Modified BSD License.
|----------------------------------------------------------------------------*/

/*-----------------------------------------------------------------------------
| Placeholder
|----------------------------------------------------------------------------*/

.jp-Placeholder {
  display: table;
  table-layout: fixed;
  width: 100%;
}

.jp-Placeholder-prompt {
  display: table-cell;
  box-sizing: border-box;
}

.jp-Placeholder-content {
  display: table-cell;
  padding: 4px 6px;
  border: 1px solid transparent;
  border-radius: 0;
  background: none;
  box-sizing: border-box;
  cursor: pointer;
}

.jp-Placeholder-contentContainer {
  display: flex;
}

.jp-Placeholder-content:hover,
.jp-InputPlaceholder > .jp-Placeholder-content:hover {
  border-color: var(--jp-layout-color3);
}

.jp-Placeholder-content .jp-MoreHorizIcon {
  width: 32px;
  height: 16px;
  border: 1px solid transparent;
  border-radius: var(--jp-border-radius);
}

.jp-Placeholder-content .jp-MoreHorizIcon:hover {
  border: 1px solid var(--jp-border-color1);
  box-shadow: 0 0 2px 0 rgba(0, 0, 0, 0.25);
  background-color: var(--jp-layout-color0);
}

.jp-PlaceholderText {
  white-space: nowrap;
  overflow-x: hidden;
  color: var(--jp-inverse-layout-color3);
  font-family: var(--jp-code-font-family);
}

.jp-InputPlaceholder > .jp-Placeholder-content {
  border-color: var(--jp-cell-editor-border-color);
  background: var(--jp-cell-editor-background);
}

/*-----------------------------------------------------------------------------
| Copyright (c) Jupyter Development Team.
| Distributed under the terms of the Modified BSD License.
|----------------------------------------------------------------------------*/

/*-----------------------------------------------------------------------------
| Private CSS variables
|----------------------------------------------------------------------------*/

:root {
  --jp-private-cell-scrolling-output-offset: 5px;
}

/*-----------------------------------------------------------------------------
| Cell
|----------------------------------------------------------------------------*/

.jp-Cell {
  padding: var(--jp-cell-padding);
  margin: 0;
  border: none;
  outline: none;
  background: transparent;
}

/*-----------------------------------------------------------------------------
| Common input/output
|----------------------------------------------------------------------------*/

.jp-Cell-inputWrapper,
.jp-Cell-outputWrapper {
  display: flex;
  flex-direction: row;
  padding: 0;
  margin: 0;

  /* Added to reveal the box-shadow on the input and output collapsers. */
  overflow: visible;
}

/* Only input/output areas inside cells */
.jp-Cell-inputArea,
.jp-Cell-outputArea {
  flex: 1 1 auto;
}

/*-----------------------------------------------------------------------------
| Collapser
|----------------------------------------------------------------------------*/

/* Make the output collapser disappear when there is not output, but do so
 * in a manner that leaves it in the layout and preserves its width.
 */
.jp-Cell.jp-mod-noOutputs .jp-Cell-outputCollapser {
  border: none !important;
  background: transparent !important;
}

.jp-Cell:not(.jp-mod-noOutputs) .jp-Cell-outputCollapser {
  min-height: var(--jp-cell-collapser-min-height);
}

/*-----------------------------------------------------------------------------
| Output
|----------------------------------------------------------------------------*/

/* Put a space between input and output when there IS output */
.jp-Cell:not(.jp-mod-noOutputs) .jp-Cell-outputWrapper {
  margin-top: 5px;
}

.jp-CodeCell.jp-mod-outputsScrolled .jp-Cell-outputArea {
  overflow-y: auto;
  max-height: 24em;
  margin-left: var(--jp-private-cell-scrolling-output-offset);
  resize: vertical;
}

.jp-CodeCell.jp-mod-outputsScrolled .jp-Cell-outputArea[style*='height'] {
  max-height: unset;
}

.jp-CodeCell.jp-mod-outputsScrolled .jp-Cell-outputArea::after {
  content: ' ';
  box-shadow: inset 0 0 6px 2px rgb(0 0 0 / 30%);
  width: 100%;
  height: 100%;
  position: sticky;
  bottom: 0;
  top: 0;
  margin-top: -50%;
  float: left;
  display: block;
  pointer-events: none;
}

.jp-CodeCell.jp-mod-outputsScrolled .jp-OutputArea-child {
  padding-top: 6px;
}

.jp-CodeCell.jp-mod-outputsScrolled .jp-OutputArea-prompt {
  width: calc(
    var(--jp-cell-prompt-width) - var(--jp-private-cell-scrolling-output-offset)
  );
}

.jp-CodeCell.jp-mod-outputsScrolled .jp-OutputArea-promptOverlay {
  left: calc(-1 * var(--jp-private-cell-scrolling-output-offset));
}

/*-----------------------------------------------------------------------------
| CodeCell
|----------------------------------------------------------------------------*/

/*-----------------------------------------------------------------------------
| MarkdownCell
|----------------------------------------------------------------------------*/

.jp-MarkdownOutput {
  display: table-cell;
  width: 100%;
  margin-top: 0;
  margin-bottom: 0;
  padding-left: var(--jp-code-padding);
}

.jp-MarkdownOutput.jp-RenderedHTMLCommon {
  overflow: auto;
}

/* collapseHeadingButton (show always if hiddenCellsButton is _not_ shown) */
.jp-collapseHeadingButton {
  display: flex;
  min-height: var(--jp-cell-collapser-min-height);
  font-size: var(--jp-code-font-size);
  position: absolute;
  background-color: transparent;
  background-size: 25px;
  background-repeat: no-repeat;
  background-position-x: center;
  background-position-y: top;
  background-image: var(--jp-icon-caret-down);
  right: 0;
  top: 0;
  bottom: 0;
}

.jp-collapseHeadingButton.jp-mod-collapsed {
  background-image: var(--jp-icon-caret-right);
}

/*
 set the container font size to match that of content
 so that the nested collapse buttons have the right size
*/
.jp-MarkdownCell .jp-InputPrompt {
  font-size: var(--jp-content-font-size1);
}

/*
  Align collapseHeadingButton with cell top header
  The font sizes are identical to the ones in packages/rendermime/style/base.css
*/
.jp-mod-rendered .jp-collapseHeadingButton[data-heading-level='1'] {
  font-size: var(--jp-content-font-size5);
  background-position-y: calc(0.3 * var(--jp-content-font-size5));
}

.jp-mod-rendered .jp-collapseHeadingButton[data-heading-level='2'] {
  font-size: var(--jp-content-font-size4);
  background-position-y: calc(0.3 * var(--jp-content-font-size4));
}

.jp-mod-rendered .jp-collapseHeadingButton[data-heading-level='3'] {
  font-size: var(--jp-content-font-size3);
  background-position-y: calc(0.3 * var(--jp-content-font-size3));
}

.jp-mod-rendered .jp-collapseHeadingButton[data-heading-level='4'] {
  font-size: var(--jp-content-font-size2);
  background-position-y: calc(0.3 * var(--jp-content-font-size2));
}

.jp-mod-rendered .jp-collapseHeadingButton[data-heading-level='5'] {
  font-size: var(--jp-content-font-size1);
  background-position-y: top;
}

.jp-mod-rendered .jp-collapseHeadingButton[data-heading-level='6'] {
  font-size: var(--jp-content-font-size0);
  background-position-y: top;
}

/* collapseHeadingButton (show only on (hover,active) if hiddenCellsButton is shown) */
.jp-Notebook.jp-mod-showHiddenCellsButton .jp-collapseHeadingButton {
  display: none;
}

.jp-Notebook.jp-mod-showHiddenCellsButton
  :is(.jp-MarkdownCell:hover, .jp-mod-active)
  .jp-collapseHeadingButton {
  display: flex;
}

/* showHiddenCellsButton (only show if jp-mod-showHiddenCellsButton is set, which
is a consequence of the showHiddenCellsButton option in Notebook Settings)*/
.jp-Notebook.jp-mod-showHiddenCellsButton .jp-showHiddenCellsButton {
  margin-left: calc(var(--jp-cell-prompt-width) + 2 * var(--jp-code-padding));
  margin-top: var(--jp-code-padding);
  border: 1px solid var(--jp-border-color2);
  background-color: var(--jp-border-color3) !important;
  color: var(--jp-content-font-color0) !important;
  display: flex;
}

.jp-Notebook.jp-mod-showHiddenCellsButton .jp-showHiddenCellsButton:hover {
  background-color: var(--jp-border-color2) !important;
}

.jp-showHiddenCellsButton {
  display: none;
}

/*-----------------------------------------------------------------------------
| Printing
|----------------------------------------------------------------------------*/

/*
Using block instead of flex to allow the use of the break-inside CSS property for
cell outputs.
*/

@media print {
  .jp-Cell-inputWrapper,
  .jp-Cell-outputWrapper {
    display: block;
  }
}

/*-----------------------------------------------------------------------------
| Copyright (c) Jupyter Development Team.
| Distributed under the terms of the Modified BSD License.
|----------------------------------------------------------------------------*/

/*-----------------------------------------------------------------------------
| Copyright (c) Jupyter Development Team.
| Distributed under the terms of the Modified BSD License.
|----------------------------------------------------------------------------*/

/*-----------------------------------------------------------------------------
| Variables
|----------------------------------------------------------------------------*/

:root {
  --jp-notebook-toolbar-padding: 2px 5px 2px 2px;
}

/*-----------------------------------------------------------------------------

/*-----------------------------------------------------------------------------
| Styles
|----------------------------------------------------------------------------*/

.jp-NotebookPanel-toolbar {
  padding: var(--jp-notebook-toolbar-padding);

  /* disable paint containment from lumino 2.0 default strict CSS containment */
  contain: style size !important;
}

.jp-Toolbar-item.jp-Notebook-toolbarCellType .jp-select-wrapper.jp-mod-focused {
  border: none;
  box-shadow: none;
}

.jp-Notebook-toolbarCellTypeDropdown select {
  height: 24px;
  font-size: var(--jp-ui-font-size1);
  line-height: 14px;
  border-radius: 0;
  display: block;
}

.jp-Notebook-toolbarCellTypeDropdown span {
  top: 5px !important;
}

.jp-Toolbar-responsive-popup {
  position: absolute;
  height: fit-content;
  display: flex;
  flex-direction: row;
  flex-wrap: wrap;
  justify-content: flex-end;
  border-bottom: var(--jp-border-width) solid var(--jp-toolbar-border-color);
  box-shadow: var(--jp-toolbar-box-shadow);
  background: var(--jp-toolbar-background);
  min-height: var(--jp-toolbar-micro-height);
  padding: var(--jp-notebook-toolbar-padding);
  z-index: 1;
  right: 0;
  top: 0;
}

.jp-Toolbar > .jp-Toolbar-responsive-opener {
  margin-left: auto;
}

/*-----------------------------------------------------------------------------
| Copyright (c) Jupyter Development Team.
| Distributed under the terms of the Modified BSD License.
|----------------------------------------------------------------------------*/

/*-----------------------------------------------------------------------------
| Variables
|----------------------------------------------------------------------------*/

/*-----------------------------------------------------------------------------

/*-----------------------------------------------------------------------------
| Styles
|----------------------------------------------------------------------------*/

.jp-Notebook-ExecutionIndicator {
  position: relative;
  display: inline-block;
  height: 100%;
  z-index: 9997;
}

.jp-Notebook-ExecutionIndicator-tooltip {
  visibility: hidden;
  height: auto;
  width: max-content;
  width: -moz-max-content;
  background-color: var(--jp-layout-color2);
  color: var(--jp-ui-font-color1);
  text-align: justify;
  border-radius: 6px;
  padding: 0 5px;
  position: fixed;
  display: table;
}

.jp-Notebook-ExecutionIndicator-tooltip.up {
  transform: translateX(-50%) translateY(-100%) translateY(-32px);
}

.jp-Notebook-ExecutionIndicator-tooltip.down {
  transform: translateX(calc(-100% + 16px)) translateY(5px);
}

.jp-Notebook-ExecutionIndicator-tooltip.hidden {
  display: none;
}

.jp-Notebook-ExecutionIndicator:hover .jp-Notebook-ExecutionIndicator-tooltip {
  visibility: visible;
}

.jp-Notebook-ExecutionIndicator span {
  font-size: var(--jp-ui-font-size1);
  font-family: var(--jp-ui-font-family);
  color: var(--jp-ui-font-color1);
  line-height: 24px;
  display: block;
}

.jp-Notebook-ExecutionIndicator-progress-bar {
  display: flex;
  justify-content: center;
  height: 100%;
}

/*
 * Copyright (c) Jupyter Development Team.
 * Distributed under the terms of the Modified BSD License.
 */

/*
 * Execution indicator
 */
.jp-tocItem-content::after {
  content: '';

  /* Must be identical to form a circle */
  width: 12px;
  height: 12px;
  background: none;
  border: none;
  position: absolute;
  right: 0;
}

.jp-tocItem-content[data-running='0']::after {
  border-radius: 50%;
  border: var(--jp-border-width) solid var(--jp-inverse-layout-color3);
  background: none;
}

.jp-tocItem-content[data-running='1']::after {
  border-radius: 50%;
  border: var(--jp-border-width) solid var(--jp-inverse-layout-color3);
  background-color: var(--jp-inverse-layout-color3);
}

.jp-tocItem-content[data-running='0'],
.jp-tocItem-content[data-running='1'] {
  margin-right: 12px;
}

/*
 * Copyright (c) Jupyter Development Team.
 * Distributed under the terms of the Modified BSD License.
 */

.jp-Notebook-footer {
  height: 27px;
  margin-left: calc(
    var(--jp-cell-prompt-width) + var(--jp-cell-collapser-width) +
      var(--jp-cell-padding)
  );
  width: calc(
    100% -
      (
        var(--jp-cell-prompt-width) + var(--jp-cell-collapser-width) +
          var(--jp-cell-padding) + var(--jp-cell-padding)
      )
  );
  border: var(--jp-border-width) solid var(--jp-cell-editor-border-color);
  color: var(--jp-ui-font-color3);
  margin-top: 6px;
  background: none;
  cursor: pointer;
}

.jp-Notebook-footer:focus {
  border-color: var(--jp-cell-editor-active-border-color);
}

/* For devices that support hovering, hide footer until hover */
@media (hover: hover) {
  .jp-Notebook-footer {
    opacity: 0;
  }

  .jp-Notebook-footer:focus,
  .jp-Notebook-footer:hover {
    opacity: 1;
  }
}

/*-----------------------------------------------------------------------------
| Copyright (c) Jupyter Development Team.
| Distributed under the terms of the Modified BSD License.
|----------------------------------------------------------------------------*/

/*-----------------------------------------------------------------------------
| Imports
|----------------------------------------------------------------------------*/

/*-----------------------------------------------------------------------------
| CSS variables
|----------------------------------------------------------------------------*/

:root {
  --jp-side-by-side-output-size: 1fr;
  --jp-side-by-side-resized-cell: var(--jp-side-by-side-output-size);
  --jp-private-notebook-dragImage-width: 304px;
  --jp-private-notebook-dragImage-height: 36px;
  --jp-private-notebook-selected-color: var(--md-blue-400);
  --jp-private-notebook-active-color: var(--md-green-400);
}

/*-----------------------------------------------------------------------------
| Notebook
|----------------------------------------------------------------------------*/

/* stylelint-disable selector-max-class */

.jp-NotebookPanel {
  display: block;
  height: 100%;
}

.jp-NotebookPanel.jp-Document {
  min-width: 240px;
  min-height: 120px;
}

.jp-Notebook {
  padding: var(--jp-notebook-padding);
  outline: none;
  overflow: auto;
  background: var(--jp-layout-color0);
}

.jp-Notebook.jp-mod-scrollPastEnd::after {
  display: block;
  content: '';
  min-height: var(--jp-notebook-scroll-padding);
}

.jp-MainAreaWidget-ContainStrict .jp-Notebook * {
  contain: strict;
}

.jp-Notebook .jp-Cell {
  overflow: visible;
}

.jp-Notebook .jp-Cell .jp-InputPrompt {
  cursor: move;
}

/*-----------------------------------------------------------------------------
| Notebook state related styling
|
| The notebook and cells each have states, here are the possibilities:
|
| - Notebook
|   - Command
|   - Edit
| - Cell
|   - None
|   - Active (only one can be active)
|   - Selected (the cells actions are applied to)
|   - Multiselected (when multiple selected, the cursor)
|   - No outputs
|----------------------------------------------------------------------------*/

/* Command or edit modes */

.jp-Notebook .jp-Cell:not(.jp-mod-active) .jp-InputPrompt {
  opacity: var(--jp-cell-prompt-not-active-opacity);
  color: var(--jp-cell-prompt-not-active-font-color);
}

.jp-Notebook .jp-Cell:not(.jp-mod-active) .jp-OutputPrompt {
  opacity: var(--jp-cell-prompt-not-active-opacity);
  color: var(--jp-cell-prompt-not-active-font-color);
}

/* cell is active */
.jp-Notebook .jp-Cell.jp-mod-active .jp-Collapser {
  background: var(--jp-brand-color1);
}

/* cell is dirty */
.jp-Notebook .jp-Cell.jp-mod-dirty .jp-InputPrompt {
  color: var(--jp-warn-color1);
}

.jp-Notebook .jp-Cell.jp-mod-dirty .jp-InputPrompt::before {
  color: var(--jp-warn-color1);
  content: '•';
}

.jp-Notebook .jp-Cell.jp-mod-active.jp-mod-dirty .jp-Collapser {
  background: var(--jp-warn-color1);
}

/* collapser is hovered */
.jp-Notebook .jp-Cell .jp-Collapser:hover {
  box-shadow: var(--jp-elevation-z2);
  background: var(--jp-brand-color1);
  opacity: var(--jp-cell-collapser-not-active-hover-opacity);
}

/* cell is active and collapser is hovered */
.jp-Notebook .jp-Cell.jp-mod-active .jp-Collapser:hover {
  background: var(--jp-brand-color0);
  opacity: 1;
}

/* Command mode */

.jp-Notebook.jp-mod-commandMode .jp-Cell.jp-mod-selected {
  background: var(--jp-notebook-multiselected-color);
}

.jp-Notebook.jp-mod-commandMode
  .jp-Cell.jp-mod-active.jp-mod-selected:not(.jp-mod-multiSelected) {
  background: transparent;
}

/* Edit mode */

.jp-Notebook.jp-mod-editMode .jp-Cell.jp-mod-active .jp-InputArea-editor {
  border: var(--jp-border-width) solid var(--jp-cell-editor-active-border-color);
  box-shadow: var(--jp-input-box-shadow);
  background-color: var(--jp-cell-editor-active-background);
}

/*-----------------------------------------------------------------------------
| Notebook drag and drop
|----------------------------------------------------------------------------*/

.jp-Notebook-cell.jp-mod-dropSource {
  opacity: 0.5;
}

.jp-Notebook-cell.jp-mod-dropTarget,
.jp-Notebook.jp-mod-commandMode
  .jp-Notebook-cell.jp-mod-active.jp-mod-selected.jp-mod-dropTarget {
  border-top-color: var(--jp-private-notebook-selected-color);
  border-top-style: solid;
  border-top-width: 2px;
}

.jp-dragImage {
  display: block;
  flex-direction: row;
  width: var(--jp-private-notebook-dragImage-width);
  height: var(--jp-private-notebook-dragImage-height);
  border: var(--jp-border-width) solid var(--jp-cell-editor-border-color);
  background: var(--jp-cell-editor-background);
  overflow: visible;
}

.jp-dragImage-singlePrompt {
  box-shadow: 2px 2px 4px 0 rgba(0, 0, 0, 0.12);
}

.jp-dragImage .jp-dragImage-content {
  flex: 1 1 auto;
  z-index: 2;
  font-size: var(--jp-code-font-size);
  font-family: var(--jp-code-font-family);
  line-height: var(--jp-code-line-height);
  padding: var(--jp-code-padding);
  border: var(--jp-border-width) solid var(--jp-cell-editor-border-color);
  background: var(--jp-cell-editor-background-color);
  color: var(--jp-content-font-color3);
  text-align: left;
  margin: 4px 4px 4px 0;
}

.jp-dragImage .jp-dragImage-prompt {
  flex: 0 0 auto;
  min-width: 36px;
  color: var(--jp-cell-inprompt-font-color);
  padding: var(--jp-code-padding);
  padding-left: 12px;
  font-family: var(--jp-cell-prompt-font-family);
  letter-spacing: var(--jp-cell-prompt-letter-spacing);
  line-height: 1.9;
  font-size: var(--jp-code-font-size);
  border: var(--jp-border-width) solid transparent;
}

.jp-dragImage-multipleBack {
  z-index: -1;
  position: absolute;
  height: 32px;
  width: 300px;
  top: 8px;
  left: 8px;
  background: var(--jp-layout-color2);
  border: var(--jp-border-width) solid var(--jp-input-border-color);
  box-shadow: 2px 2px 4px 0 rgba(0, 0, 0, 0.12);
}

/*-----------------------------------------------------------------------------
| Cell toolbar
|----------------------------------------------------------------------------*/

.jp-NotebookTools {
  display: block;
  min-width: var(--jp-sidebar-min-width);
  color: var(--jp-ui-font-color1);
  background: var(--jp-layout-color1);

  /* This is needed so that all font sizing of children done in ems is
    * relative to this base size */
  font-size: var(--jp-ui-font-size1);
  overflow: auto;
}

.jp-ActiveCellTool {
  padding: 12px 0;
  display: flex;
}

.jp-ActiveCellTool-Content {
  flex: 1 1 auto;
}

.jp-ActiveCellTool .jp-ActiveCellTool-CellContent {
  background: var(--jp-cell-editor-background);
  border: var(--jp-border-width) solid var(--jp-cell-editor-border-color);
  border-radius: 0;
  min-height: 29px;
}

.jp-ActiveCellTool .jp-InputPrompt {
  min-width: calc(var(--jp-cell-prompt-width) * 0.75);
}

.jp-ActiveCellTool-CellContent > pre {
  padding: 5px 4px;
  margin: 0;
  white-space: normal;
}

.jp-MetadataEditorTool {
  flex-direction: column;
  padding: 12px 0;
}

.jp-RankedPanel > :not(:first-child) {
  margin-top: 12px;
}

.jp-KeySelector select.jp-mod-styled {
  font-size: var(--jp-ui-font-size1);
  color: var(--jp-ui-font-color0);
  border: var(--jp-border-width) solid var(--jp-border-color1);
}

.jp-KeySelector label,
.jp-MetadataEditorTool label,
.jp-NumberSetter label {
  line-height: 1.4;
}

.jp-NotebookTools .jp-select-wrapper {
  margin-top: 4px;
  margin-bottom: 0;
}

.jp-NumberSetter input {
  width: 100%;
  margin-top: 4px;
}

.jp-NotebookTools .jp-Collapse {
  margin-top: 16px;
}

/*-----------------------------------------------------------------------------
| Presentation Mode (.jp-mod-presentationMode)
|----------------------------------------------------------------------------*/

.jp-mod-presentationMode .jp-Notebook {
  --jp-content-font-size1: var(--jp-content-presentation-font-size1);
  --jp-code-font-size: var(--jp-code-presentation-font-size);
}

.jp-mod-presentationMode .jp-Notebook .jp-Cell .jp-InputPrompt,
.jp-mod-presentationMode .jp-Notebook .jp-Cell .jp-OutputPrompt {
  flex: 0 0 110px;
}

/*-----------------------------------------------------------------------------
| Side-by-side Mode (.jp-mod-sideBySide)
|----------------------------------------------------------------------------*/
.jp-mod-sideBySide.jp-Notebook .jp-Notebook-cell {
  margin-top: 3em;
  margin-bottom: 3em;
  margin-left: 5%;
  margin-right: 5%;
}

.jp-mod-sideBySide.jp-Notebook .jp-CodeCell {
  display: grid;
  grid-template-columns: minmax(0, 1fr) min-content minmax(
      0,
      var(--jp-side-by-side-output-size)
    );
  grid-template-rows: auto minmax(0, 1fr) auto;
  grid-template-areas:
    'header header header'
    'input handle output'
    'footer footer footer';
}

.jp-mod-sideBySide.jp-Notebook .jp-CodeCell.jp-mod-resizedCell {
  grid-template-columns: minmax(0, 1fr) min-content minmax(
      0,
      var(--jp-side-by-side-resized-cell)
    );
}

.jp-mod-sideBySide.jp-Notebook .jp-CodeCell .jp-CellHeader {
  grid-area: header;
}

.jp-mod-sideBySide.jp-Notebook .jp-CodeCell .jp-Cell-inputWrapper {
  grid-area: input;
}

.jp-mod-sideBySide.jp-Notebook .jp-CodeCell .jp-Cell-outputWrapper {
  /* overwrite the default margin (no vertical separation needed in side by side move */
  margin-top: 0;
  grid-area: output;
}

.jp-mod-sideBySide.jp-Notebook .jp-CodeCell .jp-CellFooter {
  grid-area: footer;
}

.jp-mod-sideBySide.jp-Notebook .jp-CodeCell .jp-CellResizeHandle {
  grid-area: handle;
  user-select: none;
  display: block;
  height: 100%;
  cursor: ew-resize;
  padding: 0 var(--jp-cell-padding);
}

.jp-mod-sideBySide.jp-Notebook .jp-CodeCell .jp-CellResizeHandle::after {
  content: '';
  display: block;
  background: var(--jp-border-color2);
  height: 100%;
  width: 5px;
}

.jp-mod-sideBySide.jp-Notebook
  .jp-CodeCell.jp-mod-resizedCell
  .jp-CellResizeHandle::after {
  background: var(--jp-border-color0);
}

.jp-CellResizeHandle {
  display: none;
}

/*-----------------------------------------------------------------------------
| Placeholder
|----------------------------------------------------------------------------*/

.jp-Cell-Placeholder {
  padding-left: 55px;
}

.jp-Cell-Placeholder-wrapper {
  background: #fff;
  border: 1px solid;
  border-color: #e5e6e9 #dfe0e4 #d0d1d5;
  border-radius: 4px;
  -webkit-border-radius: 4px;
  margin: 10px 15px;
}

.jp-Cell-Placeholder-wrapper-inner {
  padding: 15px;
  position: relative;
}

.jp-Cell-Placeholder-wrapper-body {
  background-repeat: repeat;
  background-size: 50% auto;
}

.jp-Cell-Placeholder-wrapper-body div {
  background: #f6f7f8;
  background-image: -webkit-linear-gradient(
    left,
    #f6f7f8 0%,
    #edeef1 20%,
    #f6f7f8 40%,
    #f6f7f8 100%
  );
  background-repeat: no-repeat;
  background-size: 800px 104px;
  height: 104px;
  position: absolute;
  right: 15px;
  left: 15px;
  top: 15px;
}

div.jp-Cell-Placeholder-h1 {
  top: 20px;
  height: 20px;
  left: 15px;
  width: 150px;
}

div.jp-Cell-Placeholder-h2 {
  left: 15px;
  top: 50px;
  height: 10px;
  width: 100px;
}

div.jp-Cell-Placeholder-content-1,
div.jp-Cell-Placeholder-content-2,
div.jp-Cell-Placeholder-content-3 {
  left: 15px;
  right: 15px;
  height: 10px;
}

div.jp-Cell-Placeholder-content-1 {
  top: 100px;
}

div.jp-Cell-Placeholder-content-2 {
  top: 120px;
}

div.jp-Cell-Placeholder-content-3 {
  top: 140px;
}

</style>
<style type="text/css">
/*-----------------------------------------------------------------------------
| Copyright (c) Jupyter Development Team.
| Distributed under the terms of the Modified BSD License.
|----------------------------------------------------------------------------*/

/*
The following CSS variables define the main, public API for styling JupyterLab.
These variables should be used by all plugins wherever possible. In other
words, plugins should not define custom colors, sizes, etc unless absolutely
necessary. This enables users to change the visual theme of JupyterLab
by changing these variables.

Many variables appear in an ordered sequence (0,1,2,3). These sequences
are designed to work well together, so for example, `--jp-border-color1` should
be used with `--jp-layout-color1`. The numbers have the following meanings:

* 0: super-primary, reserved for special emphasis
* 1: primary, most important under normal situations
* 2: secondary, next most important under normal situations
* 3: tertiary, next most important under normal situations

Throughout JupyterLab, we are mostly following principles from Google's
Material Design when selecting colors. We are not, however, following
all of MD as it is not optimized for dense, information rich UIs.
*/

:root {
  /* Elevation
   *
   * We style box-shadows using Material Design's idea of elevation. These particular numbers are taken from here:
   *
   * https://github.com/material-components/material-components-web
   * https://material-components-web.appspot.com/elevation.html
   */

  --jp-shadow-base-lightness: 0;
  --jp-shadow-umbra-color: rgba(
    var(--jp-shadow-base-lightness),
    var(--jp-shadow-base-lightness),
    var(--jp-shadow-base-lightness),
    0.2
  );
  --jp-shadow-penumbra-color: rgba(
    var(--jp-shadow-base-lightness),
    var(--jp-shadow-base-lightness),
    var(--jp-shadow-base-lightness),
    0.14
  );
  --jp-shadow-ambient-color: rgba(
    var(--jp-shadow-base-lightness),
    var(--jp-shadow-base-lightness),
    var(--jp-shadow-base-lightness),
    0.12
  );
  --jp-elevation-z0: none;
  --jp-elevation-z1: 0 2px 1px -1px var(--jp-shadow-umbra-color),
    0 1px 1px 0 var(--jp-shadow-penumbra-color),
    0 1px 3px 0 var(--jp-shadow-ambient-color);
  --jp-elevation-z2: 0 3px 1px -2px var(--jp-shadow-umbra-color),
    0 2px 2px 0 var(--jp-shadow-penumbra-color),
    0 1px 5px 0 var(--jp-shadow-ambient-color);
  --jp-elevation-z4: 0 2px 4px -1px var(--jp-shadow-umbra-color),
    0 4px 5px 0 var(--jp-shadow-penumbra-color),
    0 1px 10px 0 var(--jp-shadow-ambient-color);
  --jp-elevation-z6: 0 3px 5px -1px var(--jp-shadow-umbra-color),
    0 6px 10px 0 var(--jp-shadow-penumbra-color),
    0 1px 18px 0 var(--jp-shadow-ambient-color);
  --jp-elevation-z8: 0 5px 5px -3px var(--jp-shadow-umbra-color),
    0 8px 10px 1px var(--jp-shadow-penumbra-color),
    0 3px 14px 2px var(--jp-shadow-ambient-color);
  --jp-elevation-z12: 0 7px 8px -4px var(--jp-shadow-umbra-color),
    0 12px 17px 2px var(--jp-shadow-penumbra-color),
    0 5px 22px 4px var(--jp-shadow-ambient-color);
  --jp-elevation-z16: 0 8px 10px -5px var(--jp-shadow-umbra-color),
    0 16px 24px 2px var(--jp-shadow-penumbra-color),
    0 6px 30px 5px var(--jp-shadow-ambient-color);
  --jp-elevation-z20: 0 10px 13px -6px var(--jp-shadow-umbra-color),
    0 20px 31px 3px var(--jp-shadow-penumbra-color),
    0 8px 38px 7px var(--jp-shadow-ambient-color);
  --jp-elevation-z24: 0 11px 15px -7px var(--jp-shadow-umbra-color),
    0 24px 38px 3px var(--jp-shadow-penumbra-color),
    0 9px 46px 8px var(--jp-shadow-ambient-color);

  /* Borders
   *
   * The following variables, specify the visual styling of borders in JupyterLab.
   */

  --jp-border-width: 1px;
  --jp-border-color0: var(--md-grey-400);
  --jp-border-color1: var(--md-grey-400);
  --jp-border-color2: var(--md-grey-300);
  --jp-border-color3: var(--md-grey-200);
  --jp-inverse-border-color: var(--md-grey-600);
  --jp-border-radius: 2px;

  /* UI Fonts
   *
   * The UI font CSS variables are used for the typography all of the JupyterLab
   * user interface elements that are not directly user generated content.
   *
   * The font sizing here is done assuming that the body font size of --jp-ui-font-size1
   * is applied to a parent element. When children elements, such as headings, are sized
   * in em all things will be computed relative to that body size.
   */

  --jp-ui-font-scale-factor: 1.2;
  --jp-ui-font-size0: 0.83333em;
  --jp-ui-font-size1: 13px; /* Base font size */
  --jp-ui-font-size2: 1.2em;
  --jp-ui-font-size3: 1.44em;
  --jp-ui-font-family: system-ui, -apple-system, blinkmacsystemfont, 'Segoe UI',
    helvetica, arial, sans-serif, 'Apple Color Emoji', 'Segoe UI Emoji',
    'Segoe UI Symbol';

  /*
   * Use these font colors against the corresponding main layout colors.
   * In a light theme, these go from dark to light.
   */

  /* Defaults use Material Design specification */
  --jp-ui-font-color0: rgba(0, 0, 0, 1);
  --jp-ui-font-color1: rgba(0, 0, 0, 0.87);
  --jp-ui-font-color2: rgba(0, 0, 0, 0.54);
  --jp-ui-font-color3: rgba(0, 0, 0, 0.38);

  /*
   * Use these against the brand/accent/warn/error colors.
   * These will typically go from light to darker, in both a dark and light theme.
   */

  --jp-ui-inverse-font-color0: rgba(255, 255, 255, 1);
  --jp-ui-inverse-font-color1: rgba(255, 255, 255, 1);
  --jp-ui-inverse-font-color2: rgba(255, 255, 255, 0.7);
  --jp-ui-inverse-font-color3: rgba(255, 255, 255, 0.5);

  /* Content Fonts
   *
   * Content font variables are used for typography of user generated content.
   *
   * The font sizing here is done assuming that the body font size of --jp-content-font-size1
   * is applied to a parent element. When children elements, such as headings, are sized
   * in em all things will be computed relative to that body size.
   */

  --jp-content-line-height: 1.6;
  --jp-content-font-scale-factor: 1.2;
  --jp-content-font-size0: 0.83333em;
  --jp-content-font-size1: 14px; /* Base font size */
  --jp-content-font-size2: 1.2em;
  --jp-content-font-size3: 1.44em;
  --jp-content-font-size4: 1.728em;
  --jp-content-font-size5: 2.0736em;

  /* This gives a magnification of about 125% in presentation mode over normal. */
  --jp-content-presentation-font-size1: 17px;
  --jp-content-heading-line-height: 1;
  --jp-content-heading-margin-top: 1.2em;
  --jp-content-heading-margin-bottom: 0.8em;
  --jp-content-heading-font-weight: 500;

  /* Defaults use Material Design specification */
  --jp-content-font-color0: rgba(0, 0, 0, 1);
  --jp-content-font-color1: rgba(0, 0, 0, 0.87);
  --jp-content-font-color2: rgba(0, 0, 0, 0.54);
  --jp-content-font-color3: rgba(0, 0, 0, 0.38);
  --jp-content-link-color: var(--md-blue-900);
  --jp-content-font-family: system-ui, -apple-system, blinkmacsystemfont,
    'Segoe UI', helvetica, arial, sans-serif, 'Apple Color Emoji',
    'Segoe UI Emoji', 'Segoe UI Symbol';

  /*
   * Code Fonts
   *
   * Code font variables are used for typography of code and other monospaces content.
   */

  --jp-code-font-size: 13px;
  --jp-code-line-height: 1.3077; /* 17px for 13px base */
  --jp-code-padding: 5px; /* 5px for 13px base, codemirror highlighting needs integer px value */
  --jp-code-font-family-default: menlo, consolas, 'DejaVu Sans Mono', monospace;
  --jp-code-font-family: var(--jp-code-font-family-default);

  /* This gives a magnification of about 125% in presentation mode over normal. */
  --jp-code-presentation-font-size: 16px;

  /* may need to tweak cursor width if you change font size */
  --jp-code-cursor-width0: 1.4px;
  --jp-code-cursor-width1: 2px;
  --jp-code-cursor-width2: 4px;

  /* Layout
   *
   * The following are the main layout colors use in JupyterLab. In a light
   * theme these would go from light to dark.
   */

  --jp-layout-color0: white;
  --jp-layout-color1: white;
  --jp-layout-color2: var(--md-grey-200);
  --jp-layout-color3: var(--md-grey-400);
  --jp-layout-color4: var(--md-grey-600);

  /* Inverse Layout
   *
   * The following are the inverse layout colors use in JupyterLab. In a light
   * theme these would go from dark to light.
   */

  --jp-inverse-layout-color0: #111;
  --jp-inverse-layout-color1: var(--md-grey-900);
  --jp-inverse-layout-color2: var(--md-grey-800);
  --jp-inverse-layout-color3: var(--md-grey-700);
  --jp-inverse-layout-color4: var(--md-grey-600);

  /* Brand/accent */

  --jp-brand-color0: var(--md-blue-900);
  --jp-brand-color1: var(--md-blue-700);
  --jp-brand-color2: var(--md-blue-300);
  --jp-brand-color3: var(--md-blue-100);
  --jp-brand-color4: var(--md-blue-50);
  --jp-accent-color0: var(--md-green-900);
  --jp-accent-color1: var(--md-green-700);
  --jp-accent-color2: var(--md-green-300);
  --jp-accent-color3: var(--md-green-100);

  /* State colors (warn, error, success, info) */

  --jp-warn-color0: var(--md-orange-900);
  --jp-warn-color1: var(--md-orange-700);
  --jp-warn-color2: var(--md-orange-300);
  --jp-warn-color3: var(--md-orange-100);
  --jp-error-color0: var(--md-red-900);
  --jp-error-color1: var(--md-red-700);
  --jp-error-color2: var(--md-red-300);
  --jp-error-color3: var(--md-red-100);
  --jp-success-color0: var(--md-green-900);
  --jp-success-color1: var(--md-green-700);
  --jp-success-color2: var(--md-green-300);
  --jp-success-color3: var(--md-green-100);
  --jp-info-color0: var(--md-cyan-900);
  --jp-info-color1: var(--md-cyan-700);
  --jp-info-color2: var(--md-cyan-300);
  --jp-info-color3: var(--md-cyan-100);

  /* Cell specific styles */

  --jp-cell-padding: 5px;
  --jp-cell-collapser-width: 8px;
  --jp-cell-collapser-min-height: 20px;
  --jp-cell-collapser-not-active-hover-opacity: 0.6;
  --jp-cell-editor-background: var(--md-grey-100);
  --jp-cell-editor-border-color: var(--md-grey-300);
  --jp-cell-editor-box-shadow: inset 0 0 2px var(--md-blue-300);
  --jp-cell-editor-active-background: var(--jp-layout-color0);
  --jp-cell-editor-active-border-color: var(--jp-brand-color1);
  --jp-cell-prompt-width: 64px;
  --jp-cell-prompt-font-family: var(--jp-code-font-family-default);
  --jp-cell-prompt-letter-spacing: 0;
  --jp-cell-prompt-opacity: 1;
  --jp-cell-prompt-not-active-opacity: 0.5;
  --jp-cell-prompt-not-active-font-color: var(--md-grey-700);

  /* A custom blend of MD grey and blue 600
   * See https://meyerweb.com/eric/tools/color-blend/#546E7A:1E88E5:5:hex */
  --jp-cell-inprompt-font-color: #307fc1;

  /* A custom blend of MD grey and orange 600
   * https://meyerweb.com/eric/tools/color-blend/#546E7A:F4511E:5:hex */
  --jp-cell-outprompt-font-color: #bf5b3d;

  /* Notebook specific styles */

  --jp-notebook-padding: 10px;
  --jp-notebook-select-background: var(--jp-layout-color1);
  --jp-notebook-multiselected-color: var(--md-blue-50);

  /* The scroll padding is calculated to fill enough space at the bottom of the
  notebook to show one single-line cell (with appropriate padding) at the top
  when the notebook is scrolled all the way to the bottom. We also subtract one
  pixel so that no scrollbar appears if we have just one single-line cell in the
  notebook. This padding is to enable a 'scroll past end' feature in a notebook.
  */
  --jp-notebook-scroll-padding: calc(
    100% - var(--jp-code-font-size) * var(--jp-code-line-height) -
      var(--jp-code-padding) - var(--jp-cell-padding) - 1px
  );

  /* Rendermime styles */

  --jp-rendermime-error-background: #fdd;
  --jp-rendermime-table-row-background: var(--md-grey-100);
  --jp-rendermime-table-row-hover-background: var(--md-light-blue-50);

  /* Dialog specific styles */

  --jp-dialog-background: rgba(0, 0, 0, 0.25);

  /* Console specific styles */

  --jp-console-padding: 10px;

  /* Toolbar specific styles */

  --jp-toolbar-border-color: var(--jp-border-color1);
  --jp-toolbar-micro-height: 8px;
  --jp-toolbar-background: var(--jp-layout-color1);
  --jp-toolbar-box-shadow: 0 0 2px 0 rgba(0, 0, 0, 0.24);
  --jp-toolbar-header-margin: 4px 4px 0 4px;
  --jp-toolbar-active-background: var(--md-grey-300);

  /* Statusbar specific styles */

  --jp-statusbar-height: 24px;

  /* Input field styles */

  --jp-input-box-shadow: inset 0 0 2px var(--md-blue-300);
  --jp-input-active-background: var(--jp-layout-color1);
  --jp-input-hover-background: var(--jp-layout-color1);
  --jp-input-background: var(--md-grey-100);
  --jp-input-border-color: var(--jp-inverse-border-color);
  --jp-input-active-border-color: var(--jp-brand-color1);
  --jp-input-active-box-shadow-color: rgba(19, 124, 189, 0.3);

  /* General editor styles */

  --jp-editor-selected-background: #d9d9d9;
  --jp-editor-selected-focused-background: #d7d4f0;
  --jp-editor-cursor-color: var(--jp-ui-font-color0);

  /* Code mirror specific styles */

  --jp-mirror-editor-keyword-color: #008000;
  --jp-mirror-editor-atom-color: #88f;
  --jp-mirror-editor-number-color: #080;
  --jp-mirror-editor-def-color: #00f;
  --jp-mirror-editor-variable-color: var(--md-grey-900);
  --jp-mirror-editor-variable-2-color: rgb(0, 54, 109);
  --jp-mirror-editor-variable-3-color: #085;
  --jp-mirror-editor-punctuation-color: #05a;
  --jp-mirror-editor-property-color: #05a;
  --jp-mirror-editor-operator-color: #a2f;
  --jp-mirror-editor-comment-color: #408080;
  --jp-mirror-editor-string-color: #ba2121;
  --jp-mirror-editor-string-2-color: #708;
  --jp-mirror-editor-meta-color: #a2f;
  --jp-mirror-editor-qualifier-color: #555;
  --jp-mirror-editor-builtin-color: #008000;
  --jp-mirror-editor-bracket-color: #997;
  --jp-mirror-editor-tag-color: #170;
  --jp-mirror-editor-attribute-color: #00c;
  --jp-mirror-editor-header-color: blue;
  --jp-mirror-editor-quote-color: #090;
  --jp-mirror-editor-link-color: #00c;
  --jp-mirror-editor-error-color: #f00;
  --jp-mirror-editor-hr-color: #999;

  /*
    RTC user specific colors.
    These colors are used for the cursor, username in the editor,
    and the icon of the user.
  */

  --jp-collaborator-color1: #ffad8e;
  --jp-collaborator-color2: #dac83d;
  --jp-collaborator-color3: #72dd76;
  --jp-collaborator-color4: #00e4d0;
  --jp-collaborator-color5: #45d4ff;
  --jp-collaborator-color6: #e2b1ff;
  --jp-collaborator-color7: #ff9de6;

  /* Vega extension styles */

  --jp-vega-background: white;

  /* Sidebar-related styles */

  --jp-sidebar-min-width: 250px;

  /* Search-related styles */

  --jp-search-toggle-off-opacity: 0.5;
  --jp-search-toggle-hover-opacity: 0.8;
  --jp-search-toggle-on-opacity: 1;
  --jp-search-selected-match-background-color: rgb(245, 200, 0);
  --jp-search-selected-match-color: black;
  --jp-search-unselected-match-background-color: var(
    --jp-inverse-layout-color0
  );
  --jp-search-unselected-match-color: var(--jp-ui-inverse-font-color0);

  /* Icon colors that work well with light or dark backgrounds */
  --jp-icon-contrast-color0: var(--md-purple-600);
  --jp-icon-contrast-color1: var(--md-green-600);
  --jp-icon-contrast-color2: var(--md-pink-600);
  --jp-icon-contrast-color3: var(--md-blue-600);

  /* Button colors */
  --jp-accept-color-normal: var(--md-blue-700);
  --jp-accept-color-hover: var(--md-blue-800);
  --jp-accept-color-active: var(--md-blue-900);
  --jp-warn-color-normal: var(--md-red-700);
  --jp-warn-color-hover: var(--md-red-800);
  --jp-warn-color-active: var(--md-red-900);
  --jp-reject-color-normal: var(--md-grey-600);
  --jp-reject-color-hover: var(--md-grey-700);
  --jp-reject-color-active: var(--md-grey-800);

  /* File or activity icons and switch semantic variables */
  --jp-jupyter-icon-color: #f37626;
  --jp-notebook-icon-color: #f37626;
  --jp-json-icon-color: var(--md-orange-700);
  --jp-console-icon-background-color: var(--md-blue-700);
  --jp-console-icon-color: white;
  --jp-terminal-icon-background-color: var(--md-grey-800);
  --jp-terminal-icon-color: var(--md-grey-200);
  --jp-text-editor-icon-color: var(--md-grey-700);
  --jp-inspector-icon-color: var(--md-grey-700);
  --jp-switch-color: var(--md-grey-400);
  --jp-switch-true-position-color: var(--md-orange-900);
}
</style>
<style type="text/css">
/* Force rendering true colors when outputing to pdf */
* {
  -webkit-print-color-adjust: exact;
}

/* Misc */
a.anchor-link {
  display: none;
}

/* Input area styling */
.jp-InputArea {
  overflow: hidden;
}

.jp-InputArea-editor {
  overflow: hidden;
}

.cm-editor.cm-s-jupyter .highlight pre {
/* weird, but --jp-code-padding defined to be 5px but 4px horizontal padding is hardcoded for pre.cm-line */
  padding: var(--jp-code-padding) 4px;
  margin: 0;

  font-family: inherit;
  font-size: inherit;
  line-height: inherit;
  color: inherit;

}

.jp-OutputArea-output pre {
  line-height: inherit;
  font-family: inherit;
}

.jp-RenderedText pre {
  color: var(--jp-content-font-color1);
  font-size: var(--jp-code-font-size);
}

/* Hiding the collapser by default */
.jp-Collapser {
  display: none;
}

@page {
    margin: 0.5in; /* Margin for each printed piece of paper */
}

@media print {
  .jp-Cell-inputWrapper,
  .jp-Cell-outputWrapper {
    display: block;
  }
}
</style>
<!-- Load mathjax -->
<script src="https://cdnjs.cloudflare.com/ajax/libs/mathjax/2.7.7/latest.js?config=TeX-AMS_CHTML-full,Safe"> </script>
<!-- MathJax configuration -->
<script type="text/x-mathjax-config">
    init_mathjax = function() {
        if (window.MathJax) {
        // MathJax loaded
            MathJax.Hub.Config({
                TeX: {
                    equationNumbers: {
                    autoNumber: "AMS",
                    useLabelIds: true
                    }
                },
                tex2jax: {
                    inlineMath: [ ['$','$'], ["\\(","\\)"] ],
                    displayMath: [ ['$$','$$'], ["\\[","\\]"] ],
                    processEscapes: true,
                    processEnvironments: true
                },
                displayAlign: 'center',
                messageStyle: 'none',
                CommonHTML: {
                    linebreaks: {
                    automatic: true
                    }
                }
            });

            MathJax.Hub.Queue(["Typeset", MathJax.Hub]);
        }
    }
    init_mathjax();
    </script>
<!-- End of mathjax configuration --><script type="module">
  document.addEventListener("DOMContentLoaded", async () => {
    const diagrams = document.querySelectorAll(".jp-Mermaid > pre.mermaid");
    // do not load mermaidjs if not needed
    if (!diagrams.length) {
      return;
    }
    const mermaid = (await import("https://cdnjs.cloudflare.com/ajax/libs/mermaid/10.7.0/mermaid.esm.min.mjs")).default;
    const parser = new DOMParser();

    mermaid.initialize({
      maxTextSize: 100000,
      maxEdges: 100000,
      startOnLoad: false,
      fontFamily: window
        .getComputedStyle(document.body)
        .getPropertyValue("--jp-ui-font-family"),
      theme: document.querySelector("body[data-jp-theme-light='true']")
        ? "default"
        : "dark",
    });

    let _nextMermaidId = 0;

    function makeMermaidImage(svg) {
      const img = document.createElement("img");
      const doc = parser.parseFromString(svg, "image/svg+xml");
      const svgEl = doc.querySelector("svg");
      const { maxWidth } = svgEl?.style || {};
      const firstTitle = doc.querySelector("title");
      const firstDesc = doc.querySelector("desc");

      img.setAttribute("src", `data:image/svg+xml,${encodeURIComponent(svg)}`);
      if (maxWidth) {
        img.width = parseInt(maxWidth);
      }
      if (firstTitle) {
        img.setAttribute("alt", firstTitle.textContent);
      }
      if (firstDesc) {
        const caption = document.createElement("figcaption");
        caption.className = "sr-only";
        caption.textContent = firstDesc.textContent;
        return [img, caption];
      }
      return [img];
    }

    async function makeMermaidError(text) {
      let errorMessage = "";
      try {
        await mermaid.parse(text);
      } catch (err) {
        errorMessage = `${err}`;
      }

      const result = document.createElement("details");
      result.className = 'jp-RenderedMermaid-Details';
      const summary = document.createElement("summary");
      summary.className = 'jp-RenderedMermaid-Summary';
      const pre = document.createElement("pre");
      const code = document.createElement("code");
      code.innerText = text;
      pre.appendChild(code);
      summary.appendChild(pre);
      result.appendChild(summary);

      const warning = document.createElement("pre");
      warning.innerText = errorMessage;
      result.appendChild(warning);
      return [result];
    }

    async function renderOneMarmaid(src) {
      const id = `jp-mermaid-${_nextMermaidId++}`;
      const parent = src.parentNode;
      let raw = src.textContent.trim();
      const el = document.createElement("div");
      el.style.visibility = "hidden";
      document.body.appendChild(el);
      let results = null;
      let output = null;
      try {
        let { svg } = await mermaid.render(id, raw, el);
        svg = cleanMermaidSvg(svg);
        results = makeMermaidImage(svg);
        output = document.createElement("figure");
        results.map(output.appendChild, output);
      } catch (err) {
        parent.classList.add("jp-mod-warning");
        results = await makeMermaidError(raw);
        output = results[0];
      } finally {
        el.remove();
      }
      parent.classList.add("jp-RenderedMermaid");
      parent.appendChild(output);
    }


    /**
     * Post-process to ensure mermaid diagrams contain only valid SVG and XHTML.
     */
    function cleanMermaidSvg(svg) {
      return svg.replace(RE_VOID_ELEMENT, replaceVoidElement);
    }


    /**
     * A regular expression for all void elements, which may include attributes and
     * a slash.
     *
     * @see https://developer.mozilla.org/en-US/docs/Glossary/Void_element
     *
     * Of these, only `<br>` is generated by Mermaid in place of `\n`,
     * but _any_ "malformed" tag will break the SVG rendering entirely.
     */
    const RE_VOID_ELEMENT =
      /<\s*(area|base|br|col|embed|hr|img|input|link|meta|param|source|track|wbr)\s*([^>]*?)\s*>/gi;

    /**
     * Ensure a void element is closed with a slash, preserving any attributes.
     */
    function replaceVoidElement(match, tag, rest) {
      rest = rest.trim();
      if (!rest.endsWith('/')) {
        rest = `${rest} /`;
      }
      return `<${tag} ${rest}>`;
    }

    void Promise.all([...diagrams].map(renderOneMarmaid));
  });
</script>
<style>
  .jp-Mermaid:not(.jp-RenderedMermaid) {
    display: none;
  }

  .jp-RenderedMermaid {
    overflow: auto;
    display: flex;
  }

  .jp-RenderedMermaid.jp-mod-warning {
    width: auto;
    padding: 0.5em;
    margin-top: 0.5em;
    border: var(--jp-border-width) solid var(--jp-warn-color2);
    border-radius: var(--jp-border-radius);
    color: var(--jp-ui-font-color1);
    font-size: var(--jp-ui-font-size1);
    white-space: pre-wrap;
    word-wrap: break-word;
  }

  .jp-RenderedMermaid figure {
    margin: 0;
    overflow: auto;
    max-width: 100%;
  }

  .jp-RenderedMermaid img {
    max-width: 100%;
  }

  .jp-RenderedMermaid-Details > pre {
    margin-top: 1em;
  }

  .jp-RenderedMermaid-Summary {
    color: var(--jp-warn-color2);
  }

  .jp-RenderedMermaid:not(.jp-mod-warning) pre {
    display: none;
  }

  .jp-RenderedMermaid-Summary > pre {
    display: inline-block;
    white-space: normal;
  }
</style>
<!-- End of mermaid configuration --></head>
<body class="jp-Notebook" data-jp-theme-light="true" data-jp-theme-name="JupyterLab Light">
<main>
<div class="jp-Cell jp-MarkdownCell jp-Notebook-cell" id="cell-id=e51d1fe0">
<div class="jp-Cell-inputWrapper" tabindex="0">
<div class="jp-Collapser jp-InputCollapser jp-Cell-inputCollapser">
</div>
<div class="jp-InputArea jp-Cell-inputArea"><div class="jp-InputPrompt jp-InputArea-prompt">
</div><div class="jp-RenderedHTMLCommon jp-RenderedMarkdown jp-MarkdownOutput" data-mime-type="text/markdown">
<h2 id="Avalia%C3%A7%C3%A3o-da-Idade-e-Previs%C3%A3o-de-Risco-de-Doen%C3%A7a">Avaliação da Idade e Previsão de Risco de Doença<a class="anchor-link" href="#Avalia%C3%A7%C3%A3o-da-Idade-e-Previs%C3%A3o-de-Risco-de-Doen%C3%A7a">¶</a></h2>
</div>
</div>
</div>
</div>
<div class="jp-Cell jp-MarkdownCell jp-Notebook-cell" id="cell-id=e4e67a27">
<div class="jp-Cell-inputWrapper" tabindex="0">
<div class="jp-Collapser jp-InputCollapser jp-Cell-inputCollapser">
</div>
<div class="jp-InputArea jp-Cell-inputArea"><div class="jp-InputPrompt jp-InputArea-prompt">
</div><div class="jp-RenderedHTMLCommon jp-RenderedMarkdown jp-MarkdownOutput" data-mime-type="text/markdown">
<p>1️⃣ Configuração inicial e pastas</p>
</div>
</div>
</div>
</div><div class="jp-Cell jp-CodeCell jp-Notebook-cell jp-mod-noOutputs" id="cell-id=554cf231">
<div class="jp-Cell-inputWrapper" tabindex="0">
<div class="jp-Collapser jp-InputCollapser jp-Cell-inputCollapser">
</div>
<div class="jp-InputArea jp-Cell-inputArea">
<div class="jp-InputPrompt jp-InputArea-prompt">In [4]:</div>
<div class="jp-CodeMirrorEditor jp-Editor jp-InputArea-editor" data-type="inline">
<div class="cm-editor cm-s-jupyter">
<div class="highlight hl-ipython3"><pre><span></span><span class="kn">import</span><span class="w"> </span><span class="nn">os</span>
<span class="kn">import</span><span class="w"> </span><span class="nn">pandas</span><span class="w"> </span><span class="k">as</span><span class="w"> </span><span class="nn">pd</span>

<span class="c1"># Pastas</span>
<span class="n">RAW_FOLDER</span> <span class="o">=</span> <span class="sa">r</span><span class="s2">"C:\Users\andr3\Documents\DATA SCIENCE\10794 - Programação avançada com Python\Age Assessment &amp; Disease Risk Prediction\src"</span>
<span class="n">CLEAN_FOLDER</span> <span class="o">=</span> <span class="n">os</span><span class="o">.</span><span class="n">path</span><span class="o">.</span><span class="n">join</span><span class="p">(</span><span class="n">os</span><span class="o">.</span><span class="n">path</span><span class="o">.</span><span class="n">dirname</span><span class="p">(</span><span class="n">RAW_FOLDER</span><span class="p">),</span> <span class="s2">"clean"</span><span class="p">)</span>
<span class="n">os</span><span class="o">.</span><span class="n">makedirs</span><span class="p">(</span><span class="n">CLEAN_FOLDER</span><span class="p">,</span> <span class="n">exist_ok</span><span class="o">=</span><span class="kc">True</span><span class="p">)</span>

<span class="c1"># Parâmetros</span>
<span class="n">CHUNK_SIZE</span> <span class="o">=</span> <span class="mi">50000</span>  <span class="c1"># número de samples por Parquet</span>
</pre></div>
</div>
</div>
</div>
</div>
</div>
<div class="jp-Cell jp-MarkdownCell jp-Notebook-cell" id="cell-id=f59990a6">
<div class="jp-Cell-inputWrapper" tabindex="0">
<div class="jp-Collapser jp-InputCollapser jp-Cell-inputCollapser">
</div>
<div class="jp-InputArea jp-Cell-inputArea"><div class="jp-InputPrompt jp-InputArea-prompt">
</div><div class="jp-RenderedHTMLCommon jp-RenderedMarkdown jp-MarkdownOutput" data-mime-type="text/markdown">
<p>Este trecho de código prepara o ambiente para processar grandes volumes de dados de forma eficiente. Primeiro, define as pastas onde estão os dados brutos (src) e onde serão guardados os dados limpos (clean). Se a pasta clean não existir, ela é criada automaticamente. Em seguida, define o parâmetro CHUNK_SIZE, que indica quantas amostras devem ser processadas por vez — neste caso, 50.000. Isso permite dividir ficheiros muito grandes em partes menores, facilitando o processamento incremental, evitando sobrecarga de memória e permitindo exportação em múltiplos ficheiros</p>
</div>
</div>
</div>
</div>
<div class="jp-Cell jp-MarkdownCell jp-Notebook-cell" id="cell-id=d3f0c42d">
<div class="jp-Cell-inputWrapper" tabindex="0">
<div class="jp-Collapser jp-InputCollapser jp-Cell-inputCollapser">
</div>
<div class="jp-InputArea jp-Cell-inputArea"><div class="jp-InputPrompt jp-InputArea-prompt">
</div><div class="jp-RenderedHTMLCommon jp-RenderedMarkdown jp-MarkdownOutput" data-mime-type="text/markdown">
<p>2️⃣ Ler e checar metadados</p>
</div>
</div>
</div>
</div><div class="jp-Cell jp-CodeCell jp-Notebook-cell" id="cell-id=00926a0f">
<div class="jp-Cell-inputWrapper" tabindex="0">
<div class="jp-Collapser jp-InputCollapser jp-Cell-inputCollapser">
</div>
<div class="jp-InputArea jp-Cell-inputArea">
<div class="jp-InputPrompt jp-InputArea-prompt">In [5]:</div>
<div class="jp-CodeMirrorEditor jp-Editor jp-InputArea-editor" data-type="inline">
<div class="cm-editor cm-s-jupyter">
<div class="highlight hl-ipython3"><pre><span></span><span class="n">trainmap_df</span> <span class="o">=</span> <span class="n">pd</span><span class="o">.</span><span class="n">read_csv</span><span class="p">(</span><span class="n">os</span><span class="o">.</span><span class="n">path</span><span class="o">.</span><span class="n">join</span><span class="p">(</span><span class="n">RAW_FOLDER</span><span class="p">,</span> <span class="s2">"trainmap.csv"</span><span class="p">))</span>
<span class="n">trainmap_df</span><span class="p">[</span><span class="s1">'sample_id'</span><span class="p">]</span> <span class="o">=</span> <span class="n">trainmap_df</span><span class="p">[</span><span class="s1">'sample_id'</span><span class="p">]</span><span class="o">.</span><span class="n">astype</span><span class="p">(</span><span class="nb">str</span><span class="p">)</span>

<span class="nb">print</span><span class="p">(</span><span class="s2">"Colunas do trainmap:"</span><span class="p">,</span> <span class="n">trainmap_df</span><span class="o">.</span><span class="n">columns</span><span class="p">)</span>
<span class="n">trainmap_df</span><span class="o">.</span><span class="n">head</span><span class="p">()</span>
</pre></div>
</div>
</div>
</div>
</div>
<div class="jp-Cell-outputWrapper">
<div class="jp-Collapser jp-OutputCollapser jp-Cell-outputCollapser">
</div>
<div class="jp-OutputArea jp-Cell-outputArea">
<div class="jp-OutputArea-child">
<div class="jp-OutputPrompt jp-OutputArea-prompt"></div>
<div class="jp-RenderedText jp-OutputArea-output" data-mime-type="text/plain" tabindex="0">
<pre>Colunas do trainmap: Index(['Unnamed: 0', 'sample_id', 'age', 'gender', 'sample_type', 'disease'], dtype='object')
</pre>
</div>
</div>
<div class="jp-OutputArea-child jp-OutputArea-executeResult">
<div class="jp-OutputPrompt jp-OutputArea-prompt">Out[5]:</div>
<div class="jp-RenderedHTMLCommon jp-RenderedHTML jp-OutputArea-output jp-OutputArea-executeResult" data-mime-type="text/html" tabindex="0">
<div>
<style scoped="">
    .dataframe tbody tr th:only-of-type {
        vertical-align: middle;
    }

    .dataframe tbody tr th {
        vertical-align: top;
    }

    .dataframe thead th {
        text-align: right;
    }
</style>
<table border="1" class="dataframe">
<thead>
<tr style="text-align: right;">
<th></th>
<th>Unnamed: 0</th>
<th>sample_id</th>
<th>age</th>
<th>gender</th>
<th>sample_type</th>
<th>disease</th>
</tr>
</thead>
<tbody>
<tr>
<th>0</th>
<td>1</td>
<td>train10001</td>
<td>88.0</td>
<td>F</td>
<td>disease tissue</td>
<td>Alzheimer's disease</td>
</tr>
<tr>
<th>1</th>
<td>2</td>
<td>train10002</td>
<td>92.0</td>
<td>F</td>
<td>disease tissue</td>
<td>Alzheimer's disease</td>
</tr>
<tr>
<th>2</th>
<td>3</td>
<td>train10003</td>
<td>93.0</td>
<td>F</td>
<td>disease tissue</td>
<td>Alzheimer's disease</td>
</tr>
<tr>
<th>3</th>
<td>4</td>
<td>train10004</td>
<td>96.0</td>
<td>F</td>
<td>disease tissue</td>
<td>Alzheimer's disease</td>
</tr>
<tr>
<th>4</th>
<td>5</td>
<td>train10005</td>
<td>91.0</td>
<td>M</td>
<td>disease tissue</td>
<td>Alzheimer's disease</td>
</tr>
</tbody>
</table>
</div>
</div>
</div>
</div>
</div>
</div>
<div class="jp-Cell jp-MarkdownCell jp-Notebook-cell" id="cell-id=8048dd50">
<div class="jp-Cell-inputWrapper" tabindex="0">
<div class="jp-Collapser jp-InputCollapser jp-Cell-inputCollapser">
</div>
<div class="jp-InputArea jp-Cell-inputArea"><div class="jp-InputPrompt jp-InputArea-prompt">
</div><div class="jp-RenderedHTMLCommon jp-RenderedMarkdown jp-MarkdownOutput" data-mime-type="text/markdown">
<p>3️⃣ Função de preprocessing (traindata wide → long + merge)</p>
</div>
</div>
</div>
</div><div class="jp-Cell jp-CodeCell jp-Notebook-cell jp-mod-noOutputs" id="cell-id=36176b95">
<div class="jp-Cell-inputWrapper" tabindex="0">
<div class="jp-Collapser jp-InputCollapser jp-Cell-inputCollapser">
</div>
<div class="jp-InputArea jp-Cell-inputArea">
<div class="jp-InputPrompt jp-InputArea-prompt">In [6]:</div>
<div class="jp-CodeMirrorEditor jp-Editor jp-InputArea-editor" data-type="inline">
<div class="cm-editor cm-s-jupyter">
<div class="highlight hl-ipython3"><pre><span></span><span class="k">def</span><span class="w"> </span><span class="nf">process_traindata</span><span class="p">(</span><span class="n">file_path</span><span class="p">):</span>
    <span class="n">parquet_files</span> <span class="o">=</span> <span class="p">[]</span>
    <span class="k">for</span> <span class="n">i</span><span class="p">,</span> <span class="n">chunk</span> <span class="ow">in</span> <span class="nb">enumerate</span><span class="p">(</span><span class="n">pd</span><span class="o">.</span><span class="n">read_csv</span><span class="p">(</span><span class="n">file_path</span><span class="p">,</span> <span class="n">chunksize</span><span class="o">=</span><span class="mi">1000</span><span class="p">)):</span>
        <span class="c1"># Wide → long</span>
        <span class="n">df_long</span> <span class="o">=</span> <span class="n">chunk</span><span class="o">.</span><span class="n">melt</span><span class="p">(</span><span class="n">id_vars</span><span class="o">=</span><span class="s2">"cpgsite"</span><span class="p">,</span> <span class="n">var_name</span><span class="o">=</span><span class="s2">"sample_id"</span><span class="p">,</span> <span class="n">value_name</span><span class="o">=</span><span class="s2">"value"</span><span class="p">)</span>
        <span class="n">df_long</span><span class="p">[</span><span class="s2">"sample_id"</span><span class="p">]</span> <span class="o">=</span> <span class="n">df_long</span><span class="p">[</span><span class="s2">"sample_id"</span><span class="p">]</span><span class="o">.</span><span class="n">astype</span><span class="p">(</span><span class="nb">str</span><span class="p">)</span>
        
        <span class="c1"># Merge com trainmap</span>
        <span class="n">df_merged</span> <span class="o">=</span> <span class="n">df_long</span><span class="o">.</span><span class="n">merge</span><span class="p">(</span><span class="n">trainmap_df</span><span class="p">,</span> <span class="n">on</span><span class="o">=</span><span class="s2">"sample_id"</span><span class="p">,</span> <span class="n">how</span><span class="o">=</span><span class="s2">"left"</span><span class="p">)</span>
        
        <span class="c1"># Salva em chunks menores para RAM</span>
        <span class="n">n_chunks</span> <span class="o">=</span> <span class="p">(</span><span class="nb">len</span><span class="p">(</span><span class="n">df_merged</span><span class="p">)</span> <span class="o">//</span> <span class="n">CHUNK_SIZE</span><span class="p">)</span> <span class="o">+</span> <span class="mi">1</span>
        <span class="k">for</span> <span class="n">j</span> <span class="ow">in</span> <span class="nb">range</span><span class="p">(</span><span class="n">n_chunks</span><span class="p">):</span>
            <span class="n">start</span> <span class="o">=</span> <span class="n">j</span> <span class="o">*</span> <span class="n">CHUNK_SIZE</span>
            <span class="n">end</span> <span class="o">=</span> <span class="p">(</span><span class="n">j</span> <span class="o">+</span> <span class="mi">1</span><span class="p">)</span> <span class="o">*</span> <span class="n">CHUNK_SIZE</span>
            <span class="n">chunk_parquet</span> <span class="o">=</span> <span class="n">df_merged</span><span class="o">.</span><span class="n">iloc</span><span class="p">[</span><span class="n">start</span><span class="p">:</span><span class="n">end</span><span class="p">]</span>
            <span class="k">if</span> <span class="nb">len</span><span class="p">(</span><span class="n">chunk_parquet</span><span class="p">)</span> <span class="o">==</span> <span class="mi">0</span><span class="p">:</span>
                <span class="k">continue</span>
            <span class="n">file_name</span> <span class="o">=</span> <span class="n">os</span><span class="o">.</span><span class="n">path</span><span class="o">.</span><span class="n">join</span><span class="p">(</span><span class="n">CLEAN_FOLDER</span><span class="p">,</span> <span class="sa">f</span><span class="s2">"traindata_part_</span><span class="si">{</span><span class="n">i</span><span class="si">:</span><span class="s2">04d</span><span class="si">}</span><span class="s2">_</span><span class="si">{</span><span class="n">j</span><span class="si">:</span><span class="s2">04d</span><span class="si">}</span><span class="s2">.parquet"</span><span class="p">)</span>
            <span class="n">chunk_parquet</span><span class="o">.</span><span class="n">to_parquet</span><span class="p">(</span><span class="n">file_name</span><span class="p">,</span> <span class="n">index</span><span class="o">=</span><span class="kc">False</span><span class="p">)</span>
            <span class="n">parquet_files</span><span class="o">.</span><span class="n">append</span><span class="p">(</span><span class="n">file_name</span><span class="p">)</span>
    <span class="k">return</span> <span class="n">parquet_files</span>
</pre></div>
</div>
</div>
</div>
</div>
</div>
<div class="jp-Cell jp-MarkdownCell jp-Notebook-cell" id="cell-id=dc882056">
<div class="jp-Cell-inputWrapper" tabindex="0">
<div class="jp-Collapser jp-InputCollapser jp-Cell-inputCollapser">
</div>
<div class="jp-InputArea jp-Cell-inputArea"><div class="jp-InputPrompt jp-InputArea-prompt">
</div><div class="jp-RenderedHTMLCommon jp-RenderedMarkdown jp-MarkdownOutput" data-mime-type="text/markdown">
<p>Este bloco define a função process_traindata(file_path), que transforma e exporta os dados genéticos do ficheiro CSV em formato Parquet, de forma eficiente e modular.</p>
<ul>
<li>Pré-processar dados genéticos massivos</li>
<li>Integrar metadados clínicos desde o início</li>
<li>Garantir compatibilidade com pipelines posteriores (PCA, clustering, dashboard)</li>
<li>Modularizar o fluxo de dados para reuso e validaçã</li>
</ul>
</div>
</div>
</div>
</div>
<div class="jp-Cell jp-MarkdownCell jp-Notebook-cell" id="cell-id=589fce4c">
<div class="jp-Cell-inputWrapper" tabindex="0">
<div class="jp-Collapser jp-InputCollapser jp-Cell-inputCollapser">
</div>
<div class="jp-InputArea jp-Cell-inputArea"><div class="jp-InputPrompt jp-InputArea-prompt">
</div><div class="jp-RenderedHTMLCommon jp-RenderedMarkdown jp-MarkdownOutput" data-mime-type="text/markdown">
<p>4️⃣ Rodar o preprocessing</p>
</div>
</div>
</div>
</div><div class="jp-Cell jp-CodeCell jp-Notebook-cell" id="cell-id=47a4c574">
<div class="jp-Cell-inputWrapper" tabindex="0">
<div class="jp-Collapser jp-InputCollapser jp-Cell-inputCollapser">
</div>
<div class="jp-InputArea jp-Cell-inputArea">
<div class="jp-InputPrompt jp-InputArea-prompt">In [7]:</div>
<div class="jp-CodeMirrorEditor jp-Editor jp-InputArea-editor" data-type="inline">
<div class="cm-editor cm-s-jupyter">
<div class="highlight hl-ipython3"><pre><span></span><span class="n">traindata_path</span> <span class="o">=</span> <span class="n">os</span><span class="o">.</span><span class="n">path</span><span class="o">.</span><span class="n">join</span><span class="p">(</span><span class="n">RAW_FOLDER</span><span class="p">,</span> <span class="s2">"traindata.csv"</span><span class="p">)</span>
<span class="n">parquet_files</span> <span class="o">=</span> <span class="n">process_traindata</span><span class="p">(</span><span class="n">traindata_path</span><span class="p">)</span>
<span class="nb">print</span><span class="p">(</span><span class="sa">f</span><span class="s2">"Parquet files gerados: </span><span class="si">{</span><span class="nb">len</span><span class="p">(</span><span class="n">parquet_files</span><span class="p">)</span><span class="si">}</span><span class="s2">"</span><span class="p">)</span>
</pre></div>
</div>
</div>
</div>
</div>
<div class="jp-Cell-outputWrapper">
<div class="jp-Collapser jp-OutputCollapser jp-Cell-outputCollapser">
</div>
<div class="jp-OutputArea jp-Cell-outputArea">
<div class="jp-OutputArea-child">
<div class="jp-OutputPrompt jp-OutputArea-prompt"></div>
<div class="jp-RenderedText jp-OutputArea-output" data-mime-type="text/plain" tabindex="0">
<pre>Parquet files gerados: 8011
</pre>
</div>
</div>
</div>
</div>
</div>
<div class="jp-Cell jp-MarkdownCell jp-Notebook-cell" id="cell-id=29a9ab02">
<div class="jp-Cell-inputWrapper" tabindex="0">
<div class="jp-Collapser jp-InputCollapser jp-Cell-inputCollapser">
</div>
<div class="jp-InputArea jp-Cell-inputArea"><div class="jp-InputPrompt jp-InputArea-prompt">
</div><div class="jp-RenderedHTMLCommon jp-RenderedMarkdown jp-MarkdownOutput" data-mime-type="text/markdown">
<ul>
<li>Lê o CSV em chunks</li>
<li>Converte de formato wide para long</li>
<li>Junta com metadados clínicos (trainmap_df)</li>
<li>Divide em subchunks e exporta como .parquet</li>
<li></li>
</ul>
</div>
</div>
</div>
</div>
<div class="jp-Cell jp-MarkdownCell jp-Notebook-cell" id="cell-id=53a1d1a5">
<div class="jp-Cell-inputWrapper" tabindex="0">
<div class="jp-Collapser jp-InputCollapser jp-Cell-inputCollapser">
</div>
<div class="jp-InputArea jp-Cell-inputArea"><div class="jp-InputPrompt jp-InputArea-prompt">
</div><div class="jp-RenderedHTMLCommon jp-RenderedMarkdown jp-MarkdownOutput" data-mime-type="text/markdown">
<p>5️⃣ Leitura de todos os Parquet chunks para análise</p>
</div>
</div>
</div>
</div><div class="jp-Cell jp-CodeCell jp-Notebook-cell" id="cell-id=234e71f3">
<div class="jp-Cell-inputWrapper" tabindex="0">
<div class="jp-Collapser jp-InputCollapser jp-Cell-inputCollapser">
</div>
<div class="jp-InputArea jp-Cell-inputArea">
<div class="jp-InputPrompt jp-InputArea-prompt">In [8]:</div>
<div class="jp-CodeMirrorEditor jp-Editor jp-InputArea-editor" data-type="inline">
<div class="cm-editor cm-s-jupyter">
<div class="highlight hl-ipython3"><pre><span></span><span class="kn">import</span><span class="w"> </span><span class="nn">glob</span>

<span class="n">all_parquets</span> <span class="o">=</span> <span class="n">glob</span><span class="o">.</span><span class="n">glob</span><span class="p">(</span><span class="n">os</span><span class="o">.</span><span class="n">path</span><span class="o">.</span><span class="n">join</span><span class="p">(</span><span class="n">CLEAN_FOLDER</span><span class="p">,</span> <span class="s2">"*.parquet"</span><span class="p">))</span>
<span class="n">df</span> <span class="o">=</span> <span class="n">pd</span><span class="o">.</span><span class="n">concat</span><span class="p">([</span><span class="n">pd</span><span class="o">.</span><span class="n">read_parquet</span><span class="p">(</span><span class="n">f</span><span class="p">)</span> <span class="k">for</span> <span class="n">f</span> <span class="ow">in</span> <span class="n">all_parquets</span><span class="p">],</span> <span class="n">ignore_index</span><span class="o">=</span><span class="kc">True</span><span class="p">)</span>
<span class="nb">print</span><span class="p">(</span><span class="n">df</span><span class="o">.</span><span class="n">shape</span><span class="p">)</span>
<span class="n">df</span><span class="o">.</span><span class="n">head</span><span class="p">()</span>
</pre></div>
</div>
</div>
</div>
</div>
<div class="jp-Cell-outputWrapper">
<div class="jp-Collapser jp-OutputCollapser jp-Cell-outputCollapser">
</div>
<div class="jp-OutputArea jp-Cell-outputArea">
<div class="jp-OutputArea-child">
<div class="jp-OutputPrompt jp-OutputArea-prompt"></div>
<div class="jp-RenderedText jp-OutputArea-output" data-mime-type="text/plain" tabindex="0">
<pre>(399720383, 8)
</pre>
</div>
</div>
<div class="jp-OutputArea-child jp-OutputArea-executeResult">
<div class="jp-OutputPrompt jp-OutputArea-prompt">Out[8]:</div>
<div class="jp-RenderedHTMLCommon jp-RenderedHTML jp-OutputArea-output jp-OutputArea-executeResult" data-mime-type="text/html" tabindex="0">
<div>
<style scoped="">
    .dataframe tbody tr th:only-of-type {
        vertical-align: middle;
    }

    .dataframe tbody tr th {
        vertical-align: top;
    }

    .dataframe thead th {
        text-align: right;
    }
</style>
<table border="1" class="dataframe">
<thead>
<tr style="text-align: right;">
<th></th>
<th>cpgsite</th>
<th>sample_id</th>
<th>value</th>
<th>Unnamed: 0</th>
<th>age</th>
<th>gender</th>
<th>sample_type</th>
<th>disease</th>
</tr>
</thead>
<tbody>
<tr>
<th>0</th>
<td>cg01176141</td>
<td>train10001</td>
<td>3.993781</td>
<td>1</td>
<td>88.0</td>
<td>F</td>
<td>disease tissue</td>
<td>Alzheimer's disease</td>
</tr>
<tr>
<th>1</th>
<td>cg15260365</td>
<td>train10001</td>
<td>-2.110522</td>
<td>1</td>
<td>88.0</td>
<td>F</td>
<td>disease tissue</td>
<td>Alzheimer's disease</td>
</tr>
<tr>
<th>2</th>
<td>cg11931727</td>
<td>train10001</td>
<td>-2.496772</td>
<td>1</td>
<td>88.0</td>
<td>F</td>
<td>disease tissue</td>
<td>Alzheimer's disease</td>
</tr>
<tr>
<th>3</th>
<td>cg04208787</td>
<td>train10001</td>
<td>-3.580953</td>
<td>1</td>
<td>88.0</td>
<td>F</td>
<td>disease tissue</td>
<td>Alzheimer's disease</td>
</tr>
<tr>
<th>4</th>
<td>cg18789918</td>
<td>train10001</td>
<td>0.015997</td>
<td>1</td>
<td>88.0</td>
<td>F</td>
<td>disease tissue</td>
<td>Alzheimer's disease</td>
</tr>
</tbody>
</table>
</div>
</div>
</div>
</div>
</div>
</div>
<div class="jp-Cell jp-MarkdownCell jp-Notebook-cell" id="cell-id=772cb9f0">
<div class="jp-Cell-inputWrapper" tabindex="0">
<div class="jp-Collapser jp-InputCollapser jp-Cell-inputCollapser">
</div>
<div class="jp-InputArea jp-Cell-inputArea"><div class="jp-InputPrompt jp-InputArea-prompt">
</div><div class="jp-RenderedHTMLCommon jp-RenderedMarkdown jp-MarkdownOutput" data-mime-type="text/markdown">
<p>6️⃣ PCA + Clustering</p>
</div>
</div>
</div>
</div><div class="jp-Cell jp-CodeCell jp-Notebook-cell" id="cell-id=c77a40eb">
<div class="jp-Cell-inputWrapper" tabindex="0">
<div class="jp-Collapser jp-InputCollapser jp-Cell-inputCollapser">
</div>
<div class="jp-InputArea jp-Cell-inputArea">
<div class="jp-InputPrompt jp-InputArea-prompt">In [1]:</div>
<div class="jp-CodeMirrorEditor jp-Editor jp-InputArea-editor" data-type="inline">
<div class="cm-editor cm-s-jupyter">
<div class="highlight hl-ipython3"><pre><span></span><span class="kn">import</span><span class="w"> </span><span class="nn">os</span>
<span class="kn">import</span><span class="w"> </span><span class="nn">pandas</span><span class="w"> </span><span class="k">as</span><span class="w"> </span><span class="nn">pd</span>
<span class="kn">import</span><span class="w"> </span><span class="nn">numpy</span><span class="w"> </span><span class="k">as</span><span class="w"> </span><span class="nn">np</span>
<span class="kn">from</span><span class="w"> </span><span class="nn">sklearn.decomposition</span><span class="w"> </span><span class="kn">import</span> <span class="n">IncrementalPCA</span>
<span class="kn">from</span><span class="w"> </span><span class="nn">sklearn.cluster</span><span class="w"> </span><span class="kn">import</span> <span class="n">MiniBatchKMeans</span>

<span class="c1"># ===== CONFIGURAÇÃO =====</span>
<span class="n">SRC_DIR</span> <span class="o">=</span> <span class="sa">r</span><span class="s2">"C:\Users\andr3\Documents\DATA SCIENCE\10794 - Programação avançada com Python\Age Assessment &amp; Disease Risk Prediction\src"</span>
<span class="n">CLEAN_FOLDER</span> <span class="o">=</span> <span class="n">os</span><span class="o">.</span><span class="n">path</span><span class="o">.</span><span class="n">join</span><span class="p">(</span><span class="n">SRC_DIR</span><span class="p">,</span> <span class="s2">"clean"</span><span class="p">)</span>
<span class="n">os</span><span class="o">.</span><span class="n">makedirs</span><span class="p">(</span><span class="n">CLEAN_FOLDER</span><span class="p">,</span> <span class="n">exist_ok</span><span class="o">=</span><span class="kc">True</span><span class="p">)</span>

<span class="n">TRAIN_FILE</span> <span class="o">=</span> <span class="n">os</span><span class="o">.</span><span class="n">path</span><span class="o">.</span><span class="n">join</span><span class="p">(</span><span class="n">SRC_DIR</span><span class="p">,</span> <span class="s2">"traindata.csv"</span><span class="p">)</span>
<span class="n">TRAINMAP_FILE</span> <span class="o">=</span> <span class="n">os</span><span class="o">.</span><span class="n">path</span><span class="o">.</span><span class="n">join</span><span class="p">(</span><span class="n">SRC_DIR</span><span class="p">,</span> <span class="s2">"trainmap.csv"</span><span class="p">)</span>
<span class="n">OUTPUT_FILE</span> <span class="o">=</span> <span class="n">os</span><span class="o">.</span><span class="n">path</span><span class="o">.</span><span class="n">join</span><span class="p">(</span><span class="n">CLEAN_FOLDER</span><span class="p">,</span> <span class="s2">"train_processed.parquet"</span><span class="p">)</span>

<span class="c1"># ===== CARREGAR TRAINMAP =====</span>
<span class="n">trainmap_df</span> <span class="o">=</span> <span class="n">pd</span><span class="o">.</span><span class="n">read_csv</span><span class="p">(</span><span class="n">TRAINMAP_FILE</span><span class="p">,</span> <span class="n">usecols</span><span class="o">=</span><span class="p">[</span><span class="s2">"age"</span><span class="p">,</span> <span class="s2">"gender"</span><span class="p">,</span> <span class="s2">"sample_type"</span><span class="p">,</span> <span class="s2">"disease"</span><span class="p">])</span>
<span class="n">trainmap_df</span><span class="p">[</span><span class="s2">"sample_id"</span><span class="p">]</span> <span class="o">=</span> <span class="n">trainmap_df</span><span class="o">.</span><span class="n">index</span><span class="o">.</span><span class="n">astype</span><span class="p">(</span><span class="nb">str</span><span class="p">)</span>

<span class="c1"># ===== PARAMETROS =====</span>
<span class="n">CHUNK_SIZE</span> <span class="o">=</span> <span class="mi">10000</span>  <span class="c1"># menor para reduzir uso de RAM</span>
<span class="n">N_COMPONENTS</span> <span class="o">=</span> <span class="mi">2</span>
<span class="n">N_CLUSTERS</span> <span class="o">=</span> <span class="mi">4</span>

<span class="c1"># ===== Inicializar PCA e KMeans =====</span>
<span class="n">pca</span> <span class="o">=</span> <span class="n">IncrementalPCA</span><span class="p">(</span><span class="n">n_components</span><span class="o">=</span><span class="n">N_COMPONENTS</span><span class="p">)</span>
<span class="n">kmeans</span> <span class="o">=</span> <span class="n">MiniBatchKMeans</span><span class="p">(</span><span class="n">n_clusters</span><span class="o">=</span><span class="n">N_CLUSTERS</span><span class="p">,</span> <span class="n">random_state</span><span class="o">=</span><span class="mi">42</span><span class="p">,</span> <span class="n">batch_size</span><span class="o">=</span><span class="mi">500</span><span class="p">)</span>

<span class="c1"># ===== PRIMEIRA PASSAGEM: Treinar PCA =====</span>
<span class="nb">print</span><span class="p">(</span><span class="s2">"Treinando PCA incrementalmente..."</span><span class="p">)</span>
<span class="k">for</span> <span class="n">chunk</span> <span class="ow">in</span> <span class="n">pd</span><span class="o">.</span><span class="n">read_csv</span><span class="p">(</span><span class="n">TRAIN_FILE</span><span class="p">,</span> <span class="n">chunksize</span><span class="o">=</span><span class="n">CHUNK_SIZE</span><span class="p">,</span> <span class="n">usecols</span><span class="o">=</span><span class="k">lambda</span> <span class="n">c</span><span class="p">:</span> <span class="n">c</span><span class="o">.</span><span class="n">startswith</span><span class="p">(</span><span class="s2">"train"</span><span class="p">)):</span>
    <span class="n">chunk</span> <span class="o">=</span> <span class="n">chunk</span><span class="o">.</span><span class="n">fillna</span><span class="p">(</span><span class="mi">0</span><span class="p">)</span><span class="o">.</span><span class="n">astype</span><span class="p">(</span><span class="s2">"float32"</span><span class="p">)</span>
    <span class="n">pca</span><span class="o">.</span><span class="n">partial_fit</span><span class="p">(</span><span class="n">chunk</span><span class="p">)</span>
<span class="nb">print</span><span class="p">(</span><span class="s2">"✅ PCA treinado!"</span><span class="p">)</span>

<span class="c1"># ===== SEGUNDA PASSAGEM: Transformar e clusterizar =====</span>
<span class="nb">print</span><span class="p">(</span><span class="s2">"Aplicando PCA e KMeans em blocos..."</span><span class="p">)</span>
<span class="n">results</span> <span class="o">=</span> <span class="p">[]</span>
<span class="n">sample_counter</span> <span class="o">=</span> <span class="mi">0</span>

<span class="k">for</span> <span class="n">chunk</span> <span class="ow">in</span> <span class="n">pd</span><span class="o">.</span><span class="n">read_csv</span><span class="p">(</span><span class="n">TRAIN_FILE</span><span class="p">,</span> <span class="n">chunksize</span><span class="o">=</span><span class="n">CHUNK_SIZE</span><span class="p">):</span>
    <span class="n">feature_cols</span> <span class="o">=</span> <span class="p">[</span><span class="n">c</span> <span class="k">for</span> <span class="n">c</span> <span class="ow">in</span> <span class="n">chunk</span><span class="o">.</span><span class="n">columns</span> <span class="k">if</span> <span class="n">c</span><span class="o">.</span><span class="n">startswith</span><span class="p">(</span><span class="s2">"train"</span><span class="p">)]</span>
    <span class="n">chunk_features</span> <span class="o">=</span> <span class="n">chunk</span><span class="p">[</span><span class="n">feature_cols</span><span class="p">]</span><span class="o">.</span><span class="n">fillna</span><span class="p">(</span><span class="mi">0</span><span class="p">)</span><span class="o">.</span><span class="n">astype</span><span class="p">(</span><span class="s2">"float32"</span><span class="p">)</span>

    <span class="c1"># sample_id incremental</span>
    <span class="n">chunk</span><span class="p">[</span><span class="s2">"sample_id"</span><span class="p">]</span> <span class="o">=</span> <span class="n">np</span><span class="o">.</span><span class="n">arange</span><span class="p">(</span><span class="n">sample_counter</span><span class="p">,</span> <span class="n">sample_counter</span> <span class="o">+</span> <span class="nb">len</span><span class="p">(</span><span class="n">chunk</span><span class="p">))</span><span class="o">.</span><span class="n">astype</span><span class="p">(</span><span class="nb">str</span><span class="p">)</span>
    <span class="n">sample_counter</span> <span class="o">+=</span> <span class="nb">len</span><span class="p">(</span><span class="n">chunk</span><span class="p">)</span>

    <span class="c1"># PCA transform</span>
    <span class="n">pca_result</span> <span class="o">=</span> <span class="n">pca</span><span class="o">.</span><span class="n">transform</span><span class="p">(</span><span class="n">chunk_features</span><span class="p">)</span>
    <span class="n">chunk</span><span class="p">[</span><span class="s2">"PC1"</span><span class="p">]</span> <span class="o">=</span> <span class="n">pca_result</span><span class="p">[:,</span> <span class="mi">0</span><span class="p">]</span>
    <span class="n">chunk</span><span class="p">[</span><span class="s2">"PC2"</span><span class="p">]</span> <span class="o">=</span> <span class="n">pca_result</span><span class="p">[:,</span> <span class="mi">1</span><span class="p">]</span>

    <span class="c1"># Clustering</span>
    <span class="n">cluster_labels</span> <span class="o">=</span> <span class="n">kmeans</span><span class="o">.</span><span class="n">partial_fit</span><span class="p">(</span><span class="n">chunk_features</span><span class="p">)</span><span class="o">.</span><span class="n">predict</span><span class="p">(</span><span class="n">chunk_features</span><span class="p">)</span>
    <span class="n">chunk</span><span class="p">[</span><span class="s2">"cluster"</span><span class="p">]</span> <span class="o">=</span> <span class="n">cluster_labels</span>

    <span class="c1"># Selecionar colunas relevantes</span>
    <span class="n">results</span><span class="o">.</span><span class="n">append</span><span class="p">(</span><span class="n">chunk</span><span class="p">[[</span><span class="s2">"sample_id"</span><span class="p">,</span> <span class="s2">"PC1"</span><span class="p">,</span> <span class="s2">"PC2"</span><span class="p">,</span> <span class="s2">"cluster"</span><span class="p">]])</span>
    <span class="k">del</span> <span class="n">chunk</span><span class="p">,</span> <span class="n">chunk_features</span><span class="p">,</span> <span class="n">pca_result</span><span class="p">,</span> <span class="n">cluster_labels</span>  <span class="c1"># liberar memória</span>

<span class="c1"># ===== JUNTAR TODOS E MERGE =====</span>
<span class="n">final_df</span> <span class="o">=</span> <span class="n">pd</span><span class="o">.</span><span class="n">concat</span><span class="p">(</span><span class="n">results</span><span class="p">,</span> <span class="n">ignore_index</span><span class="o">=</span><span class="kc">True</span><span class="p">)</span>
<span class="n">final_df</span> <span class="o">=</span> <span class="n">final_df</span><span class="o">.</span><span class="n">merge</span><span class="p">(</span><span class="n">trainmap_df</span><span class="p">,</span> <span class="n">on</span><span class="o">=</span><span class="s2">"sample_id"</span><span class="p">,</span> <span class="n">how</span><span class="o">=</span><span class="s2">"left"</span><span class="p">)</span>

<span class="c1"># ===== SALVAR PARQUET =====</span>
<span class="n">final_df</span><span class="o">.</span><span class="n">to_parquet</span><span class="p">(</span><span class="n">OUTPUT_FILE</span><span class="p">,</span> <span class="n">index</span><span class="o">=</span><span class="kc">False</span><span class="p">)</span>
<span class="nb">print</span><span class="p">(</span><span class="s2">"✅ Arquivo processado salvo em:"</span><span class="p">,</span> <span class="n">OUTPUT_FILE</span><span class="p">)</span>
<span class="nb">print</span><span class="p">(</span><span class="n">final_df</span><span class="o">.</span><span class="n">head</span><span class="p">())</span>
</pre></div>
</div>
</div>
</div>
</div>
<div class="jp-Cell-outputWrapper">
<div class="jp-Collapser jp-OutputCollapser jp-Cell-outputCollapser">
</div>
<div class="jp-OutputArea jp-Cell-outputArea">
<div class="jp-OutputArea-child">
<div class="jp-OutputPrompt jp-OutputArea-prompt"></div>
<div class="jp-RenderedText jp-OutputArea-output" data-mime-type="text/plain" tabindex="0">
<pre>Treinando PCA incrementalmente...
✅ PCA treinado!
Aplicando PCA e KMeans em blocos...
✅ Arquivo processado salvo em: C:\Users\andr3\Documents\DATA SCIENCE\10794 - Programação avançada com Python\Age Assessment &amp; Disease Risk Prediction\src\clean\train_processed.parquet
  sample_id         PC1        PC2  cluster   age gender     sample_type  \
0         0  414.546757  45.467836        1  88.0      F  disease tissue   
1         1 -148.820583   9.911734        2  92.0      F  disease tissue   
2         2 -211.141675  -1.668648        3  93.0      F  disease tissue   
3         3 -327.866180 -12.730831        3  96.0      F  disease tissue   
4         4  -24.993272  -6.773454        2  91.0      M  disease tissue   

               disease  
0  Alzheimer's disease  
1  Alzheimer's disease  
2  Alzheimer's disease  
3  Alzheimer's disease  
4  Alzheimer's disease  
</pre>
</div>
</div>
</div>
</div>
</div>
<div class="jp-Cell jp-MarkdownCell jp-Notebook-cell" id="cell-id=19e7e1ec">
<div class="jp-Cell-inputWrapper" tabindex="0">
<div class="jp-Collapser jp-InputCollapser jp-Cell-inputCollapser">
</div>
<div class="jp-InputArea jp-Cell-inputArea"><div class="jp-InputPrompt jp-InputArea-prompt">
</div><div class="jp-RenderedHTMLCommon jp-RenderedMarkdown jp-MarkdownOutput" data-mime-type="text/markdown">
<p>🧠 Explicação resumida</p>
<ol>
<li><p>Configuração de caminhos
Define onde estão os dados brutos (src) e onde salvar os dados limpos (clean).</p>
</li>
<li><p>Carregamento do trainmap.csv
Lê os metadados clínicos (idade, género, tipo de amostra, doença) e cria um identificador sample_id baseado no índice — que será usado para merge posterior.</p>
</li>
<li><p>Inicialização de PCA e KMeans
Cria dois modelos:</p>
</li>
</ol>
<ul>
<li>IncrementalPCA: reduz dimensionalidade para 2 componentes (PC1, PC2)</li>
<li>MiniBatchKMeans: agrupa amostras em 4 clusters com treino incremental</li>
</ul>
<ol start="4">
<li><p>Primeira passagem: treino do PCA
Lê o traindata.csv em chunks e treina o PCA de forma incremental, sem sobrecarregar a RAM.</p>
</li>
<li><p>Segunda passagem: transformação e clustering
Para cada chunk:</p>
</li>
</ol>
<ul>
<li>Extrai as colunas genéticas (train*)</li>
<li>Gera sample_id incremental</li>
<li>Aplica PCA para obter PC1 e PC2</li>
<li>Aplica KMeans para atribuir um cluster</li>
<li>Guarda apenas sample_id, PC1, PC2, cluster</li>
</ul>
<ol start="6">
<li><p>Concatenação e enriquecimento
Junta todos os chunks processados e faz merge com trainmap_df para adicionar os metadados clínicos a cada amostra.</p>
</li>
<li><p>Exportação final
Salva o resultado como train_processed.parquet, que agora contém:</p>
</li>
</ol>
<ul>
<li>Redução dimensional (PC1, PC2)</li>
<li>Cluster atribuído</li>
<li>Metadados clínicos (idade, género, tipo, doença)</li>
</ul>
<p>📦 Resultado final
Um ficheiro .parquet leve, estruturado e pronto para:</p>
<ul>
<li>Visualização em dashboards</li>
<li>Treino de modelos supervisionados (SGDClassifier, RandomForestClassifier)</li>
<li>Filtros interativos por idade, género, doença, cluster</li>
</ul>
</div>
</div>
</div>
</div>
<div class="jp-Cell jp-MarkdownCell jp-Notebook-cell" id="cell-id=0ed09715">
<div class="jp-Cell-inputWrapper" tabindex="0">
<div class="jp-Collapser jp-InputCollapser jp-Cell-inputCollapser">
</div>
<div class="jp-InputArea jp-Cell-inputArea"><div class="jp-InputPrompt jp-InputArea-prompt">
</div><div class="jp-RenderedHTMLCommon jp-RenderedMarkdown jp-MarkdownOutput" data-mime-type="text/markdown">
<p>7️⃣ Estrutura sugerida para modelo supervisionado</p>
</div>
</div>
</div>
</div><div class="jp-Cell jp-CodeCell jp-Notebook-cell" id="cell-id=8f196034">
<div class="jp-Cell-inputWrapper" tabindex="0">
<div class="jp-Collapser jp-InputCollapser jp-Cell-inputCollapser">
</div>
<div class="jp-InputArea jp-Cell-inputArea">
<div class="jp-InputPrompt jp-InputArea-prompt">In [4]:</div>
<div class="jp-CodeMirrorEditor jp-Editor jp-InputArea-editor" data-type="inline">
<div class="cm-editor cm-s-jupyter">
<div class="highlight hl-ipython3"><pre><span></span><span class="kn">import</span><span class="w"> </span><span class="nn">os</span>
<span class="kn">import</span><span class="w"> </span><span class="nn">pandas</span><span class="w"> </span><span class="k">as</span><span class="w"> </span><span class="nn">pd</span>
<span class="kn">import</span><span class="w"> </span><span class="nn">numpy</span><span class="w"> </span><span class="k">as</span><span class="w"> </span><span class="nn">np</span>
<span class="kn">from</span><span class="w"> </span><span class="nn">sklearn.linear_model</span><span class="w"> </span><span class="kn">import</span> <span class="n">SGDClassifier</span>
<span class="kn">from</span><span class="w"> </span><span class="nn">sklearn.preprocessing</span><span class="w"> </span><span class="kn">import</span> <span class="n">LabelEncoder</span>
<span class="kn">from</span><span class="w"> </span><span class="nn">sklearn.metrics</span><span class="w"> </span><span class="kn">import</span> <span class="n">classification_report</span><span class="p">,</span> <span class="n">confusion_matrix</span>
<span class="kn">import</span><span class="w"> </span><span class="nn">seaborn</span><span class="w"> </span><span class="k">as</span><span class="w"> </span><span class="nn">sns</span>
<span class="kn">import</span><span class="w"> </span><span class="nn">matplotlib.pyplot</span><span class="w"> </span><span class="k">as</span><span class="w"> </span><span class="nn">plt</span>
<span class="kn">import</span><span class="w"> </span><span class="nn">joblib</span>

<span class="c1"># ===== CONFIGURAÇÃO DE CAMINHOS =====</span>
<span class="n">SRC_DIR</span> <span class="o">=</span> <span class="sa">r</span><span class="s2">"C:\Users\andr3\Documents\DATA SCIENCE\10794 - Programação avançada com Python\Age Assessment &amp; Disease Risk Prediction\src"</span>
<span class="n">CLEAN_FOLDER</span> <span class="o">=</span> <span class="n">os</span><span class="o">.</span><span class="n">path</span><span class="o">.</span><span class="n">join</span><span class="p">(</span><span class="n">SRC_DIR</span><span class="p">,</span> <span class="s2">"clean"</span><span class="p">)</span>
<span class="n">PARQUET_FILE</span> <span class="o">=</span> <span class="n">os</span><span class="o">.</span><span class="n">path</span><span class="o">.</span><span class="n">join</span><span class="p">(</span><span class="n">CLEAN_FOLDER</span><span class="p">,</span> <span class="s2">"train_processed.parquet"</span><span class="p">)</span>
<span class="n">MODEL_PATH</span> <span class="o">=</span> <span class="n">os</span><span class="o">.</span><span class="n">path</span><span class="o">.</span><span class="n">join</span><span class="p">(</span><span class="n">CLEAN_FOLDER</span><span class="p">,</span> <span class="s2">"model_sgd.pkl"</span><span class="p">)</span>
<span class="n">OUTPUT_PARQUET</span> <span class="o">=</span> <span class="n">os</span><span class="o">.</span><span class="n">path</span><span class="o">.</span><span class="n">join</span><span class="p">(</span><span class="n">CLEAN_FOLDER</span><span class="p">,</span> <span class="s2">"train_with_predictions.parquet"</span><span class="p">)</span>

<span class="c1"># ===== CARREGAR DADOS =====</span>
<span class="n">df</span> <span class="o">=</span> <span class="n">pd</span><span class="o">.</span><span class="n">read_parquet</span><span class="p">(</span><span class="n">PARQUET_FILE</span><span class="p">)</span>

<span class="c1"># ===== FILTRAR REGISTOS VÁLIDOS =====</span>
<span class="n">df</span> <span class="o">=</span> <span class="n">df</span><span class="o">.</span><span class="n">dropna</span><span class="p">(</span><span class="n">subset</span><span class="o">=</span><span class="p">[</span><span class="s2">"disease"</span><span class="p">,</span> <span class="s2">"PC1"</span><span class="p">,</span> <span class="s2">"PC2"</span><span class="p">])</span>
<span class="n">X</span> <span class="o">=</span> <span class="n">df</span><span class="p">[[</span><span class="s2">"PC1"</span><span class="p">,</span> <span class="s2">"PC2"</span><span class="p">]]</span><span class="o">.</span><span class="n">astype</span><span class="p">(</span><span class="s2">"float32"</span><span class="p">)</span>

<span class="c1"># ===== CODIFICAR TARGET =====</span>
<span class="n">le</span> <span class="o">=</span> <span class="n">LabelEncoder</span><span class="p">()</span>
<span class="n">df</span><span class="p">[</span><span class="s2">"target"</span><span class="p">]</span> <span class="o">=</span> <span class="n">le</span><span class="o">.</span><span class="n">fit_transform</span><span class="p">(</span><span class="n">df</span><span class="p">[</span><span class="s2">"disease"</span><span class="p">]</span><span class="o">.</span><span class="n">astype</span><span class="p">(</span><span class="nb">str</span><span class="p">))</span>
<span class="n">y</span> <span class="o">=</span> <span class="n">df</span><span class="p">[</span><span class="s2">"target"</span><span class="p">]</span><span class="o">.</span><span class="n">astype</span><span class="p">(</span><span class="s2">"int32"</span><span class="p">)</span>
<span class="n">classes</span> <span class="o">=</span> <span class="n">np</span><span class="o">.</span><span class="n">unique</span><span class="p">(</span><span class="n">y</span><span class="p">)</span>

<span class="c1"># ===== INICIALIZAR MODELO INCREMENTAL =====</span>
<span class="n">model</span> <span class="o">=</span> <span class="n">SGDClassifier</span><span class="p">(</span><span class="n">loss</span><span class="o">=</span><span class="s2">"log_loss"</span><span class="p">,</span> <span class="n">random_state</span><span class="o">=</span><span class="mi">42</span><span class="p">)</span>

<span class="c1"># ===== TREINO EM MINI-BATCHES =====</span>
<span class="n">BATCH_SIZE</span> <span class="o">=</span> <span class="mi">1000</span>
<span class="k">for</span> <span class="n">i</span> <span class="ow">in</span> <span class="nb">range</span><span class="p">(</span><span class="mi">0</span><span class="p">,</span> <span class="nb">len</span><span class="p">(</span><span class="n">X</span><span class="p">),</span> <span class="n">BATCH_SIZE</span><span class="p">):</span>
    <span class="n">X_batch</span> <span class="o">=</span> <span class="n">X</span><span class="o">.</span><span class="n">iloc</span><span class="p">[</span><span class="n">i</span><span class="p">:</span><span class="n">i</span> <span class="o">+</span> <span class="n">BATCH_SIZE</span><span class="p">]</span>
    <span class="n">y_batch</span> <span class="o">=</span> <span class="n">y</span><span class="o">.</span><span class="n">iloc</span><span class="p">[</span><span class="n">i</span><span class="p">:</span><span class="n">i</span> <span class="o">+</span> <span class="n">BATCH_SIZE</span><span class="p">]</span>
    <span class="n">model</span><span class="o">.</span><span class="n">partial_fit</span><span class="p">(</span><span class="n">X_batch</span><span class="p">,</span> <span class="n">y_batch</span><span class="p">,</span> <span class="n">classes</span><span class="o">=</span><span class="n">classes</span><span class="p">)</span>

<span class="c1"># ===== SALVAR MODELO TREINADO =====</span>
<span class="n">joblib</span><span class="o">.</span><span class="n">dump</span><span class="p">(</span><span class="n">model</span><span class="p">,</span> <span class="n">MODEL_PATH</span><span class="p">)</span>
<span class="nb">print</span><span class="p">(</span><span class="sa">f</span><span class="s2">"✅ Modelo supervisionado salvo em: </span><span class="si">{</span><span class="n">MODEL_PATH</span><span class="si">}</span><span class="s2">"</span><span class="p">)</span>

<span class="c1"># ===== PREVISÕES =====</span>
<span class="n">y_pred</span> <span class="o">=</span> <span class="n">model</span><span class="o">.</span><span class="n">predict</span><span class="p">(</span><span class="n">X</span><span class="p">)</span>
<span class="k">if</span> <span class="nb">len</span><span class="p">(</span><span class="n">y_pred</span><span class="p">)</span> <span class="o">!=</span> <span class="nb">len</span><span class="p">(</span><span class="n">df</span><span class="p">):</span>
    <span class="k">raise</span> <span class="ne">ValueError</span><span class="p">(</span><span class="s2">"Número de previsões não corresponde ao número de amostras."</span><span class="p">)</span>

<span class="c1"># ===== DECODIFICAR PREVISÕES =====</span>
<span class="n">df</span><span class="p">[</span><span class="s2">"predicted_disease"</span><span class="p">]</span> <span class="o">=</span> <span class="n">le</span><span class="o">.</span><span class="n">inverse_transform</span><span class="p">(</span><span class="n">y_pred</span><span class="p">)</span>

<span class="c1"># ===== AVALIAÇÃO DO MODELO =====</span>
<span class="n">df_eval</span> <span class="o">=</span> <span class="n">df</span><span class="o">.</span><span class="n">dropna</span><span class="p">(</span><span class="n">subset</span><span class="o">=</span><span class="p">[</span><span class="s2">"disease"</span><span class="p">,</span> <span class="s2">"predicted_disease"</span><span class="p">])</span>
<span class="nb">print</span><span class="p">(</span><span class="s2">"</span><span class="se">\n</span><span class="s2">📊 Relatório de Classificação:"</span><span class="p">)</span>
<span class="nb">print</span><span class="p">(</span><span class="n">classification_report</span><span class="p">(</span><span class="n">df_eval</span><span class="p">[</span><span class="s2">"disease"</span><span class="p">],</span> <span class="n">df_eval</span><span class="p">[</span><span class="s2">"predicted_disease"</span><span class="p">]))</span>

<span class="c1"># ===== MATRIZ DE CONFUSÃO =====</span>
<span class="n">cm</span> <span class="o">=</span> <span class="n">confusion_matrix</span><span class="p">(</span><span class="n">df_eval</span><span class="p">[</span><span class="s2">"disease"</span><span class="p">],</span> <span class="n">df_eval</span><span class="p">[</span><span class="s2">"predicted_disease"</span><span class="p">],</span> <span class="n">labels</span><span class="o">=</span><span class="n">le</span><span class="o">.</span><span class="n">classes_</span><span class="p">)</span>
<span class="n">plt</span><span class="o">.</span><span class="n">figure</span><span class="p">(</span><span class="n">figsize</span><span class="o">=</span><span class="p">(</span><span class="mi">8</span><span class="p">,</span> <span class="mi">6</span><span class="p">))</span>
<span class="n">sns</span><span class="o">.</span><span class="n">heatmap</span><span class="p">(</span><span class="n">cm</span><span class="p">,</span> <span class="n">annot</span><span class="o">=</span><span class="kc">True</span><span class="p">,</span> <span class="n">fmt</span><span class="o">=</span><span class="s2">"d"</span><span class="p">,</span> <span class="n">xticklabels</span><span class="o">=</span><span class="n">le</span><span class="o">.</span><span class="n">classes_</span><span class="p">,</span> <span class="n">yticklabels</span><span class="o">=</span><span class="n">le</span><span class="o">.</span><span class="n">classes_</span><span class="p">,</span> <span class="n">cmap</span><span class="o">=</span><span class="s2">"Blues"</span><span class="p">)</span>
<span class="n">plt</span><span class="o">.</span><span class="n">title</span><span class="p">(</span><span class="s2">"Matriz de Confusão - Previsão de Doença"</span><span class="p">)</span>
<span class="n">plt</span><span class="o">.</span><span class="n">xlabel</span><span class="p">(</span><span class="s2">"Predito"</span><span class="p">)</span>
<span class="n">plt</span><span class="o">.</span><span class="n">ylabel</span><span class="p">(</span><span class="s2">"Real"</span><span class="p">)</span>
<span class="n">plt</span><span class="o">.</span><span class="n">tight_layout</span><span class="p">()</span>
<span class="n">plt</span><span class="o">.</span><span class="n">show</span><span class="p">()</span>

<span class="c1"># ===== EXPORTAR PARQUET COM PREVISÕES =====</span>
<span class="n">df</span><span class="o">.</span><span class="n">to_parquet</span><span class="p">(</span><span class="n">OUTPUT_PARQUET</span><span class="p">,</span> <span class="n">index</span><span class="o">=</span><span class="kc">False</span><span class="p">)</span>
<span class="nb">print</span><span class="p">(</span><span class="sa">f</span><span class="s2">"✅ Dados com previsões salvos em: </span><span class="si">{</span><span class="n">OUTPUT_PARQUET</span><span class="si">}</span><span class="s2">"</span><span class="p">)</span>
</pre></div>
</div>
</div>
</div>
</div>
<div class="jp-Cell-outputWrapper">
<div class="jp-Collapser jp-OutputCollapser jp-Cell-outputCollapser">
</div>
<div class="jp-OutputArea jp-Cell-outputArea">
<div class="jp-OutputArea-child">
<div class="jp-OutputPrompt jp-OutputArea-prompt"></div>
<div class="jp-RenderedText jp-OutputArea-output" data-mime-type="text/plain" tabindex="0">
<pre>✅ Modelo supervisionado salvo em: C:\Users\andr3\Documents\DATA SCIENCE\10794 - Programação avançada com Python\Age Assessment &amp; Disease Risk Prediction\src\clean\model_sgd.pkl

📊 Relatório de Classificação:
                      precision    recall  f1-score   support

 Alzheimer's disease       0.08      0.03      0.04       737
     Graves' disease       0.00      0.00      0.00        58
Huntington's disease       0.00      0.00      0.00       135
 Parkinson's disease       0.00      0.00      0.00       266
  Sjogren's syndrome       0.00      0.00      0.00        38
             control       0.76      0.38      0.51      6266
rheumatoid arthritis       0.00      0.00      0.00       159
       schizophrenia       0.05      0.62      0.10       381
              stroke       0.01      0.01      0.01       147
     type 2 diabetes       0.01      0.04      0.02        46

            accuracy                           0.32      8233
           macro avg       0.09      0.11      0.07      8233
        weighted avg       0.59      0.32      0.40      8233

</pre>
</div>
</div>
<div class="jp-OutputArea-child">
<div class="jp-OutputPrompt jp-OutputArea-prompt"></div>
<div class="jp-RenderedText jp-OutputArea-output" data-mime-type="application/vnd.jupyter.stderr" tabindex="0">
<pre>C:\Users\andr3\AppData\Local\Packages\PythonSoftwareFoundation.Python.3.13_qbz5n2kfra8p0\LocalCache\local-packages\Python313\site-packages\sklearn\metrics\_classification.py:1731: UndefinedMetricWarning:

Precision is ill-defined and being set to 0.0 in labels with no predicted samples. Use `zero_division` parameter to control this behavior.

C:\Users\andr3\AppData\Local\Packages\PythonSoftwareFoundation.Python.3.13_qbz5n2kfra8p0\LocalCache\local-packages\Python313\site-packages\sklearn\metrics\_classification.py:1731: UndefinedMetricWarning:

Precision is ill-defined and being set to 0.0 in labels with no predicted samples. Use `zero_division` parameter to control this behavior.

C:\Users\andr3\AppData\Local\Packages\PythonSoftwareFoundation.Python.3.13_qbz5n2kfra8p0\LocalCache\local-packages\Python313\site-packages\sklearn\metrics\_classification.py:1731: UndefinedMetricWarning:

Precision is ill-defined and being set to 0.0 in labels with no predicted samples. Use `zero_division` parameter to control this behavior.

</pre>
</div>
</div>
<div class="jp-OutputArea-child">
<div class="jp-OutputPrompt jp-OutputArea-prompt"></div>
<div class="jp-RenderedImage jp-OutputArea-output" tabindex="0">
<img alt="No description has been provided for this image" class="" src="data:image/png;base64,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"/>
</div>
</div>
<div class="jp-OutputArea-child">
<div class="jp-OutputPrompt jp-OutputArea-prompt"></div>
<div class="jp-RenderedText jp-OutputArea-output" data-mime-type="text/plain" tabindex="0">
<pre>✅ Dados com previsões salvos em: C:\Users\andr3\Documents\DATA SCIENCE\10794 - Programação avançada com Python\Age Assessment &amp; Disease Risk Prediction\src\clean\train_with_predictions.parquet
</pre>
</div>
</div>
</div>
</div>
</div>
<div class="jp-Cell jp-MarkdownCell jp-Notebook-cell" id="cell-id=7ba43f74">
<div class="jp-Cell-inputWrapper" tabindex="0">
<div class="jp-Collapser jp-InputCollapser jp-Cell-inputCollapser">
</div>
<div class="jp-InputArea jp-Cell-inputArea"><div class="jp-InputPrompt jp-InputArea-prompt">
</div><div class="jp-RenderedHTMLCommon jp-RenderedMarkdown jp-MarkdownOutput" data-mime-type="text/markdown">
<p>🧠 Explicação funcional</p>
<ol>
<li><p>Configuração de caminhos
Define onde estão os dados processados e onde salvar o modelo e as previsões.</p>
</li>
<li><p>Carregamento e filtragem
Lê o Parquet e remove registros com valores nulos em disease, PC1 ou PC2.</p>
</li>
<li><p>Preparação dos dados</p>
</li>
</ol>
<ul>
<li>Extrai PC1 e PC2 como features (X)</li>
<li>Codifica disease como target numérico (y) usando LabelEncoder</li>
<li>Define todas as classes únicas para treino incremental</li>
</ul>
<ol start="4">
<li>Treino supervisionado com SGDClassifier</li>
</ol>
<ul>
<li>Inicializa o modelo com loss="log_loss" (regressão logística)</li>
<li>Treina em mini-batches de 1000 amostras usando partial_fit</li>
<li>Ideal para grandes volumes de dados e pipelines escaláveis</li>
</ul>
<ol start="5">
<li><p>Salvamento do modelo
Exporta o modelo treinado como model_sgd.pkl para reuso ou deploy.</p>
</li>
<li><p>Geração de previsões</p>
</li>
</ol>
<ul>
<li>Aplica o modelo sobre X</li>
<li>Decodifica os valores numéricos para nomes de doenças</li>
<li>Adiciona a coluna predicted_disease ao DataFrame</li>
</ul>
<ol start="7">
<li>Avaliação do desempenho</li>
</ol>
<ul>
<li>Gera classification_report com precisão, recall e f1-score por doença</li>
<li>Cria uma matriz de confusão com seaborn.heatmap para visualização</li>
</ul>
<ol start="8">
<li>Exportação dos resultados
Salva o DataFrame completo com previsões como train_with_predictions.parquet.</li>
</ol>
</div>
</div>
</div>
</div>
<div class="jp-Cell jp-MarkdownCell jp-Notebook-cell" id="cell-id=4033d2d5">
<div class="jp-Cell-inputWrapper" tabindex="0">
<div class="jp-Collapser jp-InputCollapser jp-Cell-inputCollapser">
</div>
<div class="jp-InputArea jp-Cell-inputArea"><div class="jp-InputPrompt jp-InputArea-prompt">
</div><div class="jp-RenderedHTMLCommon jp-RenderedMarkdown jp-MarkdownOutput" data-mime-type="text/markdown">
<p>📦 Código com RandomForestClassifier</p>
</div>
</div>
</div>
</div><div class="jp-Cell jp-CodeCell jp-Notebook-cell" id="cell-id=01c19923">
<div class="jp-Cell-inputWrapper" tabindex="0">
<div class="jp-Collapser jp-InputCollapser jp-Cell-inputCollapser">
</div>
<div class="jp-InputArea jp-Cell-inputArea">
<div class="jp-InputPrompt jp-InputArea-prompt">In [6]:</div>
<div class="jp-CodeMirrorEditor jp-Editor jp-InputArea-editor" data-type="inline">
<div class="cm-editor cm-s-jupyter">
<div class="highlight hl-ipython3"><pre><span></span><span class="kn">import</span><span class="w"> </span><span class="nn">os</span>
<span class="kn">import</span><span class="w"> </span><span class="nn">pandas</span><span class="w"> </span><span class="k">as</span><span class="w"> </span><span class="nn">pd</span>
<span class="kn">import</span><span class="w"> </span><span class="nn">numpy</span><span class="w"> </span><span class="k">as</span><span class="w"> </span><span class="nn">np</span>
<span class="kn">from</span><span class="w"> </span><span class="nn">sklearn.ensemble</span><span class="w"> </span><span class="kn">import</span> <span class="n">RandomForestClassifier</span>
<span class="kn">from</span><span class="w"> </span><span class="nn">sklearn.preprocessing</span><span class="w"> </span><span class="kn">import</span> <span class="n">LabelEncoder</span>
<span class="kn">from</span><span class="w"> </span><span class="nn">sklearn.metrics</span><span class="w"> </span><span class="kn">import</span> <span class="n">classification_report</span><span class="p">,</span> <span class="n">confusion_matrix</span>
<span class="kn">import</span><span class="w"> </span><span class="nn">seaborn</span><span class="w"> </span><span class="k">as</span><span class="w"> </span><span class="nn">sns</span>
<span class="kn">import</span><span class="w"> </span><span class="nn">matplotlib.pyplot</span><span class="w"> </span><span class="k">as</span><span class="w"> </span><span class="nn">plt</span>
<span class="kn">import</span><span class="w"> </span><span class="nn">joblib</span>

<span class="c1"># ===== CONFIGURAÇÃO =====</span>
<span class="n">SRC_DIR</span> <span class="o">=</span> <span class="sa">r</span><span class="s2">"C:\Users\andr3\Documents\DATA SCIENCE\10794 - Programação avançada com Python\Age Assessment &amp; Disease Risk Prediction\src"</span>
<span class="n">CLEAN_FOLDER</span> <span class="o">=</span> <span class="n">os</span><span class="o">.</span><span class="n">path</span><span class="o">.</span><span class="n">join</span><span class="p">(</span><span class="n">SRC_DIR</span><span class="p">,</span> <span class="s2">"clean"</span><span class="p">)</span>
<span class="n">PARQUET_FILE</span> <span class="o">=</span> <span class="n">os</span><span class="o">.</span><span class="n">path</span><span class="o">.</span><span class="n">join</span><span class="p">(</span><span class="n">CLEAN_FOLDER</span><span class="p">,</span> <span class="s2">"train_processed.parquet"</span><span class="p">)</span>
<span class="n">MODEL_PATH</span> <span class="o">=</span> <span class="n">os</span><span class="o">.</span><span class="n">path</span><span class="o">.</span><span class="n">join</span><span class="p">(</span><span class="n">CLEAN_FOLDER</span><span class="p">,</span> <span class="s2">"model_rf.pkl"</span><span class="p">)</span>
<span class="n">OUTPUT_PARQUET</span> <span class="o">=</span> <span class="n">os</span><span class="o">.</span><span class="n">path</span><span class="o">.</span><span class="n">join</span><span class="p">(</span><span class="n">CLEAN_FOLDER</span><span class="p">,</span> <span class="s2">"train_rf_predictions.parquet"</span><span class="p">)</span>

<span class="c1"># ===== CARREGAR DADOS =====</span>
<span class="n">df</span> <span class="o">=</span> <span class="n">pd</span><span class="o">.</span><span class="n">read_parquet</span><span class="p">(</span><span class="n">PARQUET_FILE</span><span class="p">)</span>
<span class="n">df</span> <span class="o">=</span> <span class="n">df</span><span class="o">.</span><span class="n">dropna</span><span class="p">(</span><span class="n">subset</span><span class="o">=</span><span class="p">[</span><span class="s2">"disease"</span><span class="p">,</span> <span class="s2">"PC1"</span><span class="p">,</span> <span class="s2">"PC2"</span><span class="p">])</span>

<span class="c1"># ===== FEATURES E TARGET =====</span>
<span class="n">X</span> <span class="o">=</span> <span class="n">df</span><span class="p">[[</span><span class="s2">"PC1"</span><span class="p">,</span> <span class="s2">"PC2"</span><span class="p">]]</span>
<span class="n">le</span> <span class="o">=</span> <span class="n">LabelEncoder</span><span class="p">()</span>
<span class="n">df</span><span class="p">[</span><span class="s2">"target"</span><span class="p">]</span> <span class="o">=</span> <span class="n">le</span><span class="o">.</span><span class="n">fit_transform</span><span class="p">(</span><span class="n">df</span><span class="p">[</span><span class="s2">"disease"</span><span class="p">]</span><span class="o">.</span><span class="n">astype</span><span class="p">(</span><span class="nb">str</span><span class="p">))</span>
<span class="n">y</span> <span class="o">=</span> <span class="n">df</span><span class="p">[</span><span class="s2">"target"</span><span class="p">]</span>

<span class="c1"># ===== TREINAR MODELO =====</span>
<span class="n">model</span> <span class="o">=</span> <span class="n">RandomForestClassifier</span><span class="p">(</span><span class="n">n_estimators</span><span class="o">=</span><span class="mi">100</span><span class="p">,</span> <span class="n">random_state</span><span class="o">=</span><span class="mi">42</span><span class="p">)</span>
<span class="n">model</span><span class="o">.</span><span class="n">fit</span><span class="p">(</span><span class="n">X</span><span class="p">,</span> <span class="n">y</span><span class="p">)</span>

<span class="c1"># ===== SALVAR MODELO =====</span>
<span class="n">joblib</span><span class="o">.</span><span class="n">dump</span><span class="p">(</span><span class="n">model</span><span class="p">,</span> <span class="n">MODEL_PATH</span><span class="p">)</span>
<span class="nb">print</span><span class="p">(</span><span class="sa">f</span><span class="s2">"✅ Modelo Random Forest salvo em: </span><span class="si">{</span><span class="n">MODEL_PATH</span><span class="si">}</span><span class="s2">"</span><span class="p">)</span>

<span class="c1"># ===== PREVISÕES =====</span>
<span class="n">y_pred</span> <span class="o">=</span> <span class="n">model</span><span class="o">.</span><span class="n">predict</span><span class="p">(</span><span class="n">X</span><span class="p">)</span>
<span class="n">df</span><span class="p">[</span><span class="s2">"predicted_disease"</span><span class="p">]</span> <span class="o">=</span> <span class="n">le</span><span class="o">.</span><span class="n">inverse_transform</span><span class="p">(</span><span class="n">y_pred</span><span class="p">)</span>

<span class="c1"># ===== AVALIAÇÃO =====</span>
<span class="nb">print</span><span class="p">(</span><span class="s2">"</span><span class="se">\n</span><span class="s2">📊 Relatório de Classificação:"</span><span class="p">)</span>
<span class="nb">print</span><span class="p">(</span><span class="n">classification_report</span><span class="p">(</span><span class="n">df</span><span class="p">[</span><span class="s2">"disease"</span><span class="p">],</span> <span class="n">df</span><span class="p">[</span><span class="s2">"predicted_disease"</span><span class="p">]))</span>

<span class="n">cm</span> <span class="o">=</span> <span class="n">confusion_matrix</span><span class="p">(</span><span class="n">df</span><span class="p">[</span><span class="s2">"disease"</span><span class="p">],</span> <span class="n">df</span><span class="p">[</span><span class="s2">"predicted_disease"</span><span class="p">],</span> <span class="n">labels</span><span class="o">=</span><span class="n">le</span><span class="o">.</span><span class="n">classes_</span><span class="p">)</span>
<span class="n">plt</span><span class="o">.</span><span class="n">figure</span><span class="p">(</span><span class="n">figsize</span><span class="o">=</span><span class="p">(</span><span class="mi">8</span><span class="p">,</span> <span class="mi">6</span><span class="p">))</span>
<span class="n">sns</span><span class="o">.</span><span class="n">heatmap</span><span class="p">(</span><span class="n">cm</span><span class="p">,</span> <span class="n">annot</span><span class="o">=</span><span class="kc">True</span><span class="p">,</span> <span class="n">fmt</span><span class="o">=</span><span class="s2">"d"</span><span class="p">,</span> <span class="n">xticklabels</span><span class="o">=</span><span class="n">le</span><span class="o">.</span><span class="n">classes_</span><span class="p">,</span> <span class="n">yticklabels</span><span class="o">=</span><span class="n">le</span><span class="o">.</span><span class="n">classes_</span><span class="p">,</span> <span class="n">cmap</span><span class="o">=</span><span class="s2">"Greens"</span><span class="p">)</span>
<span class="n">plt</span><span class="o">.</span><span class="n">title</span><span class="p">(</span><span class="s2">"Matriz de Confusão - Random Forest"</span><span class="p">)</span>
<span class="n">plt</span><span class="o">.</span><span class="n">xlabel</span><span class="p">(</span><span class="s2">"Predito"</span><span class="p">)</span>
<span class="n">plt</span><span class="o">.</span><span class="n">ylabel</span><span class="p">(</span><span class="s2">"Real"</span><span class="p">)</span>
<span class="n">plt</span><span class="o">.</span><span class="n">tight_layout</span><span class="p">()</span>
<span class="n">plt</span><span class="o">.</span><span class="n">show</span><span class="p">()</span>

<span class="c1"># ===== EXPORTAR PARQUET COM PREVISÕES =====</span>
<span class="n">df</span><span class="o">.</span><span class="n">to_parquet</span><span class="p">(</span><span class="n">OUTPUT_PARQUET</span><span class="p">,</span> <span class="n">index</span><span class="o">=</span><span class="kc">False</span><span class="p">)</span>
<span class="nb">print</span><span class="p">(</span><span class="sa">f</span><span class="s2">"✅ Dados com previsões salvos em: </span><span class="si">{</span><span class="n">OUTPUT_PARQUET</span><span class="si">}</span><span class="s2">"</span><span class="p">)</span>
</pre></div>
</div>
</div>
</div>
</div>
<div class="jp-Cell-outputWrapper">
<div class="jp-Collapser jp-OutputCollapser jp-Cell-outputCollapser">
</div>
<div class="jp-OutputArea jp-Cell-outputArea">
<div class="jp-OutputArea-child">
<div class="jp-OutputPrompt jp-OutputArea-prompt"></div>
<div class="jp-RenderedText jp-OutputArea-output" data-mime-type="text/plain" tabindex="0">
<pre>✅ Modelo Random Forest salvo em: C:\Users\andr3\Documents\DATA SCIENCE\10794 - Programação avançada com Python\Age Assessment &amp; Disease Risk Prediction\src\clean\model_rf.pkl

📊 Relatório de Classificação:
                      precision    recall  f1-score   support

 Alzheimer's disease       1.00      1.00      1.00       737
     Graves' disease       1.00      1.00      1.00        58
Huntington's disease       1.00      1.00      1.00       135
 Parkinson's disease       1.00      1.00      1.00       266
  Sjogren's syndrome       1.00      1.00      1.00        38
             control       1.00      1.00      1.00      6266
rheumatoid arthritis       1.00      1.00      1.00       159
       schizophrenia       1.00      1.00      1.00       381
              stroke       1.00      1.00      1.00       147
     type 2 diabetes       1.00      1.00      1.00        46

            accuracy                           1.00      8233
           macro avg       1.00      1.00      1.00      8233
        weighted avg       1.00      1.00      1.00      8233

</pre>
</div>
</div>
<div class="jp-OutputArea-child">
<div class="jp-OutputPrompt jp-OutputArea-prompt"></div>
<div class="jp-RenderedImage jp-OutputArea-output" tabindex="0">
<img alt="No description has been provided for this image" class="" src="data:image/png;base64,iVBORw0KGgoAAAANSUhEUgAAAvwAAAJOCAYAAADLWtPxAAAAOnRFWHRTb2Z0d2FyZQBNYXRwbG90bGliIHZlcnNpb24zLjEwLjYsIGh0dHBzOi8vbWF0cGxvdGxpYi5vcmcvq6yFwwAAAAlwSFlzAAAPYQAAD2EBqD+naQAA351JREFUeJzs3QWYU8fXBvDD4m6Luy7u7u4UK+7u7n8o7u5e3L0UihVt0eJOcSm+WHHL97zT74YkK9mFhdzJvr8+6e7e3Nyc3GSXMzNn5oawWCwWISIiIiIit+Th6gCIiIiIiOjbYcJPREREROTGmPATEREREbkxJvxERERERG6MCT8RERERkRtjwk9ERERE5MaY8BMRERERuTEm/EREREREbowJPxERERGRG2PCT0RuacCAARIiRIhv+hw4Pp7HnYwePVqSJ08uIUOGlCxZsnyT5+jWrZtEjhxZGjZsKI8fP5Z06dLJiRMnvslz6Wr37t3q84WvRERfiwk/EX2V+fPnq8QEtz///NPH/RaLRRIlSqTur1Chwhc9x7Bhw2T9+vUSHHz8+FHmzZsnRYoUkRgxYkjYsGEladKk0rhxYzly5Mg3fe5t27ZJjx49JH/+/CoGnPeg9uLFC5k+fboMGjRIzp49K56enhIpUiTJlCmTuIrx+TVuUaJEkcKFC8umTZtcFpMZOZ4n4xY3blwxo99++83tGuREXyrUFz+SiMhGuHDhZOnSpVKgQAG77Xv27JHbt2+rxPVLIfH88ccfpXLlygF+TN++faVXr16ik9evX0vVqlVly5YtUqhQIfnf//6nkv7r16/LypUrZcGCBXLz5k1JmDDhN3n+nTt3ioeHh/z8888SJkyYb/Y5OXfunCRJkkQ6d+4sd+7cUQkjnteVSpYsKQ0aNFAN1Bs3bqhGScWKFWXz5s1SunRpl8ZmJsZ5shU+fHgxa8I/depUJv1ETPiJKKiUK1dOVq1aJZMmTZJQoT7/aUEjIHv27PLo0aPvEsfLly8lYsSIKgbbOHTQvXt3leyPHz9eOnXqZHdf//791fZv6cGDByp5+1bJPuA9QbJviB8/vphB6tSppV69etafq1WrpkqNJk6cyITfn/MUVD58+CCfPn36pp89ouCMJT1EFCRq164t3t7esn37duu2d+/eyerVq6VOnTq+PmbMmDGSL18+iRkzpko00TDA/rZQMoAkHr3bRglBo0aN7Or00WOM54gePbp1hMGxhh+P8askwVkP4Nu3b1VvdKxYsVTt+Q8//KBGLXzzzz//SJMmTSROnDhqVCN9+vQyd+5cp+cPx5s5c6bqQXVM9gE19ah9t+3dP378uJQtW1aVoKAspnjx4nLw4EFfS6727dsnXbp0Ua8BDaIqVarIw4cP7c4zynhwro3zgsdidMH43pHjufv3339V7ChBwmuPHTu2ej3Hjh2z7oOadIzWJE6cWO2Dci+cW4xu+DbiULBgQRVvtGjRpFKlSnL+/Hn5HtKmTavKja5cuWK3/ZdffpHy5curhgriT5EihQwePFiVYtlCSVaGDBnUZ7No0aISIUIESZAggYwaNcrX9x6jV3idOGc4H/jM+QaNavye4PcF8SH5xmfOFj7r+DxgNAhldPgez43ebjh9+rQUK1ZMPR8aX2iUB2WjsWnTpurzj9GczJkzq99dW8ZnCr//EyZMUOcQ5xLnCi5cuKA+IxjdwjFy5MghGzZssDvG+/fvZeDAgZIqVSq1D/6G4Hff+PuDc2C8XtvfdaLgSq/uLyIyLSR5efPmlWXLlqkkFFAO8ezZM6lVq5bq+XeE3lMkz3Xr1lWNg+XLl0v16tVl48aNKqmCRYsWSbNmzSRXrlzSokULtQ0Jgi08Bv/wo/QHJRm+admypZQoUcJuG3rTlyxZopIs/+D5Fy9erBoVaKAgETXis3X//n3JkyePSizatWunkmucAyRAz58/9zWRN2A/9HLWr19fAgL170iGkeyj7j506NCqwYBEE2VUuXPnttu/ffv2qkGEkQIkXEi0EOOKFSus53nWrFly+PBhmTNnjtqG1xoYrVq1Ug02HBe942gAYl4HkvRs2bKpfVCahOS+TZs2KqHD802ePFklvUhmDb///rv6HGECMRoVeAz2w/wCNCDwefuW8Ll98uSJj88aGj5IoNF4wld8Fvr166feX0x4toXHlylTRpVp1ahRQ52bnj17SsaMGa2/I3hdaKghOe/QoYNqSOC9wHEd4bkxlyNnzpwyfPhw9XnD7xAac2j8oVFkQAMEz4HSMDQy8DnH+4Ikv0+fPup3DnHNmDFDlejgdzdZsmROz8ubN298jNahEYyEHa8Fn7/Lly+r58Lx8J4i+X769Kl07NjR7nFoYOJ4+L3G4/F5wOca7zEaKCjJQ7z4zKBBtGbNGtVQBXwmcA6Mvw04/5jjgs8GGpn4fUe5GBoAOJ9EwZ6FiOgrzJs3Dxm25a+//rJMmTLFEjlyZMurV6/UfdWrV7cULVpUfZ8kSRJL+fLl7R5r7Gd49+6dJUOGDJZixYrZbY8YMaKlYcOGPp67f//+6rlr167t531+uXTpkiVq1KiWkiVLWj58+ODnfidOnFDHadOmjd32OnXqqO14HkPTpk0t8eLFszx69Mhu31q1aqnncny9tjp37qyOd/z4cUtAVK5c2RImTBjLlStXrNvu3Lmjzn+hQoV8vD8lSpSwfPr0ye75QoYMaXn69Kl1G84xzrWta9euqcfjOI4cXz9eY9u2bf2N++XLlz62DR8+3BIiRAjLjRs3rNuyZMliiR07tsXb29u67eTJkxYPDw9LgwYNLEEJrwPv3cOHDy0PHjywHDlyxFKmTBm1ffTo0Xb7+vYetmzZ0hIhQgTLmzdvrNsKFy6sHr9w4ULrtrdv31rixo1rqVatmnXbhAkT1H4rV660O0cpU6ZU23ft2mX93cD5wO/H69evrftu3LhR7devXz+79xHbhg0bZt325MkTS/jw4dV5Xr58uXX7hQsXfLyP/p0n327GZ8N4LYsXL7Y+BnHnzZvXEilSJMvz58/tPlNRokRR59tW8eLFLRkzZrQ7l/jc5suXz5IqVSrrtsyZM/v4e+IIn0WmOUT/YUkPEQUZ9GKilw899CjvwFe/ynkcJ/uhNxS9qui1ti0BCWjPcmCgbAU9hejxxogEymX8m/gH6H215dhbj3wIPZCY6Inv0Qtq3FADjtfm3+tCD6XRW+oMem+xog56PdEDbogXL5463+hVN45nQC+qbUkDzjOOgwmqQQU9zIcOHVI9q35BaYvt+4Dzg5EEnDP0UsPdu3fVMp3oGUavrwEr+aD31nhPghImKmNEBqM9KCHZsWOHGjlBT75fn1l8xhE/zuWrV69UKYotjADY1rujPh290VevXrVuw2vB+4YSFttzZIxmGdB7jXIZjIyghMWAkaY0adL4uqIQer9t3xsvLy/VY47fUwO24T7bmPyDsir0mtvejDkOeC2YgI3yPgNGnvC7g9WZMPJkC/MkcM4NWKIVIxuIzzi3uGGkCM9x6dIla/kSYsZoALYRkXMs6SGiIIN/vFE2g5pgJEBIKG0TGUdoEAwZMkQld7Y1y4GttQ1IKYKt5s2bq9rs/fv3q9pf/yAhxgoyjqUdSJRsoR4eZQsoi8HNN0jY/ILSHECi4wyeC+fXMQaj9hyTH2/duqXmDxhQM28LjR2joRVUUDqCtfVRl486c0zkRrmIbaMEpSsogUFNtuNzo1EERiPEr9e3detW6+Rs39y7d8/u56hRozpdSQaJLMpQUFr2119/qfIwnGPH1YOQZGIFKCSmjo0qI34D5ls4fpZx3k+dOmX9Ga81ZcqUPvZzfO3+nRMk/I5L4qJRYJtMG+fBt5iwPaCfAzzesTTONkaU1jmeM7xntq/Br99blAKh4ffTTz+pm1+/Qyj3wbKueM8wiRhzJVA6hXI4Vy7vSmRmTPiJKEihhxkJNZIu1BDb1hXb+uOPP1T9PmqMp02bpno50RuIut7ATiIMzLKAqHlGrz5q8oPywlJIsgE9ukh6feNfMoKkzZhQ+S0ueOXXKIZfcx6cNb4cJ6kCembR271u3To1AoGa9pEjR8ratWvVZwGPQQ89enJRy47XjKQdvbbozTfO4dfCZ8kWPlPGRO+AJLJoqGBCLBoAmHCLWndAgw7r86NxhoQTjUAk1hi5wetxjP9Lz3lQ8Ou5XRmTs99b4/xhcrpfKyOhcQT4u4FGOyZR47OGeSdYxQpzEmxHNojoP0z4iShIoVQGE+awWowxIdQ3KH9BsoTeWts1+pGcOQqq1TXQyEAygXIcTFoMCKxigkQEyYVt7+rFixft9jNW8EFS61cPqH+QECMZQ0PE2cRdPBfKPhxjAJSVoIcVvexBwRgJQLJry69SICTbKDvBDb2xmKw7dOhQ9frQmPn777/Vqi22a7nbruwExrKdfr0+JON+9e77djzbkY6AwmcYCSR68/GZNq56i/ISNGCQcBquXbsmXwqv9cyZMyrhtv2cO75223OCFXZsYZvtUqeughgweoHfF9tefqPUyVmMxkgQGv4B+R1CuRcmMeOGkiG8J5jMayT8XJWH6DPW8BNRkELdMi5ahH94Uc/uFyS3+AfZtqcYq8f4dkVdJHeOCWdgoS4cPdBYus9xNRX/GKupOK4yhFVuHF8PapLRkEEC58h2CUzfIEHHyAh6K7EajSMkUWPHjlWr2eC5SpUqpXo3cc4MWLXFuPiZUSL0tXAcJNh79+61245RGVt4Hx1LWlAPj1VnjHIto3fZtjcZ32PUxbHRgFEONAxs33ecV5wf9MD7B8mi7c2xxz+g1wvo2rWrWmEI59mv+FEC5HguAgOvBXMebJejRSmRY1kY5hXgfKIH27b8Das7IUbfVo363vBaMLJn29DHylP4POPvAkZH/IPXh1V+sNoUfl/9+x1Cw8sWjo/ef9tzYzQKv/ZvB5E7YA8/EQU5v0pabCFBGTdunKq9RRkQeoOxbjb+0batcQbUg2OZRuyPBBK1v47LTjqDiYNIGDARE8t/Opba+FVug8QTkxCR1CGhxQRTTOhEvbGjESNGyK5du1RsSN6xNCXKV1DygfjxvX+Q0GMkAbGiFxlrqKOHHXXvWN4QPaVY4hQw9wE92Uju0ZuOBBWJEhIe39Z6/xroMcVrw1cknkj+0VNvC3MPUBaDORtYex0JGF4z6uHxugAlPCiDwSgLynjQmEADybf6cTTK0NjCcpFY1tRYlhP15t/ryqkoA8J8A5QlYYI03nu8H/h84z1CgxVLPn5NOQw+J1OmTFEjHkePHlWNExzTdnKz0euNONCbjcQZn0ljWU4sUYq1+10NE43xGcR5w2tBXGjIYNlQNJADMiEdfwPwmcbSpTg36PXH6zxw4IBq7J48eVLth98tNA7wtwE9/ZjUbCwJa8B9gPcKJUJosBm/P0TBzv+v1kNE9NXLcvrHt2U5f/75Z7XUXtiwYS1p0qRRx/JtOU0sHYilJrGsIO4zlug09sVyio4cj2Msk+jbzdmShFgGsUOHDpaYMWOqZSsrVqxouXXrlq+PvX//vloOMFGiRJbQoUOrZRix1OCsWbMsAYElQufMmWMpWLCgWuYSx8C5a9y4sY8lO48dO2YpXbq0WvIQy0JiCdT9+/cH6P3Bco+2yz76tSynsRQllq1EPFj2s0aNGmo5RdvXjyUnu3fvrpZLxD44Dr6fNm2a3bHOnTunlghFzJ6enpbmzZur5TZ9W/rz999/t+TPn1+971jCEecdjw9qeG6/lhMdMGCA3Xnat2+fJU+ePCqm+PHjW3r06GHZunWrj3OJz1v69Ol9HA/nGO+nLSxH+sMPP6j3EOekY8eOli1btvg4JqxYscKSNWtW9TsTI0YMS926dS23b9/28Ry+vY9+xeTb72Zgz5Pt5x+fVbwOLBuLJTYd31djWU7HJU8NWGoWS6/idwef/wQJElgqVKhgWb16tXWfIUOGWHLlymWJFi2aei/w92Po0KFqGVDb36X27dtbYsWKpZYjZcpDwVkI/M/VjQ4iIiIiIvo2WMNPREREROTGmPATEREREbkxJvxERERERG6MCT8RERERkRtjwk9ERERE5MaY8BMRERERuTEm/EREREREboxX2iW3d/fVTdFZ9LCerg6BiIjIqXAh7a8Q/b2EKJkwSI5j2X5b3BV7+ImIiIiI3Bh7+ImIiIhIXyFCuDoC02PCT0RERET6Yr2KUzxFRERERERujD38RERERKQvlvQ4xYSfiIiIiPTFfN8plvQQEREREbkx9vATERERkb5Y0uMUE34iIiIi0hfrVZziKSIiIiIicmPs4SciIiIifbGkx/17+Hfv3i0hQoSQp0+fBmh/7Lt+/fqves4iRYpIp06dxF04vp6kSZPKhAkTXBoTERERUYCECKJbIP3zzz9Sr149iRkzpoQPH14yZswoR44csd5vsVikX79+Ei9ePHV/iRIl5NKlS3bHePz4sdStW1eiRIki0aJFk6ZNm8qLFy/s9jl16pQULFhQwoULJ4kSJZJRo0a5Z8J/4MABCRkypJQvX17MYO3atTJ48GCXPT8aLdevX/9mx//rr7+kRYsWElzVLFdPimQt6eM2Yfgkdf/YIROkTsUGUipPealU9Efp06mf3Lh20+4Yvj1+x5ZdYibLl66QsiXKSc4suaVuzfpy+tQZ0YXOsQPj//5+nvWz1KlRV/LmyC9FChSTTu06y/Vr3+7v6Lei47l3h9iB8ZuYR4iguQXCkydPJH/+/BI6dGjZvHmznDt3TsaOHSvRo0e37oPEfNKkSTJjxgw5dOiQRIwYUUqXLi1v3ryx7oNk/+zZs7J9+3bZuHGj7N271y4He/78uZQqVUqSJEkiR48eldGjR8uAAQNk1qxZ7pfw//zzz9K+fXt1Eu7cuePqcCRGjBgSOXLk7/687969+y7PEytWLIkQIYIEVzMXT5E121dYb2Omj1TbC5csrL6mTptKeg7oJgvW/iyjpw1XLfjubXrJx48f7Y7Tc2A3u+MUKJpfzGLL5q0yZuRYadmmpSxfvVS80qSW1i3aiLf3YzE7nWMHxu8aR44ck5q1a8qiZQtl5pzp8uHDB2nVrLW8evVadKHrudc9dmD85GjkyJGqt33evHmSK1cuSZYsmUrMU6RIoe5HboBqib59+0qlSpUkU6ZMsnDhQpXHGpUm58+fly1btsicOXMkd+7cUqBAAZk8ebIsX77cmu8uWbJE5X9z586V9OnTS61ataRDhw4ybtw4cauEH8MaK1askNatW6se/vnz5zstT0EPuOPNtkf80aNHUqVKFZXUpkqVSjZs2GB3jDNnzkjZsmUlUqRIEidOHKlfv756jH8lMEOGDJEGDRqox6AVhmM+fPhQvcnYhjfadpgH/vzzTzVEg2EefGjwBr58+dLuuBhJwHEx1ONbrztamGgdIknHcfB68OHzC45vxIkhJrRGHdmW9OADi5Zk4sSJJWzYsBI/fnwVp+Ht27fSrVs3SZAggWq54gOLMiuDt7e31K5dW92P843hrmXLltk93+rVq9V2xI9hMQx52Z4H/CKkTZtWDWWlSZNGpk2bJt9StBjRJKZnDOvtwB8HJX6i+JIleyZ1f8Vq5SVz9kwSL35clfw3bdtYHtx7KPfu3Lc7TqTIkeyOEzZsGDGLRfMXS9XqVaVy1UqSImUK6du/jzq/69d+Xbnb96Bz7MD4XWP6rKlSqcoPkjJVCvFK4yWDhg2Uu3fvyflz50QXup573WMHxh88Snrevn2retRtb9jmG+R5OXLkkOrVq0vs2LEla9asMnv2bOv9165dk3v37qmcxhA1alSVJ6FyBfAVZTw4jgH7e3h4qBEBY59ChQpJmDCfcwiMEly8eFHlgG6T8K9cuVIleV5eXqpOCi0cJKH+ldvcvXvXeqtatap6LBJ3w8CBA6VGjRqqJqpcuXIqYUYNFWAuQLFixdQbhwQdLa/79++r/f0zfvx4NbRz/Phx1TBBIwGJNWI+duyYavHhZyP2K1euSJkyZaRatWoqDjRq0ABo166d3XHHjBkjmTNnVsf96aeffDwvtmEYCcNJaClOnz5dPD09/Yyze/fusmfPHvnll19k27ZtKjlHfH5Zs2aNem0zZ85UdWdolSI5NyBefBjRGsXrwAcfr8uoUcOwVfbs2WXTpk2qIYVGC87N4cOH1f14j9AgaNKkiYof8eA9M84TWraofxs6dKi6f9iwYeo1L1iwQL6H9+/fy/bfdki5SqVVw9HR69evZfOGrRIvQVyJHTeW3X0Th0+WH4pWk1b12slv67f4+7n9nt6/ey/nz52XPHlyW7fhj0uevLnl1IlTYmY6xw6M3zxe/PtfjWyUqFFFBzqfe51jB8avAfz7HAS34cOHq6Tc9oZtvrl69arKudDRunXrVtUxjQ5RIz9Bsg+2+afxs3EfvqKxYCtUqFCqksR2H9+OYfscbrFKD8p5kDQDEslnz56phBW97L7BSTIgUd25c6dqJaH32NCoUSOVZAISSNRXIQHF8adMmaKSfWw3oJGBHvi///5bUqdO7evzouHQsmVL9T0SVHwIcubMqRJg6Nmzp+TNm1c1HuLGjas+QGhoGCMF+MAgjsKFC6vHouUNaHx07drV7rlsE8ebN2+qeI3WIXrn/RstwflcvHixFC9eXG3DBzNhwoR+PgbHR7xocaJODT39GLoy7sNoAr6i5x/Q249GErbjHKJnH9sMKM3CLwYacjgOEn4MrSPJx8gI2DYo+vfvr0YhcD9gyAwNHDRAGjZsKN/an7v2q8SgTMVSdtvXr9wgMybMljev30iipIlU2Q/Oj6FJ64aSNVcW9T7+deCIjB8+SV6/ei3V6lQRV3vy9IkqP8Kogy2Mrly7au6aZp1jB8ZvDp8+fZJRI8ZIlmxZJFWqlKIDnc+9zrED4w8+evfuLV26dLHbhuoGv/6OIPcy8kXkYujYRL3+98hPAsvUCT+GK5CIr1u3ztrqqVmzpkpa/Ur4Dejx7tWrl/z6668+knSU1xhQhoJymQcPHqifT548Kbt27VIlL47QK+9Xwm97TKPlZZu4GtvwPEig8TzoEUcPtm0ijw8QhoFQwgK2wzy+QYsSowTopUftWOXKlSVfvny+7ov4UQeG4STbBhJGQPyCBgvKe5InT64aRGjYVKxYUb0Xp0+fVn9EHM8Jhr/whwRwP34ZkOBjNjueH/cbcwQweoHGB84VhqjwGn788Uc16QVlPYgZM9abN29uPT4aCGh1+wbHdhx+e/vxrZ+/sM78tn6z5M6fSzxj24+alChbXHLkzibejx7LioWrZGDPITJ53gRr2U6DFv81UiFVmpSqYbB84SpTJPxEwd2wwcPlyqXLMn+x3+WPRKSRIFqVM2zYsAHOF1AWnS5dOrttyN1QGQHI9QAdvdjXgJ+zZMli3cfIP21zHFSdGI/HVzzGlvGzsY/2JT1I7PHC0XuMBBM39H7jZKKn3y/oAcakhhEjRqgE0pFtTyygVAOJttELjoT2xIkTdjeUqKCGyi+2xzRKP3zbZvs8GBGwfQ40AvA8xoQPo0HiH8w1uHHjhnTu3FlN8EDybNuj/rUwsoGGF+rmMUrSpk0bdR5Q6oLXgNWTMGvc9nWg9GbixInq8ZhNju8xwoGGFO5HYm9MQMbjMTMdDTT84mCyChogaPQYy1KhJs72+GhBHzx40Nd4fRuOmzzmy2r+UZN/9NBxKV+5rI/7IkWOKAmTJFS1/APH9JOb127Jnzv/9PNYaTOmlYf3H363idf+iR4tujrvaKzYwnwLT8//GmpmpXPswPhdb9iQEbJ3zx8ye/5siRPXfpjczHQ+9zrHDoxfAy5YpSd//vwqP7KFShCjWgEVCUjId+zYYb0fcwJQdYKKD8BXlJIjjzKgMgW5otE5i32waA3yLgPyJuRKtisCOT1FYlJI9DGbGeUcjkkxGgCOEz8NmFyLhB293kiCAytbtmxqeSSUxqRMmdLu5iz5DuzzoGHi+By42U7MCAhM2MXwEUp10Bvv11JNaEigEWJMBAFM+MAH1D9I9HFOUXKEGnvU7KN3H8NX6MFH69TxNRitzn379qmJyyjLQm8+Rgocnw+NIfziYG4F5irg9WNUB6MieK9RJ+d4fPwi+TUch8ag7a19tzbyJVCbjwm8eQp+HhHxDUZm8N87m19GR5cvXpbIUSIH+r39FkKHCS1p06WVQwc/fw7wx+XQwcOSKcvnkSoz0jl2YPyug99TJPs7f98ps+fOlIQJE4hOdD73OscOjJ98gxwTnY+oYrh8+bIsXbpU5V9t27a15jYo28aiLpjgi7wJczmR16AawxgRQPUEqhhQ0YKcCXMj0WltlErXqVNH5Q6odkB+ijmf6Eh1LD3StqQHa5EiGcULdCzfQDKP3v9WrVr5eBzuQ7kIVpaxncyApBgtXGfwRqFHGTX+PXr0UCUveCMxKRWrxQTkGAGBHu88efKoN7ZZs2aqMYEGAFptmEcQUJgvgEmxWKoJpSw4b0Y5kCOUKeF8YuIuSm4wUaRPnz5q8o5fsCoSknq0NHFe0ahAAwAtWBwD8xDwAUbDDA0ArEyE1ixKnDB5GXMTsArP/v37VUsUy0hhKMoYBkPjA/tjJAbx4Gccw3gNaARgEgw+A/ilwGvEZGp8Nnz7sPs2HPfyVcAuymYLfwy3/LJVSlcoKaFCfX7P79y+K7u27pYcebNLtOjRVK/90nnLVSlPngL/zW3Yv+eAPPZ+IukypVW/pEcPHpMlPy+Xmg1+FLOo36ie/NS7n6TPkE4yZMwgixcuVROQK1epJGanc+zA+F1XxrN502aZMGW8+nv76OEj62paxpwps9P13OseOzB+k3PBhXZz5sypOifR0Tho0CDVEYlOV+RFBuSRKE/GgiXoyceym5jnaPs3B6XdyAVRoYF8DHksOlgNyH+wyAryU+R7WJgFuV9gr5dk2oQfCT0mivpWq42TgYsZoAbeEYY9wBhSMaBExL8JrQa0qNDCQkKOJBQJJo6FZNO/xDiwkBBj8jESbizNid4n9MBjjkJgIKHEhw3LjiIRx7HQOPELSmyMsiVcSwATgv0rj8JyUSiNQnKNxB+19pgXYdToY3IuWq84Dmr08UFEQ6ZChQrqfqw/ix56lPGgwYAPKFq2xnNi/gTeM/ySYKgL5xqNB5QqARpDeBziRkMF/1Ajhm99peOjh47J/XsPpFzlMnbbw4QJLaeOn5bVS9fKv89fSPSY0SVztowyZf5EiR7jv6G1kKFCqUm9U8fOUO9rgkTxpU3XllKhajkxizJlS8uTx09k2uTp8uiRt1qmcNrMqRJTg+FdnWMHxu8aK5evUl+bNvw8HwgGDR2oluvUga7nXvfYgfGbnC+r6H0PFSpUsOY7vkEvPxoDuPkFHcsYHXCWM/7xxx9fFWsIi1nWCiT6Ru6+sr8Krm6ih/V7mVUiIiKzCBfSNRftDFEraFbbsiy/LO7KtD38REREREROBXLCbXDEhJ+IiIiI9MV8X99VeoiIiIiI6Ouxh5+IiIiI9OWiSbs6YcJPRERERPpivu8UE34iIiIi0hcn7TrFGn4iIiIiIjfGHn4iIiIi0hc7+J1iwk9ERERE+uKkXadY0kNERERE5MbYw09ERERE+mL3tVNM+ImIiIhIXyzpcYptIiIiIiIiN8YefiIiIiLSFzv4nWLCT24velhP0ZlFLKKrEPwrTERE3xpLepxiSQ8RERERkRtjDz8RERER6Yvd104x4SciIiIifbGkxym2iYiIiIiI3Bh7+ImIiIhIX+zgd4oJPxERERHpy4MZvzNM+ImIiIhIX6zhd4o1/EREREREbow9/ERERESkL3bwO8WEn4iIiIi0FYIlPU6xpCeYGzBggGTJksX6c6NGjaRy5coujYmIiIiIgg4Tfhv37t2Tjh07SsqUKSVcuHASJ04cyZ8/v0yfPl1evXolZodkHQn815g4caLMnz8/yGJyZ8uXrpCyJcpJziy5pW7N+nL61Bkxo+lTZkiWdNnsbpXLV7Xe/+jhI+nTs68UL1hS8mTPJ7Wq1ZHft+0QM9Pl3PuF8buOzrHrHr/OsQPjN3cPf1Dc3BkT/v939epVyZo1q2zbtk2GDRsmx48flwMHDkiPHj1k48aN8vvvv/v52Pfv34u7iBo1qkSLFs3VYZjels1bZczIsdKyTUtZvnqpeKVJLa1btBFv78diRilSppDf92yz3uYt/tl6X9/e/eT69RsyYep4Wb1+pRQvWUx6dOkpF85dEDPS7dw7Yvyuo3Psusevc+zA+M0NuXpQ3NwZE/7/16ZNGwkVKpQcOXJEatSoIWnTppXkyZNLpUqVZNOmTVKxYkXrvmgFotf/hx9+kIgRI8rQoUPl48eP0rRpU0mWLJmEDx9evLy8VG+5AQ0JjBo8ffrU7nkxolCsWDHrz3/++acULFhQHSNRokTSoUMHefnypfX+adOmSapUqawjED/++GOgXueIESPU4yJHjqziffPmjd39jiU9q1evlowZM6p4YsaMKSVKlLCLZ86cOepcIZ40adKo+Gz17NlTUqdOLREiRFDn86effrJrIJ08eVKKFi2q4okSJYpkz55dvQcBPR+usmj+YqlavapUrlpJJdN9+/dR52D92vViRiFDhhTPWJ7WW/To0a33nTx+UmrXrSkZM2WQhIkSSvNWzdT7ce7ceTEj3c69I8bvOjrHrnv8OscOjJ90x4RfRLy9vVVC3rZtW5XA+8ZxqAelM1WqVJHTp09LkyZN5NOnT5IwYUJZtWqVnDt3Tvr16yf/+9//ZOXKlWr/4sWLq57zNWvWWI+BRsKKFSukbt266ucrV65ImTJlpFq1anLq1Cl1HxLedu3aqfuRCCPhHTRokFy8eFG2bNkihQoVCvDrRCyIGyMYOFa8ePF8JOi27t69K7Vr11av7/z587J7926pWrWqWCwWdf+SJUvU60SDB/fjuEjoFyxYYD0GEkeUCOGcoAE0e/ZsGT9+vPV+vHact7/++kuOHj0qvXr1ktChQwfofLjK+3fv5fy585InT27rNg8PD8mTN7ecOnFKzOjmzZtSsnApKV+qovTu3kfu3rlrvS9z1syydfM2efb0mfocb/ltq7x991Zy5MwuZqPjubfF+F1H59h1j1/n2IHxm59HiBBBcnNnXKVHRC5fvqySWPTK2/L09LT2gKMxMHLkSOt9derUkcaNG9vtP3DgQOv36OlHSRCSbIwYoIe1Vq1asnTpUtWzDjt27FA9/khoYfjw4SoB7tSpk/oZPfmTJk2SwoULqxEFJG1okFSoUEEl0kmSJFFlSAZntfcTJkxQz208/5AhQ1SpkmMvv23C/+HDB5Xk47kAvf2G/v37y9ixY9X9xmtGYj9z5kxp2LCh2ta3b1/r/kmTJpVu3brJ8uXLVakU4DV1795djQ4Yr9ng7Hygd8IVnjx9ohprMT1j2G3HCMi1q9fFbDJmyiiDhg6UpMmSqHr9GdNmSZP6TWX1hlXq8zRq3Ejp2bWnFM5XVI1y4byOmzRWEidJLGaj27l3xPhdR+fYdY9f59iB8Zufu9ffBwUm/P44fPiw6vFE0vn27Vu7+3LkyOFj/6lTp8rcuXNVEvv69Wt59+6d3Qo4OE6ePHnkzp07Ej9+fNVDXr58eWvNPMpb0JON7QY0RBDDtWvXpGTJkirxRmkMer5xwygDymUCAr3wrVq1stuWN29e2bVrl6/7Z86cWY1MIMkvXbq0lCpVSpUQoRwEZTXogUfjoXnz5tbHoIGAeQAG9MojSce+L168UPejdMfQpUsXadasmSxatEiVC1WvXl1SpEgRoPOBUiJHeJ8c3ytLqI8SNmxYCa4KFMpv/T61V2rJkCmjlCtRXrZt2S5VqlWWaZOmyb/PX8jMn6dLtOjRZdeOXaqGf96inyVV6s8NMCIiItITS3pE1Ko8aB2iTMYWEmvch/pxR46lP+i1Ru81EmCUB504cUKNACDpN+TMmVMls9gXDYJ169ZZy3kACXHLli3VY40bkt5Lly6px6FX/9ixY7Js2TJVjoNyGiTljvMCggpGJbZv3y6bN2+WdOnSyeTJk9UoCJJtxAoo0bGN98yZM3Lw4EF1H0Y48PrKlSunJj5jInSfPn3szglKjM6ePasaPjt37lTPg/MSkPPhG4wKoMFhexs9YkyQnpfo0aKrc+P96LGP0jBPz5hidlGiRJbESRPLrRu35NbNW2rlhgFD+kvuvLnVRK5WbVtK+vTpZMXS/8rRzET3c8/4XUfn2HWPX+fYgfGbH1fpcY4J//8Pa6H3fMqUKV88IXTfvn2SL18+NfkXZTZoKKBX2xESYPRY//rrr6qGDomuIVu2bKokBo91vIUJE0btg5IL9ISPGjVK9X5fv35dJcoBgR7xQ4cO2W0zknO/4BcAS5OiXAkJO+JAQo6JvxilwOpGjrGitAf279+vRiSQ5GNEBCU5N27c8PEcmNTbuXNn1VBCedC8efMCfD4c9e7dW549e2Z3696rmwSl0GFCS9p0aeXQwc/nEqMOhw4elkxZMonZvXr5Sm7fvK0m7xrlXB4e9n/oPEJ6yCfLJzEb3c8943cdnWPXPX6dYwfGb35M+J1jSc//w+RVJLZITNHrnClTJpWQYzLphQsX1Oox/kEyu3DhQtm6datKeFGigscaya9two/jY6IrymNsS02wog1KfjApFWUuGEVAwotedjRG0EuOBBsTdVFW89tvv6lfWse5B37BikBYhQevEa8VDQ/0rmMkwzdoHGCeAUp5YseOrX5++PChtZQGjQBMIkYvOsqLUEqDycBPnjxRpTo4JyhvwogGRjew2pHRew8Y5UD9Ps4DztPt27fVOTPmNDg7H77B+XQs33nzMeivoVC/UT35qXc/SZ8hnWTImEEWL1yqXk/lKpXEbMaNGi+FihaSePHjycMHD9W6/CFDekiZ8mUkcuRIkihxIhkyYKh07t5ZokWLKrt27JaD+w/JpGmfV5kyE53OvW8Yv+voHLvu8escOzB+0h0T/v+HEhH0YGOlGfQSI/lE4ogSE5TqoOfePyg9weNr1qypWolY3QaPQTmMLfRO58qVS80PwCRaW2hk7NmzR/WIYylK1KsjLhwTUOu/du1a1WBAzywSapT3pE+fPkCvEcfBqAMmzOLxSKxbt26tGim+Qa393r17VZzPnz9XvfWYpFu2bFl1P5JwzB8YPXq0StyRkKPe35hki2VL0XOPhB2NAYxmYBUf4+JgaojR21saNGgg9+/fV5Ok0cNvTH52dj5cqUzZ0vLk8ROZNnm6PHrkLV5pvGTazKkS04TDozi3vbv1lqdPn0n0GNEla7YssnDZAokR47+lOafMmCyTxk+Sjm07qQvMJU6cSAYPHygFCxcQM9Lp3PuG8buOzrHrHr/OsQPjNzc375wPEiEsxhqLRG7qW/Twf08W0fdXNITwrzARUXARLmTAFhEJahF7+lxI5Uu8HPn5OkDuhj38RERERKQtd6+/DwqctEtERERE5MbYw09ERERE2mL5qHNM+ImIiIhIWyzpcY4lPUREREREbow9/ERERESkLXbwO8eEn4iIiIi05cGM3ymW9BARERERuTH28BMRERGRtjhp1zkm/ERERESkLSb8zrGkh4iIiIgoEAYMGKAaGra3NGnSWO9/8+aNtG3bVmLGjCmRIkWSatWqyf379+2OcfPmTSlfvrxEiBBBYseOLd27d5cPHz7Y7bN7927Jli2bhA0bVlKmTCnz58+XL8GEn4iIiIi0hQ7+oLgFVvr06eXu3bvW259//mm9r3PnzvLrr7/KqlWrZM+ePXLnzh2pWrWq9f6PHz+qZP/du3eyf/9+WbBggUrm+/XrZ93n2rVrap+iRYvKiRMnpFOnTtKsWTPZunVroGMNYbFYLIF+FJFG3nx8JTqziL6/orz6IRFR8BEuZASXPG+s/vmD5DgPB+4LVA//+vXrVSLu6NmzZxIrVixZunSp/Pjjj2rbhQsXJG3atHLgwAHJkyePbN68WSpUqKAaAnHixFH7zJgxQ3r27CkPHz6UMGHCqO83bdokZ86csR67Vq1a8vTpU9myZUugXht7+ImIiIiIAunSpUsSP358SZ48udStW1eV6MDRo0fl/fv3UqJECeu+KPdJnDixSvgBXzNmzGhN9qF06dLy/PlzOXv2rHUf22MY+xjHCAxO2iUyOZ17yT9aPorOQoYI6eoQiIjoO03affv2rbrZQu08bo5y586tSnC8vLxUOc/AgQOlYMGCqjf+3r17qoc+WrRodo9Bco/7AF9tk33jfuM+//ZBo+D169cSPnz4AL829vATERERkbYcJ89+6W348OESNWpUuxu2+aZs2bJSvXp1yZQpk+p1/+2331SpzcqVK8WMmPATERERUbDXu3dvVX9ve8O2gEBvfurUqeXy5csSN25cNRkXDQBbWKUH9wG+Oq7aY/zsbJ8oUaIEqncfmPATERERkQT3Hv6wYcOqZNr25ls5j29evHghV65ckXjx4kn27NkldOjQsmPHDuv9Fy9eVDX+efPmVT/j6+nTp+XBgwfWfbZv366eM126dNZ9bI9h7GMcIzCY8BMRERGRtlyxLGe3bt3UcpvXr19Xy2pWqVJFQoYMKbVr11alQE2bNpUuXbrIrl271CTexo0bq0QdK/RAqVKlVGJfv359OXnypFpqs2/fvmrtfqOR0apVK7l69ar06NFDrfIzbdo0VTKEJT8Di5N2iYiIiEhbrrjS7u3bt1Vy7+3trZbgLFCggBw8eFB9D+PHjxcPDw91wS1MBEadPxJ2AxoHGzdulNatW6uGQMSIEaVhw4YyaNAg6z7JkiVTy3IiwZ84caIkTJhQ5syZo44VWFyHn9ye7uvw64yr9BARBR+uWoc//pDCQXKcO333iLtiDz8RERERacsVPfy6YcJPRERERNryYMLvFCftEhERERG5MfbwExEREZG22MHvHBN+IiIiItIWa/idC/YlPfPnz1dXRwvOihQpIp06dbL+nDRpUpkwYYJLYyIiIiIiN0j4GzVqJJUrV/axfffu3aq15nhJ4q/lWyJbs2ZN+fvvv4P0efx6rqCCc4MLPXwrf/31l7Ro0eKbHd9dLF+6QsqWKCc5s+SWujXry+lTZ0QnZoz/6JFj0rFNZylVpIxkS59Ddu3YbXf/jKkzpWqFapIvRwEpnLeotGraxkfc5UtWVI+1vc2bPV/MxIznPrjEr3Psusevc+zA+M0rRBD9586CfQ9/+PDhJXbs2K4Ow1Rw0YgIEVyzlq4utmzeKmNGjpWWbVrK8tVLxStNamndoo14ez8WHZg1/jevX0tqr1TSq29PX+9PkiSJ9OzTQ1auWy5zF82R+AniSdvmbeXJ4yd2+7Vu10q27d5ivdWqW1PMwqznPjjEr3Psusevc+zA+M0NHaFBcXNnWiT8AwYMkCxZsthtQ+85etEdRwvGjBkj8eLFk5gxY6rLE79//95atnLjxg11tTLbN9axpMd4rkWLFqnj4/LItWrVkn///de6D76vW7euuioangtXU7Mti/HruWDNmjWSPn16ddlkHH/s2LF2rwvbhg0bJk2aNJHIkSNL4sSJZdasWX6emydPnqhYkKSj8ZIqVSqZN2+en/u/fPlSGjRoIJEiRVKxOz6/4+gErsuGc4I4EHP8+PGlQ4cO1n1x9ThcXjpBggTqfOTOnVuN0BhwBTpciQ73oxGRMWNGWbZsmd3zrV69Wm1H/HjfSpQooeI04KpyadOmlXDhwkmaNGnsrlTnKovmL5aq1atK5aqVJEXKFNK3fx8V3/q160UHZo0/f8H80rZjGylWoqiv95etUEZy580tCRMlVHF36dFZXrx4KX//fcluvwgRI4hnLE/rLXyE8GIWZj33wSF+nWPXPX6dYwfGT7rTIuEPqF27dsmVK1fU1wULFqhkHjdYu3atuiQxLll89+5ddfMLjrF+/Xp1yWPc9uzZIyNGjLDe36VLF9m3b59s2LBBtm/fLn/88YccO3bMer9fz3X06FGpUaOGakCcPn1aJdI//fSTNUYDkvAcOXLI8ePHpU2bNuqyyxcvXvQ1Vjz+3LlzsnnzZjl//rxMnz5dPD09/Xxt3bt3V6/nl19+kW3btqnk3DZ2R2igoEEzc+ZMuXTpkjovSM4N7dq1kwMHDsjy5cvl1KlTUr16dSlTpozaF968eSPZs2dXl4Y+c+aMKhWqX7++HD58WN2Pc4MGARo4iB/xVK1aVTU0YMmSJdKvXz8ZOnSouh+NIbxmvL+u8v7dezl/7rzkyZPbug2Xz86TN7ecOnFKzE73+G1fx9pV6yRS5EiS2iu13X3z5yyQovmKS+1qdWTB3IXy4cMHMQPdz73O8escu+7x6xw7MH7zYw+/Bqv0IKFGb7Otjx8/ftGxokePLlOmTJGQIUOqnuDy5cvLjh07pHnz5hIjRgy1Hb3mcePG9fc4nz59Ukk49gUkqDgOkk707iPZXLp0qRQvXlzdjx519Hwb/HqucePGqccgYYXUqVOrZH306NFqhMJQrlw5lehDz549VcKNRoyXl5faZiTDcPPmTcmaNatqIIDtqIejFy9eyM8//yyLFy+2xo7XgsaJX3B8vAb0uocOHVr19OfKlct6H147vhqvH739W7ZsUduRnKNnH9sM7du3l61bt8rKlSvVcZDwIxlDko9yDbBtUPTv3181gHA/JEuWTJ0zNEAaNmworvDk6RP1GY3pGcNuO0Ynrl39dnMrgoru8e/d/Yf07vY/1ZhE7/302VMlevTPo3S169aUNOnSSJSoUeXUiZMyecJUefTwkXTt2UVcTfdzr3P8Oseue/w6xw6M3/zcPFd3j4S/aNGiqlfa1qFDh6RevXqBPhZKZZBoG1Cygp70wELSbCT7xnEePHigvr969aoqEzKSXkDZj5GM+wc91JUqVbLblj9/flU+g19GI/ZMmTJZ70eLEwm38fyO0PtfrVo11UtfqlQpVdaUL18+P0cu3r17p8pubBsn/sWOHnvElzx5ctVzj8ZIxYoVJVSoUOrcIm40XGyhzAd/SAD3I/FHgv/PP/+o58f9xhyBzJkzq8YHkvzSpUur1/Djjz+qxhvKehBz06ZNVaPNgAYCzrlvcGzcbFlCfVTlSOQecubKIcvWLFWT+tetXic9u/aWhcvmS4yY//1jVq/R578dmA8QKnRoGTZwmLTv3E7ChAnjwsiJiIiCaUkP6r5Tpkxpd0OvsC0MPdn2aoNRm28LPdC2kCyjtz6wguo4Xyowz1+2bFnrfIE7d+6o5Nm2R/1rJUqUSJUToW4eNfYYeShUqJA6/xgxQCMFpUonTpyw3tCwmThxono8Ri/wPUYqMEqB+5HYI/EHPB5lUShJSpcunUyePFk1QK5du6aOD7Nnz7Y7PkqDDh486Gu8w4cPV40B29voEWMkKEWPFl3F7f3IfrIT5it4ev7X0DEz3eNHPX7iJIkkU+aM0n9wP/Va1q/9xc/9M2bKIB8+fJQ7/9wRV9P93Oscv86x6x6/zrED4zc/lvRokPAHBCak3rt3zy7pR+IXWOjd+9JyIQN6upGQY+lKw7Nnz3ws7enbc2HiKWr/beFn9JDbjkx8yflBeQtKddAb79ck3xQpUqjYMYJiO+nX2bKkSPTRqz9p0iRVY4+affTuo5QIrxGjD46NNqOUCa8PoxoYsUFvPs6f4/PhlwwjHQMHDlTzFnDu1q1bJ3HixFGlQhhVcTw+Snt807t3b/V+2N669wq6BhCEDhNa0qZLK4cOfj6PaJAdOnhYMmX5PDpjVrrH78hi+WRtQPrm4oW/VacBRrNcTfdzr3P8Oseue/w6xw6M3/yY8GtQ0hMQWPXm4cOHMmrUKFXugRpx9AhHiRIl0KU6e/fuVZNmUeLh3+RWv6DUB8k1Jr8igcCSnqgzR0Jh+2Hx7bm6du0qOXPmlMGDB6v1/5E4Y87B16w6gwmtmBSLciaUsmBOBBoWvsFcCZTHIHaU3CD2Pn36qNj9grkMSOpRBoQyHDQq0ABAvT2OgRWCsOoP6uzRAMD7hPkOKEvCHAqsGoRVePbv36/KdDCP4f79+6o3H9D4wP4o5UE8+BnHMF4DGgFYFQg99Sgpwms8cuSIaqhg8rQjnGvH8p03H19JUKvfqJ781LufpM+QTjJkzCCLFy6V169fS+Uq9iVbZmXW+F+9fCW3bt6y/vzP7X/k4vmLqh4/WrSoMmfWXClctJCq3X/65KmsXLZSHtx/KCVLl1D7nzxxSs6cOqPKfrBSz6mTp2XsyHFSrkJZiRI1cH8vgtu5Dw7x6xy77vHrHDswfnNz92Q92CT8SP6QFKMWHMkyatZRtuLfcpW+wao5LVu2VD3dSBwdy4QCCklrq1atpEKFCqrR0aNHD7l165Za4sq/58qWLZuqZUeSjteBuQHYz3bCbmChNxy92rgQFxLxggULqhVz/IISG5TKoMcejRc0QtAL7hcsWYoVipBcI/FHrf2vv/5qrdHH5NwhQ4ao46BGHw2bPHnyqHMDffv2VT30KONBgwGr9GCegfGcOH9oGGFk4vnz56ohgcYDSpWgWbNm6nGIGw0VlIAhBtsrA7tCmbKl1drv0yZPl0ePvMUrjZdMmzlVYmoyPGrW+M+dPSctGrey/jxu1Hj1tWKlCvK//r3l+rXrsvGXjSrZjxotqvrH6+eFs9Uyc8bvw9bN22TmtFlqZYr4CeJL3QZ1pF7DumIWZj33wSF+nWPXPX6dYwfGT7oLYfnSrJesMLkU8w6QqKIHnczlW/TwU8B8tHxdCZ2rhQzx5aV2RETBTbiQrrlop9f4MkFynIudt4i70qKH32xQZ37hwgW1Ug96qtFLD44r8BARERHRt8WSHueY8H8hXNEXq9eghAA19Lj41pfMCSAiIiIi+paY8H8BTE7FUpRERERE5Frs4XeOCT8RERERaYsJv5usw09ERERERF+GPfxEREREpC128DvHhJ+IiIiItMWSHudY0kNERERE5MbYw09ERERE2mIPv3NM+ImIiIhIW0z4nWNJDxERERGRG2MPPxERERFpix38zjHhJyIiIiJtsaTHOSb8RPTNhAwRUnT27tNb0VUYj7CuDoGI6Ptgwu8Ua/iJiIiIiNwYe/iJiIiISFss6XGOCT8RERERaYv5vnMs6SEiIiIicmPs4SciIiIibbGkxzkm/ERERESkLSb8zrGkh4iIiIjIjbGHn4iIiIi0xR5+55jwExEREZG2mO87x5IeIiIiIiI3xh5+IiIiItIWS3qcC9Y9/I0aNZLKlSv7ef+AAQMkS5Ys4s6uX7+uflFOnDihft69e7f6+enTp64OjYiIiMgp5C1BcXNnHrok5sabESZMGEmZMqUMGjRIPnz48E2ft1u3brJjxw4xk/nz50uRIkW+2fHz5csnd+/elahRo36z53AXy5eukLIlyknOLLmlbs36cvrUGdGJzvGbMfZ5sxdIg5qNpXCuYlKqUFnp1qGHXL92w8d+p06cltZN2krBnEWkSO5i0qJhK3nz5o3dPn/u2SeNajeRAtkLS7F8JdWxzMSM5z84xK57/DrHDoyfdKZFwg9lypRRieilS5eka9euqvd99OjRX3Ssjx8/yqdPn5zuFylSJIkZM6YEJ2hQxY0b1+1bul9ry+atMmbkWGnZpqUsX71UvNKkltYt2oi392PRgc7xmzX2Y0eOS/Xa1WTu0jkyZdYk+fD+g7Rv0VFev3ptl+x3aNVJcufLLfOXzZX5y+dJ9do/iofH5z/FO7fvlP69B0rFyhVkyZpFMmfRLCldrpSYhVnPv7vHrnv8OscOjN/c2MPvRgl/2LBhVSKaJEkSad26tZQoUUI2bNig7hs3bpxkzJhRIkaMKIkSJZI2bdrIixcv7HrFo0WLpvZPly6dOtbNmzd9PMdff/0lsWLFkpEjR/pa0mOUAI0ZM0bixYunGgNt27aV9+/fW/eZNm2apEqVSsKFCydx4sSRH3/80Xrf27dvpUOHDhI7dmx1f4ECBdRzGoxyGowq5MiRQyJEiKB63C9evOjnecFjcuXKpV47XmP+/Pnlxg2fvYqGw4cPS9asWdXz4zmOHz/u43i2JT04VsWKFSV69OjqOdKnTy+//fabdf8zZ85I2bJlVeMIr7d+/fry6NEj6/1btmxRrxOx4XxVqFBBrly5Yr3/3bt30q5dO3U+ERPe3+HDh1vvRxzNmjVT70uUKFGkWLFicvLkSXG1RfMXS9XqVaVy1UqSImUK6du/j4p//dr1ogOd4zdr7JNnTlBJeoqUySV1mlTSf+hPcu/uPTl/7oJ1n/GjJkjNujWkUbMGar+kyZJIyTIlVEMbMGo5dsR46dC1nVSrWVWSJE0syVMkU/uYhVnPv7vHrnv8OscOjN/cmPC7UcLvKHz48CpZBPSOTZo0Sc6ePSsLFiyQnTt3So8e9kPgr169Uon8nDlz1H5Ium3hMSVLlpShQ4dKz549/XzeXbt2qYQVX/FcaEzgBkeOHFEJPcqNkKQj2S1UqJD1sYhpzZo16nHHjh1TpUmlS5eWx4/tW9h9+vSRsWPHquOFChVKmjRp4mssSA7QAClcuLCcOnVKDhw4IC1atPDzQ4tGEBJuNHqOHj2qGjQoW/IPGjRoqOzdu1dOnz6tziGSeyMZRwKOBgRixeu9f/++1KhRw/r4ly9fSpcuXdT9aMjgvapSpYp1hAXvGxpiK1euVOdsyZIlkjRpUuvjq1evLg8ePJDNmzermLNlyybFixf3cc6+p/fv3sv5c+clT57c1m14XXny5pZTJ06J2ekcv06xG50OUaJGUV8fez+WM6fOSowY0aVJ3eZSulBZadGotZw49t/8Gbh4/qI8uP9QQnh4SN0fG0iZIuXViMDlS58bya6k0/l3p9h1j1/n2IHxmx/SnqC4uTPtVumxWCwqcdy6dau0b99ebevUqZP1fiSLQ4YMkVatWqnedgN64fFz5syZfRxz3bp10qBBA9UYqFmzpr/Pj57uKVOmSMiQISVNmjRSvnx5FU/z5s3VqAF6wZFUR44cWfVWIxk2Et/p06erxgF6xGH27Nmyfft2+fnnn6V79+7W50CjA0k89OrVSz0HanzRGscoA27w/PlzefbsmXq+FClSqG1p06b1M/alS5eqRBvPh2Oht/727dtqxMQveE3VqlVTIyiQPHly6304D3h9w4YNs26bO3euGmX5+++/JXXq1OqxtnA/euvPnTsnGTJkUMfHiAhGAdBQwTkz/Pnnn2pEAgk/RmUAoyvr16+X1atXq8aNKzx5+kSVhcX0jGG3HSMY165eF7PTOX5dYsfv2bgREyRz1kySMtV/v5v/3L6jvs6eNkc6dOsgXmlSyaYNm6VN0/ayfP0SSZwksfxz6/M+nXt0kHjx48uSBUulVeM2smbTSpfPrdHl/Ltb7LrHr3PswPjJHWjTw79x40bVs4xEFQkzEnP0UMPvv/+uen0TJEigEm2UlXh7e6tefQOGzDNlyuTjuIcOHVK9yIsWLXKa7AOSZCT7BpSiICEFjBAgYUVSjBjQW23EgFEBNDpQcmMIHTq0Ksc5f/683XPYxonjg/EctmLEiKGSf4wSoOxm4sSJap6DX/A8ODbOoSFv3rz+vl6MWKABhbj79++vRhIMKK3BSAfeF+OGRpDxegFzLmrXrq3OCUpyjN57o6QK8WOFIC8vL/Vc27Ztszs+eknxR8n2Oa5du2ZXFmQLoxFoCNnesI3oexo1ZLRcuXxFho4eYt1mjGpVqV5FfqhSQbzSekmXnp1U2c6GtRv/28fy3z6NWzSSYiWLSdr0aaTfkL7/lfpt3emiV0NEZG4s6XGjhL9o0aIqMUQC+fr1a1UWg950LCuJHm4ksiiXQdnH1KlT1WOMkh+jBMi3NxM940hS0fNsW4vvFyTptnBM4x9yNDZQqrNs2TKVqPfr10+NKAR2iUvb5zBi9muS8bx581QpD2r9V6xYoXrVDx48KEEF9fNXr15VDRiU9KDuf/Lkyeo+JONoaOB9sb3hPTJKmXA/ym8wmoHGFW627w1KdJDADx48WL2vKAcy5j3g+DiPjsdH6Y/tiIgt1P+jF9T2NnrEGAlK0aNFV40+70f2ZUVoZHp6mn+St87x6xD7qKFj5I89+2T63GkSJ+7n0kHPWJ7qa7IUn0vWIGnypHLv3j27fZLb7IPOigQJ46v5AK6mw/l3x9h1j1/n2IHxm58ZEv4RI0aoY9hWnaA6A6XRRsclqh5Q+mwLHaCo5MC8TZSbI79xXIUS8yuRL6HaAeXgRim5Wyb8SO7xIhMnTqzq2g1I8JEMo+Y9T548KuG9c+e/YfGA8PT0VPX7ly9fVslmQJJ+/yA2TCgeNWqU6g1HgwTHR8MC/3Dv27fPui+eC5N2UVP/NVBW07t3b9m/f78qk0Hpjm9Q7oOYbJcADEjjACU6KJFau3atWiEJyTvgw4f5EOi1x3tje8P7hT8mSM779u2rRmDw/E+ePPFxfPT8Y3QFx0WjBQ03NBJwfCRCOKeOx8f75hucB5Q52d669/J/nkJghQ4TWtKmSyuHDv7XeAF8Bg8dPCyZsvgcRTIbneM3c+woN0Syv3vHHpk+d4pK0m3FTxBPYsWOJTeu2y8YcPPGLetIXpp0adTfiRvXPu+D1X7u/nNX4sb/bx9XMvP5d+fYdY9f59iB8ZMzyOVmzpzpo5Kkc+fO8uuvv8qqVatkz549Kj+tWrWq9X6UWiHZRycocjhjbig6jA3oFMU+Rsc3GhTojEVpu1sm/H5B8ofEGb3O6IlGac6MGTMCdQy0qJCUX7hwQZWffOn6/ig7wiRUvCFY3WbhwoXqlwrlKkiAUSuPlhsmt6KGHXX/KPlp2rTpFz0fPgRIcNHDj+dDOQx61/2q469Tp45qfeJ58fxYbQc18f7BBwsfKjwXRi9QwmMcH61WJOY4Z/iwo8wG+zZu3Fh9iDHfAa3aWbNmqQYVzjEm8NrCCksYEcG5R90/fimwGhNW9UHDCSVHmJiM14bGE34hMKkZk4B9g9YvGhC2N6P+PyjVb1RP1q5eJxvWb5CrV67KkIHD1AhF5SqVRAc6x2/W2EcOGS2bN26RwSMHSoSIEeXRI291MxrY+N2r17iurFiyUnZs2ym3bt6S6ZNnyo1rN6RS1Ypqn0iRIkrVGlVk1rTZcnDfIbWO/4jB/60aVqJUMTEDs55/d49d9/h1jh0Yv7m5sof/xYsXUrduXdVpibzHgA5HzJlEnoMFTrJnz66qMpDHGJ2tyG2Qjy1evFitComSdVQ8oFLFqIRATpssWTLVsY38CysbohJi/Pjx7j1p1xFKZnAysXoMkl+UkqCsA5NwAwNJJhJSXNQKb5xfveT+QZKKXnDMLcA/8piMimQWdf/GcA8aACiP+ffff1V5DBJk2w9IYGD4B4kyWoToTUcvIZLwli1b+ro/hpPQ0kRvPUYFMLKA8+Y4sdYWEnccE5N7kTzjegjGhyx+/PhqxAKrGpUqVUrVymMOA/bBCgD45Vm+fLmqzcfIAxo+aBDZXjgMZVAYDUFDBUOOOXPmVA0RY11yfI8EH42Ihw8fqvcJ7zGWAHWlMmVLy5PHT2Ta5OkqqfNK4yXTZk6VmJoMj+ocv1ljX7NirfqKCba2UIOP5TqhTv1a8u7tOxk3coKaX5IqdSqZMnuiJEyc0Lp/x67t1e9C/94D1O9U+ozpZdrcqdbVflzNrOff3WPXPX6dYwfGb25BVX7/9u1bH/P+0GnoX8chciT0wKOTEnMebStQ0CGN7QaUkKNSBR21qErBVyyKYpvTYF4mOohRQYFcDfvYHsPYx7Z0KCBCWDAOTeTG3nz8PHmbKDDefdJ3wncYj6Af2SIi8k+4kBFc8ryFl9cNkuMUvZBKBg4caLcNC5YYi8Q4QqcmVlZElQMWREGHJnrqJ0yYoDqO0Vnp2IDAYi0oz0GHK1YbRIWGbXkOKj9QFYIOT/T4o1Qdx0GntgH3oZGBfTFHNVj08BMRERFR8BVUK+z07t3bR+mxX737t27dko4dO6rl1W1XPzQr7Wv4iYiIiCgYC6Irb4UNxDxAlOxgyXQsMILFRXDDxFyULuN7lOmgDt9xpUas0oPyZMBXx1V7jJ+d7YPYAtq7D0z4iYiIiIgCAasPYrly22XDMTcT80CN77HMOi7OasDKhViG07gGEr7iGLbXWsKIAZJ5YwVH7GN7DGMfZ9dRcsSSHiIiIiLSlisumhU5cmS1IIkt1N5jdUJjO1ZhRIkQLpSKJL59+/YqUceEXcCCJ0jssZgLFjDBUuRYyhwTgY2RBSy0MmXKFOnRo4c0adJELTCzcuVK2bRpU6DiZcJPRERERNryMOlFcsePH69WHcRqiJi8i9V1pk2bZr0fK7JhSXesyoOGABoMDRs2lEGDBln3wZKcSO6xpv/EiRMlYcKEMmfOHHWswOAqPeT2uEoPfSmu0kNEZP5VeoqvDtxS7H7Z8eNCcVfs4SciIiIibbmipEc3TPiJiIiISFseTPidYsJPRERERNpiD79zXJaTiIiIiMiNsYefiIiIiLTF3mvnmPATERERkbZYw+8cG0VERERERG6MPfxERG64lr1F9L7ESghhjx0RBQwn7TrHhJ+IiIiItMWSHudY0kNERERE5MbYw09ERERE2mJJj3NM+ImIiIhIWyxXcY7niIiIiIjIjbGHn4iIiIi0xUm7zjHhJyIiIiJtsYbfOZb0EBERERG5MfbwExEREZG2WNLjHBN+IiIiItIW033nWNJDREREROTGtE/4kyZNKhMmTHB1GG5r/vz5Ei1aNFeHQURERORnSU9Q3NyZqRP+hw8fSuvWrSVx4sQSNmxYiRs3rpQuXVr27dtn3eevv/6SFi1aiC6KFCmikmjS3/KlK6RsiXKSM0tuqVuzvpw+dUZ0onP8OseuS/wrl6+S6pVrSP6cBdWtQe2G8ufez397Hz18JH169pXiBUtKnuz5pFa1OvL7th1idjqce3eNX+fYgfGbFxN+zRP+atWqyfHjx2XBggXy999/y4YNG1TC7O3tbd0nVqxYEiFChG8ax7t3777p8XUWXM/Nls1bZczIsdKyTUtZvnqpeKVJLa1btBFv78eiA53j1zl2neKPEye2dOjcQZauWiJLVy2WnLlzSqd2neXypSvq/r69+8n16zdkwtTxsnr9Silespj06NJTLpy7IGaly7l3x/h1jh0Yv/mX5QyKmzszbcL/9OlT+eOPP2TkyJFStGhRSZIkieTKlUt69+4tP/zwg58lPTdv3pRKlSpJpEiRJEqUKFKjRg25f/++3bGHDBkisWPHlsiRI0uzZs2kV69ekiVLFuv9jRo1ksqVK8vQoUMlfvz44uXlpbbfunVLHQ8lLjFixFDPc/36dR+PGzNmjMSLF09ixowpbdu2lffv3/v6Gi0WiwwYMMA6goHn6tChg5/n5OTJk+pcIG68tuzZs8uRI0fk5cuX6ufVq1fb7b9+/XqJGDGi/PvvvypOfJjXrl2rjoFGUubMmeXAgQN2j8HoA+LB/VWqVLFrXAHixbmaM2eOJEuWTMKFCxeg8248bu7cuer42K9Nmzby8eNHGTVqlBq9wXuCc+74OcB7hIYdjlusWDF1Hlxt0fzFUrV6ValctZKkSJlC+vbvo87F+rXrRQc6x69z7DrFX7hoYSlYuIAkSZpYkiRNIu07tVN/F06fOq3uP3n8pNSuW1MyZsogCRMllOatmqm/TefOnRez0uXcu2P8OscOjJ90Z9qEHwkhbkha3759G6DHfPr0SSWdjx8/lj179sj27dvl6tWrUrNmTes+S5YsUUklGhJHjx5Vyef06dN9HGvHjh1y8eJFdYyNGzeqpB3lRPgHDQ0RlBUhvjJlytj1cu/atUuuXLmivmJkAgm0XyU8a9askfHjx8vMmTPl0qVL6rVmzJjRz9dXt25dSZgwoSpjQuxoqIQOHVol9bVq1ZJ58+bZ7Y+ff/zxRxWzoU+fPtKtWzc5ceKEpE6dWmrXri0fPnxQ9x06dEiaNm0q7dq1U/ejYYDGkaPLly+r2NF4wH4BOe+A87J582bZsmWLLFu2TH7++WcpX7683L59Wz0O70nfvn1VHIbq1avLgwcP1OPwmrNlyybFixdXz+Uq79+9l/PnzkuePLmt2zw8PCRP3txy6sQpMTud49c5dp3jR8N8y29b5fXr15Ipcya1LXPWzLJ18zZ59vSZ+huA+9++eys5cmYXM9L13LtD/DrHDozf/FjSo/GynKFChVKJcvPmzWXGjBkq0StcuLBKbDNl+u8fHN+S9NOnT8u1a9ckUaJEatvChQslffr0KknOmTOnTJ48WSW1jRs3Vvf369dPtm3bJi9evLA7FpJo9GKHCRNG/bx48WL1jxq2GcM+SKjR2797924pVaqU2hY9enSZMmWKhAwZUtKkSaMSWsSF1wHY14BecfRslyhRQiXuaHxgFMMv2L979+7quJAqVSrrfegFz5cvn9y9e1eNLiBJ/u233+T333+3OwaSfcQEAwcOVOcGCTyOOXHiRNWA6dGjh7ofDYL9+/erBN0WGjg4r+h1ByT4zs474Pyhhx8NkHTp0qkGBRpViBN/fDCSgqQfjaXcuXPLn3/+KYcPH1avBSMggNETNIwwmuGquRtPnj5RCVBMzxh22zGic+3q5xEfs9I5fp1j1zH+S39fkga1G6nf+fARwsu4SWMlRcrk6r5R40ZKz649pXC+ourvNXoLcX/iJInFjHQ79+4Uv86xA+M3P/dO1d28h9+o4b9z546q3UciimQZib9fPebnz59XCaeRdAISSyTluA+QYDom1b4l2ehpN5J9QBkJEmMkq8boA8p63rx5o3quDUhykewbjOTbN+i9Ro9Z8uTJVYNg3bp11t5233Tp0kUl9mggjBgxwu558Rrw3BhVMBooKIMqVKiQ3TFsG0uIDYz4cI6QaNvKmzevjzhwXCPZD+h5N8qvbEcb4sSJo/ZDsm+7zYgH5xwNMfxRMs45bmhY2L52WxgNev78ud0toCNERGQPv7Mr1i6TRcsXSI2a1aXf//rJlctX1X3TJk2Tf5+/kJk/T5clKxdLvYZ1VQ0/GglERGQupk74Ab1GJUuWlJ9++kn1NqNOvn///t/8edHDbwuJJ2rmUcJie8Nk4jp16lj3Q0+9LYwGoGfbN0iQ0QCZNm2ahA8fXtW0I0H3q+YfdfBnz55VPfQ7d+5UyTIaCQY0BozGEEYfMIrhOAnFNj7jPr/iC+i5CSjfzo1/5wvnHI0Sx3OOc4aRDt8MHz5cokaNancbPWKMBKXo0aKrRp33I/uyIsx38PSMKWanc/w6x65j/KHDhFY99unSp5MOXdpLaq/UsnTRUrl185Za8WPAkP6SO29uNQGwVduWkj59OlmxdKWYkW7n3p3i1zl2YPzmx5IeN0j4HSHJxSRV36RNm1ZNrMXNcO7cOTXxE48DlI2gzMSW48++wcgC6uwxsTRlypR2NySVXwqJfsWKFWXSpElqBAOTaFEe4xeU2XTu3FmVIVWtWtWubr9evXpy48YNdSy87oYNGwYqFpw/2/p5OHjwYIAe5+y8fwmc83v37qlyAcdz7unp6etjMKn72bNndrfuvbpJUCdBadOllUMHP58rNFIOHTwsmbL4Xm5mJjrHr3Ps7hD/J8sneff+vRrZBA8P+38gPUJ6qH3MSPdzr3P8OscOjN/8mPBrnPCj5YkVWVCacurUKVXGsWrVKrWiCyaI+galLijFweTWY8eOqfrvBg0aqNr/HDlyqH3at2+vJoui9AUJPCal4vjOlmPCMZFk4rkxaRfxIEHHqjqYdPol0BuPWM6cOaMmueK1ogGAkhlHKP3BZFo8J5J6TBpGQwXJtgHzB9AIQO835hRggm9g4LWgXh918jg3mIvgWL//pef9S+C4KCnCykdo4GClIYzyYOIxVifyDWr9sZqP7c2o/w9K9RvVk7Wr18mG9Rvk6pWrMmTgMPUeVa7i+2fTbHSOX+fYdYp/0rjJcvTIUfnnnzuqTAc/Hzl8VMpVKCtJkyWVRIkTyZABQ9Va3ujxXzhvkRzcf0iKFisqZqXLuXfH+HWOHRg/6c60k3ZRq416cqxig3ptlLmgBAa17v/73/98fQyS9l9++UUl9SiNQW04av8xUdeApBTJNSavopcKy0eiTAhJqn+wHN3evXulZ8+eKqnGUpcJEiRQK8YgqfwSqHFHLT5q8zGhBknzr7/+qmrWHanhOG9vlUhjuUs0PhAHJt7awoTkpUuXSpMmTQIdT548eWT27NmqZAqTmZFwY9WcwYMH+/u4gJz3L4HjYkIvEnyUJ+FCbJjkjOdArb8rlSlbWp48fiLTJk+XR4+8xSuNl0ybOVViajI8qnP8OseuU/xYCatvr37qAluRIkeS1KlTybTZUyVvvjzq/ikzJsuk8ZOkY9tO8urVK0mcOJEMHj5QLeVpVrqce3eMX+fYgfGbm7uvoR8UQliwGLzGUOONhBT1618KcwSQSC5atEh0h9eAkh9MdraddBycvfn4ytUhEH13FtH6T7uE4LobRNoJF/LbXgjVLy12dgqS48wq9vm6Tu7GtD38zqBHCWUt6O3G6jSBeRyW+cSa+ug1x3rwWLoSS0vqDK8LS3JixKBly5ZM9omIiIjI3DX8zsyaNUutyd+pUydfl450ViaCshCsuoMSGlxECuUrOsPcBqylj5EKTFwlIiIiCg5CBNHNnWlf0kPkDEt6KDhiSQ8RBZeSnta7OgfJcaYXHS8S3Et6MEE0oNauXful8RARERERkSsS/q9Za56IiIiI6Ftw9zX0v2vCb3uBJyIiIiIiM+CynG68Sg8RERERkbYr0OiQ8K9evVpWrlwpN2/elHfv3tndh6utEhERERGRpo2iSZMmqSuf4mqnx48fl1y5cqmrw+IKtmXLlg36KImIiIiI/CjpCYqbO/uihH/atGlqHfzJkyerCzz16NFDXbiqQ4cO8uzZs6CPkoiIiIjIj0m7QXFzZ1+U8KOMJ1++fOr78OHDy7///qu+r1+/vrpyLRERERERaZzw42qujx8/Vt8nTpxYDh48qL6/du2a8DpeRERERPS9sIf/GyX8xYoVkw0bNqjvUcvfuXNnKVmypNSsWVOqVKnyJYckIiIiIgo01vB/o1V6UL//6dMn9X3btm3VhN39+/fLDz/8IC1btvySQxIRERERkVkSfg8PD3Uz1KpVS92IiMgcQojevVXhy6QWnb3e8rerQyAKNjw0/3tn6msV/PHHH1KvXj3Jmzev/PPPP2rbokWL5M8//wzK+IiIiIiI/MSSnm+U8K9Zs0ZKly6tVujBOvxv375V27Ek57Bhw77kkEREREREZJaEf8iQITJjxgyZPXu2hA4d2ro9f/78vMouEREREbn1Kj3Tp0+XTJkySZQoUdQNFS+bN2+23v/mzRvrPNdIkSJJtWrV5P79+z6WuS9fvrxEiBBBYseOLd27d5cPHz7Y7bN7927Jli2bhA0bVlKmTCnz58//snP0JQ+6ePGiFCpUyMf2qFGjytOnT78oECIiIiKiL5mzFBT/BUbChAllxIgRcvToUTly5IhawbJSpUpy9uxZdT9WsPz1119l1apVsmfPHrlz545UrVrV+viPHz+qZP/du3dq4ZsFCxaoZL5fv37WfbDcPfYpWrSonDhxQjp16iTNmjWTrVu3yneZtIt1+C9fvixJkya12476/eTJk3/JIYmIiIiItFCxYkW7n4cOHap6/XFtKjQGfv75Z1m6dKlqCMC8efMkbdq06v48efLItm3b5Ny5c/L7779LnDhxJEuWLDJ48GDp2bOnDBgwQMKECaOqaZIlSyZjx45Vx8DjkWuPHz9eldZ/8x7+5s2bS8eOHeXQoUNqkgNaLUuWLJGuXbtK69atv+SQRERERETaTdr9+PGjLF++XF6+fKlKe9Dr//79eylRooR1nzRp0qiL1R44cED9jK8ZM2ZUyb4BSfzz58+towTYx/YYxj7GMb55D3+vXr3UOvzFixeXV69eqfIe1Bah9ghDDURERERE30NQXSX37du31oVoDMhvcfPN6dOnVYKPen3U6a9bt07SpUunym/QQx8tWjS7/ZHc37t3T32Pr7bJvnG/cZ9/+6BR8Pr1a7V4zjft4UcrqE+fPvL48WM5c+aMGp54+PChquHH0AMRERER0fcQQq3E//W34cOHq1zW9oZtfvHy8lLJPSpeUOHSsGFDVaZjRoHq4UerB3VF27dvt/boV65cWdUlValSRUKGDKkmKRARERER6aR3797SpUsXu21+9e4DevGxcg5kz55d/vrrL5k4caLUrFlTTcbFQja2vfxYpQfzYAFfDx8+bHc8YxUf230cV/bBz1gVKDC9+4Hu4cfMYUxIwGRdzByuXr26tGjRQk0ewIQCbMNkAyIiIiIinZblDBs2rHWZTePmX8LvCOXu6BxH8o9l63fs2GG3wiWW4UQJEOArSoIePHhg3Qcd6nhOlAUZ+9gew9jHOMY36+HH0kILFy6UH374QZXyYP1RrBd68uRJt79CGZkDlqzCslRc/pWIiIjAFTlo7969pWzZsmoi7r///qtW5MGa+VgyE6VATZs2VaMFMWLEUEl8+/btVaKOFXqgVKlSKrGvX7++jBo1StXr9+3bV63dbzQyWrVqJVOmTJEePXpIkyZNZOfOnbJy5UrZtGlToOMNVA//7du3VasFMmTIoAJCCQ+TffIPRoQmTJgg7mb50hVStkQ5yZklt9StWV9OnzojOtE5fp1jB8b/9eLHjCuLek6SR2tOy6uNl+XUrN8le+pM6r5QIUPJiGb/U9tebPhb/ll+RBb0mCDxYtpPfoNyuYrJwUm/qmM8XntG1g2Y42OfhqWqy8mZ2+X1pstyf+UJmdJ+iATncx8cYwfGT7bQM9+gQQNVx49FbFDOg2S/ZMmS6n5Uv1SoUEFdcAuL26A8Z+3atdbHowx+48aN6isaAvXq1VPHGzRokHUfzItFco9e/cyZM6tqmjlz5gR6Sc5AJ/xYdgj1SoZQoUKpWclEXwufLQyF6WLL5q0yZuRYadmmpSxfvVS80qSW1i3aiLf3Y9GBzvHrHDsw/q8XLVJU2Tdhnbz/+F7K/q++pGtWVLrOHCRP/n2m7o8QNrxkS5lBBi+eINnalJGqA1uIV8IUsmHQXLvjVC1QTjUa5m1bIZlblpT8narI0p3r7fbpXK25DG3cU0YsnyrpmxWXEj1ry9YjeyS4nvvgGDswfnNzxYW3fv75Z7l+/boq4UHyj/X0jWQfwoULJ1OnTlUL3GC5TiT7Rm2+IUmSJPLbb7+pFS+x+M2YMWNUbm2rSJEicvz4cfU8V65ckUaNGn3ROQpUwm+xWNQT4UphuGEZIgw3GD8bN9ILEm0MJ2HiCUZtMDyFC0gA6stw0QhMDsHloTFn48WLF9bH4vOAidv4kMaLF0/tg+EorD9rfFBv3LhhHQkyRoNQmoOJLBs2bFBDWnhe1LY9efJEtXCjR4+uLjWN4bJLly6J2Syav1iqVq8qlatWkhQpU0jf/n3UL/f6tfbJglnpHL/OsQPj/3o9a7aRWw/vSJMxXeWviyfk+r1bsv3oXrl694a6//mrf6VUrzqyau9G+fv2VTl0/pi0m9JXcqTOLIlixVf7hPQIKRPbDJTus4fIzI2L5dI/1+T8zUvqMbYNiyGNekiDUR1l2a716vinr52XXw9sl+B67oNj7MD4g0cNvzsLVMKP5YZix45tXaoIww/x48f3sYQR6QV1aLg89E8//aSWk0IdGtZ5RYsUw0ZIvjFUhTkcaMG2a9fO7vG7du1SrU58NS4NjRugRYsrzmGI6u7du+pmQIt25MiRangKF5nAZwsNCFyiGg0BXFgCjcxy5cpZGxBm8P7dezl/7rzkyZPbus3Dw0Py5M0tp06cErPTOX6dYwfGHzR+yFtSjvx9Slb+NEOV2BybvkWala3j72OiRoysOjeevnyufs6WKqMkjBVPPlk+qcffWX5Ufhu6SNIn9bI+pmS2guLhEUISxIwr537eJbeW/iUr+k5Xjwuu5z64xQ6Mn9xBoCbtYvlNci+YaIIlpDApBA06SJEihRQoUEBmz56tRnEwUTtixIjqPuyHy0kjUTcuBoEGAbajDg1XkitfvryaVY4rMmOyCrZHjhzZx1AWkvhp06apujRATz4S/X379km+fPnUNlzBOVGiRLJ+/Xq1KpQZPHn6RJUgxfSMYbcdoxvXrl4Xs9M5fp1jB8YfNJLHSyytK9aXcWtmy7ClkyWnVxaZ1HaQvPvwThZuX+1j/7Chw8rIZv+TZbt+kX9fvbAeAwbU7yJdZgyS6/dvSdcfW8ruMaskdeNC8uTfp5I8XhLxCOEh/6vdXjpO7y/PXv4rQxp1l+0jlkmmliXl/Yf3we7cB7fYgfGbH+eSfqMLb5H7OH/+vKoLw4QT3+5DMm4k+5A/f37VS4blpQzp06dXSb0BpT22y0z5BfNBsNKT7fOhdi137tx2f5AwIQb3BQReC65AZ3tzvGoeEekNSfixS2ekz9yRcuLKWZn92xKZ/dtSaVWhvo99MYF35U/TVULQelJvu2PA0KWTZe2fv8mxS6el8ZgualSxeqHy/+3jEULChA4jHab1k21H9qjSoNrD2kqqBMmkaJb/OiWIyPU8gug/d+ber46cCuyFG3yDtWZt4R/WgEzAxXMHdavct6vkjR4xJkifI3q06KqB4/3IfrKTt7e3eHrGFLPTOX6dYwfGHzTuPn4g527az+1B/X3i2Al8Jvt9Z0iS2AmlZM/a1t594xhw7sbf1m3v3r+Tq3dvWo/zeZ/Pz/Xo2WN59PyxJI5l/1zB5dwHt9iB8ZM7YMIfzKVKlUol3o4XdoC0adOqayyglt+AchvU/qHXPaDQk4/hRGfwfLiuAy5RbfsHCaMJxkUoAjIf4dmzZ3a37r26SVAKHSa0pE2XVg4d/BwnGjiHDh6WTFk+j1iYlc7x6xw7MP6gse/sEfFKmNxuW+qEyeXG/ds+kv1UCZJKiZ615PG/9tfuOHrplLx590a8EqWwe0zSuAnlxv1//nueM3+pr16JPj9X9MjRxDNKDLnx4PNzBadzH9xiB8ZvfsaiIF97c2eBquEn94NZ+rg6Mi7qgMQcJTtYGgqTaOvWrSv9+/dXtf0DBgxQ23HhCFwkwqjfD+g6/Hv37pVatWqp1Xg8PT39bHxUqlRJ1f7PnDlT1f336tVLEiRIoLYHBI7veFW8Nx9fSVCr36ie/NS7n6TPkE4yZMwgixculdevX0vlKgGL09V0jl/n2IHxf73xa2bL/onrpXftdrJyz0bJ5ZVFWpSrKy0m9LQm7qv7zZRsKTNKhZ8aqhV54kSPpe5D4o/ae/T2z9i4WAY26KpW/EFjoXuN1mofY6UerNyzft8Wmdh6oDr281cvZHiTXnLh1mXZdWK/BMdzHxxjB8Zvbu6erAcFJvykVudB7Xy/fv3kzp07qgYfy61iWUxcRKJjx46SM2dO9TMuIDFu3LhAHR8r9LRs2VJNBkY9PWpk/ZsYjufDxSrevXunLlaBNWody4ZcrUzZ0vLk8ROZNnm6PHrkLV5pvGTazKkSU5PhUZ3j1zl2YPxf78jfJ6XKgGYyvGlv6Vevk1y7d0s6TR8gS3euU/cn8IwrlfL9d2EaXDDLVpGu1WXPqQPq++6zhsiHjx9kUc+JEj5MODl04bgU615Tnr74bz1/aDCqk4xvNUA2DVkgnywW2XPqoJT5Xz31uOB47oNj7MD4SXchLP5lX0Ru4Fv08BPRtxW+TGrR2estn+cGEAUX4UJGcMnzjj4+MkiO0z3rf6OE7og9/ERERESkLZb0OMeEn4iIiIi05e5XyQ0KXKWHiIiIiMiNsYefiIiIiLQVQtjD7wwTfiIiIiLSlnHlbPIbzxARERERkRtjDz8RERERaYur9DjHhJ+IiIiItMUafudY0kNERERE5MbYw09ERERE2uI6/M4x4SciIiIibbGkxzmW9BARERERuTH28BMRERGRtljS4xwTfiIiIiLSVgheeMspJvxERGQ6r7f8LTr7aPkgugoZgqkBkbvhbzURERERaYuTdp1jwk9ERERE2mINv3NM+ImIiIhIWyGY8DvFWQ5ERERERG6MPfxEREREpC0P1vA7xYSfiIiIiLTFkh7nWNJDREREROTG2MNPRERERNrihbecY8JPRERERNpiDb9zbBIREREREbkx9vATERERkbY4adeNevh3796t3tCnT59KcHL9+nX1uk+cOGGacxOQmPzSqFEjqVy5sr/7BNf3moiIiAIvRBD95860Sfh196VJcqJEieTu3buSIUMGcYWAJOiBMXHiRJk/f7715yJFikinTp3s9smXL596zVGjRhUzW750hZQtUU5yZsktdWvWl9OnzohOdI5f59iB8buOWWM/euSYdGzTWUoVKSvZ0ueUXTt2293f/38D1HbbW9sW7e32OX/ugrRu1lYK5SkqRfOVkMH9h8qrl6/ELMx67gOK8ZPOtEj43717J8FVyJAhJW7cuBIq1Petvvr48aN8+vQpyI+HJD5atGj+7hsmTBj1ms08RLdl81YZM3KstGzTUpavXipeaVJL6xZtxNv7sehA5/h1jh0Yv+uYOfY3r19Laq/U0qtvDz/3yVcgr2zbvdl6Gz56qPW+hw8eSuumbSVR4kSycNk8mTJzoly9fFX69xkoZmDmcx8QjN/ckC8Exc2dmTLhR69vu3btVM+vp6enlC5d2nrf0aNHJUeOHBIhQgTVE3zx4kW7x/7yyy+SLVs2CRcunCRPnlwGDhwoHz588LOXHWUj2IYyEttykq1bt0rWrFklfPjwUqxYMXnw4IFs3rxZ0qZNK1GiRJE6derIq1efe062bNkiBQoUUMlszJgxpUKFCnLlyhXr/cmSJVNfcUwcH68RkAQPGjRIEiZMKGHDhpUsWbKoYxl8i/m3336T1KlTq9iKFi2q9nFm3LhxkjFjRokYMaIaNWjTpo28ePHCej963RH7hg0bJF26dCqWJk2ayIIFC9Q5NX4ZjPMEV69eVc+P9yJz5sxy4MABf4938+ZNuxEDfL9nzx7V628cH6/FsaTnxo0bUrFiRYkePbqKP3369OocuNKi+YulavWqUrlqJUmRMoX07d9HfebWr10vOtA5fp1jB8bvOmaOPX/B/NK2Y2spVqKov50hnrE8rbcoUaNY79u7+w8JFTqUajAkTZZU0mdML//r31t2bN8pN2/cElcz87kPCMZv/lV6guLmzkyZ8AMSTfxx27dvn8yYMcO6vU+fPjJ27Fg5cuSI6vVGUmr4448/pEGDBtKxY0c5d+6czJw5UyWeQ4d+7gUJqAEDBsiUKVNk//79cuvWLalRo4ZMmDBBli5dKps2bZJt27bJ5MmTrfu/fPlSunTpouLasWOHeHh4SJUqVay95IcPH1Zff//9d1WusnbtWvUzkl28njFjxsipU6dU4+aHH36QS5cu+RoXYqlatapKgNEIaNasmfTq1cvp60E8kyZNkrNnz6pzu3PnTunRw74nCQ2YkSNHypw5c9R+2B+vu0yZMipm3NDIsn0vunXrpuJAA6R27drWxpVvx4sdO7bd8+G1582bV5o3b249Phojjtq2bStv376VvXv3yunTp9UxI0WKJK7y/t17OX/uvOTJk9vu/ObJm1tOnTglZqdz/DrHDozfdXSO3XDkr6NSvGApqVK+mgwbNMJuntP79+8ldOhQ6jUZ0NECJ44Ffr5VUNL93DN+cgemXaUnVapUMmrUKOvPSAYByXvhwoXV90h0y5cvL2/evFEtVfTmY1vDhg3V/ejhHzx4sEps+/fvH6jnHzJkiOTPn19937RpU+ndu7fqsccx4ccff5Rdu3ZJz5491c/VqlWze/zcuXMlVqxYquGB+nt8D+j9R7mKAYk+jlGrVi31M5JZHBeNi6lTp/qIa/r06ZIiRQrVSAAvLy9rEuwf2zr5pEmTqtfXqlUrmTZtmt0/GPgZvfUGjCIg2baN2YBkH+cfcO7R83758mVJkyaNn8ezhfIeNOowQuDb8Q0YGcD5xQgFGO+Bqzx5+kSVKMX0jGG3He/ttavOR1tcTef4dY4dGL/r6Bw75CuQT/X+x0+YQG7fui1TJkyT9i07yvylc1XpZ87cOWTcqPGyYO4iqVOvlrx+/Vomj5+iHvvo0SOXxq77uWf85scLb2mc8GfPnt3X7ZkyZbJ+Hy9ePPUV5TaJEyeWkydPqhEB2x59fMjRILAtvwkI2+eJEyeOSkptE01sM3rtAT3y/fr1k0OHDqk/rkbPPpJVvybcPn/+XO7cuWNtWBjwM16Lb86fPy+5c39upQN6yZ3ByMLw4cPlwoUL6nnRE2+cF7w2QPJt+7qd8eu9MBL+wB7PLx06dJDWrVurUZUSJUqo5N+v46JxgpstS6iP1p4uIiIdlS5Xyvp9qtQp1e2HMlVUr3/uPLlUmcbAoQNU0j9lwlTVg1urXk2JGTOGeDAZIjfn7ivsBAXT/hVArbZvQocObf3emGBhJNeoSUdPM0pMjBt6v5GMYwTAGOq0WCzWY6AXOiDPY/uzsc12UitKbB4/fiyzZ89WST9uZplwjLp4zClAkrxmzRo1D8IYPbCND735gZm04t978SXH8wvKljBfoH79+ur9xBwO23IqW2jUYOTA9jZ6xBgJStGjRVc9at6P7Cc7eXt7i6dnTDE7nePXOXZg/K6jc+y+SZgooUSLHk1u3bxt3Va2QhnZvnerbNm5SXbt+11atWkhT548lQSJErg0Vt3PPeMnd2DahP9LYLIuJvGmTJnSxw3JvlFWY5QHwZesJe8IvzR43r59+0rx4sXVxN4nT57Y7YPebmPEwYDJv/Hjx1ejErbwMya6+gbHth1ZgIMHD/obHxJ8JOIoA8qTJ4+qt8fIQkAgbtuYg1pAj4/afpQgYe5D165dVcPKNyi9evbsmd2te69uQRpz6DChJW26tHLo4H+NOsD5PXTwsGTK8vUjGt+azvHrHDswftfROXbf3L93X549fSaxfEnYYnrGlAgRI8jWLdslTNgwqlbblXQ/94zf/LhKj8YlPV8CJTXoyUZ5D2rskeSjNObMmTOqZh09zkh4R4wYoVbNQfkJkvSvhdVjUAs3a9YsVdqCMh7HibSYsIrnxwo8WJEHIw7ofe7evbuaX4C6fKzQM2/ePNUIWbJkia/PhaQXiTseh55vJPO269r7Bg0ejGSgVxwjEY4Tof2Den+sWIQGDV5jUK+Nj+NjNASjEJiIGyOGfY2hMf+gbNmyqqGChhTmOKDh4xuU7jiW77z5GPTrUNdvVE9+6t1P0mdIJxkyZpDFC5eqmtnKVSqJDnSOX+fYgfG7jpljx3r5t25+Xk3nn9t35OL5ixJFjVRGkZnTZ0vxksVUj+ytW7dl4tjJagnOvAU+l3QuX7JSMmfNJBEihJeD+w/JxLGTpH3ndhI5SmRxNTOf+4Bg/ObGkp5glvBjhZuNGzeqZS4xiRUlJ6gnR2JsO5kWk3AxRwATXjExuFSpz7WRXwINi+XLl6tac9Tr47hY4cZYehOwohC2ITY0TAoWLKiWn8Rj0AuNXms0QNCzj6UsMWnZN2jMoCync+fOKoHPlSuXDBs2zG61IkeYNItlOXFO0ANeqFAhVfqCFY2cwQo6iBNlNCiZQrKNJD2oYOIvJlnjdeOPz7Vr13zsgxEArNRz+/ZtNSqCVYPGjx8vrlSmbGl58viJTJs8XR498havNF4ybeZU1bOmA53j1zl2YPyuY+bYz509Ly0at7L+jFp8qFipvPTu10suXbwsG3/ZJP8+/1dixY4lefLlljbtW1lHj+HsmbMyc+osNTcLS3P+r///pMIP5cQMzHzuA4Lxm5u7984HhRAW24J2Ijf0LXr4iYj889HyeYli3YQM4VZ9gfQdhQv53yIg39uaa8uC5DjVktUWd8XfaiIiIiLSlrtfNCsoMOEnIiIiIm2xpCeYrdJDRERERPStDR8+XHLmzCmRI0dWC7NUrlxZLXBiC9c7whxELHqChUlwHaH79+/b7YOFXnARU1wTCcfBoiy4VpItzKXESpRYlAQLsThbrMU3TPiJiIiISFshVFHP198CY8+ePSqZx9Lo27dvV6shYhGYly9fWvfBAiu//vqrrFq1Su2PJdGrVq1qtygJkn1cE2n//v2yYMEClcxjcRcDFjPBPkWLFlWrOGLlQixGgxUUA4OTdsntcdIuEX1vnLRLwZGrJu1uuLE6SI7zQ5Ifv/ixDx8+VD30SOyxGiJWYMT1n5YuXaqWiocLFy6oZcUPHDiglonfvHmzWk4eDYE4ceKofbBses+ePdXxsAoXvt+0aZNaYt5Qq1Ytefr0qVrqPaDYw09EREREwd7bt2/l+fPndjdsCwgk+GBcTwjXSUKvf4kSJaz7YKl4LK+OhB/wNWPGjNZk31hiHs979uxZ6z62xzD2MY4RUEz4iYiIiEjrC28FxX/Dhw9XFxi1vWGbM7hyMUpt8ufPr67HBPfu3VM99NGiRbPbF8k97jP2sU32jfuN+/zbB40CXL8ooDhuR0RERETa8giiVXp69+4tXbp0sduGibLOoJYfJTd//vmnmBUTfiIiIiIK9sKGDRugBN9Wu3btZOPGjbJ3715JmDChdXvcuHHVZFzU2tv28mOVHtxn7HP48GG74xmr+Nju47iyD36OEiWKhA8fPsBxsqSHiIiIiCS4l/QEBta8QbK/bt062blzpyRLlszu/uzZs0vo0KFlx44d1m1YthPLcObNm1f9jK+nT5+WBw8eWPfBij9I5tOlS2fdx/YYxj7GMQKKPfxEREREpC1XXHirbdu2agWeX375Ra3Fb9Tco+4fPe/42rRpU1UihIm8SOLbt2+vEnWs0ANYxhOJff369WXUqFHqGH379lXHNkYaWrVqJVOmTJEePXpIkyZNVONi5cqVauWewOCynOT2uCwnEX1vXJaTgiNXLcu5+db6IDlO2USVv7qRMW/ePGnUqJH1wltdu3aVZcuWqdV+sLrOtGnTrOU6cOPGDWndurW6uFbEiBGlYcOGMmLECAkV6vPvIe7Dmv7nzp1TZUM//fST9TkCHC8TfnJ3TPiJ6Htjwk/BkasS/i23NgTJccok+kHcFX+riYiIgpjOSbPunSSuSjopeJX06Ebfv0hEREREFOx5BHLCbXDEVXqIiIiIiNwYe/iJiIiISFss6XGOCT8RERERaSuwa+gHRyzpISIiIiJyY+zhJyIiIiJtsaTHOSb8RERERKStECxYcYpniIiIiIjIjbGHn4iIiIi05cGSHqeY8BMRERGRtrhKj3Ms6SEiIiIicmNM+F08q3z9+vV+3r979261z9OnT79bTI0aNZLKlSuLK1y/fl293hMnTrjk+YmIiEg/yB2C4ubOmPCbWL58+eTu3bsSNWpUCQ4SJUqkXm+GDBlEB8uXrpCyJcpJziy5pW7N+nL61BnRic7x6xw7MH7X0Tl2s8a/ZsU6qVu1gRTNU1LdmtZtIfv/OGC93/uRt/TvPUjKFqkohXMVlwY1GsvO7bvsjjFv1gJpVq+lFMpZTIrnKy1mZMZzH5zid1bSExT/uTMm/CYWJkwYiRs3rulbne/evQuS44QMGVK93lChzD+1ZMvmrTJm5Fhp2aalLF+9VLzSpJbWLdqIt/dj0YHO8escOzB+19E5djPHHztOLGnTqZUsWDFXFiz/WXLkzi7dO/SSq5evqvsH/G+w3Lx+U8ZMHilL1yyUIsULS59u/eTi+b+tx3j//r0UL1VUqtWoImZk1nMfXOKnr8eEPwisXr1aMmbMKOHDh5eYMWNKiRIl5OXLl+q+uXPnSvr06SVs2LASL148adeund1jHz16JFWqVJEIESJIqlSpZMOGDX6W9BQpUsTXISiUwsDNmzelUqVKEilSJIkSJYrUqFFD7t+/bz3egAEDJEuWLDJz5kzVm47nxD7Pnj3z8ZrGjBmj4sXradu2rfpjbEiaNKkMHjxYGjRooJ6nRYsWavuff/4pBQsWVOcBx+/QoYP1PBiPGzZsmDRp0kQiR44siRMnllmzZvlZ0vPx40dp2rSpJEuWTB3Ty8tLJk6cKGawaP5iqVq9qlSuWklSpEwhffv3kXDhwsn6tX6XaJmJzvHrHDswftfROXYzx1+wSAHJXyifJE6SSBInTSytO7SUCBHCy5lTZ9X9p0+ckep1fpT0GdNJgkQJpEnLRhIpciS5cO6C9Rgt2jaT2g1qSYpUycWMzHrug0v8zrCkxzkm/F8JJSi1a9dWSez58+dVkl61alWxWCwyffp0lSwjIT59+rRK5lOmTGn3+IEDB6qk+9SpU1KuXDmpW7euPH7se4t77dq16vmMG54HSXCcOHHk06dPKtnHY/fs2SPbt2+Xq1evSs2aNe2OcfnyZVm5cqX8+uuvsmXLFjl+/Li0adPGbp9du3bJlStX1NcFCxbI/Pnz1c2xQZA5c2b1+J9++kntX6ZMGalWrZp6LStWrFANAMcGztixYyVHjhzW523durVcvHjR19eL15QwYUJZtWqVnDt3Tvr16yf/+9//VPyu9P7dezl/7rzkyZPbus3Dw0Py5M0tp06cErPTOX6dYwfG7zo6x65T/Oio2bb5d3n9+o1kyPxfeWbGLBnk9y075Nmz5+rvOu7HyHC2nNlEB7qce3eNPyA8gug/d2b+2gmTQ+L94cMHlXwnSZJEbUNvPwwZMkS6du0qHTt2tO6fM2dOH5Nk0WAA9H5PmjRJDh8+rJJnRzFixLB+P378eNm5c6ccOnRI9X4jwUej4tq1a6p3HRYuXKhGF/766y/r875580ZtT5Aggfp58uTJUr58eZWIo5wGokePLlOmTFElNmnSpFH379ixQ5o3b259/mLFiqnXZmjWrJlqrHTq1En9jNEKvJbChQurhg96EgCNGqOB0bNnT/U60LBAw8VR6NChVYPIgJ7+AwcOqIQfjSRXefL0ifpHLabn5/cDMBpy7ep/oy1mpnP8OscOjN91dI5dh/gv/31F1eAjkQ8fIbyMnDBMkqdIpu4bNmaw9OneT0oVKCshQ4VU/x7g/kSJE4oOzH7u3T3+gHD33vmgwIT/K6GXu3jx4irJL126tJQqVUp+/PFHVQJz584ddZ9/MmXKZP0+YsSIqkTmwYMH/j5m8+bN0qtXL9VLnzp1arUNowtI9I1kH9KlSyfRokVT9xkJP8pojGQf8ubNq3pc0MtuJPxoJCDZN6C0B40JW+ilt3Xy5EnVs79kyRLrNoxy4NhohKRNm9bH68UvKJ7Tv9c7depUVRaFcqXXr1+rf0xQluSXt2/fqpstS6iPqqSKiIi+jSTJEsui1fPlxb8v1ITcQX2HyvR5U1TSP3PKbLV9yuyJEjV6VNm78w9Vwz9z/jRJmTqFq0MnChbce/ziO0BijN51JOFIsNFjjt5q29p5/6AX2xaSYCTJfkFpS61atWTEiBGqcfEtBCQmNE5svXjxQlq2bKnq740bGgGXLl2SFClSfNHrXb58uXTr1k3V8W/btk0ds3Hjxv5OEh4+fLha1cj2NnrEGAlK0aNFV++79yP70itvb2/x9IwpZqdz/DrHDozfdXSOXYf48bcdPfZp06eRtp1aS6rUKWXF4lVy+9ZtWbVsjfQd1Fty5skhqb1SSbPWTSRtujSyevka0YHZz727xx8QXKXHOSb8QQBJa/78+VX5CWrTsboOGgGYpIpSmKCCCb4VK1ZUdfKdO3e2uw896Ldu3VI328YBJvyiIWJATzlGHgwHDx5UtXy+ldQERrZs2dTzYY6C4w3n40vs27dPLU2KEqCsWbOqY2GugH969+6tJiHb3rr36iZBKXSY0JI2XVo5dPCQdRsaLYcOHpZMWT6PYJiVzvHrHDswftfROXYd4/9k+STv372TN6//G3EN4WGfbniE9JBPnyyiA93OvbvFHxCctOscS3q+EmrokdSjtz127Njq54cPH6oEHKvitGrVSm0vW7as/PvvvyqJbd++/Rc9FxJ9rKyD4967d8+6PVasWGplIJQVoY5+woQJal4BEmXU0NuW36B2smHDhmrS7fPnz9VKOqiHN8p5vhTq8fPkyaMm6aKeHyMAaACg4YP5AF8C8wAw32Dr1q2qfn/RokVqPgK+9wtKdxzLd958fCVBrX6jevJT736SPkM6yZAxgyxeuFSVHFWuUkl0oHP8OscOjN91dI7dzPFPnTBd8hXIK3HixZFXL1/J1t+2ybG/jsvEGeMkabIkkjBxQhkxcJR06NZOokaLInt2/iGHD/wlY6eMsh7j3t178vzZc7l39758+vhR/r7w35KdeCz+3XM1s5774BI/fT0m/F8JNfd79+5VSTYSaEzcxQRYJPjGJFlMTEVpiqenp6rv/1J4HjAmBxtQI4/RhF9++UU1JgoVKqR67THxFyVGttBLjgnGmDyLFX0qVKgg06ZNk6+F2nysDtSnTx+1NCfq91HK47hKUGCgRAgjJjgGWt6Y3IxGDMqnXK1M2dLy5PETmTZ5ujx65C1eabxk2sypElOT4VGd49c5dmD8rqNz7GaO/8njpzKwz2B59NBbIkWOKClTpVTJfu58udT946eNUY2Cru16qCQzYaKE0m9oX7WUp2HWlDmyacPnv+31qzdWX6fNnSzZTbCaj1nPfXCJ3xl3L8cJCiEsyMwoWMDIwPr1663r3AcX36KHn4jIXen+NzNcSNePCARXrjr3Rx7uC5Lj5IiVX9wVa/iJiIiIiNwYS3qIiIiISF9uPuE2KLCkh9ye7sPTRETfk+5/M1nSE/zO/dFHB4LkONk984q7YkkPEREREZEbY0kPEREREWnL3dfQDwpM+ImIiIhIW1yW0zmW9BARERERuTH28BMRERGRttjD7xwTfiIiIiLSFmv4nWPCT0RERETaYg+/c6zhJyIiIiJyY+zhJyIiIiJtsYffOSb8RERERKQt1vA7x5IeIiIiIiI3xh5+IiIisgoXMoLo7KPlg+gqZAimZV+CJT3O8ZNFRERERNpiSY9zLOkhIiIiInJj7OEnIiIiIm2xpMc5JvxEREREpC0m/M6xpIeIiIiIyI2xh5+IiIiItMVJu84x4SciIiIibbGkxzmW9BARERERuTH28BMRERGRttjD7xx7+ImIiIhI6xr+oLgF1t69e6VixYoSP3589fj169fb3W+xWKRfv34SL148CR8+vJQoUUIuXbpkt8/jx4+lbt26EiVKFIkWLZo0bdpUXrx4YbfPqVOnpGDBghIuXDhJlCiRjBo1KtCxMuEnl7l+/br6BTlx4oSrQyEiIiJthQiiW+C8fPlSMmfOLFOnTvX1fiTmkyZNkhkzZsihQ4ckYsSIUrp0aXnz5o11HyT7Z8+ele3bt8vGjRtVI6JFixbW+58/fy6lSpWSJEmSyNGjR2X06NEyYMAAmTVrVqBiZcJPgdKoUSOpXLmyq8MwheVLV0jZEuUkZ5bcUrdmfTl96ozoROf4dY4dGL/r6By77vGbNfajR45JxzadpVSRspItfU7ZtWO3n/sOHThc7bNk4VLrtiOHj6ptvt3Onj4rZmHW86+zsmXLypAhQ6RKlSo+7kPv/oQJE6Rv375SqVIlyZQpkyxcuFDu3LljHQk4f/68bNmyRebMmSO5c+eWAgUKyOTJk2X58uVqP1iyZIm8e/dO5s6dK+nTp5datWpJhw4dZNy4cYGKlQk/fRPv378Xd7Zl81YZM3KstGzTUpavXipeaVJL6xZtxNv7sehA5/h1jh0Yv+voHLvu8Zs59jevX0tqr9TSq28Pf/fb+fsuOX3ytMSKHctue+YsmWTb7s12tyrVKkmChPElXYZ0YgZmPv86l/T459q1a3Lv3j1VxmOIGjWqSuwPHDigfsZXlPHkyJHDug/29/DwUCMCxj6FChWSMGHCWPfBKMHFixflyZMnElBM+MlXq1evlowZM6qas5gxY6oPYPfu3WXBggXyyy+/WH85du/ebS3NWbFihRQuXFjVmKFF+unTJxk0aJAkTJhQwoYNK1myZFEtWb98/PhRmjRpImnSpJGbN2+qbXiubNmyqWMmT55cBg4cKB8+fBBXWzR/sVStXlUqV60kKVKmkL79+6gY16+1r98zK53j1zl2YPyuo3Psusdv5tjzF8wvbTu2lmIlivq5z4P7D2TUsDEydNRgCRXKfr2T0GFCi2csT+starRosnvXXvmhckXTrA9v5vMfVJN2g+K/t2/fqhIa2xu2fQkk+xAnThy77fjZuA9fY8eObXc/Pl8xYsSw28e3Y9g+R0Aw4Scf7t69K7Vr11bJN4abkNRXrVpV+vfvLzVq1JAyZcqofXDLly+f9XG9evWSjh07qseg9Tlx4kQZO3asjBkzRk04wbYffvjBx4QVwC9U9erVVT3/H3/8IYkTJ1ZfGzRooI557tw5mTlzpsyfP1+GDh0qrvT+3Xs5f+685MmT27oNrfE8eXPLqROnxOx0jl/n2IHxu47Osesev86xAzqv+vbqLw0a11PJsjN7d+2VZ0+fyQ9VKooZ6H7+v6fhw4erXnjbG7a5Ayb85AMSefSiI8lPmjSp6ulv06aNRIoUSfX4o7c+bty46mY7xNSpUyf1mGTJkqkZ6Uj0e/bsqerNvLy8ZOTIkaqXHzVttjAbvXz58vLw4UPZtWuXxIr133ApevPRiGjYsKHq3S9ZsqQMHjxYJf6u9OTpEzUaEdMzht12jIQ8euQtZqdz/DrHDozfdXSOXff4dY4d5v+8QEKFCim169UK0P7r1/4iefPnkThx7XtlXUX38/89e/h79+4tz549s7th25dAjgT379+3246fjfvw9cGDB3b3I//Cyj22+/h2DNvnCAgm/OQDZpwXL15cJfrodZ89e3aA6sRsa9AwDIYJJ/nz57fbBz9jBMAWRhMw033btm2qNW04efKkKglCQ8O4NW/eXDVIXr165WsMQTkcR0REwdu5s+dl2aLlMnBo/wCV59y/d18O7DuoSmdIvxr+sGHDquUxbW/Y9iXQ+YmEfMeOHdZtyElQm583b171M74+ffpUrb5j2LlzpxpVQq2/sQ9W7rGdG4kVfdCRGj169ADHw4SffAgZMqT6MG3evFnSpUunZozjg4UJKP7BclNfoly5cqrkx5jEYtvzj15+lPkYt9OnT6uSINQeBnQ4bvSIMRKUokeLrs6R9yP7yU7e3t7i6RlTzE7n+HWOHRi/6+gcu+7x6xz78aPH5fHjJ1KuREXJmSmPut29c1fGj54o5Uv+4GP/Det+lajRokqhooXELHQ+/2b34sULa34CyJPwPeYhogGByges4rNhwwaVv6BMGWv2G6sdpk2bVpVJozPz8OHDsm/fPmnXrp2qjMB+UKdOHVVNgfX5sXwn5kuiZLpLly6BipUJP/kKH1T0xiPhPn78uPqwrVu3Tn3F0KAzaBXjw4oPry38jEaErdatW8uIESNUff+ePXus2zFZF7PQU6ZM6eOG+kPf+DYc171XNwlKmKCVNl1aOXTwvxn0gNb4oYOHJVOWTGJ2Osevc+zA+F1H59h1j1/n2Mv/UE5WrFsqy9Ystt6wSg/q+afOmuRjGcYN63+VCj+Uk9Ch7Sf2upLO5/97l/QE1pEjRyRr1qzqBkjC8T0utgU9evSQ9u3bq3X1c+bMqRoIWLzEttMSi5xgsRJUVqADFEtz2q6xj45LVECgMZE9e3bp2rWrOr7tWv0BYZ5PJJkGhpswBIULPWD2OH5GfT1aorhYxNatW1Uijvo/2xIcR1jVBxN9U6RIoWr3582bp1q++HA7wi8EGhIVKlRQIwv4wOMDjZ8xgffHH39UST7KfM6cOaNazL7B0Jvj8Nubj76X/3yN+o3qyU+9+0n6DOkkQ8YMsnjhUnn9+rVUrqLHMK7O8escOzB+19E5dt3jN3Psr16+kls3b1l//uf2Hbl4/qJEiRpV4sWPq5ZNdFxFJaZnTEmaLKnd9sOH/lKPrVzNfNeqMfP5DwpfkqwHhSJFiqiGnn+dpyhNxs0vWJFn6dLP13XwDdbwx0ImX4MJP/naO496MUyuRb0Zru6G1XZwgQnU6WPVHnxFSxWTbDGx1ze4MAR62NEaxaQU9OxjWCtVqlS+7o+hL/Q6oIWLFjBW9cFV5/CLggm/oUOHVq3gZs2aiauVKVtanjx+ItMmT1eTnrzSeMm0mVPVPwI60Dl+nWMHxu86Oseue/xmjh11+i0at7L+PG7UePW1YqXyMnDYgAAf55c1G9Sa/MmS+/5voiuZ+fzT9xHC4l/ThMgNfIsefiIiMqePFtdfq+VLhQyhdz9suJARXPK8t15eDZLjJIqYXNyV3p8sIiIiIgrWXFXSoxNO2iUiIiIicmPs4SciIiIibQXkGgnBHRN+IiIiItIWS3qcY0kPEREREZEbYw8/EREREWmMPfzOMOEnIiIiIm0x3XeOCT8RERERaYuTdp1jDT8RERERkRtjDz8RERERaYw9/M4w4SciIiIibTHdd44lPUREREREbow9/ERERESkMfbxO8OEn4iIiIi0xVV6nGPCT0RERG4jZAh9UxuLWFwdArkp1vATEREREbkxfZvBRERERBTshWANv1Ps4SciIiIicmPs4SciIiIibbGH3zn28BMRERERuTEm/EREREREbowlPURERESkLa7D7xx7+ImIiIiI3Bh7+ImIiIhIW5y06xx7+ImIiIiI3BgT/mDg+vXrqr7txIkT6ufdu3ern58+fRrgYxQpUkQ6der0DaMkIiIi+hIhgujmvpjwmzixPXnypNSuXVsSJUok4cOHl7Rp08rEiRO/+rj58uWTu3fvStSoUeV7mj9/vkSLFk3cxfKlK6RsiXKSM0tuqVuzvpw+dUZ0onP8OscOjN91dI5d9/h1jl3X+OfOnidZ0mWTUcNH220/eeKkNG/cQvJkzyf5cxaUJvWbyps3b0RXTPedY8JvYkePHpXYsWPL4sWL5ezZs9KnTx/p3bu3TJky5auOGyZMGIkbNy5ntX+FLZu3ypiRY6Vlm5ayfPVS8UqTWlq3aCPe3o9FBzrHr3PswPhdR+fYdY9f59h1jf/M6bOyeuUaSe2Vykey37ZFe8mbL68sXr5IlqxcJDXr1BQPD6aE7ozvro1GjRrJnj17VC86kmHcrl27JilTppQxY8bY7YvyGNx/+fJl9TO+nz59upQtW1b1xidPnlxWr15t95hbt25JjRo1VC93jBgxpFKlSqrcxi9NmjRRsRQuXFgdr169etK4cWNZu3atv6/j8OHDkjVrVgkXLpzkyJFDjh8/bne/Y0mPt7e3GklIkCCBRIgQQTJmzCjLli3zcdwPHz5Iu3bt1MiAp6en/PTTT2KxWKz3v337Vrp166aOEzFiRMmdO7d6LuM5EfuzZ8+s53bAgAFOHwc3btyQihUrSvTo0dX96dOnl99++01cadH8xVK1elWpXLWSpEiZQvr276PO9/q160UHOsevc+zA+F1H59h1j1/n2HWM/9XLV/K/Hn2k38CfJHKUKHb3jRkxVmrXqyVNmjeWlKlSSNJkSaV02VKqM1BXRl7xtTd3xoTfBpLrvHnzSvPmzVXJC26JEydWife8efPs9sXPhQoVUo0BAxLgatWqqVKcunXrSq1ateT8+fPqvvfv30vp0qUlcuTI8scff8i+ffskUqRIUqZMGXn37l2AY0TCjMaCX168eCEVKlSQdOnSqRECJNVIpv2DYbzs2bPLpk2b5MyZM9KiRQupX7++ajjYWrBggYQKFUptx7kaN26czJkzx3o/GgMHDhyQ5cuXy6lTp6R69erq9V26dEmVEU2YMEGiRIliPbdGXP49Dtq2basaBXv37pXTp0/LyJEj1blzlffv3sv5c+clT57c1m3oGcmTN7ecOnFKzE7n+HWOHRi/6+gcu+7x6xy7rvEPGzJCChYuIHnyfY4ZHns/VqVIyCMa1GkkxQqWkKYNmsnxo/Ydg/phUY8zTPhtoOcaLVz0cqPkBbeQIUOqnv+LFy9aE2Ak70uXLlUNAVtIVJs1ayapU6eWwYMHq971yZMnq/tWrFghnz59UgkyetBRj49Gw82bN+16s/2zf/9+dRwk5H5BXHien3/+WfWEI/nv3r27v8dFzzqS7yxZsqiRhPbt26uEe+XKlXb7YS7B+PHjxcvLSzVosB9+BrwOvJ5Vq1ZJwYIFJUWKFOqYBQoUUNtxXnF+0YI2zi2SdmePM46dP39+dd4QH14TGluu8uTpE/n48aPE9LRveMWMGVMePfIWs9M5fp1jB8bvOjrHrnv8OseuY/xbftsqF85dkA6d2/u47/bt2+rrjKkzpeqPVWTazCmSJl0aadGkldy4ftMF0dL3wnX4AyB+/PhSvnx5mTt3ruTKlUt+/fVX1eOMBN8WRgccfzZWxkGvP8p/0MPv2Lt+5coVpzGg5x0lQP3795dSpUr5uR9GFDJlyqSGGv2KyxH+kA0bNkwl+P/8848accDrQ8PHVp48eeyGvHDcsWPHqsej5x1f0dixhePgj6JfAvK4Dh06SOvWrWXbtm1SokQJNYqC1+gbPA43W5ZQHyVs2LD+ngMiIiLd3bt7T03QnTFnmq//7n369F8ZbrUa/5UnARL+wwcPyy9rf5EOXXw2EnTg3n3zQYMJfwCh5x5lLujRRs9zzZo1fSTE/kGpDcpmlixZ4uO+WLFi+fvYc+fOSfHixVXPft++fSWojR49WpXooOQGveiok8dKRYEpNcLrw2gIyojw1ZZ/5TcBeRzOPcqhUHKEpH/48OGqoYERBke4b+DAgXbb+vz0P1VvGVSiR4uuYvV+ZD9ZC3MhPD39btyYhc7x6xw7MH7X0Tl23ePXOXbd4j939rwq26n9Y13rNnSqHTtyTFYsXSnrN/03BzBFiuR2j0uWPJncvXtP9MWU3xmW9DhA6Ql+ORyVK1dOJcKYmLtlyxYf5Txw8OBBHz+jdAeyZcumatKx6g7q/m1v/i2PidV5ihYtKg0bNpShQ4c6jR/Phzp42+W1HONyhPkEGD3ApODMmTOrspm///7bx36HDh3y8fpSpUql/hBikjDO24MHD3y8PpTv+HVuA/I4o5yoVatWasJy165dZfbs2b6+FqxihHkOtrfuvfyfwxBYocOElrTp0sqhg5/PB8qoDh08LJmy+D7yYCY6x69z7MD4XUfn2HWPX+fYdYs/d95csvqXlbJi7TLrLV2GdFKuQln1fcJECSVW7Fhy/foNu8ehnCde/M//5pL7YcLvIGnSpCqxxeo5jx49Ur/UYNTyI6FEkutbmQzq0FH2g2QZpTeo+ceEVEDNO1a2QWKNSbtY/Qe1+yhXMWrqfCvjQbKPEp4uXbrIvXv31O3hw4d+xl+nTh1VdoOJxxgZwGo2jisMOcLr2b59u5ojgJKgli1byv37933sh1p6xIH5DFjFB/MTOnbsqO5DSQ5eY4MGDVRSjteH148ed/TMG+cWPfo7duxQ5/bVq1cBehxGG7Zu3aruO3bsmOzatcvakHKEIUxMDLa9fYtynvqN6sna1etkw/oNcvXKVRkycJi8fv1aKlf5b4jU7HSOX+fYgfG7js6x6x6/zrHrFD86JlOmSml3w8qBUaNFVd8jP2jYpIEsW7xctm/9XW7euClTJ02T69euS5VqlUVXXKXHOZb0OMCEUfSmY5Ub/DIjyUSiCk2bNlW17lhe0jcoJcFKM23atJF48eKppBjHAZT/YJWZnj17StWqVeXff/9Vk2VRqoOk1DdY1hPJPdbhx82QJEkSP5fzRBkM5higNxy953h+rGqDune/oEzo6tWrqmwGcaJ0qHLlyqp33BaScpwTzGNAAwjJvu0EYpQ6DRkyRPXAYy4AGjio+8ckW8BKPYgL5VAYCkWjCKsIOXscRgCwUg8aRjhXmFBsTBZ2lTJlS8uTx09k2uTpatKWVxovmTZzqsQ02fCuO8avc+zA+F1H59h1j1/n2N0hflv1GtSVd2/fqesK4N/51F6pVc1/osSJXB0afUMhLLYLqZO/0DOPBB3r6ceJE8fuPrQM161bpxJlMpc3H1+5OgQiIiKnLKJ3ShY+ZESXPO/z90+C5DhRQkcXd8Ue/gDAqi/oaUdvNFbmcUz2iYiIiMg1QnDSrlOs4Q8AlOagjAZXph01apSrwyEiIiIiK154yxmW9JDbY0kPERHpgCU9X+bFe/s5h18qUmi/V03UHXv4iYiIiIjcGGv4iYiIiEhb7r6kZlBgwk9EREREGmPC7wxLeoiIiIiI3Bh7+ImIiIhIW+zfd44JPxERERFpjCm/MyzpISIiIiJyY0z4iYiIiEjrVXqC4vYlpk6dKkmTJpVw4cJJ7ty55fDhw2JGTPiJiIiIiAJpxYoV0qVLF+nfv78cO3ZMMmfOLKVLl5YHDx6I2fBKu+T2eKVdIiLSAa+0+2Vef3zpkvhz584tOXPmlClTpqifP336JIkSJZL27dtLr169xEw4aZeIiIiItBUiiCbtvn37Vt1shQ0bVt0cvXv3To4ePSq9e/e2bvPw8JASJUrIgQMHxHTQw09EX+bNmzeW/v37q6+60Tl2YPyuo3Psusevc+zA+F1H59i/l/79+2OIxe6Gbb75559/1P379++32969e3dLrly5LGbDkh6ir/D8+XOJGjWqPHv2TKJEiSI60Tl2YPyuo3Psusevc+zA+F1H59i/l7eB6OG/c+eOJEiQQPbv3y958+a1bu/Ro4fs2bNHDh06JGbCkh4iIiIiCvbC+pHc+8bT01NChgwp9+/ft9uOn+PGjStmw1V6iIiIiIgCIUyYMJI9e3bZsWOHdRsm7eJn2x5/s2APPxERERFRIGFJzoYNG0qOHDkkV65cMmHCBHn58qU0btxYzIYJP9FXwNAf1t8N6BCgmegcOzB+19E5dt3j1zl2YPyuo3PsZlWzZk15+PCh9OvXT+7duydZsmSRLVu2SJw4ccRsOGmXiIiIiMiNsYafiIiIiMiNMeEnIiIiInJjTPiJiIiIiNwYE34iIiIiIjfGhJ8okBYtWiT58+eX+PHjy40bN9Q2LMX1yy+/iA7evXsnFy9elA8fPohudD/3T58+lTlz5kjv3r3l8ePHatuxY8fkn3/+EbPTOXadYcWPP//80/rz1KlT1UogderUkSdPnrg0NjI3fnbIFhN+okCYPn26Wne3XLlyKgH6+PGj2h4tWjSVeJrZq1evpGnTphIhQgRJnz693Lx5U21v3769jBgxQsxO53MPp06dktSpU8vIkSNlzJgx6jXA2rVrVRJtZjrHrrvu3bvL8+fP1fenT5+Wrl27qt+Ba9euqd8H+n7evHkjOuFnh+xgWU4iCpi0adNa1q1bp76PFCmS5cqVK+r706dPW2LGjGkxsw4dOliyZ89u+eOPPywRI0a0xr5+/XpLlixZLGan87mH4sWLW7p37+4j/n379lmSJEliMTMdY48WLZolevToAbqZGX5Xr127pr7v37+/pVq1aur7o0ePWuLEiWPRxapVqyzVq1e35M6d25I1a1a7m5l9/PjRMmjQIEv8+PEtIUOGtH72+/bta5kzZ47FzNzls0NBgxfeIgoE9IxkzZrVx3ZcyARX1zOz9evXy4oVKyRPnjwSIkQI63b09l+5ckXMTudzD3/99ZfMnDnTx/YECRKoC7aYmY6x6zDqExBhwoRRo3Pw+++/S4MGDdT3MWLEsPbemt2kSZOkT58+0qhRI1V+h6uQ4m8OPldt27YVMxsyZIgsWLBARo0aJc2bN7duz5Ahg/qMYdTUrNzhs0NBhwk/USAkS5ZMTpw4IUmSJPFRK5k2bVoxM1wNMHbs2D62I1m2bQCYlc7n3miY+PaP7N9//y2xYsUSM9Mxdlzu3h0UKFBAlV9g7srhw4dVo9049wkTJhQdTJs2TWbNmiW1a9eW+fPnS48ePSR58uTq6qTGfBCzWrhwoYq9ePHi0qpVK+v2zJkzy4ULF8TM3OGzQ0GHNfxEgYA/nuiRwh9OXKQaf0SHDh2q6pjxj5iZ5ciRQzZt2mT92UjyMREzb968YnY6n3v44YcfZNCgQfL+/Xvr+cc8ip49e0q1atXEzHSO3YA5H2vWrFE9tritW7fOOg/EzKZMmSKhQoWS1atXq3ksGFWBzZs3S5kyZUQH+Kzky5dPfR8+fHj5999/1ff169eXZcuWiZlhUnrKlCl9bP/06ZP198Gs3OGzQ0EoiEqDiIKNxYsXW1KmTGkJESKEuiVIkMD0tZyA2n3UX7dq1coSLlw4S8eOHS0lS5ZUdZ5Hjhyx6EDXcw9Pnz61lChRQtWWoxY4UaJEltChQ1sKFSpkefHihcXMdI4dLl26ZEmVKpUlQoQI1rpxfO/l5WW5fPmyq8Nze8mSJbMcO3ZMfY95RDNmzFDfb9261fRzKLJly2ZZtGiRj/krAwcOtBQoUMDF0REFXAj8LygbEETBBWojX7x44WuZjFmhbhYr8pw8eVLFni1bNtVLmzFjRtGJjufesG/fPrvzX6JECdEFlvjDij26xY6VSfBP3ZIlS1T9Mnh7e0u9evXEw8PDbuTLDFA+FSVKFOv3/jH2M7NmzZpJokSJpH///mppSKwegzKTI0eOSNWqVeXnn38Ws8KcA5SHYSQRo1wDBw5Uyxqj1Gfjxo1SsmRJMfvf/Hnz5qmvEydOVH8z0cOfOHFiNX+Lgg8m/ESB8Pr1a5U4YGlLwFrwKA1Ily6dlCpVytXhuTV3PPdY3hLLitK3FTFiRDl48KCPhi0aXkg80YAxk5AhQ8rdu3dVcoYGiW9zbPC7gO06lCWh/AU3lJfA8uXLZf/+/ZIqVSpp2bKlmlxqZn/88YdK9m0b6ph/YPa/O3v27JGyZcuqz/jevXvl/Pnzau4EOn3Q2EKpDwUfnLRLFAiVKlVSPVKYvIVkLVeuXOofq0ePHsm4ceOkdevWYla4SFLo0KGtSQ96rtDzg4R5wIABpv9HV+dzD1jDPmnSpFKzZk31c40aNVRNedy4ceW3335TkwDNDCuq7Nq1Sx48eKCSN1s4/2afdGzUjdtC8mbGz/3OnTutIxE457pDowU3Q61atdRNB7dv35aCBQvK9u3bfdyHRiRWPTOrXr16qfkqmP8UOXJk6/ZixYqp+n4KZgJR/kMU7GG99zNnzqjvZ8+ebcmUKZNap3nlypWWNGnSWMwsR44cltWrV6vvUYcaNmxYS+3atVVNPOr5zU7ncw9JkyZV69bDtm3bVD08apibNm2q5lKY2dChQ9WcCZznwoULW4oUKWK9FS1a1GJ29evXt6RPn95y8OBBy6dPn9TtwIEDlgwZMlgaNmxoMbMbN26oeB1hG+4zq5MnT6rfT+N7/25mv/6Ht7e3j+1//vmnJWrUqBYzw/ysq1ev+ph/gLX58fefghf28BMFsnbc6CnZtm2b6nFGzxV6eVBiYmZYig2XVYdVq1ZJ4cKFZenSpaqmHL1tZl+3XOdzD1ivHnXMgNpf9PCjJAC9/rlz5xYzQ+3v3Llz1TrqOsI68KjDxmpUGOWCDx8+qNWH8NrMvhytUd5jC8tZ4j6zlvTgbw0+84gb36P8yLcKYrOXJeHvC35PMdJi/P1BeUzFihXVyKiZoVwQnx18TmwdP37cumIPBR9clpMoELA8Gy5gdevWLdm6dau1hhNlDmafPId/bI1SDFyEBRMZAUkoymLMTudzD9GjR1exG9cOMCa84n0xc8IDaFihDlhHOL+Y+Iq6cTR6UbeMGyZeYg5I1KhRxcyMWn3fypHChQvnkpgCeqE84xoN+P7q1avqq+MN280MyxZjgisS/Ldv36rEv3z58qqmv3PnzmJm6MjBogxoeOEzhL//6ODp1q2b9SJcFHxw0i5RICBRqFOnjkrQcCEW9DTD8OHDVa8PVj8wK9RtIrlHoomrQ547d04l0ZjYhd7P69evi5npfO6hXbt2qmcfExXRw4bzHSlSJJWI4iqemGNhVojvzp07ph8F8g2SHCTGZ8+eVedeF6i7BoxA4AqvxmR1wO/AoUOH1OReJHD0bb17904l+RhlxCpV+JuD32cd4sa1S3CxM3xmMGkaX/F3FNvw+aHggwk/USChtwTDpJhkaUxEw0Wg0MucJk0aMSv8Q1W3bl11ERwkE1giD9q3b6+WKER5j9npeu4BF+lB8oZefpTGZM2aVW0fP368KhXA0oVmTpqR8KCHHJO8jbIYw9q1a8XMsPwgln408wRLR0WLFlVf0SBHKZLt5GJ8j1Iw9NTq0oi5dOmSn5O+seKN2f5WOsKkb1wpGL8HtgsEZMqUScwOf3NOnz6tRoXwd0eXzwwFLSb8RMHcmzdvVE+PYxJHZEBvJkobkITGiRPHR4kJVnsys19//VWNUuBqoxkyZBCdNG7cWDUUdShb88vs2bNVkuzp6alWpbL9/OB7s41uGUuh2qZHtj8b35t9/gHKjtAotB0dMpY4Hj16tOkaWvRtMeEnCiSsX7xy5UrVU44hU516OnXnDucepVS+xY8JpGaFEQiUHqF3U0eYP4FyDEzURe94+PDhfUyApW8nSZIk0qZNG1VProPALAKA12ZWttdzsIURXWwzc2OFgh5X6SEKBCQ9mOxUunRpVUOOiaMoc7h//75UqVJFzAx/3FE+4lfCbPakR+dzD5iciDgxtO7YWwhm/scXa8KnSJFCdIXPvW8TX80KK1Chxhq9+vjePzo0dJ88eSLVq1cXXZg5iQ+KCd+4gJhxnQcKPpjwEwXCsGHDVPKAiVDo9cRQO5Y8w9Ui48WLJ2aGS8KjLKNr167St29f6dOnj5o4ipVvdBja1fncQ8eOHVW8O3bsUF8x9wA9bXg/xowZI2aG5Qcx5wOlO47lATrQbTlRrBxkJGpmX0UoIJDso5GOi+bp6MqVK2rCOq5UC5jHgt9nszaCMaKFzw9uqVOntkv60bGAWn5d3wv6cizpIQqEiBEjqtU+MGEuZsyYsnv3bnXlWvxDgFVwMHxqVvjHCeuRoywDCfOJEyes23DFSLNP2tX53APql3EFVUzyQxKHhN/Ly0ttQ9KPlXvMChP9kPTgnwucf8f5HmarwXaX0gacb0y4xPKWjmVIOsGqNrgaM/724HfW8fPToUMHMSssAYxyO1xLwFiaFisjoZccc0NKliwpZrNgwQL12WnSpIlqqNg2Go0J35gITsELe/iJAtlzgtUaABcuOXPmjPoH7OnTp6pG2Owr3CBWwHKQz549U99XqFBBfvrpJzE7nc89IKk0LtyD5B/LXCLhR/kA1oQ3s8qVK4vO/OrXwrrqtqvfmDFuLJ2r25KijmbNmqX+5mDFIdxsoffZzAl/r1691Hr7I0aM8LEdcxLMmPBjmWXASCIaKViOk4ifAqJAKFSokGzfvl0lmhimxrAuemixDWvDm1nChAlVLycuIoOefQyxZ8uWTf766y8JGzasmJ3O5x6wOgx6BfGPMK6si1VjkGwiGUqePLmYmbGEq24wemUklShnQ9Jp2wDD9RvMvJwrVotBoo+RCJ0TflxgS1cYQcS8J0dG77mZ4WrqGJlDKR6+ogwSI1q4Zgn+HcBytRR8MOEnCoQpU6aoZSwBNfAYmt6/f79Uq1ZN1cWbGSaMon4cySbW3q9Xr55amxwTeM1+xUjdzz0gxpcvX1qXy8PISsGCBVV50ooVK0QHR48etdYxI1kwriVgVpjzYfSUz5gxw+5CQ0ZpA7abGXqWu3fvruWSoo6wUACSf3Q46NLrjHIqlD86NriwzbFEzGwwmlK2bFnVy4/G7dChQ1XM6HjA335czJCCD9bwEwVTBw4cUDf8Q4bLxtP3h5WRjAl2ZoaLJdWqVUvNm4gWLZrahlIqrMuP1ZOQFJkZ4sRqNjjXunGHJUURPzoZUFsOWF0Lo1rYhvI8lMeYFRrnaDgixnz58llr+EeOHKkuYGjmckjU6WM0FHGinBCJPs475g9h9afbt2+7OkT6jpjwEwUSh0hdxx3O/eXLl1X8KFFC8ubX0nlmUrNmTbWs6MKFCyVt2rTW6wmgVhg15suWLXN1iG7LSJKd1WubGcrvkCSjBKZMmTLqSrZIPH/55Re1ApSZJ6zj9xNxjx07Vs27gfjx46tRF8w9MPPvLkrYsAwwyghtE36szoZSNmPElIIJJPxEFDC7d++2hA8f3lKiRAlLmDBhLFeuXFHbhw8fbqlWrZrF7BYuXGjJly+fJV68eJbr16+rbePHj7esX7/eYna6n/tHjx5ZihUrZgkRIoTFw8PDGn/jxo0tXbp0sZhZlChRLIcPH/ax/dChQ5aoUaNazO7Dhw+WOXPmWGrXrm0pXry4pWjRonY3+rYSJ05sOXDggPo+UqRI1s/+pUuXLJEjR7aY1fv37y0LFiyw3Lt3T/38/PlzddNFggQJLPv27fNx3teuXWtJnjy5i6Oj783D1Q0OIp1gWHfIkCFqoqjt6h5YFhJLW5oZaoAxtFuuXDlVjmEsRYgSDbNPPtP93APmSWDeAeZM2K5lj97zLVu2iJl9+vTJx1KKgG24T4ceZtzwmUcdfObMme1uZodzjDKYP//8U9Vi29508PDhQ1/r3TGnxcw95JhngPXqjZ5w9JIbK23pAGV4WEkIK7ThPONzhJGWbt26qYsYUjDz3ZsYRBqLGDGi5erVqz56TK5du2YJGzasxczSpk1rWbdunY/YT58+bYkZM6bF7HQ+9xAnThzLiRMnfMSPr3htZvbDDz9YChUqZPnnn3+s227fvm0pXLiwpXLlyhazw+d706ZNFh2hZzxZsmRqVAijQ7Y3bNNBwYIFLZMmTbJ+9o3f43bt2llKly5tMTN8xo2/m7p5+/atpVmzZpZQoUKpz0vo0KHVZ6ZevXpq1IuCFz2myROZBHrDsbQlaiJtoQYVk8/MDKtj+LaqCpbkNFaPMTOdzz3gHPt2lVpMujT7sqhYIQkXH8KqNokSJVLbcEEo9JYvXrxYzA4jQphroCP0MOfIkUM2bdqkriht5h5x/66SjdViMO8Dk48x/wbfY5Utx3X5zaZNmzbqwniY4Jo9e3Z1AUBbuJCemT/3s2fPVhOLcd0SXGEX/wbovMQrfTkm/ERfMES6atUq7YZIkShjKTlc6MkWykmMiZhmpvO5ByzBiUmvgwcPVj8brwHr8WMVGTNDko+r6f7+++9y4cIFtQ2fmRIlSogOkLAhyUTDRbeE+dKlS2r5RF0bLFCgQAE1YRRX3MV1NIxrgGCVMONigGb+uwO2FwfDZ8iYbG/WqzTbwqIGRkNdt88/BR0m/ESB7Klq27at+uOJP/Tp0qVTX+vUqWP6teBRv4/YUY+Kf6ywNBtWV8E/wrgokdnpfO4BiT0uEHbkyBG1HnmPHj3UFVTRw4+Gi1m9f/9erSaExiKuKmrGK4s6g9r3Xbt2qRWdsJqT43wELNlpVrhuBlZ20jXhx+enZcuWqpcZvc260fmiYYD19rGsKBqOgN79Tp06SbNmzVwdGn1nXJaT6AugnAHLnek2RLpkyRK1DB6WhTSWlxs4cKA0bdpUdKHruYdnz56pXmb0diJ+9HKiEYNSDTPDUn7r1q3TYoKrbxo3buzv/Vjq1UywbKUBv6to0GIZSPSGOzZWzFxSYogaNapqMDqW4+kAE6Ox/r7jhcJQmoSSJCyva1b9+vWTcePGqesdYE1+wKgK/gZhEQFcY4CCDyb8RF8BPcxIPlEmo9NFfXAhHCScZr9SpDuee117CdELvmjRIokRI4arw3F7Hh4e1rIR3+hWUoJrBWTJkkWLK3o7wtWZMXfI8W+lt7e32mbm848L4k2aNElq165ttx0ju2gEPHr0yGWx0ffHkh6iQMBQKHrZ0COOP/SFCxdWvTyYjLlx40YpUqSImNXr169VkoBYccNSeViOE6UxpUqVErPT+dwbcyVwIRzUM8PUqVNViQPOP743c6MFPYIoK8GIEBpYjhMXUd+vA3zmL168qL738vIy7RWCdS8jcYRROPQmo3TNt4mvtvXxZuPXhfGQ8Du+DjOWU2HCtyO8BxihoOCFPfxEgZAwYUJZv369+iOKr1jBYffu3arnc+fOnaauxUZSj8upY9UPrMOPhAerOKCXB8O+rVu3FjPT+dwDGisjR45U10HAyAReByaTorYcV700W1mJLZR9+ad///5i9hWS0KOJSdPGdQPQc4vJ3pMnT/Z19SSz0LmkxOBfKQ+SaVzF2WzwtxJwNWBcHdh2JS10OKDsCn9DzXwNDXzmUQKGv++2sNABOoDQ0UDBBxN+okAIFy6c6ulE8tmiRQuVKKCXHD1yqG9+/vy5mJWnp6daAg+TFjFJF4kOlrRcs2aNqvU8f/68mJnO5x7Qu4+l8bC0JeZR4HusvoLecTQCcHEc+jYwaRQrDGGkIn/+/NaJvOhZxiRkXJTOrHQuKdGZMe9jwYIFUqNGDTVx3YCOEvweN2/eXP1dNdviDLaNwvnz56tVevLkyaO2HTp0SF38z2jsUvDBkh6iQIgTJ45aPxqTLNGzYyQKqInHP8xmhhiNq0RiWTz0YKFWGP8Q3LhxQ8xO53NvJAmIFZB8GkuJoibe7I0V3aFRi8aVbdkXGllI4pDMmTnh17mkRGfGiBvKvtBAN0aBrl+/rkYYsSyt2ZJ9QCeOY/kOGAs1IGbcsEIYBS9M+IkC2euDBMG4AI6xDjl6TVCWYWZY1g//UFWpUkW2bt1qnUD34MEDiRIlipidzuceULuP3jf0MGNJ1BUrVqjtf//9txq1MBvMKQjomt1YWtTM0NBCg9EResiNRphZS0rwHjRq1MjXkhKU+ugA8aKneceOHervjVFWZUBJnlkhgUYpmFEKiQ4SlMmYtRQSJYJEvmHCTxQI6OnB1UWxNGT16tWt/wijh7lXr15iZijbwZr1SPSxHryxTBt6+327Aq/Z6HzuAeUkmHeAnmb0KBtXB8ba8KgRNhuUS9n2Jg8ZMkRKly5tt7wfGo5YX93sEDPmGSBxQ2kYoIYZcxOM12PGpSyNHn6MzDmWlCDxREmJDjp27KgS/vLly6vfYZ0u/oSE3/hdwO8uGo62pZBmS/iJ/MIafqJgBHXiqAdGzTvKeQC9zejh16GXnFyjWrVq6mrA/9femYDbWK5v/D0NSjJchkKUCM0DFR1DCHFShspQxKGBEMqQQoOUIUIllQwloToJDaISEuFUV1JIhpAOGU4Ucdr/6/f8r29day/btpf22uv91r5/17Uua397p29/vrXW8z7v/dx3ly5dDlvEIE9i58hnGJJmUXXgwIFIlgBZCCwaWfAy1+IjfDy3b9/etNbMgIQVJCQstpBRhQ2kPKRLo4Nnh5F7hcUjjQeGdn3dIQog6G/69Omm2yfwLyyBcyL7UcEvxFHAx5ghUTqDPM8Mn+3lwkjYrz3a/EAudTSdvs+yKopNgpNi014ZosZfnUwH36EwI3iO4g3QYN96663pOue+gfSFex+9dZgC5mLBzhVHrQoVKriwQbAZqbRIIdmdYH6IXaEVK1bYjoXPw/ZTp061WSF25ljY4tSGhPDnn3+238dnZzCR/ajgFyILlnJ0SYoUKRI6ezl0wGylU0wGmuAj4WO3J8zXPtZhJQhTiiUMAUp477OgwkY0muHDh9tCzPeh7yeeeMKkGHTLoxk/frx58/fp08f5Ch1lgs8Cl5Uwwn3C65MdoTDJeQIZD1JIXp9IISmcg3sKy1QkeT4vVnCoIs0bWRi7WryPcoxZqKPZ7YrUQgW/ECkMg64UZLzZBzZzR0LdnuwHG1SGdPFQ53lmECTmKywa6XI2bNjQValSJTIsTbeT8DCGSn0GC8UpU6YcNuTK79CyZUuvg65mzZrlhg4danMfdJjDQmyDgcFcHKlYwDD06nuzIRWkkLg4sTvE/U/ThF0W8kCwYK5Tp479TiL3oIJfCCHEUaE4ZvEY5DUgiaHrHywAfAZZDOcdu0tE15mk4/379ztfwS0JORKe6gzrxkqQfHVIOlqDIRo1GxID7l/sQFDk0+3v27eva9WqlQ3cM9OyZ8+eZJ+iyEHk0iNEHEEmRyM20VDk7muPdWJW4QPZZyjs0cCHkdKlS1sSc2zBzzH05T4T7ZYUJlTEJx9SmOfOnWsFP85muCWx08Ix5Ekid6GCX4g4g0xIRqXbhkMDMASFVjsIOPEJ7Dazqpnl9/KNMF97YKCV63+k8KRofNbwBwOkDOlm5KNOYeEz2Fd2797dHTx40KQMgCd87969D5tL8I22bdu6VIF7Z/Xq1fac13BserDIXpiZCHavHnzwQZNSLV682Fy3+vXrl+zTEzmMCn4h4ggyoYuMHp64dbbaYdeuXbZ9XaNGDecbTZo0iTznjX/MmDEmYQi8x5csWWIaT/zhfSTM1x6iteEsXnr27Ol69eqVzsuegUY02j7DfcLgIsO5sSpQ3weOgWtOlgD3eWBNiMyHYV1kDmGB13CstaLP7k4BOFQxOIprTHCvsFBv0aKFe/bZZyOZAyJ7YWYigNmDMOSViMQhDb8QcUBYUka+3StXrjTLs61btzpfYegSZ4aBAwemOx54SuNY4jNhvvZw5ZVXWnhYrBf5u+++a+FV2Pz5CjsVWCri6hEkHUcTloIN+1C0/OjgsbmMTq/1lX379tnCBC91Fi2x+L7YAgp7FrzkCUQvdpGYcG+xEBDZQ6pYAYvsRx1+IeKAN1Bs/GLh2K+//up85vXXXzeLy1hat27tLr/8cu8L/jBf+yD8KSNrUY6tWrXK+czatWvNnjDWhz9skCdwxRVXuDCB7IidLlx62rRpYx3xLVu2uOeff94NHjzYhYHZs2dbKnP16tUjx/CGx+HJx5TpMMPuZ2AFXKhQodBaAYvsRwW/EHFAWAkSEmQYdGwD9xIkA0fzuU82dDUZUowN8OEY8gbfCfO1D1xt8O4eN26cua0A8gyO8T3fB3bR74e94A8j2HKSUlurVq2IfI1/B7IRGKImPMx3sITMaBeIY4E8T2QPgf1prCRSCBX8QsTB2LFjTYeNnpkBQMBjvUOHDm7YsGHOZxha7NSpkw2+RhfMdPaRlPhOmK99cP7XX3+9WeUFjjy4+NBpo6jzma5du9pwK37kOH7E+qj77jAUZrDdLFu2bESCEdhw0i3n9RwGGBDFceuVV15xxYsXt2PcSyzWw/DeEyai8zx8zvYQOY80/EIco6523bp19rxcuXIWcBIG0AGPGjUqnZc6OtrmzZu7sBDWax+cO13Z7777LnL9WcD4/jsEYUPRRLsPSRqQOFhMoX2neKtbt65p3p988knLRGDYe/Pmzc53cAtjh+jAgQPuzDPPtGObNm2yGYrYHUcf3cLCRCpZAYvsRQW/EEKITMGdJzOQl4jE8NRTT5mjDSFn8+bNs10iPrbZ5cK5igW77zDsnVUwERB/bXGeKlbAIntRwS+EEOKoOxO+70LkpsUXjk7o+NWhFZktzo9mBRxt2yxSHxX8Qgghjupug+yrffv26ZxWhIgHFiqBnBB7XaQ+InGE2QpYZD+HCzOFEEKIKCZPnmzDoqTU4sePHaTvuQfCr4Rd7h0sUZEm8SAd+5prrsnQaldkD2G2AhbZjwp+IYQQmcLW/4wZM8z/vWPHjm7KlCmm22/UqJH717/+5Q4dOpTsUxSeuzyRlUGqNwtHHgTmka1B8S8SawUcnc4cFitgkf1I0iNEHEyaNMkVLVrUXXfddZFQnBdeeMGdf/757rXXXtPwYgIJ+7UnzZghOmw54fPPP7fCmfO/8847XdjAOQZtMAUE/y4sBO6//353yimnJPvUhGfgt8/AcWzoGa8BUrJ3796dtHNLZbi+wZB3RlbAgT2zyB2o4BciDipWrGiJl2xPM/yETR4uGiRJ4glPt9M3Hn300XRfDxgwwIWRMF77aAhMorAnLRUPcn4fdMyk2NIBDcO/y88//2wLr4kTJ9pwIGFo5CBgDTlkyBBXsmRJ98EHHyT7NIVn5M+f3y1cuNAsRaNhqBS7UTr9IjGE1QpYZD8q+IWIA7qXvHHiJd2nTx+LMCcFk61qkjB91KOSzhlAZ4egrTASxmsfDYmiS5YssUIfD/Vp06ZZyjEFMt3xH374wfkKi6kJEya4OXPm2I7E7bff7lq3bu0KFSoU+RmyESgmouUD4tiIpwAmjMt3GjdubF18duJYFALyMFKCeV289dZbyT5FIVIeJe0KEadbyS+//GJFJ4Ua6ZFw8sknu99//935CIVaKhDGax8NvukEDQHyhhtuuMGen3vuubZ48RkWjS1btrQFSqwsI4BC7sEHH8zxc0tFWEgdzUM9TF7qzzzzjN3vZcqUcaVLl45I3C688EIbCBdCJB4V/ELEQb169ay7iZ3cmjVrInZndJn5MAtbF/Gjjz6yjnMYBrjCfu2R74wdO9ZmEObOnesGDhxox3G7KVKkiPMZFiRH0+bnzZtXoUnZxMcffxx5vmHDBpuNaNeuXTovdaRVDF+GAYp8EnRZ6EZLS5DlCSFyBkl6hIgDtqX79etn3alOnTq5Bg0a2HEKnTx58njd4cRHvWbNmq5Lly7WEb/kkkusmOAtYOrUqe7GG290PhPmaw/z5883zTsLrbZt20akVQ888IAVQT7PIFCsnXjiie6iiy6yr99++23bOULeg883118kBqwrWei2atUq3XEGvhla577ynU2bNrnTTz89ssMVwHsPr2d27YQQiUUFvxC5hOLFi5sGm0KfYoFC+auvvrJOIYUDA3QisSC/oOBHtxzAoovu+WmnneZ8BRkPXWYWhcwasFvB4mXZsmW2YzFy5Mhkn2LKwr3B67R8+fLpjrPLxRDsb7/95nznuOOOs47+zJkzXbly5dINgSMFC4MsSYiwIx9+IbLYoYp+hJE9e/a4woUL2/P333/fijeKCQo2nGJ8JRWufcDxxx+frtgH5Eg+F/vRxSW8/vrrtlPEohG3njfffDPZp5fSIId58cUXDzs+bty4iB4+DFDwYwP54YcfpjuunqMQOYM0/EJkAYoyhuj4cOLPMHakKA7Q/lL0U/Aj44Fdu3bZ4KuvhP3a165dO90AJnMTYYNr/+eff9pzdNgEbgX31I4dO5J8dqkN1rMszt977z1XpUqViL86i/SwLLa4/8eMGWP2kDQYhg4dGgncyupwsogPrjcyQd7v77rrLpOGBfCaZfHlszOYyH5U8AuRBYJiJ8x0797dbPBwu0Ezi5UlLFiwIKLN9pGwX3uGLcPO5Zdf7h577DEbsvzkk08sDwHWr19v2myROBhOZ4eFax4MvBKmhJVrWDr8QRe/R48e5krFPMLXX38diuyJMILtb9++fc1di51d7iFmbTgGNE3I0RC5C2n4hYjDVpFOSf/+/d3ZZ5/twsjy5cttSA7HGwp/eOedd8wGsFq1ask+PeEppHOyWERShR1q4MZDYBhWqch7hMhMw0/YXCBdW7Vqldl0Ev60cuXK0O3a+Q4zNpgYELAFixcvdk2aNLFFIkGMmp3InajgFyLOiPgvv/wytAU/EIxEZ5bhORJqwwQyBiwL//Of/xzW+Q9Lt5Drn9H5h9GpZP/+/TaXgIOPyN4FFh71FMo8z4yLL77YhUHWRrhWdFAbC8VmzZpZAm/Yd/F8g9ksFlXRdsUsrNiho+vPbq8K/tyHCn4h4gA7RYYX2ZoOG7h50JHFlQeQCZQtW9aOnXHGGebC4jMMLmLHWbRoUXMcitb+8hzrSJ/henfo0MG6bdGEdTZB5ExHnOfBDEssum9ERtA8YF6iRo0a6Y6zCKhTp4679tprLfBM907uIlztPSGSDNZ4bImSOFq5cmXbko4mGETzEfSb2Pvh2x142ANdH/Sdvhf8aMgHDRrk+vTp48IInTV2VGbPnu1KlCihYUVxRNiBK1asWOR5GMF+tkCBApHnmRH8nMgeqlevbgO7sQU/uRm4JLHjInIf6vALEQeZSXko4Hx2PTjrrLPctGnTXNWqVV3+/Pmt+KfD//3337tKlSod9UM52VAUIKfinMMIi8MVK1bY0KIQqQ5SLxKao3cpYtHuVmJABsZ7DU2GjEDeg8OTkrFzF+rwCxEHYe22wfbt2zP0e9+3b18ous0333yz++CDD2zwLIzQXZOFpTgW1q1bZ+Fm3377beRe6tatW7oQK9/AfjbI/WDuRuQczHVkNtvBfAgPkbtQwS9ELhl8xVoRRx40+xAU+QT4XHXVVc53zjnnHHNIWrJkidmIxg6K+iyngiFDhrjevXu7xx9/PMPzD5OsgY4storsGsUGiYnshXRsHG2YHQqctJAU4sQya9Ysc9zykauvvjrD50KI5CBJjxC5ZPB10aJFrmHDhq5169aWkIrFKENcDJHirc5Mgs+EWU4FyBogdjclDLIGXD1YpDB0zHlSwHHf4AbCTEKQ6SCyn8suu8yGLAcPHpzuOO817Hj5PqwesHv3bgsMy8ih6rbbbkvaeQmRW1DBL0QcsI1Od43tdQZf0UpS8L/99ts2+PrFF18436UBFA7o9/fu3WvafYZgfQ7eShVYVGWGz13QUqVKuRkzZtguEX927tzZZBqvvPKKSTd4TYjEQAo2uykYBkRDswHZBtaovsNOBDkOvOewkxXrsLVz586knp8QuQEV/ELkosHXVCF42wrD7EGqFJ3c4xT+d955p3X2WfQia7vkkkt03ycQ0nRHjBhhMyzRTJ8+3fXs2dPC0HynQoUKlvaKnI17RwiR8/z/HrMQIuUHX7HfRMoT5uLs5Zdftt2IvHnz2oMOJ13msICsYfjw4e7222+3x1NPPeX27NnjfOf00083+Rdynvfffz+iG0fihhuLSBx33HGHLbKYASGkige7dEjy+F4Y2LJli83YqNjPeQ4dOuTmzZvnnn/+effrr7/asa1bt9pui8hdqOAX4hgGXwPCNPjKkB9e/IRW0S1EhnTw4EEXFuhyErxFp5DuJg9kVbj2UDj7zvLly23Im3NFwsCD34ljvuuwsfdr3ry5OXtwz7N4hKVLl8pmNMEwqE6K9NNPP22yLx7PPPOMSQj79evnwgAzCNz/ImfZuHGjNUgaN25sMjwaVsDikd0hkbuQpEeIXDT4yrAc3Z4pU6ZY1D3d2Ztuusn0tT5ryIOh3UceeeSwAT8GqCl+fLdMJQQHpyESgwNnJ7pvdPoZOF6wYIHzmTfeeMP9+OOPtlhE2hNc+0KFCllBIRJP0KFFTug7M2fOjDyn0CSwkIVjRg5VuBCJ7KdJkyZ2r7z00kuuSJEiEQkq4YvsDq1duzbZpyhyEBX8QuTSwVeG/RimI72WoUCfXWICHTmBMRTN0fChxbX3fXgRCRJD3bEdcRaM7BwhjxEiljp16lhqKguraJDmUdAxNO2zK9XR8N2hKsxQ5NOMqlixYrqZsw0bNliWg95zchfhMBAXwiOQYNClDTPbtm1zU6dOdZMnTzanoSuvvNL5DoU+Mp4HHngg3XGGqGMdTHwEdxIGLGMLfrrmvnZsmZmIRvaJOQ/dWHI/YmGBi57fV2KtN0Vy/g0yWkxt3rzZ2/cckThU8AtxDOAlnZGfdGbphsmGjiBx6sh5KCLo9CDloWD2ObEzADlPixYtTPoSHUD04Ycf2kLAdzh3fOyffPJJ9/e//z1y/r169XKtWrVyPjJhwoR0nVgV/DkHC/HoXSAW6QHB8DTZH0Icifr165ub1gsvvBB5DbMr/dBDD9kslMhdSNIjRBysWLHCtW3b1iLuY186vm9NIykhFZXCk0IfGUkYrz9Dr1x/OO+889x9991n4US+Q5eW4n7s2LGm3Qe0zAwiIxE76aSTkn2KwjNJTGAKkNHHNK9nBnnbt2/vfAeHHnboYtOwGT7G7pWiVGQ/dPIZmOb+QfrIez5/Fi1a1BonGTnOidRFBb8QcYDnON1wNPtYFcZaceLT7ytz585111xzTZa1tSIxoJtlDgS4l2RVKI7ksMLHMztxJNQWK1Ys8r08efJYsRYWS1R2IhjijTU1wJ2KgV0KU5EYaC4g32THKJg5o+HDglHkLlTwCxEH6B4ZvIwdHBWJh+Lmp59+Oqwr9csvv9gxn3dXjiSxYuCSgTp2KnyGa4srFfKpjKRsvg6OCr8H7unuY/Xq+8C9EKmANPxCxAEdcpwOwlrwY62I3p3h0dhBQN+94I/Umzhw4IB1PH0HH/uaNWu6Ll26uN9//92213HL4PeiA3fjjTc6X+nWrZsV/Nddd13Ei1/kLOj4M3rdhsHSkvdLZg6496N57733bAdDJI7Vq1eb9CtaBsm/g/Izch8q+IWIAwK20PDTraLwCZOf9OjRo92DDz7o2rVrZ6FbeGIjLVm2bJmFsvh83kCRyfU/9dRT03We0aKG4cOL8+T6AxkIFPok7+Jl/9hjj3ld8LMgYaGoQb+ch4yGpk2bmnUur4Fg4RssusKws3XvvfdakYkfPzajwG4RA+yjRo1K9umlLJg0tGzZ0poLQTDkkiVLzMbY9yaDSABIeoQQWWPmzJlpBQsWTPvb3/522OO4445L85mKFSumTZkyxZ6feuqpaevWrbPn/fv3T+vcuXOar5QpU8YeXOPSpUtHvuZRoUKFtPr166ctWbIkzXdOPvnktE2bNtnzNm3apPXp08eeb9y4MS1fvnxpPlOiRIm01atXJ/s0ciWNGjVKa9y4cdr27dvtdbtq1aq0hQsXpl155ZVpCxYsSAsLY8aMSTvjjDMi75dly5ZNmzRpUrJPK6XhGvP+HsuAAQPseyJ3IQ2/EHFQpkwZ16hRI4u7Z2g3TDAcyrYug8Vo3hniZQgZ14aqVauaFt5nateubQFEOA2FkQoVKlgnH1kMqcF02Oh2IhFDKrZjxw7nK8OHD7dOM64qkvPkLDiqMCOB5W/BggVtgJe5D47hUMVMke8gYaPU4D2ILv/PP/9s7z+EP+EiIxID15th3YzCCnnvV/BW7kKSHiHigKK4R48eoSv2oXjx4m7nzp1W8J955pm2tcub/vr164+oj/eJjz/+2IWZ7t27mzsGkiT+DWrVqhWR+vie0rxo0SK7/miuL7jggsOkbCzERGJAshOEJFH8b9261Qp+7iH02WGgcePGrlmzZq5jx45279StW9f+ZJE7YsQIs6YV2Q/vMYSzxRb8vJ5r1KiRtPMSyUEFvxBxwIcWhU8YgqpioZuMNR6e9ej3WbgwxLt8+XL7vcKgA84IOs64gPChRmFRuHBh5yN33323JRqTrFuvXr2IPSpDi3T+faZQoUKmIxc5D7NC7AKxK1SlShU3dOhQG1InTCksA68YApCfAbzn0DBhZwKN+YABA1TwJwhmyrCQJr+EXVyg0fP6669bkCGfB9E/K1IbSXqEiINBgwZZSAyyDLqysZ3O2GAZn8BKkccJJ/z/Oh9JyeLFi1358uXdXXfd5b3TDZIeCgc6nnQ4Yc2aNWbXydAu3U6Kf7pXSAWESAXmzJnj9u3bZ4tybCyRFHLfFylSxFKygyFY36Ul3333ne0s4lbFLhFpryx+eS1LWpIYspq54ntopMgeVPALEQd02TJ700Tn7Gv4yuOPP26pnKVKlXJhhIUW29MTJkxwBQoUsGN79uxxt99+u6tevbq744473C233GJ6YYok3wi7lz330Pz5883ZieuMzAR5Cf8W0c5JIvEgzWOWJSzzFMwf8Dpll4gdCyw6cY2h80zzZNu2bck+RSFSHhX8QuQSKMqwE2XwOIyQ1hkM+kXzzTffuPr167stW7bYDgDPfRyAxZYw8LIvUaLEYcVaIHnwNfW1QYMG5gNP7gEdZuQk+PPz9dixY5N9isJjkPGwSGTRy4D6Bx98YMefeOIJm2FhNkRkPzSgwiL7EolHGn4hcgl80H7yySehLfjp5tMZjy34cf0gtTbQmscGE/lCmL3sKezx8kZLjpQkgI4tOysicZBCS3ASs0MZ7Qz5HpgHN910k+3CkZSNUUD0e5JmQxIHc01XX32169Chg/0bMOskci8q+IXIwrDowIEDXb58+Y44OBqA44SvNGzY0N1///0W4FO5cmX7faLxfWiLgVwkSVhEXnHFFXaM0LCePXu6Jk2a2NdYFmJ/6SPMSIQ1oRkpFfMesXMeLB7ZWRGJg2KNjjgFG0PfYZHxZOQSxiMafh+ROFgMIoEMgs9atGhh95Oue+5Ekh4hsjAsSjIq3WOeHwk+iH3WYWc2wBWGoa29e/eas9DLL79senJgAJnkY+QwLGC+/PJLO37ppZc63wizlz168U8//dR2V9Du0+lHKsCANGmd+KqLxID3/rvvvuuqVauW7FMRIYX3Sxx5kBQyP0FThOZJmzZtXLFixZJ9eiKHUMEvhAgVFP7BcDRFZ1gGRpEuIMvANjRsXvZ0Bik8sYKk4CfMh0KBXRecV+giisTAIgs5GIOvQvwVmLcZM2aM69u3r0kf2bHDNWnIkCE2VyRSGxX8QhwD2OPhVlKzZk2XN29eC64KW9dW5CxkH2SGz0Uz9okM7XKfk9KJnp8/CYJi6JLkZpEYGGgdPXq0DUYTtiVEvJC1Mn78eFs4shPKrijSns2bN5sfPzNQyCFFaqOCX4g4k3bpiNCppcCn6KHLzPYosgdkG76BTSVWkPh3A90dOj0B+Ngzo+D7QBde5IMHDz6iraWvlqipJAvA9x05D7sslSpVsuRgFrwicTCUznsOCyv87GN3hrDoFOJIM2U0EsgowSwAa1T+jJZ3UvQzixPIJEXqoqFdIeIADTkfuNgTnnfeeekkDwxG+VjwT5o0yb3zzjuRgh8NOZKSoFAjEKdkyZL2u/kMH1a4DKE7zcjWUiSGgwcPWrDZ7NmzrcDnIXKOVq1a2WA0ORok1Oq+F1nlueees2ZUu3btjijZYXfupZdeyvFzEzmPOvxCxAEuE4Q6YS0XPbxIdxmNLZ1P36hRo4br3bu3u/766+3r6POGyZMnu2effdZ99tlnzmcYmmbhEqbhRbrg7Eiw+3PZZZdlWqz5bK9IBsK8efPSLXJFzkBXn9dmtJ2lEFlhw4YNNmMTa9hA2YdMj++J3IM6/ELEKSvhAzgWttVPOukk5+u8wUUXXRT5GulO9AcAFm2dO3d2vkPRzMBrmGCoNbgveB7W7iz3B4N948aNM2ckkXOwu4IsT4h4KVeunGUfxM7Y8HlFarzvzmwie1GHX4g4QP+Ihz2a98CthEG6li1bmqacREnfQLqDXWXFihUz/D6SHmwsCfjxGXYi3n77bZMoZbToCjO+D33jMMROBY5ILB5jMxx8dhgKO3jwM1g5aNAgu/axGv4CBQok7dyE39DY2bZt22EFP8nZuD/RwBK5B7VqhIiDoUOHWjokrgfYmiGV+eabb6xjgk+5j5QqVcqtXLnyiAU/ixZ+xneYj8AZCR0zQ2axhY/PkhgYNmyY69Wr12HH6bK1bt3avfbaa85nORV++yLnwR0JeN/JaJGoLq2IJQiI5P4YMGBAugYJ98vSpUu9zCoRiUUFvxBxcOGFF7o1a9bY4CsdfjT7zZo1M8mDrz7G7Erwpn/dddcd5sSDVIDuId/znSBNN6xQ8CNJwg4v+sOX3SEWZD7js2VoqoMjmBDx8MUXX0QWhSSrRydk85x5EBLKRe5Ckh4hUhxSUOnm8EZPvDopi4BVGwsX7Nj4gKBzLhLHsmXLXP369d2LL77obrrpJrvu2C0iqSKhmYFwIYTIzuyPUaNGSfYlDBX8QsTJ7t27LaQkIy/42267zfnI+vXrXadOndzcuXOt6xNs99arV8+SFwPHHpFYKOzZqWAeASs8Bqo55vti60gOQxxj1+icc84x67/atWsn5fxSGfz3M4PwPyGEOBoq+IWIg1mzZpkPOVIeuibRRRDPfQ/B4fwoMoEizXfXG84PCRWJrrj0ZDbY6vu1D5gxY4a7+eabzeKSYp/fzXcIa8PTm6FRXJ2CHQvmPyj0V61aZUO9DO/iRiSyj1hLRYh+HUjDL4TICir4hYgD5DBo4gnBSTWnGB/BkQeNO9aWEydOzLTgJy7eN5jvyIglS5bYgiu62PfZ6eaOO+4wz+7+/funO/7YY4+Z4wcypYceeshyEhhoF9nHnj17DgtCQ4LHvwXOPbHDvEIIkREq+IWIA+wIGYKSBEZkVUObCoOxBQsWdCtWrLBFSjTsFmFTS1HKLMIVV1zhfv3116SdZ26C1GncWPh3EUKIoyGXHiHi4Nprr7UOpgr+nOf444/PMETml19+sWM+ShuCIj5ItixWrJjlIoQNdPqLFy8+rODnWOD8xDxLrAuUSBzMfTB4L4QQWUEFvxBHYebMmZHn2FfipY5mOaMQnBtuuCEJZ5g7ONJm5IEDB9LZzvl67hTLZDaUL1/ehY2uXbu6jh07WjeZLn6g4Sd594EHHrCv58yZI2/vBMCcROy9xMJ38ODBut5CiCwjSY8QxzA0lxEKwUkMo0ePtj979OhhCcekvQZwvXEx2bBhQ8R72lcuuOACc+apWrWqCyOvvvqq2bgGXWWC3FgI3HLLLZFMh8C1R2Tv+w/XNfajmvto/Pjx7txzz03auQkhwoMKfiGE15x99tn2J8OhJAIj7Qmgs0/q7qOPPuqqVKnifHd4IqkZtxsC3ITICtz3sQsApGFaWAkh4kEFvxBxsGnTJtPO4hoTTaDRxslEJAY83nGywZ4zjHDev/32mwVusVCJ1fKHwVYUSc+3334b2bHAn1/kHPv371ehL4Q4JlTwCxEHdNfwT0fXX65cuXRptiVLlpSkR2RqMZoZPtqKBhAyhz3q/PnzXaFChSIBdCzCpk6dah1nkRh4T8EGeOzYsfY+Qy4FpgHYcrK71aFDh2SfohAiBGhoV4g4oeAnfGj69OnpPLC1dk584YMXPwFPGaUcE2LlMz4X9EcDrT52mwwdc/8Dg+v8Tvfcc4977bXXkn2KKQte+ywWkYORhxCALGzkyJEq+IUQWUIdfiGOwRqSAUbSR/kQpuBRhz/xdOnSxQp+nJJKlChxWAjXU0895cIkzfjjjz/SHSO52Wcf/nnz5kUcegI+//xzV79+fev2i8SAu9Pzzz9vzYX8+fO7r776yjr85B5cddVVbteuXck+RSFECFCHX4g4CNbHOMbgjtGqVSsL4howYECyTy3lQTrCrgpJx2Fk3759rk+fPvY7kB0Qi8+LRXZTYi1ogWOxOy0ie9myZcth+QfAdSd1VwghskLW/AaFEIfRsGFDCx76+OOPXaNGjZJ9OikPg64ZFT5hoXfv3iY7wqWHoW887B955BHbGXr55Zedz9SpU8d169bNbd26NV0hysI3WtYmsp/zzz/fLVy48LDjb7zxhoamhRBZRh1+IeLg6quvThfyxIfx0qVLXbNmzaThTzD33XefGzVqlHnBx8p5wgC2nBT2tWrVcv/85z9djRo1bAFz1llnmUTs1ltvdb7CNSdUjiHR0qVL2zFcqdCRT548Odmnl9Kwe8isBAssuvo4VZGFwL00e/bsZJ+eECIkSMMvhAgFTZs2td2UwoULmyVkrMSEQshnCAxj0BXrVvIEOF+Gv9evX2+pzXv37nU+w0cFOn6048Dwbt26dZN9WrkCOvxkTaDf5z6pVKmSLQSYnxBCiKygDr8QR+G///1vln/W58HLsIMdJEV/WGHQkuKegp/5D7T8FPx0/gOrS59hV6VevXr2EDkLu0Fz585N9mkIIUKMOvxCZDHaPjN4GfEzPg9eiuSCixAuT7g60Sm//vrr7b5h8HLEiBGmkfeJ0aNHuzvvvNOCnnh+tN0Ldl18TzsOM7g6ZWRHq7A/IURWUMEvxFH45JNP4tL4C5EVNm7caMm16Pgvvvhi5xtnn322W758uStSpIg9z4wDBw5YMcoQ77Bhw3LsHHMDa9eude3btzeDgGjUZBBCxIMKfiGyiZUrV9oQo0gMFJ2Z7bT88MMPzkfoyFIEk85MlxZXm4ceesjlzZvXpRJITm655Ra3ffv2ZJ9KSlGtWjV3wgknuPvvvz/D/IlLLrkkaecmhAgP0vAL8RcgfZSUUSwW6daq25Y4unfvnu5rpDBffPGFe//9912vXr2cz0mpDz/8sA24UuTjNEQ3fPz48S6VqF69uuvXr1+yTyPl+PLLL+29hbkPIYQ4VtThF+IYWLBggXvppZfcm2++aT7q2HLeeOONhyWRisTz7LPPmvRkwoQJzkfKly/vevbs6e666y77Gv0+acG///67zYf4zGeffWYhYdE5E9hBskNBkFiTJk3c008/bbkCIjHwnsL8BwsqIYQ4VlTwC5FFtm3b5iZOnGiFPs49zZs3d2PHjjWrPPz4RXJAynPppZfG5aaUk1AMf//99xH/emAQlmPYc/oeLkduAAnBQKo0lpDt2rUzW06kSixk2MEQ2Uf0vcxilp2Txx9/3OxbY+1o5QwmhMgKkvQIkQVwVKGrT2d25MiRrkGDBua4QsEvkguJo3jz+8qhQ4eswI+Gog1JUhjkJAMHDox8PXXqVHPiefHFF+1rFjF0+1XwZy/YtEZr9enLxSYaa2hXCBEPKviFyALvvfee2Sl26tTJJBoi57nssssOK4LYdWFIdMyYMc5XOE864tGyl/3797uOHTu6fPnyeR0ctmvXLnf66aenc6yi6x8tNyFxV2QvBMwJIUR2ooJfiCywaNEik/JUrlzZpAxt2rRxLVu2TPZp5SrQi0eD/r1YsWImOfF5oLFt27aHHWvdurULAxT7hIXRycdh6N///rd75JFH0g2tx0pMxF8nsPdlF4jdRHYS1WgQQvwVpOEXIg4YVJw2bZo5rHz++ee2nU5oEj7Z+fPnT/bpCZGtsKPFjMqQIUPcjBkz3KRJk9zWrVtdnjx57PuvvvqqSdyWLVuW7FNNWVjU4sGvgl8I8VdQwS/EMbJ69Wrr+r/yyitu9+7drl69eua1LrKXrA7jangx+9mxY4c5ULHDRZouBX/Tpk0j30dXXrVqVbMeFYmBMDPkYIMHD072qQghQowKfiH+InT5Z82aZV1/FfzZD9KdzAK3NLyYePbs2WMFP4Pq0ezcudOOBx1/kf107drVrFDp8CMpjJ77AHYYhRDiaKjgF0J4DYOiAbxd/eMf/7CgszPOOCND3bMQqUTt2rWP+D0Wuh999FGOno8QIpyo4BdChApmJdCVly1bNtmnIoQQQoQCv2MehRBCCCGEEH8JFfxCCCGEEEKkMCr4hRChI7MhXiGEEEKkR8FbQgivwRYymoxSan1NqhVCCCF8QAW/EMJrChYsGMqUWiGEEMIX5NIjhBBCCCFECiMNvxBCCCGEECmMCn4hhBBCCCFSGBX8QgghhBBCpDAq+IUQQgghhEhhVPALIYQQQgiRwqjgF0II4TXt2rVzTZo0iXxdq1Yt171796SekxBChAkV/EIIIY65ECf1mEeePHncOeec4x599FF36NChhP5/CVkbOHBg5OsyZcq4kSNHJvT/KYQQYUbBW0IIIY6ZBg0auAkTJrgDBw64d99913Xu3NmdeOKJrm/fvul+7o8//rBFQXZQuHDhbPl7hBAit6AOvxBCiGPmpJNOcsWLF3dnnXWW69Spk6tbt66bOXNmRIYzaNAgV7JkSVexYkX7+R9//NE1b97cFSpUyAr3xo0buw0bNkT+vv/973/u3nvvte8XKVLE9e7d28XmQ0ZLeni+ceNG16NHj8huQ8Cbb77pLrjgAjtHdgGGDx+eY9dFCCF8QgW/EEKIbCNv3rzWzYcPP/zQrV692s2dO9fNnj3bHTx40F177bUuf/78buHChe7TTz91p556qu0SBP8NRfnEiRPd+PHj3aJFi9zOnTvdW2+9lam8p1SpUiYl+umnn+wBK1assIVFy5Yt3ddff+0efvhh179/f/u7hRAityFJjxBCiL8MXXgK/Dlz5riuXbu67du3u3z58rlx48ZFpDyTJ092f/75px0LOvHIgejmz58/39WvX9+0+MiBmjVrZt8fO3as/Z1Hgl2C448/3hYR7DQEjBgxwl1zzTVW5EOFChXcqlWr3LBhw2z3QQghchPq8AshhDhm6NzTpT/55JNdw4YNXYsWLaybDhdddFE63f5XX33lvv/+eyvO+W94ULDv37/frVu3zu3Zs8c69FWqVIn8NyeccIK7/PLL4z6vb7/91lWrVi3dMb5eu3atyYaEECI3oQ6/EEKIY6Z27druueees8IerT4FegAd/mj27t3rKleu7F599dXD/p5ixYrlyPkKIURuRAW/EEKIY4aiHjvOrFCpUiU3bdo0d9ppp7kCBQpk+DMlSpRwS5cudTVr1rSvsfhEj89/eyRYbMR27c877zybEYiGr5H2IAESQojchCQ9QgghcoRbb73VFS1a1Jx5GNpdv369affvuecet3nzZvuZbt26ucGDB7sZM2a47777zt19991u9+7dmf69OPAsWLDAbdmyxe3YscOO3XfffTZTgF//mjVr3KRJk9wzzzzjevbsmSO/qxBC+IQKfiGEEDnCKaecYoX5mWeeaUO5dOE7dOhgGv6g40+h3qZNG9e2bVt31VVXmd6/adOmmf69OPRg7VmuXLmINIgdgenTp7upU6e6Cy+80A0YMMB+TgO7QojcyN/SYg2OhRBCCCGEECmDOvxCCCGEEEKkMCr4hRBCCCGESGFU8AshhBBCCJHCqOAXQgghhBAihVHBL4QQQgghRAqjgl8IIYQQQogURgW/EEIIIYQQKYwKfiGEEEIIIVIYFfxCCCGEEEKkMCr4hRBCCCGESGFU8AshhBBCCJHCqOAXQgghhBDCpS7/B5AmnX3+UcVPAAAAAElFTkSuQmCC"/>
</div>
</div>
<div class="jp-OutputArea-child">
<div class="jp-OutputPrompt jp-OutputArea-prompt"></div>
<div class="jp-RenderedText jp-OutputArea-output" data-mime-type="text/plain" tabindex="0">
<pre>✅ Dados com previsões salvos em: C:\Users\andr3\Documents\DATA SCIENCE\10794 - Programação avançada com Python\Age Assessment &amp; Disease Risk Prediction\src\clean\train_rf_predictions.parquet
</pre>
</div>
</div>
</div>
</div>
</div>
<div class="jp-Cell jp-MarkdownCell jp-Notebook-cell" id="cell-id=e4251a15">
<div class="jp-Cell-inputWrapper" tabindex="0">
<div class="jp-Collapser jp-InputCollapser jp-Cell-inputCollapser">
</div>
<div class="jp-InputArea jp-Cell-inputArea"><div class="jp-InputPrompt jp-InputArea-prompt">
</div><div class="jp-RenderedHTMLCommon jp-RenderedMarkdown jp-MarkdownOutput" data-mime-type="text/markdown">
<p>📊 O que podes concluir</p>
<ul>
<li>O modelo é forte em classes majoritárias e neurológicas, mas fraco em doenças raras ou com padrões clínicos semelhantes.</li>
<li>A confusão entre Huntington e Parkinson pode indicar necessidade de mais features clínicas ou genéticas para separar essas classes.</li>
<li>A matriz confirma o que o classification_report já sugeria: acurácia geral alta, mas desempenho desigual entre classes.</li>
</ul>
</div>
</div>
</div>
</div>
<div class="jp-Cell jp-MarkdownCell jp-Notebook-cell" id="cell-id=73f7d5b6">
<div class="jp-Cell-inputWrapper" tabindex="0">
<div class="jp-Collapser jp-InputCollapser jp-Cell-inputCollapser">
</div>
<div class="jp-InputArea jp-Cell-inputArea"><div class="jp-InputPrompt jp-InputArea-prompt">
</div><div class="jp-RenderedHTMLCommon jp-RenderedMarkdown jp-MarkdownOutput" data-mime-type="text/markdown">
<p>🧪 Comparativo em Código: SGD vs Random ForesT</p>
</div>
</div>
</div>
</div><div class="jp-Cell jp-CodeCell jp-Notebook-cell" id="cell-id=ab0e78b9">
<div class="jp-Cell-inputWrapper" tabindex="0">
<div class="jp-Collapser jp-InputCollapser jp-Cell-inputCollapser">
</div>
<div class="jp-InputArea jp-Cell-inputArea">
<div class="jp-InputPrompt jp-InputArea-prompt">In [7]:</div>
<div class="jp-CodeMirrorEditor jp-Editor jp-InputArea-editor" data-type="inline">
<div class="cm-editor cm-s-jupyter">
<div class="highlight hl-ipython3"><pre><span></span><span class="kn">import</span><span class="w"> </span><span class="nn">pandas</span><span class="w"> </span><span class="k">as</span><span class="w"> </span><span class="nn">pd</span>
<span class="kn">import</span><span class="w"> </span><span class="nn">seaborn</span><span class="w"> </span><span class="k">as</span><span class="w"> </span><span class="nn">sns</span>
<span class="kn">import</span><span class="w"> </span><span class="nn">matplotlib.pyplot</span><span class="w"> </span><span class="k">as</span><span class="w"> </span><span class="nn">plt</span>
<span class="kn">from</span><span class="w"> </span><span class="nn">sklearn.metrics</span><span class="w"> </span><span class="kn">import</span> <span class="n">classification_report</span><span class="p">,</span> <span class="n">confusion_matrix</span>

<span class="c1"># ===== CARREGAR PREVISÕES =====</span>
<span class="n">SRC_DIR</span> <span class="o">=</span> <span class="sa">r</span><span class="s2">"C:\Users\andr3\Documents\DATA SCIENCE\10794 - Programação avançada com Python\Age Assessment &amp; Disease Risk Prediction\src"</span>
<span class="n">CLEAN_FOLDER</span> <span class="o">=</span> <span class="n">os</span><span class="o">.</span><span class="n">path</span><span class="o">.</span><span class="n">join</span><span class="p">(</span><span class="n">SRC_DIR</span><span class="p">,</span> <span class="s2">"clean"</span><span class="p">)</span>

<span class="n">df_sgd</span> <span class="o">=</span> <span class="n">pd</span><span class="o">.</span><span class="n">read_parquet</span><span class="p">(</span><span class="n">os</span><span class="o">.</span><span class="n">path</span><span class="o">.</span><span class="n">join</span><span class="p">(</span><span class="n">CLEAN_FOLDER</span><span class="p">,</span> <span class="s2">"train_with_predictions.parquet"</span><span class="p">))</span>
<span class="n">df_rf</span> <span class="o">=</span> <span class="n">pd</span><span class="o">.</span><span class="n">read_parquet</span><span class="p">(</span><span class="n">os</span><span class="o">.</span><span class="n">path</span><span class="o">.</span><span class="n">join</span><span class="p">(</span><span class="n">CLEAN_FOLDER</span><span class="p">,</span> <span class="s2">"train_rf_predictions.parquet"</span><span class="p">))</span>

<span class="c1"># ===== RELATÓRIO DE CLASSIFICAÇÃO =====</span>
<span class="nb">print</span><span class="p">(</span><span class="s2">"📊 SGDClassifier:"</span><span class="p">)</span>
<span class="nb">print</span><span class="p">(</span><span class="n">classification_report</span><span class="p">(</span><span class="n">df_sgd</span><span class="p">[</span><span class="s2">"disease"</span><span class="p">],</span> <span class="n">df_sgd</span><span class="p">[</span><span class="s2">"predicted_disease"</span><span class="p">]))</span>

<span class="nb">print</span><span class="p">(</span><span class="s2">"</span><span class="se">\n</span><span class="s2">📊 RandomForestClassifier:"</span><span class="p">)</span>
<span class="nb">print</span><span class="p">(</span><span class="n">classification_report</span><span class="p">(</span><span class="n">df_rf</span><span class="p">[</span><span class="s2">"disease"</span><span class="p">],</span> <span class="n">df_rf</span><span class="p">[</span><span class="s2">"predicted_disease"</span><span class="p">]))</span>

<span class="c1"># ===== MATRIZES DE CONFUSÃO LADO A LADO =====</span>
<span class="n">fig</span><span class="p">,</span> <span class="n">axes</span> <span class="o">=</span> <span class="n">plt</span><span class="o">.</span><span class="n">subplots</span><span class="p">(</span><span class="mi">1</span><span class="p">,</span> <span class="mi">2</span><span class="p">,</span> <span class="n">figsize</span><span class="o">=</span><span class="p">(</span><span class="mi">16</span><span class="p">,</span> <span class="mi">6</span><span class="p">))</span>

<span class="n">cm_sgd</span> <span class="o">=</span> <span class="n">confusion_matrix</span><span class="p">(</span><span class="n">df_sgd</span><span class="p">[</span><span class="s2">"disease"</span><span class="p">],</span> <span class="n">df_sgd</span><span class="p">[</span><span class="s2">"predicted_disease"</span><span class="p">],</span> <span class="n">labels</span><span class="o">=</span><span class="n">df_sgd</span><span class="p">[</span><span class="s2">"disease"</span><span class="p">]</span><span class="o">.</span><span class="n">unique</span><span class="p">())</span>
<span class="n">sns</span><span class="o">.</span><span class="n">heatmap</span><span class="p">(</span><span class="n">cm_sgd</span><span class="p">,</span> <span class="n">annot</span><span class="o">=</span><span class="kc">True</span><span class="p">,</span> <span class="n">fmt</span><span class="o">=</span><span class="s2">"d"</span><span class="p">,</span> <span class="n">cmap</span><span class="o">=</span><span class="s2">"Blues"</span><span class="p">,</span> <span class="n">ax</span><span class="o">=</span><span class="n">axes</span><span class="p">[</span><span class="mi">0</span><span class="p">])</span>
<span class="n">axes</span><span class="p">[</span><span class="mi">0</span><span class="p">]</span><span class="o">.</span><span class="n">set_title</span><span class="p">(</span><span class="s2">"SGDClassifier"</span><span class="p">)</span>
<span class="n">axes</span><span class="p">[</span><span class="mi">0</span><span class="p">]</span><span class="o">.</span><span class="n">set_xlabel</span><span class="p">(</span><span class="s2">"Predito"</span><span class="p">)</span>
<span class="n">axes</span><span class="p">[</span><span class="mi">0</span><span class="p">]</span><span class="o">.</span><span class="n">set_ylabel</span><span class="p">(</span><span class="s2">"Real"</span><span class="p">)</span>

<span class="n">cm_rf</span> <span class="o">=</span> <span class="n">confusion_matrix</span><span class="p">(</span><span class="n">df_rf</span><span class="p">[</span><span class="s2">"disease"</span><span class="p">],</span> <span class="n">df_rf</span><span class="p">[</span><span class="s2">"predicted_disease"</span><span class="p">],</span> <span class="n">labels</span><span class="o">=</span><span class="n">df_rf</span><span class="p">[</span><span class="s2">"disease"</span><span class="p">]</span><span class="o">.</span><span class="n">unique</span><span class="p">())</span>
<span class="n">sns</span><span class="o">.</span><span class="n">heatmap</span><span class="p">(</span><span class="n">cm_rf</span><span class="p">,</span> <span class="n">annot</span><span class="o">=</span><span class="kc">True</span><span class="p">,</span> <span class="n">fmt</span><span class="o">=</span><span class="s2">"d"</span><span class="p">,</span> <span class="n">cmap</span><span class="o">=</span><span class="s2">"Greens"</span><span class="p">,</span> <span class="n">ax</span><span class="o">=</span><span class="n">axes</span><span class="p">[</span><span class="mi">1</span><span class="p">])</span>
<span class="n">axes</span><span class="p">[</span><span class="mi">1</span><span class="p">]</span><span class="o">.</span><span class="n">set_title</span><span class="p">(</span><span class="s2">"RandomForestClassifier"</span><span class="p">)</span>
<span class="n">axes</span><span class="p">[</span><span class="mi">1</span><span class="p">]</span><span class="o">.</span><span class="n">set_xlabel</span><span class="p">(</span><span class="s2">"Predito"</span><span class="p">)</span>
<span class="n">axes</span><span class="p">[</span><span class="mi">1</span><span class="p">]</span><span class="o">.</span><span class="n">set_ylabel</span><span class="p">(</span><span class="s2">"Real"</span><span class="p">)</span>

<span class="n">plt</span><span class="o">.</span><span class="n">tight_layout</span><span class="p">()</span>
<span class="n">plt</span><span class="o">.</span><span class="n">show</span><span class="p">()</span>
</pre></div>
</div>
</div>
</div>
</div>
<div class="jp-Cell-outputWrapper">
<div class="jp-Collapser jp-OutputCollapser jp-Cell-outputCollapser">
</div>
<div class="jp-OutputArea jp-Cell-outputArea">
<div class="jp-OutputArea-child">
<div class="jp-OutputPrompt jp-OutputArea-prompt"></div>
<div class="jp-RenderedText jp-OutputArea-output" data-mime-type="text/plain" tabindex="0">
<pre>📊 SGDClassifier:
                      precision    recall  f1-score   support

 Alzheimer's disease       0.08      0.03      0.04       737
     Graves' disease       0.00      0.00      0.00        58
Huntington's disease       0.00      0.00      0.00       135
 Parkinson's disease       0.00      0.00      0.00       266
  Sjogren's syndrome       0.00      0.00      0.00        38
             control       0.76      0.38      0.51      6266
rheumatoid arthritis       0.00      0.00      0.00       159
       schizophrenia       0.05      0.62      0.10       381
              stroke       0.01      0.01      0.01       147
     type 2 diabetes       0.01      0.04      0.02        46

            accuracy                           0.32      8233
           macro avg       0.09      0.11      0.07      8233
        weighted avg       0.59      0.32      0.40      8233


📊 RandomForestClassifier:
                      precision    recall  f1-score   support

 Alzheimer's disease       1.00      1.00      1.00       737
     Graves' disease       1.00      1.00      1.00        58
Huntington's disease       1.00      1.00      1.00       135
 Parkinson's disease       1.00      1.00      1.00       266
  Sjogren's syndrome       1.00      1.00      1.00        38
             control       1.00      1.00      1.00      6266
rheumatoid arthritis       1.00      1.00      1.00       159
       schizophrenia       1.00      1.00      1.00       381
              stroke       1.00      1.00      1.00       147
     type 2 diabetes       1.00      1.00      1.00        46

            accuracy                           1.00      8233
           macro avg       1.00      1.00      1.00      8233
        weighted avg       1.00      1.00      1.00      8233

</pre>
</div>
</div>
<div class="jp-OutputArea-child">
<div class="jp-OutputPrompt jp-OutputArea-prompt"></div>
<div class="jp-RenderedText jp-OutputArea-output" data-mime-type="application/vnd.jupyter.stderr" tabindex="0">
<pre>C:\Users\andr3\AppData\Local\Packages\PythonSoftwareFoundation.Python.3.13_qbz5n2kfra8p0\LocalCache\local-packages\Python313\site-packages\sklearn\metrics\_classification.py:1731: UndefinedMetricWarning:

Precision is ill-defined and being set to 0.0 in labels with no predicted samples. Use `zero_division` parameter to control this behavior.

C:\Users\andr3\AppData\Local\Packages\PythonSoftwareFoundation.Python.3.13_qbz5n2kfra8p0\LocalCache\local-packages\Python313\site-packages\sklearn\metrics\_classification.py:1731: UndefinedMetricWarning:

Precision is ill-defined and being set to 0.0 in labels with no predicted samples. Use `zero_division` parameter to control this behavior.

C:\Users\andr3\AppData\Local\Packages\PythonSoftwareFoundation.Python.3.13_qbz5n2kfra8p0\LocalCache\local-packages\Python313\site-packages\sklearn\metrics\_classification.py:1731: UndefinedMetricWarning:

Precision is ill-defined and being set to 0.0 in labels with no predicted samples. Use `zero_division` parameter to control this behavior.

</pre>
</div>
</div>
<div class="jp-OutputArea-child">
<div class="jp-OutputPrompt jp-OutputArea-prompt"></div>
<div class="jp-RenderedImage jp-OutputArea-output" tabindex="0">
<img alt="No description has been provided for this image" class="" src="data:image/png;base64,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"/>
</div>
</div>
</div>
</div>
</div>
<div class="jp-Cell jp-MarkdownCell jp-Notebook-cell" id="cell-id=9131e29e">
<div class="jp-Cell-inputWrapper" tabindex="0">
<div class="jp-Collapser jp-InputCollapser jp-Cell-inputCollapser">
</div>
<div class="jp-InputArea jp-Cell-inputArea"><div class="jp-InputPrompt jp-InputArea-prompt">
</div><div class="jp-RenderedHTMLCommon jp-RenderedMarkdown jp-MarkdownOutput" data-mime-type="text/markdown">
<p>🔍 Leitura da matriz do SGDClassifier (azul)</p>
<ul>
<li>A diagonal está relativamente preenchida, o que indica que o modelo conseguiu fazer previsões corretas em várias classes.</li>
<li>Por exemplo, a classe 3 teve 3470 acertos, o que mostra que o modelo aprendeu bem essa categoria.</li>
<li>No entanto, há muitos erros fora da diagonal, como:</li>
<li>228 amostras da classe 1 foram classificadas como classe 0</li>
<li>Isso revela confusão entre classes com padrões semelhantes ou desbalanceamento nos dados.
📌 Conclusão: O SGDClassifier tem desempenho moderado — acerta em várias classes, mas comete erros significativos em outras. É rápido e leve, mas limitado em capturar relações complexas.</li>
</ul>
<p>🧪 Leitura da matriz do RandomForestClassifier (verde)</p>
<ul>
<li>A matriz mostra um comportamento extremamente enviesado:</li>
<li>A classe 1 teve 6266 acertos, enquanto as outras classes têm quase zero.</li>
<li>Isso indica que o modelo está predominantemente a prever classe 1, ignorando as restantes.
📌 Conclusão: O Random Forest, neste caso, está mal calibrado ou mal treinado — provavelmente por:</li>
<li>Desbalanceamento extremo nos dados (classe 1 com muito mais amostras)</li>
<li>Falta de normalização ou features insuficientes</li>
<li>Algum erro na codificação do target ou no treino (ex.: não passou todas as classes</li>
</ul>
</div>
</div>
</div>
</div>
<div class="jp-Cell jp-MarkdownCell jp-Notebook-cell" id="cell-id=acd67934">
<div class="jp-Cell-inputWrapper" tabindex="0">
<div class="jp-Collapser jp-InputCollapser jp-Cell-inputCollapser">
</div>
<div class="jp-InputArea jp-Cell-inputArea"><div class="jp-InputPrompt jp-InputArea-prompt">
</div><div class="jp-RenderedHTMLCommon jp-RenderedMarkdown jp-MarkdownOutput" data-mime-type="text/markdown">
<p>8️⃣ Dashboard (usando Streamlit)</p>
</div>
</div>
</div>
</div><div class="jp-Cell jp-CodeCell jp-Notebook-cell" id="cell-id=a928cdc3">
<div class="jp-Cell-inputWrapper" tabindex="0">
<div class="jp-Collapser jp-InputCollapser jp-Cell-inputCollapser">
</div>
<div class="jp-InputArea jp-Cell-inputArea">
<div class="jp-InputPrompt jp-InputArea-prompt">In [3]:</div>
<div class="jp-CodeMirrorEditor jp-Editor jp-InputArea-editor" data-type="inline">
<div class="cm-editor cm-s-jupyter">
<div class="highlight hl-ipython3"><pre><span></span><span class="c1"># DASHBOARD DE CLUSTERS - AVALIAÇÃO BIOLÓGICA</span>

<span class="kn">import</span><span class="w"> </span><span class="nn">os</span>
<span class="kn">import</span><span class="w"> </span><span class="nn">pandas</span><span class="w"> </span><span class="k">as</span><span class="w"> </span><span class="nn">pd</span>
<span class="kn">import</span><span class="w"> </span><span class="nn">plotly.express</span><span class="w"> </span><span class="k">as</span><span class="w"> </span><span class="nn">px</span>
<span class="kn">import</span><span class="w"> </span><span class="nn">seaborn</span><span class="w"> </span><span class="k">as</span><span class="w"> </span><span class="nn">sns</span>
<span class="kn">import</span><span class="w"> </span><span class="nn">matplotlib.pyplot</span><span class="w"> </span><span class="k">as</span><span class="w"> </span><span class="nn">plt</span>

<span class="c1"># ===== CONFIGURAÇÃO =====</span>
<span class="n">SRC_DIR</span> <span class="o">=</span> <span class="sa">r</span><span class="s2">"C:\Users\andr3\Documents\DATA SCIENCE\10794 - Programação avançada com Python\Age Assessment &amp; Disease Risk Prediction\src"</span>
<span class="n">CLEAN_FOLDER</span> <span class="o">=</span> <span class="n">os</span><span class="o">.</span><span class="n">path</span><span class="o">.</span><span class="n">join</span><span class="p">(</span><span class="n">SRC_DIR</span><span class="p">,</span> <span class="s2">"clean"</span><span class="p">)</span>
<span class="n">PARQUET_FILE</span> <span class="o">=</span> <span class="n">os</span><span class="o">.</span><span class="n">path</span><span class="o">.</span><span class="n">join</span><span class="p">(</span><span class="n">CLEAN_FOLDER</span><span class="p">,</span> <span class="s2">"train_processed.parquet"</span><span class="p">)</span>

<span class="c1"># ===== CARREGAR DADOS =====</span>
<span class="k">if</span> <span class="ow">not</span> <span class="n">os</span><span class="o">.</span><span class="n">path</span><span class="o">.</span><span class="n">exists</span><span class="p">(</span><span class="n">PARQUET_FILE</span><span class="p">):</span>
    <span class="k">raise</span> <span class="ne">FileNotFoundError</span><span class="p">(</span><span class="sa">f</span><span class="s2">"Nenhum arquivo encontrado em </span><span class="si">{</span><span class="n">PARQUET_FILE</span><span class="si">}</span><span class="s2">"</span><span class="p">)</span>

<span class="n">df</span> <span class="o">=</span> <span class="n">pd</span><span class="o">.</span><span class="n">read_parquet</span><span class="p">(</span><span class="n">PARQUET_FILE</span><span class="p">)</span>

<span class="c1"># ===== APLICAR FILTROS MANUALMENTE =====</span>
<span class="n">idade</span> <span class="o">=</span> <span class="p">(</span><span class="mi">20</span><span class="p">,</span> <span class="mi">60</span><span class="p">)</span>
<span class="n">genero</span> <span class="o">=</span> <span class="n">df</span><span class="p">[</span><span class="s2">"gender"</span><span class="p">]</span><span class="o">.</span><span class="n">dropna</span><span class="p">()</span><span class="o">.</span><span class="n">unique</span><span class="p">()</span><span class="o">.</span><span class="n">tolist</span><span class="p">()</span>
<span class="n">tipo</span> <span class="o">=</span> <span class="n">df</span><span class="p">[</span><span class="s2">"sample_type"</span><span class="p">]</span><span class="o">.</span><span class="n">dropna</span><span class="p">()</span><span class="o">.</span><span class="n">unique</span><span class="p">()</span><span class="o">.</span><span class="n">tolist</span><span class="p">()</span>
<span class="n">doenca</span> <span class="o">=</span> <span class="n">df</span><span class="p">[</span><span class="s2">"disease"</span><span class="p">]</span><span class="o">.</span><span class="n">dropna</span><span class="p">()</span><span class="o">.</span><span class="n">unique</span><span class="p">()</span><span class="o">.</span><span class="n">tolist</span><span class="p">()</span>

<span class="n">df_filtrado</span> <span class="o">=</span> <span class="n">df</span><span class="p">[</span>
    <span class="p">(</span><span class="n">df</span><span class="p">[</span><span class="s2">"age"</span><span class="p">]</span><span class="o">.</span><span class="n">between</span><span class="p">(</span><span class="n">idade</span><span class="p">[</span><span class="mi">0</span><span class="p">],</span> <span class="n">idade</span><span class="p">[</span><span class="mi">1</span><span class="p">]))</span> <span class="o">&amp;</span>
    <span class="p">(</span><span class="n">df</span><span class="p">[</span><span class="s2">"gender"</span><span class="p">]</span><span class="o">.</span><span class="n">isin</span><span class="p">(</span><span class="n">genero</span><span class="p">))</span> <span class="o">&amp;</span>
    <span class="p">(</span><span class="n">df</span><span class="p">[</span><span class="s2">"sample_type"</span><span class="p">]</span><span class="o">.</span><span class="n">isin</span><span class="p">(</span><span class="n">tipo</span><span class="p">))</span> <span class="o">&amp;</span>
    <span class="p">(</span><span class="n">df</span><span class="p">[</span><span class="s2">"disease"</span><span class="p">]</span><span class="o">.</span><span class="n">isin</span><span class="p">(</span><span class="n">doenca</span><span class="p">))</span>
<span class="p">]</span>

<span class="c1"># ===== GRÁFICOS INTERATIVOS =====</span>
<span class="n">px</span><span class="o">.</span><span class="n">scatter</span><span class="p">(</span><span class="n">df_filtrado</span><span class="p">,</span> <span class="n">x</span><span class="o">=</span><span class="s2">"PC1"</span><span class="p">,</span> <span class="n">y</span><span class="o">=</span><span class="s2">"PC2"</span><span class="p">,</span> <span class="n">color</span><span class="o">=</span><span class="s2">"cluster"</span><span class="p">,</span>
           <span class="n">hover_data</span><span class="o">=</span><span class="p">[</span><span class="s2">"sample_id"</span><span class="p">,</span> <span class="s2">"age"</span><span class="p">,</span> <span class="s2">"gender"</span><span class="p">,</span> <span class="s2">"sample_type"</span><span class="p">,</span> <span class="s2">"disease"</span><span class="p">],</span>
           <span class="n">title</span><span class="o">=</span><span class="s2">"Clusters no Espaço PCA"</span><span class="p">)</span><span class="o">.</span><span class="n">show</span><span class="p">()</span>

<span class="n">px</span><span class="o">.</span><span class="n">scatter</span><span class="p">(</span><span class="n">df_filtrado</span><span class="p">,</span> <span class="n">x</span><span class="o">=</span><span class="s2">"PC1"</span><span class="p">,</span> <span class="n">y</span><span class="o">=</span><span class="s2">"PC2"</span><span class="p">,</span> <span class="n">color</span><span class="o">=</span><span class="s2">"gender"</span><span class="p">,</span> <span class="n">symbol</span><span class="o">=</span><span class="s2">"cluster"</span><span class="p">,</span>
           <span class="n">hover_data</span><span class="o">=</span><span class="p">[</span><span class="s2">"sample_id"</span><span class="p">,</span> <span class="s2">"age"</span><span class="p">,</span> <span class="s2">"sample_type"</span><span class="p">,</span> <span class="s2">"disease"</span><span class="p">],</span>
           <span class="n">title</span><span class="o">=</span><span class="s2">"Distribuição PCA por Gênero"</span><span class="p">)</span><span class="o">.</span><span class="n">show</span><span class="p">()</span>

<span class="n">doenca_cluster</span> <span class="o">=</span> <span class="n">df_filtrado</span><span class="o">.</span><span class="n">groupby</span><span class="p">([</span><span class="s2">"cluster"</span><span class="p">,</span> <span class="s2">"disease"</span><span class="p">])</span><span class="o">.</span><span class="n">size</span><span class="p">()</span><span class="o">.</span><span class="n">reset_index</span><span class="p">(</span><span class="n">name</span><span class="o">=</span><span class="s2">"n"</span><span class="p">)</span>
<span class="n">px</span><span class="o">.</span><span class="n">bar</span><span class="p">(</span><span class="n">doenca_cluster</span><span class="p">,</span> <span class="n">x</span><span class="o">=</span><span class="s2">"cluster"</span><span class="p">,</span> <span class="n">y</span><span class="o">=</span><span class="s2">"n"</span><span class="p">,</span> <span class="n">color</span><span class="o">=</span><span class="s2">"disease"</span><span class="p">,</span>
       <span class="n">title</span><span class="o">=</span><span class="s2">"Distribuição de Doenças por Cluster"</span><span class="p">,</span> <span class="n">barmode</span><span class="o">=</span><span class="s2">"stack"</span><span class="p">)</span><span class="o">.</span><span class="n">show</span><span class="p">()</span>

<span class="n">px</span><span class="o">.</span><span class="n">box</span><span class="p">(</span><span class="n">df_filtrado</span><span class="p">,</span> <span class="n">x</span><span class="o">=</span><span class="s2">"cluster"</span><span class="p">,</span> <span class="n">y</span><span class="o">=</span><span class="s2">"age"</span><span class="p">,</span> <span class="n">color</span><span class="o">=</span><span class="s2">"cluster"</span><span class="p">,</span>
       <span class="n">title</span><span class="o">=</span><span class="s2">"Distribuição de Idade por Cluster"</span><span class="p">)</span><span class="o">.</span><span class="n">show</span><span class="p">()</span>

<span class="c1"># ===== HEATMAP DE CORRELAÇÃO =====</span>
<span class="n">df_corr</span> <span class="o">=</span> <span class="n">df_filtrado</span><span class="o">.</span><span class="n">copy</span><span class="p">()</span>
<span class="k">for</span> <span class="n">col</span> <span class="ow">in</span> <span class="p">[</span><span class="s2">"gender"</span><span class="p">,</span> <span class="s2">"sample_type"</span><span class="p">,</span> <span class="s2">"disease"</span><span class="p">]:</span>
    <span class="n">df_corr</span><span class="p">[</span><span class="n">col</span><span class="p">]</span> <span class="o">=</span> <span class="n">df_corr</span><span class="p">[</span><span class="n">col</span><span class="p">]</span><span class="o">.</span><span class="n">astype</span><span class="p">(</span><span class="s2">"category"</span><span class="p">)</span><span class="o">.</span><span class="n">cat</span><span class="o">.</span><span class="n">codes</span>

<span class="n">corr_matrix</span> <span class="o">=</span> <span class="n">df_corr</span><span class="p">[[</span><span class="s2">"age"</span><span class="p">,</span> <span class="s2">"gender"</span><span class="p">,</span> <span class="s2">"sample_type"</span><span class="p">,</span> <span class="s2">"disease"</span><span class="p">,</span> <span class="s2">"cluster"</span><span class="p">]]</span><span class="o">.</span><span class="n">corr</span><span class="p">()</span>
<span class="n">plt</span><span class="o">.</span><span class="n">figure</span><span class="p">(</span><span class="n">figsize</span><span class="o">=</span><span class="p">(</span><span class="mi">6</span><span class="p">,</span> <span class="mi">5</span><span class="p">))</span>
<span class="n">sns</span><span class="o">.</span><span class="n">heatmap</span><span class="p">(</span><span class="n">corr_matrix</span><span class="p">,</span> <span class="n">annot</span><span class="o">=</span><span class="kc">True</span><span class="p">,</span> <span class="n">cmap</span><span class="o">=</span><span class="s2">"coolwarm"</span><span class="p">)</span>
<span class="n">plt</span><span class="o">.</span><span class="n">title</span><span class="p">(</span><span class="s2">"Correlação entre Variáveis"</span><span class="p">)</span>
<span class="n">plt</span><span class="o">.</span><span class="n">show</span><span class="p">()</span>

<span class="c1"># ===== CONTAGEM POR CLUSTER =====</span>
<span class="n">count_df</span> <span class="o">=</span> <span class="n">df_filtrado</span><span class="p">[</span><span class="s2">"cluster"</span><span class="p">]</span><span class="o">.</span><span class="n">value_counts</span><span class="p">()</span><span class="o">.</span><span class="n">rename</span><span class="p">(</span><span class="s2">"n_amostras"</span><span class="p">)</span><span class="o">.</span><span class="n">reset_index</span><span class="p">()</span><span class="o">.</span><span class="n">rename</span><span class="p">(</span><span class="n">columns</span><span class="o">=</span><span class="p">{</span><span class="s2">"index"</span><span class="p">:</span> <span class="s2">"cluster"</span><span class="p">})</span>
<span class="nb">print</span><span class="p">(</span><span class="s2">"📊 Contagem por Cluster"</span><span class="p">)</span>
<span class="nb">print</span><span class="p">(</span><span class="n">count_df</span><span class="p">)</span>
</pre></div>
</div>
</div>
</div>
</div>
<div class="jp-Cell-outputWrapper">
<div class="jp-Collapser jp-OutputCollapser jp-Cell-outputCollapser">
</div>
<div class="jp-OutputArea jp-Cell-outputArea">
<div class="jp-OutputArea-child">
<div class="jp-OutputPrompt jp-OutputArea-prompt"></div>
</div>
<div class="jp-OutputArea-child">
<div class="jp-OutputPrompt jp-OutputArea-prompt"></div>
</div>
<div class="jp-OutputArea-child">
<div class="jp-OutputPrompt jp-OutputArea-prompt"></div>
</div>
<div class="jp-OutputArea-child">
<div class="jp-OutputPrompt jp-OutputArea-prompt"></div>
</div>
<div class="jp-OutputArea-child">
<div class="jp-OutputPrompt jp-OutputArea-prompt"></div>
<div class="jp-RenderedImage jp-OutputArea-output" tabindex="0">
<img alt="No description has been provided for this image" class="" src="data:image/png;base64,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"/>
</div>
</div>
<div class="jp-OutputArea-child">
<div class="jp-OutputPrompt jp-OutputArea-prompt"></div>
<div class="jp-RenderedText jp-OutputArea-output" data-mime-type="text/plain" tabindex="0">
<pre>📊 Contagem por Cluster
   cluster  n_amostras
0        1        1180
1        3        1168
2        2         656
3        0         510
</pre>
</div>
</div>
</div>
</div>
</div>
</main>
</body>
</html>
